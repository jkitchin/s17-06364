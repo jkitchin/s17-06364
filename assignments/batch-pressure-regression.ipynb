{
 "cells": [
  {
   "cell_type": "markdown",
   "metadata": {},
   "source": [
    "At t=0 some dimethyl ether was injected into a constant volume batch reactor at 504 degC. The pressure was monitored over time. After a very long time the total pressure was 931 mmHg. Assuming the reaction is $A \\rightarrow B + C + D$, complete the following questions.\n",
    "\n",
    "1.  Determine the initial pressure at $t=0$ in the reactor.\n",
    "\n",
    "2.  Assume the reaction is irreversible and determine the reaction order and rate constant with 95% confidence intervals if we assume $r = k P_A^\\alpha$.\n",
    "\n",
    "The following data is provided.\n",
    "\n"
   ]
  },
  {
   "cell_type": "code",
   "execution_count": 1,
   "metadata": {
    "collapsed": true
   },
   "outputs": [],
   "source": [
    "import numpy as np\n",
    "t = np.array([390, 777, 1195, 3155])  # seconds\n",
    "P = np.array([408, 488, 562, 799])    # mmHg"
   ]
  },
  {
   "cell_type": "markdown",
   "metadata": {},
   "source": [
    "\n"
   ]
  }
 ],
 "metadata": {
  "kernelspec": {
   "display_name": "Python 3",
   "language": "python",
   "name": "python3"
  },
  "language_info": {
   "codemirror_mode": {
    "name": "ipython",
    "version": 3
   },
   "file_extension": ".py",
   "mimetype": "text/x-python",
   "name": "python",
   "nbconvert_exporter": "python",
   "pygments_lexer": "ipython3",
   "version": "3.5.2"
  },
  "org": {
   "ASSIGNMENT": "batch-pressure-regression",
   "CATEGORY": "homework",
   "DUEDATE": "2017-03-10 23:59:59",
   "GRADER": "Daniel",
   "POINTS": "3",
   "RUBRIC": "default"
  }
 },
 "nbformat": 4,
 "nbformat_minor": 0
}
