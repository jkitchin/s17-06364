{
 "cells": [
  {
   "cell_type": "markdown",
   "metadata": {},
   "source": [
    "- ASSIGNMENT: thinking-1\n",
    "- POINTS: 2\n",
    "- DUEDATE: 2017-02-07 23:59:59\n",
    "- CATEGORY: homework\n",
    "- RUBRIC: default\n"
   ]
  },
  {
   "cell_type": "markdown",
   "metadata": {},
   "source": [
    "A reactor has a spacetime of 5 hours and reaches a conversion of 80% for the reaction $A \\rightarrow B$. The inlet volumetric flow is 1 L/min, and the inlet concentration of reactant is 2.5M. The reaction is first-order in A.\n",
    "\n",
    "\n",
    "# Part 1\n",
    "\n",
    "Determine the volume of the reactor, the exit concentration, and the rate constant.\n",
    "\n"
   ]
  },
  {
   "cell_type": "code",
   "execution_count": 1,
   "metadata": {
    "collapsed": false
   },
   "outputs": [
    {
     "name": "stdout",
     "output_type": "stream",
     "text": []
    }
   ],
   "source": []
  },
  {
   "cell_type": "markdown",
   "metadata": {},
   "source": [
    "\n",
    "# Part 2\n",
    "\n",
    "Determine the volume of a PFR that is needed to get 80% conversion.\n",
    "\n"
   ]
  },
  {
   "cell_type": "code",
   "execution_count": 1,
   "metadata": {
    "collapsed": false
   },
   "outputs": [
    {
     "name": "stdout",
     "output_type": "stream",
     "text": []
    }
   ],
   "source": []
  },
  {
   "cell_type": "markdown",
   "metadata": {},
   "source": [
    "\n"
   ]
  }
 ],
 "metadata": {
  "kernelspec": {
   "display_name": "Python 3",
   "language": "python",
   "name": "python3"
  },
  "language_info": {
   "codemirror_mode": {
    "name": "ipython",
    "version": 3
   },
   "file_extension": ".py",
   "mimetype": "text/x-python",
   "name": "python",
   "nbconvert_exporter": "python",
   "pygments_lexer": "ipython3",
   "version": "3.5.2"
  },
  "org": {
   "ASSIGNMENT": "thinking-1",
   "CATEGORY": "homework",
   "DUEDATE": "2017-02-07 23:59:59",
   "GRADER": "Elif",
   "POINTS": "2",
   "RUBRIC": "default"
  }
 },
 "nbformat": 4,
 "nbformat_minor": 0
}
