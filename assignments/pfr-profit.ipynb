{
 "cells": [
  {
   "cell_type": "markdown",
   "metadata": {},
   "source": [
    "- ASSIGNMENT: pfr-profit\n",
    "- POINTS: 3\n",
    "- CATEGORY: homework\n",
    "- RUBRIC: default\n",
    "- DUEDATE: 2017-02-22 23:59:59\n",
    "- GRADER: David\n"
   ]
  },
  {
   "cell_type": "markdown",
   "metadata": {},
   "source": [
    "Compound X with concentration of $C_{X0} = 2.5$ kmol / m<sup>3</sup> at a flow rate of 12 m<sup>3</sup>/min is converted to Y in a tubular reactor. The value of Y is \\\\$1.5/kmol. The cost of operation is $2.50 per minute per m<sup>3</sup>. Find the maximum profit (profit is value of products minus operating costs). The reaction rate is $k C_X^2$, and $k = 1.25$ (m<sup>3</sup>/kmol/min).\n",
    "\n",
    "Explain in words why there is maximum in profit.\n",
    "\n"
   ]
  },
  {
   "cell_type": "code",
   "execution_count": 1,
   "metadata": {
    "collapsed": true
   },
   "outputs": [],
   "source": []
  },
  {
   "cell_type": "markdown",
   "metadata": {},
   "source": [
    "\n"
   ]
  }
 ],
 "metadata": {
  "kernelspec": {
   "display_name": "Python 3",
   "language": "python",
   "name": "python3"
  },
  "language_info": {
   "codemirror_mode": {
    "name": "ipython",
    "version": 3
   },
   "file_extension": ".py",
   "mimetype": "text/x-python",
   "name": "python",
   "nbconvert_exporter": "python",
   "pygments_lexer": "ipython3",
   "version": "3.5.2"
  },
  "org": {
   "ASSIGNMENT": "pfr-profit",
   "CATEGORY": "homework",
   "DUEDATE": "2017-02-23 23:59:59",
   "GRADER": "David",
   "POINTS": "3",
   "RUBRIC": "default"
  }
 },
 "nbformat": 4,
 "nbformat_minor": 0
}
