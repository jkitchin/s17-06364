{
 "cells": [
  {
   "cell_type": "markdown",
   "metadata": {},
   "source": [
    "A chemistry friend of yours barges into your dorm room one evening raving about how they have just discovered a way to produce the valuable chemical X. Naturally, they now want to mass produce this chemical so they can become stupid rich! Fortunately for you, your friend doesn't even know where to begin and is willing to cut you in on the profits in exchange for your help.\n",
    "\n",
    "- Your friend is so excited, they haven't even considered the information you will need to achieve your fortune. What are the things you will need to know to mass produce chemical X?"
   ]
  },
  {
   "cell_type": "code",
   "execution_count": null,
   "metadata": {
    "collapsed": true
   },
   "outputs": [],
   "source": [
    "# 1. Take a few minutes on your own to determine what basic information you will need.\n",
    "# 2. Then, talk with your neighbor and compare notes.\n",
    "\n"
   ]
  },
  {
   "cell_type": "markdown",
   "metadata": {},
   "source": [
    "Your friend doesn't know all of the details about the chemistry yet. They discovered the process by mixing equal amounts of chemicals A and B in a flask with a magnetic stirring rod. After returning from a week long break, they analyzed a sample of the solution in their spectrometer and discovered that it contained about 33% chemical A, 66% chemical X, and trace amounts of chemical B.\n",
    "\n",
    "- Is this enough information to proceed? If not, describe how you could make use of your friend’s chemistry equipment to arrive at the data you need."
   ]
  },
  {
   "cell_type": "code",
   "execution_count": null,
   "metadata": {
    "collapsed": true
   },
   "outputs": [],
   "source": [
    "# 1. Take a few minutes on your own to determine what basic information you will need.\n",
    "# 2. Then, talk with your neighbor and compare notes.\n"
   ]
  },
  {
   "cell_type": "markdown",
   "metadata": {},
   "source": [
    "After some careful analysis in the lab, your chemistry friend has determined the concentration of chemical X at several points in time and that the process is elementary. Using this data, you determine that the rate constant for this reaction is 0.23 (L/mol)^2/min using the fitting techniques you will learn in the next few weeks.\n",
    "\n",
    "To start producing chemical X, you only have your friend’s jumbo 6L beaker, 3L of chemical A, and 6L of chemical B at 1M concentrations each. You found a buyer who will purchase chemical X which has a tested concentration of 99%. \n",
    "\n",
    "- How do you set up the first reaction, and what is the soonest you can test the solution and have it sold with your setup?"
   ]
  },
  {
   "cell_type": "code",
   "execution_count": null,
   "metadata": {
    "collapsed": false
   },
   "outputs": [],
   "source": []
  },
  {
   "cell_type": "markdown",
   "metadata": {
    "collapsed": true
   },
   "source": [
    "Finally, after selling a few batches of chemical X, you and your friend have enough money to purchase the equipment needed for a continuous process. You need to choose between equipment for a CSTR and a PFR. Both setups will cost about the same / unit volume and the rental space you will need to house it will cost more the larger the reactor is.\n",
    "\n",
    "Both setups will take equimolar feeds of A and B at 1 mol/min and a total flow rate of 2 L/min. \n",
    "\n",
    "- Choose a continuous reactor design to use and justify your choice. What is the volume of your reactor at 95% conversion?"
   ]
  },
  {
   "cell_type": "code",
   "execution_count": null,
   "metadata": {
    "collapsed": false
   },
   "outputs": [],
   "source": []
  },
  {
   "cell_type": "markdown",
   "metadata": {
    "collapsed": true
   },
   "source": [
    "- Bonus: Your buyer still requires 99% concentration of chemical X. Provide one example of how you can achive this goal with your new reactor."
   ]
  }
 ],
 "metadata": {
  "kernelspec": {
   "display_name": "Python 3",
   "language": "python",
   "name": "python3"
  },
  "language_info": {
   "codemirror_mode": {
    "name": "ipython",
    "version": 3
   },
   "file_extension": ".py",
   "mimetype": "text/x-python",
   "name": "python",
   "nbconvert_exporter": "python",
   "pygments_lexer": "ipython3",
   "version": "3.5.2"
  },
  "org": {
   "ASSIGNMENT": "scaling-chemistry",
   "CATEGORY": "homework",
   "DUEDATE": "2017-02-28 23:59:59",
   "GRADER": "Jake",
   "KEYWORDS": "recitation",
   "POINTS": 3,
   "RUBRIC": "default"
  }
 },
 "nbformat": 4,
 "nbformat_minor": 2
}
