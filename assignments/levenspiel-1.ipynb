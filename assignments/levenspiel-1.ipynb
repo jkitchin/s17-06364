{
 "cells": [
  {
   "cell_type": "markdown",
   "metadata": {},
   "source": [
    "- ASSIGNMENT: levenspiel-1\n",
    "- POINTS: 3\n",
    "- DUEDATE: 2017-02-02 23:59:59\n",
    "- CATEGORY: homework\n",
    "- RUBRIC: default\n"
   ]
  },
  {
   "cell_type": "markdown",
   "metadata": {},
   "source": [
    "The exothermic reaction  $A \\rightarrow B + C$ was performed in an adiabatic reactor (that means the temperature is not constant, and in this case increases with conversion). The following data was collected. The inlet molar flow was 300 mol A/min.\n",
    "\n"
   ]
  },
  {
   "cell_type": "code",
   "execution_count": 1,
   "metadata": {
    "collapsed": true
   },
   "outputs": [],
   "source": [
    "%matplotlib inline\n",
    "import numpy as np\n",
    "X = np.array([0, 0.2, 0.4, 0.45, 0.5, 0.6, 0.8, 0.9])\n",
    "ra = -np.array([1.0, 1.67, 5.0, 5.0, 5.0, 5.0, 1.25, 0.91])  # mol / L / min"
   ]
  },
  {
   "cell_type": "markdown",
   "metadata": {},
   "source": [
    "\n",
    "# 1. Make a Levenspiel plot\n",
    "\n"
   ]
  },
  {
   "cell_type": "code",
   "execution_count": 1,
   "metadata": {
    "collapsed": true
   },
   "outputs": [],
   "source": []
  },
  {
   "cell_type": "markdown",
   "metadata": {},
   "source": [
    "\n",
    "# 2. PFR and CSTR volumes\n",
    "\n",
    "Using that data, compute the PFR and CSTR volumes required to achieve 40% conversion.\n",
    "\n",
    "\n",
    "## PFR\n",
    "\n"
   ]
  },
  {
   "cell_type": "code",
   "execution_count": 1,
   "metadata": {
    "collapsed": true
   },
   "outputs": [],
   "source": []
  },
  {
   "cell_type": "markdown",
   "metadata": {},
   "source": [
    "\n",
    "# CSTR\n",
    "\n"
   ]
  },
  {
   "cell_type": "code",
   "execution_count": 1,
   "metadata": {
    "collapsed": true
   },
   "outputs": [],
   "source": []
  },
  {
   "cell_type": "markdown",
   "metadata": {},
   "source": [
    "\n",
    "# Maximum conversion\n",
    "\n",
    "What is the maximum conversion that can be obtained in a 105 L CSTR?\n",
    "\n"
   ]
  },
  {
   "cell_type": "code",
   "execution_count": 1,
   "metadata": {
    "collapsed": true
   },
   "outputs": [],
   "source": []
  },
  {
   "cell_type": "markdown",
   "metadata": {},
   "source": [
    "\n"
   ]
  }
 ],
 "metadata": {
  "kernelspec": {
   "display_name": "Python 3",
   "language": "python",
   "name": "python3"
  },
  "language_info": {
   "codemirror_mode": {
    "name": "ipython",
    "version": 3
   },
   "file_extension": ".py",
   "mimetype": "text/x-python",
   "name": "python",
   "nbconvert_exporter": "python",
   "pygments_lexer": "ipython3",
   "version": "3.5.2"
  },
  "org": {
   "ASSIGNMENT": "levenspiel-1",
   "CATEGORY": "homework",
   "DUEDATE": "2017-02-02 23:59:59",
   "GRADER": "Daniel",
   "POINTS": "3",
   "RUBRIC": "default"
  }
 },
 "nbformat": 4,
 "nbformat_minor": 0
}
