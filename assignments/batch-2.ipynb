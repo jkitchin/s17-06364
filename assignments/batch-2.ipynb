{
 "cells": [
  {
   "cell_type": "markdown",
   "metadata": {},
   "source": [
    "- ASSIGNMENT: batch-2\n",
    "- POINTS: 2\n",
    "- DUEDATE: 2017-01-27 Fri\n",
    "- CATEGORY: homework\n",
    "- RUBRIC: default\n"
   ]
  },
  {
   "cell_type": "markdown",
   "metadata": {},
   "source": [
    "The reaction  $A \\rightarrow B$ occurs in a batch reactor.  $A$ is consumed at a rate of  $-r_A = k C_A^{2}$ with  $k=0.33$ L/mol/min. The initial concentration of A in the reactor is 2.5 M. Make a plot of the concentration of A as a function of time, and calculate the concentration of A after 10 minutes.\n",
    "\n"
   ]
  },
  {
   "cell_type": "code",
   "execution_count": 1,
   "metadata": {
    "collapsed": true
   },
   "outputs": [],
   "source": []
  },
  {
   "cell_type": "markdown",
   "metadata": {},
   "source": [
    "\n"
   ]
  }
 ],
 "metadata": {
  "kernelspec": {
   "display_name": "Python 3",
   "language": "python",
   "name": "python3"
  },
  "language_info": {
   "codemirror_mode": {
    "name": "ipython",
    "version": 3
   },
   "file_extension": ".py",
   "mimetype": "text/x-python",
   "name": "python",
   "nbconvert_exporter": "python",
   "pygments_lexer": "ipython3",
   "version": "3.5.2"
  },
  "org": {
   "ASSIGNMENT": "batch-2",
   "CATEGORY": "homework",
   "DUEDATE": "<2017-01-27 Fri>",
   "GRADER": "jkitchin",
   "POINTS": "2",
   "RUBRIC": "default"
  }
 },
 "nbformat": 4,
 "nbformat_minor": 0
}
