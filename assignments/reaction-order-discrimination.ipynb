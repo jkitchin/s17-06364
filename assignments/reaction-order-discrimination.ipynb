{
 "cells": [
  {
   "cell_type": "markdown",
   "metadata": {},
   "source": [
    "- ASSIGNMENT: reaction-order-discrimination\n",
    "- POINTS: 3\n",
    "- CATEGORY: homework\n",
    "- RUBRIC: default\n",
    "- DUEDATE: 2017-03-08 23:59:59\n",
    "- GRADER: Elif\n"
   ]
  },
  {
   "cell_type": "markdown",
   "metadata": {},
   "source": [
    "One way to solve for rate law parameters is called the integral method. For example, in a batch reactor for a first order reaction we know that $\\frac{dC_A}{dt} = -k C_A$ which we can solve for $C_A = C_{A0} \\exp(-k t)$.\n",
    "\n",
    "We can then plot $\\ln(C_A/C_{A0})$ vs. $t$, and it should be linear.\n",
    "\n",
    "For a second order reaction, we can do something similar, but we get $\\frac{1}{C_A} = \\frac{1}{C_{A0}} + k t$. So a plot of $\\frac{1}{C_A}$ vs $t$ would be linear.\n",
    "\n",
    "Given the information below:\n",
    "\n",
    "1.  Show whether the reaction is first order or second order.\n",
    "2.  Use linear regression to obtain the rate constant and the confidence interval (do not forget the units).\n",
    "3.  Show your fit in a plot and discuss what your parameters mean.\n",
    "\n"
   ]
  },
  {
   "cell_type": "code",
   "execution_count": 1,
   "metadata": {
    "collapsed": true
   },
   "outputs": [],
   "source": [
    "t = np.array([0, 50, 100, 150, 200, 250, 300]) # min\n",
    "Ca = np.array([0.05, 0.038, 0.0306, 0.0256, 0.0222, 0.0195, 0.0174]) # mol / L"
   ]
  },
  {
   "cell_type": "markdown",
   "metadata": {},
   "source": [
    "\n"
   ]
  }
 ],
 "metadata": {
  "kernelspec": {
   "display_name": "Python 3",
   "language": "python",
   "name": "python3"
  },
  "language_info": {
   "codemirror_mode": {
    "name": "ipython",
    "version": 3
   },
   "file_extension": ".py",
   "mimetype": "text/x-python",
   "name": "python",
   "nbconvert_exporter": "python",
   "pygments_lexer": "ipython3",
   "version": "3.5.2"
  },
  "org": {
   "ASSIGNMENT": "reaction-order-discrimination",
   "CATEGORY": "homework",
   "DUEDATE": "2017-03-08 23:59:59",
   "GRADER": "Elif",
   "POINTS": "3",
   "RUBRIC": "default"
  }
 },
 "nbformat": 4,
 "nbformat_minor": 0
}
