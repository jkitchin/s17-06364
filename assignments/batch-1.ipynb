{
 "cells": [
  {
   "cell_type": "markdown",
   "metadata": {},
   "source": [
    "- ASSIGNMENT: batch-1\n",
    "- POINTS: 2\n",
    "- DUEDATE: 2017-01-26 Thu\n",
    "- CATEGORY: homework\n",
    "- RUBRIC: default\n"
   ]
  },
  {
   "cell_type": "markdown",
   "metadata": {},
   "source": [
    "In a batch reactor the concentration of A starts out at 1 M. Ten minutes later, the concentration is 0.6 M. Assuming the reaction occurs at a rate of  $-r_A = k C_A$ ,  use math software to determine what  $k$ must be. Make sure to show how you arrived at the equations you solved.\n",
    "\n"
   ]
  },
  {
   "cell_type": "code",
   "execution_count": 1,
   "metadata": {
    "collapsed": true
   },
   "outputs": [],
   "source": []
  },
  {
   "cell_type": "markdown",
   "metadata": {},
   "source": [
    "\n"
   ]
  }
 ],
 "metadata": {
  "kernelspec": {
   "display_name": "Python 3",
   "language": "python",
   "name": "python3"
  },
  "language_info": {
   "codemirror_mode": {
    "name": "ipython",
    "version": 3
   },
   "file_extension": ".py",
   "mimetype": "text/x-python",
   "name": "python",
   "nbconvert_exporter": "python",
   "pygments_lexer": "ipython3",
   "version": "3.5.2"
  },
  "org": {
   "ASSIGNMENT": "batch-1",
   "CATEGORY": "homework",
   "DUEDATE": "<2017-01-26 Thu>",
   "GRADER": "jkitchin",
   "POINTS": "2",
   "RUBRIC": "default"
  }
 },
 "nbformat": 4,
 "nbformat_minor": 0
}
