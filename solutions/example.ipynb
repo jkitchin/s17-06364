{
 "cells": [
  {
   "cell_type": "markdown",
   "metadata": {},
   "source": [
    "<font color=\"red\">Your name should be automatically inserted up here.</font>"
   ]
  },
  {
   "cell_type": "markdown",
   "metadata": {},
   "source": [
    "The reaction $A \\rightarrow B$ occurs in a tubular reactor at a rate of $-r_A = k C_A$ with k=0.23 1/min. Find the Volume required to reduce the exit concentration to 10% of the inlet concentration. The inlet volumetric flow 10 dm$^3$/min."
   ]
  },
  {
   "cell_type": "markdown",
   "metadata": {},
   "source": [
    "<font color=\"red\">You should always state how the problem is to be solved, including equations</font>\n",
    "To solve this problem, we need to use the mole balance:\n",
    "\n",
    "$\\frac{dF_A}{dV} = -k C_A$ and solve it for V.\n",
    "\n",
    "In this case, we get:\n",
    "\n",
    "$V = \\frac{\\nu}{k} \\ln \\frac{C_{A0}}{C_A}$\n",
    "\n",
    "From the problem statement we know $C_A = 0.1 C_{A0}$. If we plug that in the $C_{A0}$ cancels, so we just have to evaluate the right hand side of the equation."
   ]
  },
  {
   "cell_type": "code",
   "execution_count": 3,
   "metadata": {
    "collapsed": false
   },
   "outputs": [
    {
     "name": "stdout",
     "output_type": "stream",
     "text": [
      "The required volume is 100.11 L.\n"
     ]
    }
   ],
   "source": [
    "import numpy as np\n",
    "k = 0.23 # 1/min\n",
    "nu = 10  # L / min\n",
    "\n",
    "V = nu / k * np.log(1 / 0.1)\n",
    "print('The required volume is {:1.2f} L.'.format(V))"
   ]
  },
  {
   "cell_type": "markdown",
   "metadata": {},
   "source": [
    "<font color=\"red\">jkitchin\n",
    ": You will comments from us that look like this. Sometimes we will modify your code or put comments in the code cells to help figure out why something wasn't working, or tips to improve.</font>"
   ]
  },
  {
   "cell_type": "markdown",
   "metadata": {},
   "source": [
    "<font color=\"red\">You should always print a reasonably formatted string (2-3 significant figures) with units as your answer. Figures should be inline, and have appropriate labels, and legends if needed. Make sure you save your work before you submit it. On windows, Ctrl-s should save, and on mac command-s will save.</font>"
   ]
  },
  {
   "cell_type": "markdown",
   "metadata": {},
   "source": [
    "<font color=\"red\">jkitchin\n",
    ": Your grade has two parts: A technical part, and a presentation part. The technical part is 70% of the total grade, and presentation is 30%. See the syllabus for details about what the letter grades mean.\n",
    "\n",
    "For standard regular correctness, you will usually get an A, which is only 90%. Occasionally, for spectacular solutions, you may get higher than an A, e.g. an A+ or A++. You should not view getting an A as \"losing points\". At the end of the semester the highest grade I can give you is an A, and the cutoff for getting an A is for your overall weighted grade to be 80% or higher.\n",
    "<br><br>\n",
    "Your grade will be shown in a cell like the one below which is the technical, presentation and overall grade. \n",
    "<br><br>\n",
    "The person who graded your work will be shown. If you disagree with grading, see them first. Then, if you think you need to see Prof. Kitchin about it.\n",
    "</font>"
   ]
  },
  {
   "cell_type": "markdown",
   "metadata": {},
   "source": [
    "Technical: A\n",
    "\n",
    "Presentation: A\n",
    "\n",
    "Grade: 0.9 (A)\n",
    "\n",
    "Graded by: jkitchin\n"
   ]
  }
 ],
 "metadata": {
  "grade": {
   "overall": 0.9,
   "presentation": "A",
   "technical": "A"
  },
  "kernelspec": {
   "display_name": "Python 3",
   "language": "python",
   "name": "python3"
  },
  "language_info": {
   "codemirror_mode": {
    "name": "ipython",
    "version": 3
   },
   "file_extension": ".py",
   "mimetype": "text/x-python",
   "name": "python",
   "nbconvert_exporter": "python",
   "pygments_lexer": "ipython3",
   "version": "3.5.2"
  }
 },
 "nbformat": 4,
 "nbformat_minor": 0
}
