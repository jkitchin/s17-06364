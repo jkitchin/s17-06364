{
 "cells": [
  {
   "cell_type": "markdown",
   "metadata": {},
   "source": [
    "The reaction $A \\rightarrow B$ occurs in a tubular reactor at a rate of $-r_A = k C_A$ with k=0.23 1/min. Find the Volume required to reduce the exit concentration to 10% of the inlet concentration. The inlet volumetric flow 10 dm$^3$/min."
   ]
  },
  {
   "cell_type": "markdown",
   "metadata": {},
   "source": [
    "<font color=\"red\">You should always state how the problem is to be solved, including equations</font>\n",
    "To solve this problme, we need to use the mole balance:\n",
    "\n",
    "$\\frac{dF_A}{dV} = -k C_A$ and solve it for V.\n",
    "\n",
    "In this case, we get:\n",
    "\n",
    "$V = \\frac{\\nu}{k} \\ln \\frac{C_{A0}}{C_A}$\n",
    "\n",
    "From the problem statement we know $C_A = 0.1 C_{A0}$. If we plug that in the $C_{A0}$ cancels, so we just have to evaluate the right hand side of the equation."
   ]
  },
  {
   "cell_type": "code",
   "execution_count": 3,
   "metadata": {
    "collapsed": false
   },
   "outputs": [
    {
     "name": "stdout",
     "output_type": "stream",
     "text": [
      "The required volume is 100.11 L.\n"
     ]
    }
   ],
   "source": [
    "import numpy as np\n",
    "k = 0.23 # 1/min\n",
    "nu = 10  # L / min\n",
    "\n",
    "V = nu / k * np.log(1 / 0.1)\n",
    "print('The required volume is {:1.2f} L.'.format(V))"
   ]
  },
  {
   "cell_type": "markdown",
   "metadata": {},
   "source": [
    "<font color=\"red\">You should always print a reasonably formatted string (2-3 significant figures) with units as your answer. Figures should be inline, and have appropriate labels, and legends if needed.</font>"
   ]
  }
 ],
 "metadata": {
  "kernelspec": {
   "display_name": "Python 3",
   "language": "python",
   "name": "python3"
  },
  "language_info": {
   "codemirror_mode": {
    "name": "ipython",
    "version": 3
   },
   "file_extension": ".py",
   "mimetype": "text/x-python",
   "name": "python",
   "nbconvert_exporter": "python",
   "pygments_lexer": "ipython3",
   "version": "3.5.2"
  }
 },
 "nbformat": 4,
 "nbformat_minor": 0
}
