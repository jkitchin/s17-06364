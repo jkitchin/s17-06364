{
 "cells": [
  {
   "cell_type": "markdown",
   "metadata": {},
   "source": [
    "- ASSIGNMENT: unsteady-cstr\n",
    "- POINTS: 3\n",
    "- DUEDATE: 2017-02-01 23:59:59\n",
    "- CATEGORY: homework\n",
    "- RUBRIC: default\n"
   ]
  },
  {
   "cell_type": "markdown",
   "metadata": {},
   "source": [
    "Chapter two focused on the steady state behavior of the CSTR. Mathematically, this led to an algebraic equation. The full mole balance is:\n",
    "\n",
    " $\\frac{dN_A}{dt} = F_{A0} - F_A + r_A V$ \n",
    "\n",
    "which resembles the batch reactor, but with flows. \n",
    "\n",
    "For the reaction  $A \\rightarrow B$ , with  $-r_A = k C_A^2$ and  $k=3$ L/mol/hr in a CSTR with a volume of 66,000 L, with an inlet volumetric flow of 10 L/hr, and an inlet concentration of 0.5 M in A, plot the time dependent concentration of A in the reactor until it reaches steady state. You can assume that  $N_A(t=0) = 0$ for the initial condition. Discuss how long it takes for the reactor to approximately reach steady state (you should say what you mean by steady state, and how you determined the time to reach it).\n",
    "\n"
   ]
  },
  {
   "cell_type": "markdown",
   "metadata": {},
   "source": [
    "# solution\n",
    "We need to setup the ODE function and integrate it to a time long enough to observe steady state behavior. The mole balance is already in standard form."
   ]
  },
  {
   "cell_type": "code",
   "execution_count": 1,
   "metadata": {
    "collapsed": true
   },
   "outputs": [],
   "source": [
    "%matplotlib inline\n",
    "from scipy.integrate import odeint\n",
    "import numpy as np\n",
    "import matplotlib.pyplot as plt"
   ]
  },
  {
   "cell_type": "code",
   "execution_count": 2,
   "metadata": {
    "collapsed": true
   },
   "outputs": [],
   "source": [
    "# Given data\n",
    "k = 3 # L/mol/hr\n",
    "V = 66000 # L\n",
    "v0 = 10 # L/hr\n",
    "Ca0 = 0.5\n",
    "Na0 = 0 # mol"
   ]
  },
  {
   "cell_type": "code",
   "execution_count": 3,
   "metadata": {
    "collapsed": true
   },
   "outputs": [],
   "source": [
    "# Derived data\n",
    "Fa0 = v0 * Ca0"
   ]
  },
  {
   "cell_type": "markdown",
   "metadata": {},
   "source": [
    "In the ode function, we need to calculate the concentration from the number of moles in the reactor at a given time, and then use that to calculate the exit flow rate and reaction rate. The solution will be the number of moles of A in the reactor as a function of time, so we have to divide it by the volume to get it into concentration."
   ]
  },
  {
   "cell_type": "code",
   "execution_count": 10,
   "metadata": {
    "collapsed": false
   },
   "outputs": [
    {
     "data": {
      "text/plain": [
       "(0, 0.006)"
      ]
     },
     "execution_count": 10,
     "metadata": {},
     "output_type": "execute_result"
    },
    {
     "data": {
      "image/png": "[encoded data removed]",
      "text/plain": [
       "<matplotlib.figure.Figure at 0x10d418e80>"
      ]
     },
     "metadata": {},
     "output_type": "display_data"
    }
   ],
   "source": [
    "def ode(Na, t):\n",
    "    Ca = Na / V\n",
    "    Fa = v0 * Ca\n",
    "    ra = -k * Ca**2\n",
    "    dNadt = Fa0 - Fa + ra * V\n",
    "    return dNadt\n",
    "\n",
    "tspan = np.linspace(0, 300) # hours\n",
    "\n",
    "sol = odeint(ode, Na0, tspan)\n",
    "\n",
    "Ca = sol / V\n",
    "\n",
    "plt.plot(tspan, Ca)\n",
    "plt.xlabel('Time (hr)')\n",
    "plt.ylabel('$C_A$ (M)')\n",
    "plt.ylim([0, 0.006])"
   ]
  },
  {
   "cell_type": "markdown",
   "metadata": {},
   "source": [
    "Steady state is where the concentration of A in the tank is not changing with time. It takes about 150-200 hours to reach steady state behavior. The concentration of A levels out at about 0.005 M, which is about 99% conversion. I changed the y-limits here to see the flat part more easily, otherwise the flat part overlaps with top of the graph and is not that easy to see."
   ]
  },
  {
   "cell_type": "markdown",
   "metadata": {},
   "source": [
    "\n"
   ]
  }
 ],
 "metadata": {
  "kernelspec": {
   "display_name": "Python 3",
   "language": "python",
   "name": "python3"
  },
  "language_info": {
   "codemirror_mode": {
    "name": "ipython",
    "version": 3
   },
   "file_extension": ".py",
   "mimetype": "text/x-python",
   "name": "python",
   "nbconvert_exporter": "python",
   "pygments_lexer": "ipython3",
   "version": "3.5.2"
  },
  "org": {
   "ASSIGNMENT": "unsteady-cstr",
   "CATEGORY": "homework",
   "DUEDATE": "2017-02-01 23:59:59",
   "POINTS": "3",
   "RUBRIC": "default"
  }
 },
 "nbformat": 4,
 "nbformat_minor": 0
}
