{
 "cells": [
  {
   "cell_type": "markdown",
   "metadata": {},
   "source": [
    "# ASSIGNED Adiabatic batch reactor"
   ]
  },
  {
   "cell_type": "markdown",
   "metadata": {},
   "source": [
    "The reaction $A + B \\rightleftharpoons C$ is carried out in an adiabatic, constant volume batch reactor. The rate law is\n",
    "r = k1 \\* C\\_A \\* C\\_B - k2 \\* C\\_C\n",
    "\n",
    "<table border=\"2\" cellspacing=\"0\" cellpadding=\"6\" rules=\"groups\" frame=\"hsides\">\n",
    "\n",
    "\n",
    "<colgroup>\n",
    "<col  class=\"org-left\" />\n",
    "\n",
    "<col  class=\"org-left\" />\n",
    "</colgroup>\n",
    "<tbody>\n",
    "<tr>\n",
    "<td class=\"org-left\">Initial temperature = 100 °C</td>\n",
    "<td class=\"org-left\">&#xa0;</td>\n",
    "</tr>\n",
    "\n",
    "\n",
    "<tr>\n",
    "<td class=\"org-left\">k1 (373K) = 2e-3 L/mol/s</td>\n",
    "<td class=\"org-left\">E1 = 100 kJ/mol</td>\n",
    "</tr>\n",
    "\n",
    "\n",
    "<tr>\n",
    "<td class=\"org-left\">k2 (373K) = 3e-5 1/s</td>\n",
    "<td class=\"org-left\">E2 = 150 kJ/mol</td>\n",
    "</tr>\n",
    "\n",
    "\n",
    "<tr>\n",
    "<td class=\"org-left\">CA0 = 0.1 mol / L</td>\n",
    "<td class=\"org-left\">CpA = 25 J/mol/K</td>\n",
    "</tr>\n",
    "\n",
    "\n",
    "<tr>\n",
    "<td class=\"org-left\">CB0 = 0.125 mol / L</td>\n",
    "<td class=\"org-left\">CpB = 25 J/mol/K</td>\n",
    "</tr>\n",
    "\n",
    "\n",
    "<tr>\n",
    "<td class=\"org-left\">Hrx (298K) = -40 kJ /mol A</td>\n",
    "<td class=\"org-left\">CpC = 40 J/mol/K</td>\n",
    "</tr>\n",
    "</tbody>\n",
    "</table>\n",
    "\n",
    "1.  Plot the concentrations and temperature as a function of time. Explain what you see.\n",
    "2.  Plot the equilibrium conversion as a function of temperature"
   ]
  },
  {
   "cell_type": "markdown",
   "metadata": {},
   "source": [
    "## solution"
   ]
  },
  {
   "cell_type": "markdown",
   "metadata": {},
   "source": [
    "### Part a"
   ]
  },
  {
   "cell_type": "markdown",
   "metadata": {},
   "source": [
    "We need to setup coupled mole and energy balances for the species, and then solve them.\n",
    "Here is the data provided."
   ]
  },
  {
   "cell_type": "code",
   "execution_count": 1,
   "metadata": {
    "collapsed": true
   },
   "outputs": [],
   "source": [
    "import numpy as np\n",
    "from scipy.integrate import odeint\n",
    "\n",
    "T0 = 100.0 + 273.15  # K\n",
    "k1_373 = 0.002\n",
    "E1 = 100.0       # kJ/mol\n",
    "k2_373 = 3.0e-5\n",
    "E2 = 150.0       # kJ/mol\n",
    "R = 8.314e-3\n",
    "\n",
    "# initial concentrations\n",
    "Ca0 = 0.1\n",
    "Cb0 = 0.125\n",
    "Cc0 = 0.0\n",
    "\n",
    "# thermal properties\n",
    "Hrx_298 = -40.0  # kJ/mol\n",
    "Cpa = 0.025      # kJ/mol/K\n",
    "Cpb = 0.025      # kJ/mol/K\n",
    "Cpc = 0.040      # kJ/mol/K\n",
    "\n",
    "dCp = Cpc - Cpa - Cpb"
   ]
  },
  {
   "cell_type": "markdown",
   "metadata": {},
   "source": [
    "Now define the mole/energy balances."
   ]
  },
  {
   "cell_type": "code",
   "execution_count": 1,
   "metadata": {
    "collapsed": true
   },
   "outputs": [],
   "source": [
    "def ode(Y, t):\n",
    "    Ca, Cb, Cc, T = Y  # constant volume, so we can use concentration\n",
    "\n",
    "    # First the temperature dependent rate constants\n",
    "    k1 = k1_373 * np.exp(-E1 / R * (1.0 / T - 1.0 / 373.0))\n",
    "    k2 = k2_373 * np.exp(-E2 / R * (1.0 / T - 1.0 / 373.0))\n",
    "\n",
    "    # Then the rate\n",
    "    r = k1 * Ca * Cb - k2 * Cc\n",
    "    ra = rb = -r\n",
    "    rc = r\n",
    "\n",
    "    # The mole balance\n",
    "    dCadt = ra\n",
    "    dCbdt = rb\n",
    "    dCcdt = rc\n",
    "\n",
    "    # energy balance\n",
    "    # First the reaction enthalpy at the temperature\n",
    "    Hrx = Hrx_298 + dCp * (T - T0)\n",
    "\n",
    "    dTdt = (-Hrx * r) / (Ca * Cpa + Cb * Cpb + Cc * Cpc)\n",
    "    return (dCadt, dCbdt, dCcdt, dTdt)\n",
    "\n",
    "tspan = np.linspace(0, 100, 200)\n",
    "Y0 = [Ca0, Cb0, Cc0, T0]\n",
    "sol = odeint(ode, Y0, tspan)\n",
    "\n",
    "Ca = sol[:, 0]\n",
    "Cb = sol[:, 1]\n",
    "Cc = sol[:, 2]\n",
    "T = sol[:, 3]"
   ]
  },
  {
   "cell_type": "markdown",
   "metadata": {},
   "source": [
    "Now make the plots."
   ]
  },
  {
   "cell_type": "code",
   "execution_count": 1,
   "metadata": {
    "collapsed": false
   },
   "outputs": [
    {
     "data": {
      "image/png": "[encoded data removed]",
      "text/plain": [
       "<matplotlib.figure.Figure>"
      ]
     },
     "metadata": {},
     "output_type": "display_data"
    }
   ],
   "source": [
    "%matplotlib inline\n",
    "import matplotlib.pyplot as plt\n",
    "plt.plot(tspan, Ca, tspan, Cb, tspan, Cc)\n",
    "plt.xlabel('time (s)')\n",
    "plt.ylabel('Concentrations (mol/L)')\n",
    "plt.legend(['A', 'B', 'C'], loc='best')"
   ]
  },
  {
   "cell_type": "code",
   "execution_count": 1,
   "metadata": {
    "collapsed": false
   },
   "outputs": [
    {
     "data": {
      "image/png": "[encoded data removed]",
      "text/plain": [
       "<matplotlib.figure.Figure>"
      ]
     },
     "metadata": {},
     "output_type": "display_data"
    }
   ],
   "source": [
    "plt.figure()\n",
    "plt.plot(tspan, T)\n",
    "plt.xlabel('time (s)')\n",
    "plt.ylabel('Temperature (K)')"
   ]
  },
  {
   "cell_type": "markdown",
   "metadata": {},
   "source": [
    "Note that the temperature rises very quickly. The reaction appears to reach equilibrium very abruptly. It does actually reach equilibrium in a smooth and continuous way, but over a very short time scale. You have to use a very dense integration grid (e.g. 20000 points) and zoom into the microsecond time scale to see that it is smooth."
   ]
  },
  {
   "cell_type": "markdown",
   "metadata": {},
   "source": [
    "### part b"
   ]
  },
  {
   "cell_type": "markdown",
   "metadata": {},
   "source": [
    "By stoichiometry we have:\n",
    "$$K = Cc / (Ca * Cb)$$\n",
    "let X be the reaction conversion.\n",
    "\n",
    "-   $CA = Ca0 * (1 - X)$\n",
    "-   $CB = Cbo - Ca0 * X$\n",
    "-   $Cc = Ca0 * X$\n",
    "\n",
    "then:\n",
    "we solve:\n",
    "$K = k1/k2 = Ca0 * X / (Ca0(1 - X) * (Cb0 - Ca0 * X))$\n",
    "for X as a function of temperature."
   ]
  },
  {
   "cell_type": "code",
   "execution_count": 1,
   "metadata": {
    "collapsed": false
   },
   "outputs": [
    {
     "data": {
      "image/png": "[encoded data removed]",
      "text/plain": [
       "<matplotlib.figure.Figure>"
      ]
     },
     "metadata": {},
     "output_type": "display_data"
    }
   ],
   "source": [
    "T0 = 100.0 + 273.15  # K\n",
    "k1_373 = 0.002\n",
    "E1 = 100.0       # kJ/mol\n",
    "k2_373 = 3.0e-5\n",
    "E2 = 150.0       # kJ/mol\n",
    "R = 8.314e-3\n",
    "\n",
    "Ca0 = 0.1\n",
    "Cb0 = 0.125\n",
    "Cc0 = 0.0\n",
    "Hrx_298 = -40.0  # kJ/mol\n",
    "Cpa = 0.025      # kJ/mol/K\n",
    "Cpb = 0.025      # kJ/mol/K\n",
    "Cpc = 0.040      # kJ/mol/K\n",
    "\n",
    "dCp = Cpc - Cpa - Cpb\n",
    "\n",
    "from scipy.optimize import fsolve\n",
    "\n",
    "Tspan = np.linspace(350, 600)\n",
    "\n",
    "def objective(X, T):\n",
    "    # X is a reaction extent, not a fractional conversion\n",
    "    k1 = k1_373 * np.exp(-E1 / R * (1.0 / T - 1.0 / 373.0))\n",
    "    k2 = k2_373 * np.exp(-E2 / R * (1.0 / T - 1.0 / 373.0))\n",
    "\n",
    "    K = k1 / k2\n",
    "    return K -  Ca0 * X / (Ca0 * (1 - X) * (Cb0 - Ca0 *X))\n",
    "\n",
    "XEQ = np.empty(Tspan.shape)\n",
    "for i, T in enumerate(Tspan):\n",
    "    guess = 1e-6\n",
    "    XEQ[i], = fsolve(objective, guess, args=(T,))\n",
    "    guess = XEQ[i]\n",
    "\n",
    "plt.figure()\n",
    "plt.plot(Tspan, XEQ)\n",
    "plt.xlabel('Temperature (K)')\n",
    "plt.ylabel('Equilibrium conversion')"
   ]
  },
  {
   "cell_type": "markdown",
   "metadata": {},
   "source": [
    "There is an alternative approach, which looks like this. We can use the reaction enthalpy to estimate the temperature dependent equilibrium constant. The results are not exactly the same but they are similar. In principle they should be the same, but rounding errors/uncertainty in the rate constants, activation energies, heat capacities and heat of reaction prevent them from being identical. These quantities are not actually all independent of each other.\n",
    "\n",
    "Here I only show the differences in $K$. you could use either $K$ to derive the conversion above."
   ]
  },
  {
   "cell_type": "code",
   "execution_count": 1,
   "metadata": {
    "collapsed": false
   },
   "outputs": [
    {
     "data": {
      "image/png": "[encoded data removed]",
      "text/plain": [
       "<matplotlib.figure.Figure>"
      ]
     },
     "metadata": {},
     "output_type": "display_data"
    }
   ],
   "source": [
    "def dlnKdT(lnK, T):\n",
    "    Hrx = Hrx_298 + dCp * (T - T0)\n",
    "    return Hrx / R / T**2\n",
    "\n",
    "K373 = k1_373 / k2_373\n",
    "\n",
    "from scipy.integrate import odeint\n",
    "\n",
    "Tspan2 = np.linspace(373, 600)\n",
    "sol = odeint(dlnKdT, np.log(K373), Tspan2)\n",
    "\n",
    "Kalt = np.exp(sol)\n",
    "\n",
    "k1 = k1_373 * np.exp(-E1 / R * (1.0 / Tspan2 - 1.0 / 373.0))\n",
    "k2 = k2_373 * np.exp(-E2 / R * (1.0 / Tspan2 - 1.0 / 373.0))\n",
    "\n",
    "Kori = k1 / k2\n",
    "\n",
    "plt.plot(Tspan2, Kalt, Tspan2, Kori)\n",
    "plt.legend(['Approach 2', 'Approach 1'])"
   ]
  }
 ],
 "metadata": {
  "kernelspec": {
   "display_name": "Python 3",
   "language": "python",
   "name": "python3"
  },
  "language_info": {
   "codemirror_mode": {
    "name": "ipython",
    "version": 3
   },
   "file_extension": ".py",
   "mimetype": "text/x-python",
   "name": "python",
   "nbconvert_exporter": "python",
   "pygments_lexer": "ipython3",
   "version": "3.6.0"
  },
  "org": {}
 },
 "nbformat": 4,
 "nbformat_minor": 0
}
