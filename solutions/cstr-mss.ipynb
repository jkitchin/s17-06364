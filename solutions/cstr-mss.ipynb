{
 "cells": [
  {
   "cell_type": "markdown",
   "metadata": {},
   "source": [
    "- TITLE: \n",
    "- AUTHOR: John Kitchin\n"
   ]
  },
  {
   "cell_type": "markdown",
   "metadata": {},
   "source": [
    "\n",
    "\n",
    "# ASSIGNED Multiple CSTR steady state solutions\n",
    "\n",
    "It is possible for there to be more than one steady state solution to the CSTR mole balance. \n",
    "\n",
    "Consider the reaction: $A \\rightarrow products$ with the rate law\n",
    "$-r_A = \\frac{1.75 C_A}{(1 + 10 C_A)^2}$. The inlet concentration of A is 1.5M at a volumetric flow of 0.15 L/min. The reactor volume is 5 liters.\n",
    "\n",
    "\n",
    "## Part 1\n",
    "\n",
    "Write the steady state mole balance for this reactor.\n",
    "\n"
   ]
  },
  {
   "cell_type": "code",
   "execution_count": 1,
   "metadata": {
    "collapsed": false
   },
   "outputs": [
    {
     "name": "stdout",
     "output_type": "stream",
     "text": []
    }
   ],
   "source": []
  },
  {
   "cell_type": "markdown",
   "metadata": {},
   "source": [
    "\n",
    "# Part 2\n",
    "\n",
    "Define an objective function that could be used with fsolve to find the steady state exit concentration. Make a plot of your function from $C_{A,exit}=0 \\textrm{ to } 1.5$ M. Note how many times your objective function is equal to zero.\n",
    "\n"
   ]
  },
  {
   "cell_type": "code",
   "execution_count": 1,
   "metadata": {
    "collapsed": false
   },
   "outputs": [
    {
     "name": "stdout",
     "output_type": "stream",
     "text": []
    }
   ],
   "source": [
    "# Function here"
   ]
  },
  {
   "cell_type": "code",
   "execution_count": 1,
   "metadata": {
    "collapsed": false
   },
   "outputs": [
    {
     "name": "stdout",
     "output_type": "stream",
     "text": []
    }
   ],
   "source": [
    "# plot here"
   ]
  },
  {
   "cell_type": "markdown",
   "metadata": {},
   "source": [
    "\n",
    "# Part 3\n",
    "\n",
    "Use the information from part 2 as initial guesses for fsolve to find all the exit concentrations that are possible.\n",
    "\n"
   ]
  },
  {
   "cell_type": "code",
   "execution_count": 1,
   "metadata": {
    "collapsed": false
   },
   "outputs": [
    {
     "name": "stdout",
     "output_type": "stream",
     "text": []
    }
   ],
   "source": []
  },
  {
   "cell_type": "markdown",
   "metadata": {},
   "source": [
    "\n",
    "# Part 4\n",
    "\n",
    "Explain qualitatively why there are multiple exit concentrations in this example. Based on the mole balance how many exit concentrations do you expect to see and why?\n",
    "\n",
    "\n",
    "# Solution\n",
    "\n",
    "\n",
    "## Part 1\n",
    "\n",
    "At steady state we have:\n",
    "\n",
    "$0 = F_{A0} - F_A + V \\frac{-1.75 C_A}{(1 + 10 C_A)^2}$\n",
    "\n",
    "\n",
    "## Part 2\n",
    "\n",
    "The objective function should return zero when you have a solution to the mole balance. The function is simply the right hand side of the equation written above.\n",
    "\n"
   ]
  },
  {
   "cell_type": "code",
   "execution_count": 1,
   "metadata": {
    "collapsed": false
   },
   "outputs": [
    {
     "name": "stdout",
     "output_type": "stream",
     "text": []
    }
   ],
   "source": [
    "Ca0 = 1.5 # M\n",
    "v0 = 0.15 # L/min\n",
    "V = 5 # L\n",
    "Fa0 = v0 * Ca0\n",
    "\n",
    "def objective(Ca):\n",
    "    Fa = v0 * Ca\n",
    "    return Fa0 - Fa + V * (-1.75 * Ca)/(1 + 10 * Ca)**2"
   ]
  },
  {
   "cell_type": "markdown",
   "metadata": {},
   "source": [
    "To plot the function, we just evaluate it for an array of concentration values.\n",
    "\n"
   ]
  },
  {
   "cell_type": "code",
   "execution_count": 1,
   "metadata": {
    "collapsed": false
   },
   "outputs": [
    {
     "name": "stdout",
     "output_type": "stream",
     "text": []
    },
    {
     "data": {
      "image/png": "[encoded data removed]",
      "text/plain": [
       "<matplotlib.figure.Figure>"
      ]
     },
     "metadata": {},
     "output_type": "display_data"
    }
   ],
   "source": [
    "import numpy as np\n",
    "\n",
    "CA = np.linspace(0, 1.5)\n",
    "obj = objective(CA)\n",
    "\n",
    "%matplotlib inline\n",
    "import matplotlib.pyplot as plt\n",
    "\n",
    "plt.plot(CA, obj)\n",
    "plt.plot([0, 1.5], [0, 0], 'r-')\n",
    "plt.xlabel('$C_A$ (M)')\n",
    "plt.ylabel('Objective function')"
   ]
  },
  {
   "cell_type": "markdown",
   "metadata": {},
   "source": [
    "<font color=\"red\">daniellee\n",
    ": null</font>"
   ]
  },
  {
   "cell_type": "markdown",
   "metadata": {},
   "source": [
    "You can see from the graph that there are three places where the objective function is equal to zero. Each of these is a solution to the mole balance.\n",
    "\n",
    "\n",
    "# Part 3\n",
    "\n"
   ]
  },
  {
   "cell_type": "code",
   "execution_count": 1,
   "metadata": {
    "collapsed": false
   },
   "outputs": [
    {
     "name": "stdout",
     "output_type": "stream",
     "text": [
      "There is a solution at Ca=0.07 M.\n",
      "There is a solution at Ca=0.20 M.\n",
      "There is a solution at Ca=1.03 M."
     ]
    }
   ],
   "source": [
    "from scipy.optimize import fsolve\n",
    "\n",
    "guess = [0.05, 0.2, 1.0]\n",
    "\n",
    "sols = fsolve(objective, guess)\n",
    "\n",
    "for ans in sols:\n",
    "    print('There is a solution at Ca={:1.2f} M.'.format(ans))"
   ]
  },
  {
   "cell_type": "markdown",
   "metadata": {},
   "source": [
    "\n",
    "# Part 4\n",
    "\n",
    "The steady state mole balance in this case is nonlinear in $C_A$. In fact, you can see that it is a third-order polynomial in $C_A$ if you multiply each term by $(1 + 10 C_A)^2$ and expand the terms. So, you should expect that there are three solutions in this case. \n",
    "\n"
   ]
  }
 ],
 "metadata": {
  "kernelspec": {
   "display_name": "Python 3",
   "language": "python",
   "name": "python3"
  },
  "language_info": {
   "codemirror_mode": {
    "name": "ipython",
    "version": 3
   },
   "file_extension": ".py",
   "mimetype": "text/x-python",
   "name": "python",
   "nbconvert_exporter": "python",
   "pygments_lexer": "ipython3",
   "version": "3.6.0"
  },
  "org": {
   "AUTHOR": "John Kitchin",
   "TITLE": ""
  }
 },
 "nbformat": 4,
 "nbformat_minor": 0
}
