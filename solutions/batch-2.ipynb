{
 "cells": [
  {
   "cell_type": "markdown",
   "metadata": {},
   "source": [
    "- ASSIGNMENT: batch-2\n",
    "- POINTS: 2\n",
    "- DUEDATE: 2017-01-27 Fri\n",
    "- CATEGORY: homework\n",
    "- RUBRIC: default\n"
   ]
  },
  {
   "cell_type": "markdown",
   "metadata": {},
   "source": [
    "The reaction  $A \\rightarrow B$ occurs in a batch reactor.  $A$ is consumed at a rate of  $-r_A = k C_A^{2}$ with  $k=0.33$ L/mol/min. The initial concentration of A in the reactor is 2.5 M. Make a plot of the concentration of A as a function of time, and calculate the concentration of A after 10 minutes.\n",
    "\n"
   ]
  },
  {
   "cell_type": "markdown",
   "metadata": {},
   "source": [
    "The mole balance here is:\n",
    "\n",
    "$\\frac{dN_A}{dt} = -k C_A^2 V$\n",
    "\n",
    "Since it is constant volume, you can move the V over to get a single equation in $C_A$. This equation has an analytical solution, but it is easy to solve numerically. We just integrate up to 10 mintues and get the concentration at that time."
   ]
  },
  {
   "cell_type": "code",
   "execution_count": 5,
   "metadata": {
    "collapsed": true
   },
   "outputs": [],
   "source": [
    "import numpy as np\n",
    "from scipy.integrate import odeint\n",
    "%matplotlib inline\n",
    "import matplotlib.pyplot as plt"
   ]
  },
  {
   "cell_type": "code",
   "execution_count": 4,
   "metadata": {
    "collapsed": false
   },
   "outputs": [
    {
     "name": "stdout",
     "output_type": "stream",
     "text": [
      "The concentration at 10.0 minutes is 0.27 M\n"
     ]
    }
   ],
   "source": [
    "Ca0 = 2.5 # M\n",
    "k = 0.33  # L / mol / min\n",
    "\n",
    "tspan = np.linspace(0, 10) # min\n",
    "\n",
    "def ode(Ca, t):\n",
    "    return -k * Ca**2\n",
    "\n",
    "sol = odeint(ode, Ca0, tspan)\n",
    "print('The concentration at {} minutes is {:1.2g} M'.format(tspan[-1], sol[-1, 0]))"
   ]
  },
  {
   "cell_type": "code",
   "execution_count": 7,
   "metadata": {
    "collapsed": false
   },
   "outputs": [
    {
     "data": {
      "text/plain": [
       "<matplotlib.text.Text at 0x10d5ae400>"
      ]
     },
     "execution_count": 7,
     "metadata": {},
     "output_type": "execute_result"
    },
    {
     "data": {
      "image/png": "[encoded data removed]",
      "text/plain": [
       "<matplotlib.figure.Figure at 0x10cfa8e48>"
      ]
     },
     "metadata": {},
     "output_type": "display_data"
    }
   ],
   "source": [
    "plt.plot(tspan, sol)\n",
    "plt.xlabel('time (min)')\n",
    "plt.ylabel('$C_A$ (M)')"
   ]
  },
  {
   "cell_type": "markdown",
   "metadata": {},
   "source": [
    "Make sure you print units with your answers, and use reasonable significant figures. "
   ]
  },
  {
   "cell_type": "markdown",
   "metadata": {},
   "source": [
    "\n"
   ]
  }
 ],
 "metadata": {
  "kernelspec": {
   "display_name": "Python 3",
   "language": "python",
   "name": "python3"
  },
  "language_info": {
   "codemirror_mode": {
    "name": "ipython",
    "version": 3
   },
   "file_extension": ".py",
   "mimetype": "text/x-python",
   "name": "python",
   "nbconvert_exporter": "python",
   "pygments_lexer": "ipython3",
   "version": "3.5.2"
  },
  "org": {
   "ASSIGNMENT": "batch-2",
   "CATEGORY": "homework",
   "DUEDATE": "<2017-01-27 Fri>",
   "POINTS": "2",
   "RUBRIC": "default"
  }
 },
 "nbformat": 4,
 "nbformat_minor": 0
}
