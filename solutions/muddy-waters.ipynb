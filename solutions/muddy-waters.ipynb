{
 "cells": [
  {
   "cell_type": "markdown",
   "metadata": {},
   "source": [
    "# Reactor design topics\n",
    "\n",
    "Many of you asked for variations on more examples, more discussion of what reactors look like, more theory, examples of working things out by hand, more realistic examples, etc. These are all things the book would be very good for. The book provides a very different, but complementary point of view on reaction engineering. The lectures will focus on solving problems.\n",
    "\n",
    "It is very clear that most of you should be asking more questions! Either come see me, ask questions on Slack, or contact the TAs. \n",
    "\n",
    "Many of you asked about spending more time on the math and setup. Sometimes we will do that and other times we won't. If you can't figure out after class what math the code represents, you should come ask about it. As with many things, we cannot cover every example in full detail every time in class. Part of your studying habits should be to fill in the gaps, and if it is confusing, that tells you exactly what you should be asking questions about.\n",
    "\n",
    "I expect all of you to review the solutions to the homeworks, and the comments in your homeworks. If you don't understand them, you should come ask questions about them!"
   ]
  },
  {
   "cell_type": "markdown",
   "metadata": {},
   "source": [
    "# Python\n",
    "1. Many of you asked for some kind of cheat sheet. It would not be that helpful for me to make that for you. Each day after class you should make your own cheat sheet. A lot of the value in a cheatsheet comes from making it yourself. These should include short examples of how to use the functions.\n",
    "\n",
    "2. I saw several questions about why we are using Python. We have to use something. Modern engineering requires computation, and there is no single tool that everyone uses. Companies use Excel, Python, Matlab, Fortran, Aspen, and many other tools. We cannot teach all of them to you. Python is free. You can use it forever, no matter where you go. Matlab is not free, and may not be available later when you have a job. Python is used very broadly, and it is taught in a class you are required to take! The ideas we use in Python are the same ideas that are used in all those other tools.\n",
    "\n",
    "3. Many of you wished you knew more about how all the functions work. We will walk the line between a numerical methods class and reactor design. For the most part we do not need to know how they work for what we are doing any more than you know how the sqrt button on your calculator works. It becomes important to know how they work when they fail, but this will be rare for us. There are whole courses on numerical methods.\n",
    "\n",
    "4. Some of you thought we spend too much time on the code. My opinion on this is that code is the new math. We used to spend that much time talking about the math."
   ]
  },
  {
   "cell_type": "markdown",
   "metadata": {},
   "source": [
    "# Ways to improve the class\n",
    "1. Many asked for an easier way to see your grades.\n",
    "I have updated techela to enable you to download the files into a directory and then techela will show you the grade. I am working on getting the comments into the email.\n",
    "\n",
    "2. Several people asked about listing keywords on the lectures in techela. I have added that.\n",
    "\n",
    "3. The exams. Many of you are still worried about the exams. We will have our first exam the week after Spring Break. It will be a take home exam that is similar in style to the homeworks. There will be 3-4 problems that will be released on one day, and due the next day. One of the problems will more conceptual, at least two will involve coding."
   ]
  }
 ],
 "metadata": {
  "kernelspec": {
   "display_name": "Python 3",
   "language": "python",
   "name": "python3"
  },
  "language_info": {
   "codemirror_mode": {
    "name": "ipython",
    "version": 3
   },
   "file_extension": ".py",
   "mimetype": "text/x-python",
   "name": "python",
   "nbconvert_exporter": "python",
   "pygments_lexer": "ipython3",
   "version": "3.5.2"
  }
 },
 "nbformat": 4,
 "nbformat_minor": 2
}
