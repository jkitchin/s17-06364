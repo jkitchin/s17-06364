{
 "cells": [
  {
   "cell_type": "markdown",
   "metadata": {},
   "source": [
    "# ASSIGNED adiabatic coupling in a PFR"
   ]
  },
  {
   "cell_type": "markdown",
   "metadata": {},
   "source": [
    "Butadiene and ethylene react to form cyclohexene according to:\n",
    "$B + E \\rightarrow C$\n",
    "If equimolar butadiene and ethylene at 723 K and a total pressure of 1 atm and inlet volumetric flow of 20 L/s are fed to an adiabatic PFR. What space time is required to reach a fractional conversion of 0.10, and what is the exit temperature?\n",
    "The following data is given.\n",
    "\n",
    "-   k = 10<sup>7.5</sup> e<sup>-27500/(R T)</sup>  L/mol/s\n",
    "-   &Delta; H\\_r = -30000 cal/mol (at 723 K)\n",
    "-   CpB = 36.8 cal/mol/K\n",
    "-   CpE = 20.2 cal/mol/K\n",
    "-   CpC = 59.5 cal/mol/K\n",
    "\n",
    "The space time is defined as $\\tau = V / v0$."
   ]
  },
  {
   "cell_type": "markdown",
   "metadata": {},
   "source": [
    "## Solution"
   ]
  },
  {
   "cell_type": "markdown",
   "metadata": {},
   "source": [
    "Some other important points:\n",
    "\n",
    "1.  account for changing volumetric flow\n",
    "2.  account for change in reaction energy with temperature.\n",
    "\n",
    "I use an event to solve this problem. There are many other approaches that could also work."
   ]
  },
  {
   "cell_type": "code",
   "execution_count": 2,
   "metadata": {
    "collapsed": true
   },
   "outputs": [],
   "source": [
    "import numpy as np\n",
    "from pycse import odelay\n",
    "%matplotlib inline\n",
    "import matplotlib.pyplot as plt\n",
    "\n",
    "R = 1.987  # cal/mol/K\n",
    "T0 = 723  # K\n",
    "\n",
    "v0 = 20  # L / s\n",
    "\n",
    "Ratm = 0.082057\n",
    "Cb0 = Ce0 = 0.5 / Ratm / T0\n",
    "\n",
    "Fb0 = v0 * Cb0\n",
    "Fe0 = v0 * Ce0\n",
    "Fc0 = 0.0\n",
    "\n",
    "Ft0 = Fb0 + Fe0 + Fc0\n",
    "\n",
    "CpB = 36.8  # cal/mol/K\n",
    "CpE = 20.2  # cal/mol/K\n",
    "CpC = 59.5  # cal/mol/K\n",
    "\n",
    "dCp = CpC - CpE - CpB\n",
    "\n",
    "Hrxn_723 = -30000.0  # cal / mol"
   ]
  },
  {
   "cell_type": "markdown",
   "metadata": {},
   "source": [
    "Here is the ODE setup."
   ]
  },
  {
   "cell_type": "code",
   "execution_count": 3,
   "metadata": {
    "collapsed": true
   },
   "outputs": [],
   "source": [
    "def ode(Y, V):\n",
    "    Fb, Fe, Fc, T = Y\n",
    "\n",
    "    # first take care of mole balances\n",
    "    Ft = Fb + Fe + Fc\n",
    "    v = v0 * Ft / Ft0 * T / T0\n",
    "\n",
    "    Cb = Fb / v\n",
    "    Ce = Fe / v\n",
    "\n",
    "    k = 10**7.5 * np.exp(-27500 / R / T)\n",
    "    r = k * Cb * Ce\n",
    "\n",
    "    dFbdV = -r\n",
    "    dFedV = -r\n",
    "    dFcdV = r\n",
    "\n",
    "    # Now the energy balance\n",
    "    Hrxn = Hrxn_723 + dCp * (T - 723)\n",
    "    dTdV = (-Hrxn * r) / (Fb * CpB + Fe * CpE + Fc * CpC)\n",
    "    return [dFbdV, dFedV, dFcdV, dTdV]\n",
    "\n",
    "\n",
    "def event(Y, V):\n",
    "    Fb, Fe, Fc, T = Y\n",
    "    value = 0.1 - (Fb0 - Fb)/Fb0\n",
    "    isterminal = True\n",
    "    direction = 0\n",
    "    return value, isterminal, direction\n",
    "\n",
    "Vspan = np.linspace(0, 1500)\n",
    "init = [Fb0, Fe0, Fc0, 723]"
   ]
  },
  {
   "cell_type": "markdown",
   "metadata": {},
   "source": [
    "Here is the solution."
   ]
  },
  {
   "cell_type": "code",
   "execution_count": 4,
   "metadata": {
    "collapsed": false
   },
   "outputs": [
    {
     "ename": "IndexError",
     "evalue": "tuple index out of range",
     "output_type": "error",
     "traceback": [
      "\u001b[1;31m---------------------------------------------------------------------------\u001b[0m",
      "\u001b[1;31mIndexError\u001b[0m                                Traceback (most recent call last)",
      "\u001b[1;32m<ipython-input-4-daf44802b0d4>\u001b[0m in \u001b[0;36m<module>\u001b[1;34m()\u001b[0m\n\u001b[0;32m      3\u001b[0m \u001b[1;32mif\u001b[0m \u001b[0mlen\u001b[0m\u001b[1;33m(\u001b[0m\u001b[0mXE\u001b[0m\u001b[1;33m)\u001b[0m \u001b[1;33m!=\u001b[0m \u001b[1;36m1\u001b[0m\u001b[1;33m:\u001b[0m\u001b[1;33m\u001b[0m\u001b[0m\n\u001b[0;32m      4\u001b[0m     \u001b[1;32mraise\u001b[0m \u001b[0mException\u001b[0m\u001b[1;33m(\u001b[0m\u001b[1;34m'we did not find just one event: %s'\u001b[0m\u001b[1;33m,\u001b[0m \u001b[0mXE\u001b[0m\u001b[1;33m)\u001b[0m\u001b[1;33m\u001b[0m\u001b[0m\n\u001b[1;32m----> 5\u001b[1;33m \u001b[0mprint\u001b[0m\u001b[1;33m(\u001b[0m\u001b[1;34m'A \\tau of {1.2f} s achieves a conversion of 0.1'\u001b[0m\u001b[1;33m.\u001b[0m\u001b[0mformat\u001b[0m\u001b[1;33m(\u001b[0m\u001b[0mV\u001b[0m\u001b[1;33m[\u001b[0m\u001b[1;33m-\u001b[0m\u001b[1;36m1\u001b[0m\u001b[1;33m]\u001b[0m \u001b[1;33m/\u001b[0m \u001b[0mv0\u001b[0m\u001b[1;33m)\u001b[0m\u001b[1;33m)\u001b[0m\u001b[1;33m\u001b[0m\u001b[0m\n\u001b[0m\u001b[0;32m      6\u001b[0m \u001b[0mprint\u001b[0m\u001b[1;33m(\u001b[0m\u001b[1;34m'Texit = {} K'\u001b[0m\u001b[1;33m.\u001b[0m\u001b[0mformat\u001b[0m\u001b[1;33m(\u001b[0m\u001b[0mY\u001b[0m\u001b[1;33m[\u001b[0m\u001b[1;33m-\u001b[0m\u001b[1;36m1\u001b[0m\u001b[1;33m,\u001b[0m \u001b[1;33m-\u001b[0m\u001b[1;36m1\u001b[0m\u001b[1;33m]\u001b[0m\u001b[1;33m)\u001b[0m\u001b[1;33m)\u001b[0m\u001b[1;33m\u001b[0m\u001b[0m\n\u001b[0;32m      7\u001b[0m \u001b[1;33m\u001b[0m\u001b[0m\n",
      "\u001b[1;31mIndexError\u001b[0m: tuple index out of range"
     ]
    }
   ],
   "source": [
    "V, Y, XE, YE, IE = odelay(ode, init, Vspan, events=[event])\n",
    "\n",
    "if len(XE) != 1:\n",
    "    raise Exception('we did not find just one event: %s', XE)\n",
    "print('A \\tau of {1.2f} s achieves a conversion of 0.1'.format(V[-1] / v0))\n",
    "print('Texit = {} K'.format(Y[-1, -1]))\n",
    "\n",
    "plt.plot(V, Y[:, 0:3])\n",
    "plt.xlabel('Volume (L)')\n",
    "plt.ylabel('F_j (L/s)')\n",
    "plt.legend(['B', 'E', 'C'], loc='best')"
   ]
  }
 ],
 "metadata": {
  "kernelspec": {
   "display_name": "Python 3",
   "language": "python",
   "name": "python3"
  },
  "language_info": {
   "codemirror_mode": {
    "name": "ipython",
    "version": 3
   },
   "file_extension": ".py",
   "mimetype": "text/x-python",
   "name": "python",
   "nbconvert_exporter": "python",
   "pygments_lexer": "ipython3",
   "version": "3.5.1"
  },
  "org": {}
 },
 "nbformat": 4,
 "nbformat_minor": 0
}
