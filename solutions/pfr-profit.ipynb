{
 "cells": [
  {
   "cell_type": "markdown",
   "metadata": {
    "deletable": true,
    "editable": true
   },
   "source": [
    "\n",
    "# ASSIGNED PFR profit\n",
    "\n",
    "Compound X with concentration of $C_{X0} = 2.5$ kmol / m<sup>3</sup> at a flow rate of 12 m<sup>3</sup>/min is converted to Y in a tubular reactor. The value of Y is \\\\$1.5/kmol. The cost of operation is $2.50 per minute per m<sup>3</sup>. Find the maximum profit (profit is value of products minus operating costs). The reaction rate is $k C_X^2$, and $k = 1.25$ (m<sup>3</sup>/kmol/min).\n",
    "\n",
    "Explain in words why there is maximum in profit.\n",
    "\n"
   ]
  },
  {
   "cell_type": "markdown",
   "metadata": {
    "deletable": true,
    "editable": true
   },
   "source": [
    "\n",
    "# Solution\n",
    "\n",
    "The issue here is that we make the most money at high conversion, but the reactor volume grows quickly with high conversion, so the operating costs increase as well. So we expect profit to intially increase, but eventually decrease, leading to a maximum. We solve the maximization problem by finding the minimum of the negative profit.\n",
    "\n",
    "Profit = value \\* Fy(V) - cost \\* Volume\n",
    "\n",
    "We evaluate Fy from the mole balance as a function of volume. First, we simply plot profit as a function of volume to get a good initial guess for the optimization problem. Then we solve the optimization problem.\n",
    "\n"
   ]
  },
  {
   "cell_type": "code",
   "execution_count": 2,
   "metadata": {
    "collapsed": false,
    "deletable": true,
    "editable": true
   },
   "outputs": [
    {
     "name": "stdout",
     "output_type": "stream",
     "text": [
      "Approximate maximum profit is $13.03/mol at a reactor volume of 4.592 m^3\n"
     ]
    },
    {
     "data": {
      "text/plain": [
       "<matplotlib.text.Text at 0x10d14cf60>"
      ]
     },
     "execution_count": 2,
     "metadata": {},
     "output_type": "execute_result"
    },
    {
     "data": {
      "image/png": "[encoded data removed]",
      "text/plain": [
       "<matplotlib.figure.Figure at 0x104848e10>"
      ]
     },
     "metadata": {},
     "output_type": "display_data"
    }
   ],
   "source": [
    "cost = 2.5  # dollar/min/m**3\n",
    "value = 1.5  # dollar / mol\n",
    "\n",
    "Cx0 = 2.5  # kmol / m**3\n",
    "v0 = 12.0  # m**3 / min\n",
    "\n",
    "k = 1.25  # 1/min\n",
    "\n",
    "\n",
    "def dFdV(F, V):\n",
    "    Fx, Fy = F\n",
    "    Cx = Fx / v0\n",
    "    r = k * Cx**2\n",
    "    rx = -r\n",
    "    ry = r\n",
    "\n",
    "    dFdX = rx\n",
    "    dFdY = ry\n",
    "    return [dFdX, dFdY]\n",
    "\n",
    "Fx0 = Cx0 * v0\n",
    "Fy0 = 0\n",
    "\n",
    "import numpy as np\n",
    "from scipy.integrate import odeint\n",
    "Vspan = np.linspace(0, 15)\n",
    "\n",
    "sol = odeint(dFdV, [Fx0, Fy0], Vspan)\n",
    "\n",
    "Fy = sol[:, 1]\n",
    "\n",
    "P = value * Fy - cost * Vspan\n",
    "\n",
    "imax = np.argmax(P)\n",
    "print('Approximate maximum profit is ${0:1.2f}/mol '\n",
    "      'at a reactor volume of {1:1.3f} m^3'.format(P[imax],\n",
    "                                                   Vspan[imax]))\n",
    "%matplotlib inline\n",
    "import matplotlib.pyplot as plt\n",
    "plt.plot(Vspan, P)\n",
    "plt.xlabel('Reactor volume (m$^3$)')\n",
    "plt.ylabel('Profit ($/mol)')"
   ]
  },
  {
   "cell_type": "markdown",
   "metadata": {},
   "source": [
    "Next we setup a profit function and use fmin to maximize it. The profit function returns the negative of profit, because fmin can only find the minimum value, which is the opposite of the maximum."
   ]
  },
  {
   "cell_type": "code",
   "execution_count": 4,
   "metadata": {
    "collapsed": false,
    "deletable": true,
    "editable": true
   },
   "outputs": [
    {
     "name": "stdout",
     "output_type": "stream",
     "text": [
      "Optimization terminated successfully.\n",
      "         Current function value: -13.030781\n",
      "         Iterations: 13\n",
      "         Function evaluations: 26\n",
      "maximum profit is $13.03/mol at a reactor volume of 4.474 m^3\n"
     ]
    }
   ],
   "source": [
    "def profit(V):\n",
    "    Vspan = np.linspace(0, V)\n",
    "    sol = odeint(dFdV, [Fx0, Fy0], Vspan)\n",
    "    Fy = sol[:, 1][-1]\n",
    "    P = value * Fy - cost * V\n",
    "    return -P\n",
    "\n",
    "from scipy.optimize import fmin\n",
    "Vopt, = fmin(profit, 4.0)\n",
    "\n",
    "print('maximum profit is ${0:1.2f}/mol at a '\n",
    "      'reactor volume of {1:1.3f} m^3'.format(-profit(Vopt),\n",
    "                                              Vopt))"
   ]
  }
 ],
 "metadata": {
  "kernelspec": {
   "display_name": "Python 3",
   "language": "python",
   "name": "python3"
  },
  "language_info": {
   "codemirror_mode": {
    "name": "ipython",
    "version": 3
   },
   "file_extension": ".py",
   "mimetype": "text/x-python",
   "name": "python",
   "nbconvert_exporter": "python",
   "pygments_lexer": "ipython3",
   "version": "3.5.2"
  },
  "org": null
 },
 "nbformat": 4,
 "nbformat_minor": 0
}
