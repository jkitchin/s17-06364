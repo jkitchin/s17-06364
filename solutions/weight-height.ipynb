{
 "cells": [
  {
   "cell_type": "markdown",
   "metadata": {},
   "source": [
    "\n",
    "# ASSIGNED height vs weight\n",
    "\n",
    "The data below is available for the height and weight of many people. You have an idea that these should be linearly correlated. \n",
    "\n",
    "1.  Use linear regression to find the linear relationship $weight = a + b * height$ along with the confidence intervals on the parameters $a$ and $b$.\n",
    "2.  Prepare a plot showing the data and your fit.\n",
    "3.  Discuss the reasonability of your model, and the meaning of the two parameters. Discuss any limitations of the model. Suggest some ways you might improve the model if that is possible.\n",
    "\n"
   ]
  },
  {
   "cell_type": "code",
   "execution_count": 1,
   "metadata": {
    "collapsed": true
   },
   "outputs": [],
   "source": [
    "import numpy as np\n",
    "height = np.array([70, 63, 72, 60, 66, 70, 74, 65, 62, 67, 65, 68])               # inches\n",
    "weight = np.array([155, 150, 180, 135, 156, 168, 178, 160, 132, 145, 139, 152])   # pounds"
   ]
  },
  {
   "cell_type": "markdown",
   "metadata": {},
   "source": [
    "\n",
    "# Solution\n",
    "\n",
    "This is a standard linear regression problem that we use regress to solve.\n",
    "\n"
   ]
  },
  {
   "cell_type": "code",
   "execution_count": 1,
   "metadata": {
    "collapsed": false
   },
   "outputs": [
    {
     "name": "stdout",
     "output_type": "stream",
     "text": [
      "[  3.21565217 -60.74608696]\n",
      "[[   1.87045726    4.56084709]\n",
      " [-150.81054504   29.31837113]]"
     ]
    },
    {
     "data": {
      "image/png": "[encoded data removed]",
      "text/plain": [
       "<matplotlib.figure.Figure>"
      ]
     },
     "metadata": {},
     "output_type": "display_data"
    }
   ],
   "source": [
    "import numpy as np\n",
    "height = np.array([70, 63, 72, 60, 66, 70, 74, 65, 62, 67, 65, 68])               # inches\n",
    "weight = np.array([155, 150, 180, 135, 156, 168, 178, 160, 132, 145, 139, 152])   # pounds\n",
    "\n",
    "X = np.column_stack([height, height**0])\n",
    "from pycse import regress\n",
    "\n",
    "p, pint, se = regress(X, weight, 0.05)\n",
    "print(p)\n",
    "print(pint)\n",
    "\n",
    "%matplotlib inline\n",
    "import matplotlib.pyplot as plt\n",
    "plt.plot(height, weight, 'ko', height, np.dot(X, p),)\n",
    "plt.xlabel('Height (in)')\n",
    "plt.ylabel('Weight (lb)')"
   ]
  },
  {
   "cell_type": "markdown",
   "metadata": {},
   "source": [
    "The idea is that taller people weigh more, and that weight is proportional to height. The intercept should be zero; no height = no weight. The confidence interval includes zero, but the average value is negative! Someone who is 0 inches tall does not \"weigh\" -60 lbs!.\n",
    "\n"
   ]
  }
 ],
 "metadata": {
  "kernelspec": {
   "display_name": "Python 3",
   "language": "python",
   "name": "python3"
  },
  "language_info": {
   "codemirror_mode": {
    "name": "ipython",
    "version": 3
   },
   "file_extension": ".py",
   "mimetype": "text/x-python",
   "name": "python",
   "nbconvert_exporter": "python",
   "pygments_lexer": "ipython3",
   "version": "3.6.0"
  },
  "org": {}
 },
 "nbformat": 4,
 "nbformat_minor": 0
}
