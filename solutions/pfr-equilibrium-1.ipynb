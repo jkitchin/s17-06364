{
 "cells": [
  {
   "cell_type": "markdown",
   "metadata": {},
   "source": [
    "\n",
    "# ASSIGNED PFR with equilibrium\n",
    "\n",
    "The following liquid-phase reaction: $A \\leftrightharpoons B + C$ occurs in a plug flow reactor. If the equilibrium constant is known to be 2198 (dimensionless). What is the equilibrium composition if you start with pure $A$ at a concentration of 2M? Comment on whether your solution makes sense.\n",
    "\n"
   ]
  },
  {
   "cell_type": "code",
   "execution_count": 1,
   "metadata": {
    "collapsed": true
   },
   "outputs": [],
   "source": []
  },
  {
   "cell_type": "markdown",
   "metadata": {},
   "source": [
    "\n",
    "# Solution\n",
    "\n",
    "We need to setup an equation to solve that looks like:\n",
    "\n",
    "$0 = K - C_{B,eq} C_{C,eq} / C_{A,eq} $\n",
    "\n",
    "The equilibrium concentrations by defining the conversion on species A.\n",
    "\n",
    "$C_A = C_{A0}(1 - X)$\n",
    "\n",
    "$C_B = C_C = C_{A0} X$\n",
    "\n",
    "The equilibrium constant is large, so it helps to plot your function to get a good initial guess. Otherwise, your solution tends to fail.\n",
    "\n"
   ]
  },
  {
   "cell_type": "code",
   "execution_count": 1,
   "metadata": {
    "collapsed": false
   },
   "outputs": [
    {
     "name": "stdout",
     "output_type": "stream",
     "text": [
      "Equil. composition: Ca=0.001817 M, Cb=1.998 M, Cc=1.998 M\n",
      "2198.0"
     ]
    },
    {
     "data": {
      "image/png": "[encoded data removed]",
      "text/plain": [
       "<matplotlib.figure.Figure>"
      ]
     },
     "metadata": {},
     "output_type": "display_data"
    }
   ],
   "source": [
    "from scipy.optimize import fsolve\n",
    "\n",
    "K = 2198.0\n",
    "Ca0 = 2.0\n",
    "\n",
    "def objective(X):\n",
    "    Caeq = Ca0 * (1 - X)\n",
    "    Cbeq = Ca0 * X\n",
    "    Cceq = Ca0 * X\n",
    "    return K  - Cceq * Cbeq / Caeq\n",
    "\n",
    "import matplotlib.pyplot as plt\n",
    "import numpy as np\n",
    "\n",
    "# we need to make a good guess for a solution. We plot the objective\n",
    "# function to get an idea.\n",
    "X = np.linspace(0.99, 0.9999)\n",
    "plt.plot(X, objective(X))\n",
    "plt.xlabel('X')\n",
    "plt.ylabel('objective')\n",
    "\n",
    "# To get an initial guess. The solution (f(x) = 0) is near 1.999\n",
    "xeq, = fsolve(objective, 0.999)\n",
    "\n",
    "Caeq = Ca0 * (1 - xeq)\n",
    "Cbeq = Cceq = Ca0 * xeq\n",
    "\n",
    "print('Equil. composition: Ca={:1.4g} M, Cb={:1.4g} M, Cc={:1.4g} M'.format(Caeq, Cbeq, Cceq))\n",
    "print(Cceq * Cbeq / Caeq)   # check for good answer, it should be 2198"
   ]
  },
  {
   "cell_type": "markdown",
   "metadata": {},
   "source": [
    "This answer does make sense because the equilibrium constant is so large. We expect mostly products to be there, and hardly any reactants (but more than zero).\n",
    "\n",
    "Note that the equilibrium constant is given in dimensionless form, but in our objective function we use $K - Cceq * Cbeq / Caeq$. The second term has units of concentration, and is not dimensionless. We were not precise in expressing that as: $K - Cceq/C0 * Cbeq/C0 / (Caeq/C0$ which is correct. Here, C0 is implicitly 1M. If you convert your concentrations to anything else, you have to apply a conversion factor to get the right answer.\n",
    "\n"
   ]
  }
 ],
 "metadata": {
  "kernelspec": {
   "display_name": "Python 3",
   "language": "python",
   "name": "python3"
  },
  "language_info": {
   "codemirror_mode": {
    "name": "ipython",
    "version": 3
   },
   "file_extension": ".py",
   "mimetype": "text/x-python",
   "name": "python",
   "nbconvert_exporter": "python",
   "pygments_lexer": "ipython3",
   "version": "3.5.1"
  },
  "org": null
 },
 "nbformat": 4,
 "nbformat_minor": 0
}
