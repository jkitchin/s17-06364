{
 "cells": [
  {
   "cell_type": "markdown",
   "metadata": {},
   "source": [
    "# ASSIGNED data analysis 1\n",
    "\n",
    "At t=0 some dimethyl ether was injected into a constant volume batch reactor at 504 degC. The pressure was monitored over time. After a very long time the total pressure was 931 mmHg. Assuming the reaction is $A \\rightarrow B + C + D$, complete the following questions.\n",
    "\n",
    "1.  Determine the initial pressure at $t=0$ in the reactor.\n",
    "\n",
    "2.  Assume the reaction is irreversible and determine the reaction order and rate constant with 95% confidence intervals if we assume $r = k P_A^\\alpha$.\n",
    "\n",
    "The following data is provided."
   ]
  },
  {
   "cell_type": "code",
   "execution_count": 1,
   "metadata": {
    "collapsed": true
   },
   "outputs": [],
   "source": [
    "import numpy as np\n",
    "t = np.array([390, 777, 1195, 3155])  # seconds\n",
    "P = np.array([408, 488, 562, 799])    # mmHg"
   ]
  },
  {
   "cell_type": "markdown",
   "metadata": {},
   "source": [
    "## solution\n",
    "\n",
    "After a very long time we can assume that the reaction has gone to completion. This means there are three times as many moles in the reactor, and that the pressure has tripled. Thus, the initial pressure is:"
   ]
  },
  {
   "cell_type": "code",
   "execution_count": 1,
   "metadata": {
    "collapsed": false
   },
   "outputs": [
    {
     "name": "stdout",
     "output_type": "stream",
     "text": [
      "The initial pressure is 310.33 mmHg"
     ]
    }
   ],
   "source": [
    "P0 = 931 / 3\n",
    "print('The initial pressure is {:1.2f} mmHg'.format(P0))"
   ]
  },
  {
   "cell_type": "markdown",
   "metadata": {},
   "source": [
    "To figure out the rate constant, we need to start with a mole balance. Normally we would write:\n",
    "\n",
    "$\\frac{dCa}{dt} = -k C_A^\\alpha$\n",
    "\n",
    "We will work it out this way, and at the end convert to pressure at the end.\n",
    "\n",
    "The total pressure at any conversion is related to the total moles of gas in the reactor. We have at any conversion that $P V = n R T$. The volume was not given, but we can compute the initial concentration from $C_0 = P_0 / R / T$"
   ]
  },
  {
   "cell_type": "code",
   "execution_count": 1,
   "metadata": {
    "collapsed": false
   },
   "outputs": [
    {
     "name": "stdout",
     "output_type": "stream",
     "text": [
      "The initial concentration is 0.0064 mol/L"
     ]
    }
   ],
   "source": [
    "R = 62.36367  #\tL·mmHg·K-1·mol-1\n",
    "T = 504 + 273.15\n",
    "\n",
    "C0 = P0 / R / T\n",
    "print('The initial concentration is {:1.2g} mol/L'.format(C0)) # mol / L"
   ]
  },
  {
   "cell_type": "markdown",
   "metadata": {},
   "source": [
    "Next, we know that for the constant volume batch reactor:\n",
    "\n",
    "$C_A = C_{A0}(1 - X)$\n",
    "\n",
    "and we can treat all three products as the same since they each have a stoichiometric coefficient of one. So:\n",
    "\n",
    "$C_P = 3 C_{A0} X$\n",
    "\n",
    "The total concentration is $C_T = C_A + C_P$, and the total pressure is $C_T R T$.\n",
    "\n",
    "So, $P_T = (C_{A0}  - C_{A0} X + 3 C_{A0} X) R T = (C_{A0} + 2 C_{A0} X) R T$\n",
    "\n",
    "Or alternatively, we can now solve for X at each point, and the corresponding $C_A$.\n",
    "\n",
    "$X = (P_T / R / T - C_{A0}) / (2 C_{A0})$\n",
    "\n",
    "We should add the initial point to the array like this. There are other ways to do this, but they all involve retyping the arrays, and this avoids that."
   ]
  },
  {
   "cell_type": "code",
   "execution_count": 1,
   "metadata": {
    "collapsed": true
   },
   "outputs": [],
   "source": [
    "import numpy as np\n",
    "t1 = np.concatenate([[0], t])\n",
    "P1 = np.concatenate([[P0], P])\n",
    "\n",
    "X = (P1 / R / T - C0) / (2 * C0)\n",
    "\n",
    "Ca = C0 * (1 - X)"
   ]
  },
  {
   "cell_type": "markdown",
   "metadata": {},
   "source": [
    "Now, a plot of log(-dCa/dt} should be linear with an intercept of log(k) and a slope of &alpha;. There is a subtle point here, and that the graph does not look linear!"
   ]
  },
  {
   "cell_type": "code",
   "execution_count": 1,
   "metadata": {
    "collapsed": false
   },
   "outputs": [
    {
     "data": {
      "image/png": "[encoded data removed]",
      "text/plain": [
       "<matplotlib.figure.Figure>"
      ]
     },
     "metadata": {},
     "output_type": "display_data"
    }
   ],
   "source": [
    "from pycse import deriv\n",
    "\n",
    "dCadt = deriv(t1, Ca)\n",
    "\n",
    "%matplotlib inline\n",
    "import matplotlib.pyplot as plt\n",
    "\n",
    "x = np.log(Ca)\n",
    "y = np.log(-dCadt)\n",
    "plt.plot(x, y)\n",
    "plt.xlabel('log(Ca)')\n",
    "plt.ylabel('log(-dCadt)')"
   ]
  },
  {
   "cell_type": "markdown",
   "metadata": {},
   "source": [
    "We have to use some judgment here and remember that numerical derivatives are not that accurate at the end points. So, we will neglect the lower left data point that does not have the same trend as the other points. Another subtle point is that point is not the first point, but actually the last one that corresponds to the lowest concentration. We can use indexing to select all but the last point with x[0:-1].\n",
    "\n",
    "Here is the data we will fit. It looks moderately linear."
   ]
  },
  {
   "cell_type": "code",
   "execution_count": 1,
   "metadata": {
    "collapsed": false
   },
   "outputs": [
    {
     "data": {
      "image/png": "[encoded data removed]",
      "text/plain": [
       "<matplotlib.figure.Figure>"
      ]
     },
     "metadata": {},
     "output_type": "display_data"
    }
   ],
   "source": [
    "plt.plot(x[0:-1], y[0:-1])\n",
    "plt.xlabel('log(Ca)')\n",
    "plt.ylabel('log(-dCadt)')"
   ]
  },
  {
   "cell_type": "markdown",
   "metadata": {},
   "source": [
    "To do the fitting we use regress."
   ]
  },
  {
   "cell_type": "code",
   "execution_count": 1,
   "metadata": {
    "collapsed": false
   },
   "outputs": [
    {
     "name": "stdout",
     "output_type": "stream",
     "text": [
      "k is in the range of [ 0.00037195  0.00555431]\n",
      "alpha is in the range of [ 0.98396255  1.49295965]"
     ]
    }
   ],
   "source": [
    "from pycse import regress\n",
    "\n",
    "x2 = x[0:-1]\n",
    "y2 = y[0:-1]\n",
    "\n",
    "X = np.column_stack([x2**0, x2])\n",
    "\n",
    "p, pint, se = regress(X, y2, alpha=0.5)\n",
    "\n",
    "kint = np.exp(pint[0])\n",
    "alpha_int = pint[1]\n",
    "\n",
    "print('k is in the range of {}'.format(kint))\n",
    "print('alpha is in the range of {}'.format(alpha_int))"
   ]
  },
  {
   "cell_type": "markdown",
   "metadata": {},
   "source": [
    "The &alpha; seems reasonable, it might be approximately a first order reaction. The units on that k are relevant to making the rate have units of mol/L/s with a rate law of $r = k C_A^\\alpha$. To get the requested form of $r = k' P_A^\\alpha$, we just recall that C = P / R / T. In this case we have $k = k' (1/RT)^\\alpha$. The resulting k seems small, but remember that Pa is large compared to Ca."
   ]
  },
  {
   "cell_type": "code",
   "execution_count": 1,
   "metadata": {
    "collapsed": false
   },
   "outputs": [
    {
     "name": "stdout",
     "output_type": "stream",
     "text": [
      "kp = 2.2637245404825164e-09"
     ]
    }
   ],
   "source": [
    "alpha = p[1]\n",
    "kp = np.exp(p[0]) * (1 / R / T)**alpha\n",
    "print('kp = {}'.format(k))"
   ]
  },
  {
   "cell_type": "markdown",
   "metadata": {},
   "source": [
    "We should always see our fit over the whole range of data. You can see here that the fit over the region we fitted is not too unreasonable, and justifies excluding the outlier since it is so far off the model. That could mean our model is not valid in that range, but it could also mean the data is inaccurate in that region."
   ]
  },
  {
   "cell_type": "code",
   "execution_count": 1,
   "metadata": {
    "collapsed": false
   },
   "outputs": [
    {
     "data": {
      "image/png": "[encoded data removed]",
      "text/plain": [
       "<matplotlib.figure.Figure>"
      ]
     },
     "metadata": {},
     "output_type": "display_data"
    }
   ],
   "source": [
    "plt.plot(x, y)\n",
    "plt.plot(x2, X @ p)\n",
    "plt.legend(['data', 'fit'])"
   ]
  },
  {
   "cell_type": "markdown",
   "metadata": {},
   "source": [
    "Finally, let's consider the original data. This is also a good idea. You can see here that we do a pretty good job modeling C\\_A up to about 2000 and then the parameters do not do as good a job at the lower concentrations. That could be because our model is not very good at low concentration of A."
   ]
  },
  {
   "cell_type": "code",
   "execution_count": 1,
   "metadata": {
    "collapsed": false
   },
   "outputs": [
    {
     "data": {
      "image/png": "[encoded data removed]",
      "text/plain": [
       "<matplotlib.figure.Figure>"
      ]
     },
     "metadata": {},
     "output_type": "display_data"
    }
   ],
   "source": [
    "lnk, alpha = p\n",
    "k = np.exp(lnk)\n",
    "\n",
    "def ode(Ca, t):\n",
    "    return -k * Ca**alpha\n",
    "\n",
    "from scipy.integrate import odeint\n",
    "\n",
    "tspan = np.linspace(0, 3300)\n",
    "Casol = odeint(ode, Ca[0], tspan)\n",
    "\n",
    "plt.plot(t1, Ca, 'bo ')\n",
    "plt.plot(tspan, Casol)\n",
    "plt.legend(['data', 'model'])\n",
    "plt.xlabel('time')\n",
    "plt.ylabel('C_A')"
   ]
  },
  {
   "cell_type": "markdown",
   "metadata": {},
   "source": [
    "It is still not clear what the problem is at long time. It could be an insufficient model or inaccurate data."
   ]
  }
 ],
 "metadata": {
  "kernelspec": {
   "display_name": "Python 3",
   "language": "python",
   "name": "python3"
  },
  "language_info": {
   "codemirror_mode": {
    "name": "ipython",
    "version": 3
   },
   "file_extension": ".py",
   "mimetype": "text/x-python",
   "name": "python",
   "nbconvert_exporter": "python",
   "pygments_lexer": "ipython3",
   "version": "3.5.2"
  },
  "org": {}
 },
 "nbformat": 4,
 "nbformat_minor": 0
}
