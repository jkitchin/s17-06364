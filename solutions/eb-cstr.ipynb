{
 "cells": [
  {
   "cell_type": "markdown",
   "metadata": {},
   "source": [
    "# ASSIGNED CSTR and energy balance"
   ]
  },
  {
   "cell_type": "markdown",
   "metadata": {},
   "source": [
    "The production of propylene glycol occurs in a CSTR with a heat exchanger.\n",
    "The reaction is $A + B \\rightarrow C$\n",
    "\n",
    "-   A = propylene oxide\n",
    "-   B = water\n",
    "-   C = propylene glycol\n",
    "\n",
    "Initially the CSTR starts out with water in it at 75 °F in a 67 ft<sup>3</sup> reactor. The feed stream contains 80 lbmol/h of propylene oxide (A), 1000 lbmol of water (B) and 100 lbmol of methanol (M) which is inert.\n",
    "The molar densities of each component are:\n",
    "\n",
    "-   &rho;<sub>A</sub> 0.923 lbmol / ft<sup>3</sup>\n",
    "-   &rho;<sub>B</sub> 3.45 lbmol/ft<sup>3</sup>\n",
    "-   &rho;<sub>M</sub> 1.54 lbmol / ft<sup>3</sup>\n",
    "\n",
    "You can assume these are independent of composition and temperature\n",
    "Heat exchanger data:\n",
    "\n",
    "-   UA = 16000 BTU/h/°F\n",
    "-   coolant flowrate (mc) = 1000 lbmol / hour\n",
    "-   coolant  heat capacity = 18 BTU/lbmol/°F\n",
    "-   coolant temperature (Ta) = 60 °F\n",
    "\n",
    "The rate of heat transfer is given by:"
   ]
  },
  {
   "cell_type": "code",
   "execution_count": null,
   "metadata": {
    "collapsed": false
   },
   "outputs": [],
   "source": [
    "Qdot = mc * Cpb * (Ta - T) * (1 - np.exp(-UA / (mc * Cpb)))"
   ]
  },
  {
   "cell_type": "markdown",
   "metadata": {},
   "source": [
    "Heat capacity data\n",
    "\n",
    "-   Cpa = 35 BTU/lbmol/°F\n",
    "-   Cpb = 18 BTU/lbmol/°F\n",
    "-   Cpc = 46 BTU / lbmol/°F\n",
    "-   Cpm = 19.5 BTU / lbmol/°F\n",
    "\n",
    "The heat of reaction is -36000 BTU/lbmol A, and is assumed to be constant.\n",
    "\n",
    "The rate constant for the reaction is:"
   ]
  },
  {
   "cell_type": "code",
   "execution_count": null,
   "metadata": {
    "collapsed": true
   },
   "outputs": [],
   "source": [
    "k = 16.96e12 * np.exp(-32400.0 / 1.987 / (T + 460.0))"
   ]
  },
  {
   "cell_type": "markdown",
   "metadata": {},
   "source": [
    "The reaction is pseudo-first order in A, so $-rA = k(T) C_A$.\n",
    "\n",
    "The reactants decompose if they get above 170 °F.\n",
    "\n",
    "1.  Estimate the maximum feed temperature you can use to avoid decomposition. Show a plot of the temperature vs. time.\n",
    "\n",
    "2.  **Explain qualitatively why the temperature profile looks the way it does.**\n",
    "\n",
    "3.  Estimate the exit concentration of propylene glycol for the feed temperature you found in part 1.\n",
    "\n",
    "The following data is provided."
   ]
  },
  {
   "cell_type": "code",
   "execution_count": 13,
   "metadata": {
    "collapsed": false
   },
   "outputs": [],
   "source": [
    "import numpy as np\n",
    "from scipy.integrate import odeint\n",
    "from matplotlib import pyplot as plt\n",
    "\n",
    "# molar flows\n",
    "Fa0 = 80.0\n",
    "Fb0 = 1000.0\n",
    "Fc0 = 0.0\n",
    "Fm0 = 100.0\n",
    "\n",
    "# molar densities\n",
    "rhoA = 0.923\n",
    "rhoB = 3.45\n",
    "rhoM = 1.54\n",
    "\n",
    "UA = 16000.\n",
    "Ta = 60.0  # coolant T\n",
    "mc = 1000.0\n",
    "\n",
    "# Heat capacities\n",
    "Cpa = 35\n",
    "Cpb = 18\n",
    "Cpc = 46\n",
    "Cpm = 19.5\n",
    "\n",
    "Hrx = -36000.0\n",
    "\n",
    "V = 67.0   # reactor volume\n",
    "#Tfeed = ???"
   ]
  },
  {
   "cell_type": "markdown",
   "metadata": {},
   "source": [
    "## solution"
   ]
  },
  {
   "cell_type": "markdown",
   "metadata": {},
   "source": [
    "To solve this, we have to setup transient mole and energy balances and integrate them to see what the maximum temperature we achieve is. I suggest you iterate on Tfeed manually to find a value where the maximum doesn't exceed the decomposition temperature anywhere along the profile."
   ]
  },
  {
   "cell_type": "code",
   "execution_count": 1,
   "metadata": {
    "collapsed": true
   },
   "outputs": [],
   "source": [
    "import numpy as np\n",
    "from scipy.integrate import odeint\n",
    "\n",
    "%matplotlib inline\n",
    "from matplotlib import pyplot as plt\n",
    "\n",
    "# molar flows\n",
    "Fa0 = 80.0\n",
    "Fb0 = 1000.0\n",
    "Fc0 = 0.0\n",
    "Fm0 = 100.0\n",
    "\n",
    "# molar densities\n",
    "rhoA = 0.923\n",
    "rhoB = 3.45\n",
    "rhoM = 1.54\n",
    "\n",
    "UA = 16000.\n",
    "Ta = 60.0  # coolant T\n",
    "mc = 1000.0\n",
    "\n",
    "# Heat capacities\n",
    "Cpa = 35\n",
    "Cpb = 18\n",
    "Cpc = 46\n",
    "Cpm = 19.5\n",
    "\n",
    "Hrx = -36000.0\n",
    "\n",
    "V = 67.0   # reactor volume\n",
    "\n",
    "v0 = Fa0 / rhoA + Fb0 / rhoB + Fm0 / rhoM"
   ]
  },
  {
   "cell_type": "markdown",
   "metadata": {},
   "source": [
    "Here are the transient mole and energy balances."
   ]
  },
  {
   "cell_type": "code",
   "execution_count": 2,
   "metadata": {
    "collapsed": false
   },
   "outputs": [
    {
     "name": "stdout",
     "output_type": "stream",
     "text": [
      "The maximum temperature is 169.5 degrees.\n"
     ]
    },
    {
     "data": {
      "text/plain": [
       "<matplotlib.text.Text at 0x10bb8d588>"
      ]
     },
     "execution_count": 2,
     "metadata": {},
     "output_type": "execute_result"
    },
    {
     "data": {
      "image/png": "[encoded data removed]",
      "text/plain": [
       "<matplotlib.figure.Figure at 0x1047c5eb8>"
      ]
     },
     "metadata": {},
     "output_type": "display_data"
    }
   ],
   "source": [
    "# Vary this to find the maximum temperature\n",
    "Tfeed = 84\n",
    "\n",
    "\n",
    "def odes(Y, t):\n",
    "    Na, Nb, Nc, Nm, T = Y\n",
    "\n",
    "    Ca = Na / V\n",
    "    Fa, Fb, Fc, Fm = [n / V * v0 for n in [Na, Nb, Nc, Nm]]\n",
    "\n",
    "    k = 16.96e12 * np.exp(-32400.0 / 1.987 / (T + 460.0))\n",
    "    r = k * Ca\n",
    "    ra = -r\n",
    "    rb = -r\n",
    "    rc = +r\n",
    "\n",
    "    dNadt = Fa0 - Fa + ra * V\n",
    "    dNbdt = Fb0 - Fb + rb * V\n",
    "    dNcdt = Fc0 - Fc + rc * V\n",
    "    dNmdt = Fm0 - Fm\n",
    "    nCp = np.dot([Na, Nb, Nc, Nm], [Cpa, Cpb, Cpc, Cpm])\n",
    "\n",
    "    Qdot = mc * Cpb * (Ta - T) * (1 - np.exp(-UA / (mc * Cpb)))\n",
    "\n",
    "    dTdt = ((Fa0 * Cpa + Fb0 * Cpb + Fm0 * Cpm) * (Tfeed - T)\n",
    "            -Hrx * r * V + Qdot) / nCp\n",
    "    return [dNadt, dNbdt, dNcdt, dNmdt, dTdt]\n",
    "#Y0 = [Fa0*V/v0, Fb0*V/v0, Fc0*V/v0, Fm0*V/v0, 75]\n",
    "#print(Y0)\n",
    "Y0 = [0, 3.45 * V, 0.0, 0.0, 75]\n",
    "#print(Y0)\n",
    "#print(v0)\n",
    "tspan = np.linspace(0, 4, 500)\n",
    "sol = odeint(odes, Y0, tspan)\n",
    "Na, Nb, Nc, Nm, T = sol.T\n",
    "\n",
    "print('The maximum temperature is {0:1.1f} degrees.'.format(max(T)))\n",
    "plt.plot(tspan, T)\n",
    "plt.xlabel('Time')\n",
    "plt.ylabel('T')"
   ]
  },
  {
   "cell_type": "markdown",
   "metadata": {},
   "source": [
    "A feed temperature of about 84 °F is the highest feed temperature that you can use to avoid exceeding the decomposition temperature."
   ]
  },
  {
   "cell_type": "code",
   "execution_count": 4,
   "metadata": {
    "collapsed": false
   },
   "outputs": [
    {
     "name": "stdout",
     "output_type": "stream",
     "text": [
      "Exit concentration is 0.1580122473218003 lbmol / ft^3\n"
     ]
    },
    {
     "data": {
      "image/png": "[encoded data removed]",
      "text/plain": [
       "<matplotlib.figure.Figure at 0x10baf90f0>"
      ]
     },
     "metadata": {},
     "output_type": "display_data"
    }
   ],
   "source": [
    "plt.figure()\n",
    "plt.plot(tspan, Na / V, tspan, Nc / V)\n",
    "plt.xlabel('Time')\n",
    "plt.ylabel('$C_i$')\n",
    "plt.legend(['Ca', 'Cc'])\n",
    "print('Exit concentration is {} lbmol / ft^3'.format((Nc / V)[-1]))"
   ]
  },
  {
   "cell_type": "markdown",
   "metadata": {},
   "source": [
    "2. qualitative explanation"
   ]
  },
  {
   "cell_type": "markdown",
   "metadata": {},
   "source": [
    "The reaction is exothermic, so as it proceeds the reactor should get hotter. Evidently, the temperature rises quickly as the concentration of A rises, and then falls. At this point, the rate of heat generation is compensated by heat transfer out of the reactor. Once the CSTR reaches steady state, the rate of heat generation and removal becomes a constant."
   ]
  },
  {
   "cell_type": "markdown",
   "metadata": {},
   "source": [
    "3. See the exit concentration output from the code above."
   ]
  },
  {
   "cell_type": "code",
   "execution_count": null,
   "metadata": {
    "collapsed": true
   },
   "outputs": [],
   "source": []
  }
 ],
 "metadata": {
  "kernelspec": {
   "display_name": "Python 3",
   "language": "python",
   "name": "python3"
  },
  "language_info": {
   "codemirror_mode": {
    "name": "ipython",
    "version": 3
   },
   "file_extension": ".py",
   "mimetype": "text/x-python",
   "name": "python",
   "nbconvert_exporter": "python",
   "pygments_lexer": "ipython3",
   "version": "3.5.2"
  },
  "org": {}
 },
 "nbformat": 4,
 "nbformat_minor": 0
}
