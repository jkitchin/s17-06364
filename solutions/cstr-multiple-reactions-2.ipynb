{
 "cells": [
  {
   "cell_type": "markdown",
   "metadata": {},
   "source": [
    "\n",
    "# ASSIGNED CSTR multiple reactions - 2\n",
    "\n",
    "The following liquid phase reactions were carried out in a CSTR at 325 K.\n",
    "\n",
    "$3A \\rightarrow B + C$ with $-r_{1,A} = k_{1,A} C_A$, and $k_{1,A} = 7$ 1/min.\n",
    "\n",
    "$2C + A \\rightarrow 3D$, with $r_{2,D} = k_{2,D} C_C^2 C_A$, and $k_{2,D}=3$ (L/mol)<sup>2</sup>/min.\n",
    "\n",
    "$4D + 3C \\rightarrow 3E$ with $r_{3E} = k_{3,E} C_D C_C$ and $k_{3,E}=2$ L/mol/min.\n",
    "\n",
    "The concentrations inside the reactor were measured to be: $C_A=0.1$, $C_B=0.93$, $C_C=0.51$ and $C_D=0.049$  all in mol/L. If the entering volumetric flow is 100 L/min and the inlet concentration of A is 3M, what is the volume of this reactor?\n",
    "\n",
    "Hint: The answer is 400 L.\n",
    "\n"
   ]
  },
  {
   "cell_type": "code",
   "execution_count": 1,
   "metadata": {
    "collapsed": true
   },
   "outputs": [],
   "source": []
  },
  {
   "cell_type": "markdown",
   "metadata": {},
   "source": [
    "\n",
    "# solution\n",
    "\n",
    "To solve this we must evaluate this equation:\n",
    "\n",
    "$V = Fa0 * X / -r_a$\n",
    "\n",
    "We can get the conversion from $X = (F_{A0} - F_A) / F_{A0}$, and $F_A = C_A \\nu$.\n",
    "\n",
    "I find it helpful to convert everything to overall reaction rates like this:\n",
    "\n",
    "$r1 = r_{1a}$ \n",
    "\n",
    "$r2 = r_{2d} / 3$\n",
    "\n",
    "For the net rate of consumption of A we have: $r_A = r_{1A} + r_{2A}$\n",
    "\n",
    "and by stoichiometry we know that $r_{2A} = -r_2$.\n",
    "\n",
    "That is enough to solve the equation.\n",
    "\n"
   ]
  },
  {
   "cell_type": "code",
   "execution_count": 1,
   "metadata": {
    "collapsed": false
   },
   "outputs": [
    {
     "name": "stdout",
     "output_type": "stream",
     "text": [
      "The volume is 399.44 L."
     ]
    }
   ],
   "source": [
    "k1a = 7\n",
    "k2d = 3\n",
    "k3e = 2\n",
    "\n",
    "Ca = 0.1\n",
    "Cb = 0.93\n",
    "Cc = 0.51\n",
    "Cd = 0.049\n",
    "\n",
    "v0 = 100 # L / min\n",
    "Ca0 = 3\n",
    "\n",
    "Fa0 = v0 * Ca0\n",
    "Fa = v0 * Ca\n",
    "\n",
    "X = (Fa0 - Fa) / Fa0\n",
    "\n",
    "# Given species rates\n",
    "r1a = -k1a * Ca\n",
    "r2d = k2d * Cc**2 * Ca\n",
    "r3e = k3e * Cd * Cc\n",
    "\n",
    "# derived reaction rates\n",
    "r1 = r1a / -3\n",
    "r2 = r2d / 3\n",
    "r3 = r3e / 3\n",
    "\n",
    "# rate of A in reaction 2\n",
    "r2a = -r2\n",
    "\n",
    "# net rate of reaction for A\n",
    "ra = r1a + r2a\n",
    "\n",
    "print('The volume is {:1.2f} L.'.format(Fa0 * X / -ra))"
   ]
  },
  {
   "cell_type": "markdown",
   "metadata": {},
   "source": [
    "You might notice that there are four equations, and only one unknown. The four equations come from four mole balances. Actually, you can solve any one of the equations to estimate the volume, but you get slightly different answers.  \n",
    "\n",
    "$0 = F_{a0} - Fa + ra V$\n",
    "\n",
    "$0 = -Fb + rb V$\n",
    "\n",
    "$0 = -Fc + rc V$\n",
    "\n",
    "$0 = -Fd + rd V$\n",
    "\n",
    "In each case we have: $V = (F_i - F_{i0}) / r_i$\n",
    "\n",
    "Let's take a look at these.\n",
    "\n"
   ]
  },
  {
   "cell_type": "code",
   "execution_count": 1,
   "metadata": {
    "collapsed": false
   },
   "outputs": [
    {
     "name": "stdout",
     "output_type": "stream",
     "text": [
      "399.4435338356221\n",
      "398.5714285714285\n",
      "388.32487309644665\n",
      "430.20193151887634"
     ]
    }
   ],
   "source": [
    "Fb = Cb * v0\n",
    "Fc = Cc * v0\n",
    "Fd = Cd * v0\n",
    "\n",
    "Fb0 = Fc0 = Fc0 = 0\n",
    "\n",
    "r1b = r1\n",
    "rb = r1b\n",
    "\n",
    "r1c = r1\n",
    "r2c = -2 * r2\n",
    "r3c = -3 * r3\n",
    "rc = r1c + r2c + r3c\n",
    "\n",
    "r1d = 0\n",
    "r2d = 3 * r2\n",
    "r3d = -4 * r3\n",
    "rd = r1d + r2d + r3d\n",
    "\n",
    "print((Fa - Fa0) / ra)\n",
    "print((Fb - Fb0) / rb)\n",
    "print((Fc - Fc0) / rc)\n",
    "print((Fd - Fd0) / rd)"
   ]
  },
  {
   "cell_type": "markdown",
   "metadata": {},
   "source": [
    "Those are \"about\" 400 L. How is that possible!? Which one is even right? None of them are. They are all estimates of the same thing, and there is uncertainty because the concentrations are not exact (we cannot measure to infinite precision). \n",
    "\n",
    "Let's reframe the question and ask if the volume was 400 L, what do we expect for exit concentrations? We can solve this for precise answers like this:\n",
    "\n"
   ]
  },
  {
   "cell_type": "code",
   "execution_count": 1,
   "metadata": {
    "collapsed": false
   },
   "outputs": [
    {
     "name": "stdout",
     "output_type": "stream",
     "text": [
      "[ 0.09986069  0.9320331   0.51630735  0.04909   ]"
     ]
    }
   ],
   "source": [
    "Fb0, Fc0, Fd0 = 0, 0, 0\n",
    "\n",
    "def objective(C):\n",
    "    Ca, Cb, Cc, Cd = C\n",
    "    \n",
    "    r1a = -k1a * Ca\n",
    "    r2d = k2d * Cc**2 * Ca\n",
    "    r3e = k3e * Cd * Cc\n",
    "\n",
    "    # reaction rates\n",
    "    r1 = r1a / -3\n",
    "    r2 = r2d  / 3\n",
    "    r3 = r3e / 3\n",
    "\n",
    "    # species rates in each reaction\n",
    "    # species C\n",
    "    r1c = r1\n",
    "    r2c = -2 * r2\n",
    "    r3c = -3 * r3\n",
    "\n",
    "    # Species D\n",
    "    r2d = 3 * r2\n",
    "    r3d = -4 * r3\n",
    "\n",
    "    V = 400\n",
    "    \n",
    "    Fa = Ca * v0\n",
    "    Fb = Cb * v0\n",
    "    Fc = Cc * v0\n",
    "    Fd = Cd * v0\n",
    "\n",
    "    ra = r1a + r2a\n",
    "    rb = r1\n",
    "    rc = r1c + r2c + r3c\n",
    "    rd = r2d + r3d\n",
    "\n",
    "    return [Fa0 - Fa + ra * V,\n",
    "            Fb0 - Fb + rb * V,\n",
    "            Fc0 - Fc + rc * V,\n",
    "            Fd0 - Fd + rd * V]\n",
    "\n",
    "print(fsolve(objective, [0.1, 0.93, 0.51, 0.05]))"
   ]
  },
  {
   "cell_type": "markdown",
   "metadata": {},
   "source": [
    "Those compare close, but exactly to what was given: $C_A=0.1$, $C_B=0.93$, $C_C=0.51$ and $C_D=0.049$. The small differences are what lead to the variations in the volumes for each one of the equations. It was not necessary to do all that, it is here to illustrate what is happening.\n",
    "\n"
   ]
  }
 ],
 "metadata": {
  "kernelspec": {
   "display_name": "Python 3",
   "language": "python",
   "name": "python3"
  },
  "language_info": {
   "codemirror_mode": {
    "name": "ipython",
    "version": 3
   },
   "file_extension": ".py",
   "mimetype": "text/x-python",
   "name": "python",
   "nbconvert_exporter": "python",
   "pygments_lexer": "ipython3",
   "version": "3.6.0"
  },
  "org": null
 },
 "nbformat": 4,
 "nbformat_minor": 0
}
