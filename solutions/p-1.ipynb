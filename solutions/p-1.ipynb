{
 "cells": [
  {
   "cell_type": "markdown",
   "metadata": {},
   "source": [
    "- ASSIGNMENT: p-1\n",
    "- POINTS: 3\n",
    "- DUEDATE: 2017-01-31 23:59:59\n",
    "- CATEGORY: homework\n",
    "- RUBRIC: default\n"
   ]
  },
  {
   "cell_type": "markdown",
   "metadata": {},
   "source": [
    "The reaction  $A \\rightarrow B$ is to be carried out in a flow reactor to achieve 99% conversions. In the next sections, compute and compare the volumes of a CSTR and PFR for each scenario. In each case the entering volumetric flow is 10 L/hr and the inlet concentration is 0.5 M in A.\n",
    "\n",
    "For each case we have to solve the CSTR equation:\n",
    "\n",
    "$V = \\frac{F_{A0}X}{-r_A}$\n",
    "\n",
    "And for the PFR:\n",
    "\n",
    "$V = F_{A0} \\int_0^X \\frac{dX}{-r_A}$"
   ]
  },
  {
   "cell_type": "code",
   "execution_count": 5,
   "metadata": {
    "collapsed": true
   },
   "outputs": [],
   "source": [
    "from scipy.integrate import quad"
   ]
  },
  {
   "cell_type": "markdown",
   "metadata": {},
   "source": [
    "# Zeroth order rate law\n",
    "\n",
    "Assume that  $-r_A = k$ with  $k = 0.05$ mol/L/hr."
   ]
  },
  {
   "cell_type": "markdown",
   "metadata": {},
   "source": [
    "## CSTR"
   ]
  },
  {
   "cell_type": "code",
   "execution_count": 2,
   "metadata": {
    "collapsed": true
   },
   "outputs": [],
   "source": [
    "k = 0.05 # mol / L / hr\n",
    "Ca0 = 0.5 # mol / L\n",
    "v0 = 10 # L /hr\n",
    "Fa0 = Ca0 * v0\n",
    "X = 0.99"
   ]
  },
  {
   "cell_type": "code",
   "execution_count": 4,
   "metadata": {
    "collapsed": false
   },
   "outputs": [
    {
     "name": "stdout",
     "output_type": "stream",
     "text": [
      "The CSTR volume is 99 L\n"
     ]
    }
   ],
   "source": [
    "V0 = Fa0 * X / k\n",
    "print('The CSTR volume is {:1.2g} L'.format(V0))"
   ]
  },
  {
   "cell_type": "markdown",
   "metadata": {},
   "source": [
    "\n",
    "# PFR\n",
    "\n"
   ]
  },
  {
   "cell_type": "code",
   "execution_count": 8,
   "metadata": {
    "collapsed": false
   },
   "outputs": [
    {
     "name": "stdout",
     "output_type": "stream",
     "text": [
      "The PFR volume is 99 L\n"
     ]
    }
   ],
   "source": [
    "def zero(X):\n",
    "    return Fa0 / k\n",
    "\n",
    "V_pfr0, err = quad(zero, 0, X)\n",
    "print('The PFR volume is {:1.2g} L'.format(V_pfr0))"
   ]
  },
  {
   "cell_type": "markdown",
   "metadata": {},
   "source": [
    "\n",
    "# First order rate law\n",
    "\n",
    "Assume that  $-r_A = k C_A$ with  $k=0.0001$ 1/s.\n",
    "\n",
    "\n",
    "## CSTR\n",
    "\n",
    "Note the units on k are not consistent with the volumetric flow. We have to adjust the units.\n",
    "\n",
    "$1/s * 60 s/min * 60 min/hr$"
   ]
  },
  {
   "cell_type": "code",
   "execution_count": 10,
   "metadata": {
    "collapsed": false
   },
   "outputs": [
    {
     "name": "stdout",
     "output_type": "stream",
     "text": [
      "The CSTR volume is 2750.00 L\n"
     ]
    }
   ],
   "source": [
    "k = 0.0001 * 60 * 60 # 1/hr\n",
    "Ca = Ca0 * (1 - X)\n",
    "ra = -k * Ca\n",
    "\n",
    "V1 = Fa0 * X / -ra\n",
    "print('The CSTR volume is {:1.2f} L'.format(V1))"
   ]
  },
  {
   "cell_type": "markdown",
   "metadata": {},
   "source": [
    "\n",
    "# PFR\n",
    "\n"
   ]
  },
  {
   "cell_type": "code",
   "execution_count": 12,
   "metadata": {
    "collapsed": false
   },
   "outputs": [
    {
     "name": "stdout",
     "output_type": "stream",
     "text": [
      "The PFR volume is 127.92 L\n"
     ]
    }
   ],
   "source": [
    "def one(X):\n",
    "    Ca = Ca0 * (1 - X)\n",
    "    ra = -k * Ca\n",
    "    return Fa0 / -ra\n",
    "\n",
    "V_pfr1, err = quad(one, 0, X)\n",
    "print('The PFR volume is {:1.2f} L'.format(V_pfr1))"
   ]
  },
  {
   "cell_type": "markdown",
   "metadata": {},
   "source": [
    "\n",
    "# Second order rate law\n",
    "\n",
    "Assume that  $-r_A = k C_A^2$ with  $k=3$ L/mol/hr.\n",
    "\n",
    "\n",
    "## CSTR\n",
    "\n"
   ]
  },
  {
   "cell_type": "code",
   "execution_count": 14,
   "metadata": {
    "collapsed": false
   },
   "outputs": [
    {
     "name": "stdout",
     "output_type": "stream",
     "text": [
      "The CSTR volume is 66000.00 L\n"
     ]
    }
   ],
   "source": [
    "k = 3 # L/ mol/hr\n",
    "Ca = Ca0 * (1 - X)\n",
    "ra = -k * Ca**2\n",
    "V2 = Fa0 * X / -ra\n",
    "print('The CSTR volume is {:1.2f} L'.format(V2))"
   ]
  },
  {
   "cell_type": "markdown",
   "metadata": {},
   "source": [
    "\n",
    "# PFR\n",
    "\n"
   ]
  },
  {
   "cell_type": "code",
   "execution_count": 15,
   "metadata": {
    "collapsed": false
   },
   "outputs": [
    {
     "name": "stdout",
     "output_type": "stream",
     "text": [
      "The PFR volume is 660.00 L\n"
     ]
    }
   ],
   "source": [
    "def two(X):\n",
    "    Ca = Ca0 * (1 - X)\n",
    "    ra = -k * Ca**2\n",
    "    return Fa0 / -ra\n",
    "\n",
    "V_pfr2, err = quad(two, 0, X)\n",
    "print('The PFR volume is {:1.2f} L'.format(V_pfr2))"
   ]
  },
  {
   "cell_type": "markdown",
   "metadata": {},
   "source": [
    "\n",
    "# Discuss the differences in volume for the different reactors\n",
    "\n",
    "Explain why there are, or are not differences, and why the they are different between the different rate laws.\n",
    "\n",
    "In the case of the zero order kinetics, the two reactors are the same size because the rate is independent of the concentration of A.\n",
    "\n",
    "For the first and second order reactions, the volume is smaller in the PFR than in the CSTR because the rate is on average higher in the PFR due to the higher concentration of A in the reactor compared to the CSTR (where it is uniformly low)."
   ]
  }
 ],
 "metadata": {
  "kernelspec": {
   "display_name": "Python 3",
   "language": "python",
   "name": "python3"
  },
  "language_info": {
   "codemirror_mode": {
    "name": "ipython",
    "version": 3
   },
   "file_extension": ".py",
   "mimetype": "text/x-python",
   "name": "python",
   "nbconvert_exporter": "python",
   "pygments_lexer": "ipython3",
   "version": "3.5.1"
  },
  "org": {
   "ASSIGNMENT": "p-1",
   "CATEGORY": "homework",
   "DUEDATE": "2017-01-31 23:59:59",
   "POINTS": "3",
   "RUBRIC": "default"
  }
 },
 "nbformat": 4,
 "nbformat_minor": 0
}
