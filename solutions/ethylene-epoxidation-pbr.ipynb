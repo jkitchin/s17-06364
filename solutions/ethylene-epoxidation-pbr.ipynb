{
 "cells": [
  {
   "cell_type": "markdown",
   "metadata": {},
   "source": [
    "\n",
    "# ASSIGNED Ethylene epoxidation\n",
    "\n",
    "The reaction $C_2H_4 + 0.5 O_2 \\rightarrow C_2H_4O$ occurs at a rate of $r_1=\\frac{k_{1E} P_E P_O^{0.58}}{(1 + K_{1E} PE)^2}$.\n",
    "\n",
    "However, the complete combustion reaction $C_2H_4 + 3 O_2 \\rightarrow 2 CO_2 + 2 H_2O$ also occurs at a rate of $r_2=\\frac{k_{2E} P_E P_O^{0.3}}{(1 + K_{2E} P_E)^2}$.\n",
    "\n",
    "The feed is 12 mol% oxygen, 6 mol% ethylene, with a balance of N<sub>2</sub> at 250 °C and 2 atm. The total molar flow rate is 0.0093 mol/s in a reactor containing 2 kg of catalyst.\n",
    "\n",
    "$k_{1E}=0.15$ mol/kg/s/atm<sup>1.58</sup> and $k_{2E} = 0.0888$ molkg/s/atm<sup>1.3</sup>.\n",
    "\n",
    "$K_{1E}=6.50$ 1/atm and $K_{2E}=4.33$ 1/atm.\n",
    "\n",
    "Since the reactants are fairly dilute, you can neglect the changing volumetric flow rate due to mole changes in the reactions.\n",
    "\n",
    "If these occur in a packed bed reactor, what conversion of ethylene is expected, and what fraction of it is converted to the desired product ethylene oxide?\n",
    "\n",
    "\n",
    "## solution\n",
    "\n",
    "We can neglect the changing volumetric flow in this case. How can we justify that? There is only one reaction that changes mole numbers, and it is only 1/2 a mole per mole reaction. Also, reactants only make up 18% of the feed, and the residual is inert which will not change. So, although the volumetric flow will change, it is probably not by much. You could also include it, it is not wrong to do that.\n",
    "\n",
    "The equations to solve are the packed bed reactor equations:\n",
    "\n",
    "$\\frac{dF_i}{dW} = r_i$.\n",
    "\n",
    "These are coupled through the rate laws which has the pressure of ethylene and oxygen in them. To get these pressures, we will need the mole fraction of each species $y_i = F_i / F_T$ (as an approximation you might also use \n",
    "\n"
   ]
  },
  {
   "cell_type": "code",
   "execution_count": 1,
   "metadata": {
    "collapsed": false
   },
   "outputs": [
    {
     "name": "stdout",
     "output_type": "stream",
     "text": [
      "The conversion of ethylene is 1.00\n",
      "The fraction going to ethylene oxide is 0.43"
     ]
    }
   ],
   "source": [
    "W = 2 # kg\n",
    "\n",
    "T = 250 + 273.15 # K\n",
    "P0 = 2 # atm\n",
    "R = 0.082 \n",
    "\n",
    "Ft0 = 0.0093 # mol / s\n",
    "Ct0 = P0 / R / T\n",
    "\n",
    "v0 = Ft0 / Ct0\n",
    "\n",
    "\n",
    "Fe0 = 0.06 * Ft0\n",
    "Fo0 = 0.12 * Ft0\n",
    "Fno = (1 - 0.12 - 0.06)\n",
    "k1e = 0.15\n",
    "k2e = 0.0888\n",
    "\n",
    "K1e = 6.5\n",
    "K2e = 4.33\n",
    "\n",
    "def ode(F, W):\n",
    "    Fe, Fo, Feo = F\n",
    "\n",
    "    Pe = Fe / Ft0 * P0\n",
    "    Po = Fo / Ft0 * P0\n",
    "\n",
    "    r1 = k1e * Pe * Po**(0.58) / (1 + K1e * Pe)**2\n",
    "    r2 = k2e * Pe * Po**(0.3) / (1 + K2e * Pe)**2\n",
    "\n",
    "    re = -r1 - r2\n",
    "    ro = -0.5 * r1 - 3 * r2\n",
    "    reo = r1\n",
    "    \n",
    "    dfedW = re\n",
    "    dfodW = ro\n",
    "    dfeodW = reo\n",
    "\n",
    "    return [dfedW, dfodW, dfeodW]\n",
    "\n",
    "import numpy as np\n",
    "from scipy.integrate import odeint\n",
    "\n",
    "F0 = [Fe0, Fo0, 0]\n",
    "\n",
    "Wspan = np.linspace(0, 2)\n",
    "\n",
    "sol = odeint(ode, F0, Wspan)\n",
    "\n",
    "Feexit, Foexit, Feoexit = sol.T\n",
    "\n",
    "X = (Fe0 - Feexit[-1]) / Fe0\n",
    "\n",
    "print('The conversion of ethylene is {:1.2f}'.format(X))\n",
    "print('The fraction going to ethylene oxide is {:1.2f}'.format(Feoexit[-1] / Fe0))"
   ]
  },
  {
   "cell_type": "markdown",
   "metadata": {},
   "source": [
    "\n"
   ]
  }
 ],
 "metadata": {
  "kernelspec": {
   "display_name": "Python 3",
   "language": "python",
   "name": "python3"
  },
  "language_info": {
   "codemirror_mode": {
    "name": "ipython",
    "version": 3
   },
   "file_extension": ".py",
   "mimetype": "text/x-python",
   "name": "python",
   "nbconvert_exporter": "python",
   "pygments_lexer": "ipython3",
   "version": "3.6.0"
  },
  "org": {}
 },
 "nbformat": 4,
 "nbformat_minor": 0
}
