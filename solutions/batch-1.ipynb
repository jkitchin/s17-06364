{
 "cells": [
  {
   "cell_type": "markdown",
   "metadata": {},
   "source": [
    "- ASSIGNMENT: batch-1\n",
    "- POINTS: 2\n",
    "- DUEDATE: 2017-01-26 Thu\n",
    "- CATEGORY: homework\n",
    "- RUBRIC: default\n"
   ]
  },
  {
   "cell_type": "markdown",
   "metadata": {},
   "source": [
    "In a batch reactor the concentration of A starts out at 1 M. Ten minutes later, the concentration is 0.6 M. Assuming the reaction occurs at a rate of  $-r_A = k C_A$ ,  use math software to determine what  $k$ must be. Make sure to show how you arrived at the equations you solved.\n",
    "\n"
   ]
  },
  {
   "cell_type": "markdown",
   "metadata": {},
   "source": [
    "The key equation is the mole balance for the constant volume batch reactor:\n",
    "\n",
    "$\\frac{dC_A}{dt} = -k C_A$\n",
    "\n",
    "The solution to this equation is: $C_A = C_{A0} \\exp(-k t)$. We can solve this algebraically or numerically."
   ]
  },
  {
   "cell_type": "code",
   "execution_count": 6,
   "metadata": {
    "collapsed": false
   },
   "outputs": [
    {
     "name": "stdout",
     "output_type": "stream",
     "text": [
      "k = 0.05 1/min\n",
      "k = 0.00085 1/s\n"
     ]
    }
   ],
   "source": [
    "Ca0 = 1 # mol / L\n",
    "Ca = 0.6\n",
    "t = 10 # min\n",
    "\n",
    "import numpy as np\n",
    "k = - np.log(Ca / Ca0) / t\n",
    "print('k = {:1.2f} 1/min'.format(k))\n",
    "\n",
    "# If you used seconds, your rate constant has different units.\n",
    "print('k = {:1.2g} 1/s'.format(k / 60))  # note the g format which ignores insignificant zeros"
   ]
  },
  {
   "cell_type": "markdown",
   "metadata": {},
   "source": [
    "Here is the approach with fsolve."
   ]
  },
  {
   "cell_type": "code",
   "execution_count": 7,
   "metadata": {
    "collapsed": false
   },
   "outputs": [
    {
     "name": "stdout",
     "output_type": "stream",
     "text": [
      "k = 0.05 1/min\n"
     ]
    }
   ],
   "source": [
    "from scipy.optimize import fsolve\n",
    "\n",
    "def objective(k):\n",
    "    return Ca - Ca0 * np.exp(-k * t)\n",
    "\n",
    "ans, = fsolve(objective, 0.1)\n",
    "print('k = {:1.2f} 1/min'.format(ans))"
   ]
  },
  {
   "cell_type": "markdown",
   "metadata": {},
   "source": [
    "\n"
   ]
  }
 ],
 "metadata": {
  "kernelspec": {
   "display_name": "Python 3",
   "language": "python",
   "name": "python3"
  },
  "language_info": {
   "codemirror_mode": {
    "name": "ipython",
    "version": 3
   },
   "file_extension": ".py",
   "mimetype": "text/x-python",
   "name": "python",
   "nbconvert_exporter": "python",
   "pygments_lexer": "ipython3",
   "version": "3.5.2"
  },
  "org": {
   "ASSIGNMENT": "batch-1",
   "CATEGORY": "homework",
   "DUEDATE": "<2017-01-26 Thu>",
   "POINTS": "2",
   "RUBRIC": "default"
  }
 },
 "nbformat": 4,
 "nbformat_minor": 0
}
