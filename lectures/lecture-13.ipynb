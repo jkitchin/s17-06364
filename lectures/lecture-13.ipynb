{
 "cells": [
  {
   "cell_type": "markdown",
   "metadata": {},
   "source": [
    "- KEYWORDS: mechanism, rate law determination, active intermediate\n"
   ]
  },
  {
   "cell_type": "markdown",
   "metadata": {},
   "source": [
    "![img](//cafehayek.com/wp-content/uploads/2014/03/miracle_cartoon.jpg)"
   ]
  },
  {
   "cell_type": "markdown",
   "metadata": {},
   "source": [
    "# Deriving rate laws from mechanisms"
   ]
  },
  {
   "cell_type": "markdown",
   "metadata": {},
   "source": [
    "We now begin considering how complex, non-elementary rate laws are formed. This is often done by observing behavior in some limiting reaction conditions, e.g. at low concentrations, or at high concentrations, and then constructing a reaction mechanism that is consistent with these observations. Chapter 7 in Fogler is the chapter that discusses this topic.\n",
    "For example, For the reaction $(CH_3)_2N_2 \\rightarrow C_2H_6 + N_2$ it has been observed that:\n",
    "\n",
    "-   The reaction is first order in reactants at high pressures\n",
    "-   The reaction is second order in reactants at low pressures\n",
    "\n",
    "In other words, no simple power law kinetic expression can account for a change in reaction order. The rate law is **not** $r = k C_A$ for all conditions (especially low pressure).\n",
    "We consider the possibility that the reaction occurs by a *mechanism* of several steps. These steps will be elementary, so that we can write the rate law for the step by inspection.\n",
    "Let us consider these steps for the overall reaction $A \\rightarrow B + C$\n",
    "\n",
    "\\begin{align*}\n",
    "2A \\rightarrow A + A^*  \\\\\n",
    "A^* + A \\rightarrow 2A  \\\\\n",
    "A^* \\rightarrow B + C\n",
    "\\end{align*}\n",
    "\n",
    "With these rate laws (because we require these reactions to be elementary)\n",
    "\n",
    "\\begin{align*}\n",
    "r_1 = k_1 C_A^2 \\\\\n",
    "r_2 = k_2 C_A^* C_A \\\\\n",
    "r_3 = k_3 C_A^*\n",
    "\\end{align*}\n",
    "\n",
    "We have introduced a new species $A^*$, which we refer to as an active intermediate. This is a short-lived, reactive species formed by collisions with other molecules.\n",
    "We cannot readily measure the concentration of $A^*$, which makes it impossible to determine the rate constants for reactions with $A^*$ as a reactant. Molecular simulations makes in increasingly possible to estimate these. Femtosecond spectroscopy has \"observed\" some of the intermediates ([1999 Nobel Prize](http://www.nobelprize.org/nobel_prizes/chemistry/laureates/1999/)).\n",
    "\n",
    "-   Let us assume that $A^*$ is consumed about as fast as it is produced\n",
    "-   The net rate of production will then be approximately zero\n",
    "\n",
    "\\begin{align}\n",
    "0 &=& r_1 - r_2 - r_3 \\\\\n",
    "  &=& k_1 C_A^2 - k_2 C_A^* C_A - k_3 C_A^*\n",
    "\\end{align}\n",
    "\n",
    "-   We can solve for $C_A^* = \\frac{k_1 C_A^2}{k_3 + k_2 C_A}$\n",
    "-   We can determine $r_B = k_3 C_A^* = \\frac{k_3 k_1 C_A^2}{k_3 + k_2 C_A}$.\n",
    "-   By stoichiometry we have  $r_A = -k_3 C_A^* = \\frac{k_3 k_1 C_A^2}{k_3 + k_2 C_A}$\n",
    "-   For low concentratrations of $A (k_3 \\gg k_2 C_A)$ the rate will appear second order in $A$\n",
    "-   For high concentratrations of $A (k_3 \\ll k_2 C_A)$ the rate will appear first order in $A$\n",
    "-   Let us review what we did\n",
    "    1.  We *assumed* or *postulated* a mechanism of elementary reaction steps involving active intermediates\n",
    "        -   The steps of the mechansim *must* add up to the overall reaction\n",
    "    2.  We set the net rate of production of the active intermediates to zero and used that to solve for the concentration of the active intermediates\n",
    "    3.  We plugged the concentration of the active intermediate into rate expressions for products (or reactants)\n",
    "    4.  We compared the behavior of the resulting rate law to experimental observations for consistency\n",
    "\n",
    "We can say our mechanism is *consistent* with experimental observations. This *does not* prove this is the operating mechanism.\n",
    "\n",
    "-   Other mechanisms may also be consistent\n",
    "-   Chemistry is concerned with getting this right\n",
    "-   We may be satisfied we have a rate law that is reasonably accurate over a broad pressure range\n",
    "\n",
    "The next step would be fitting the model to data to get numerical estimates of the parameters. You may construct multiple mechanisms, and derive many rate laws to see which one fits data the best."
   ]
  },
  {
   "cell_type": "markdown",
   "metadata": {},
   "source": [
    "## An application in ethane cracking"
   ]
  },
  {
   "cell_type": "markdown",
   "metadata": {},
   "source": [
    "-   Adapted from Fogler, 4th ed. Example 7-2 page 387\n",
    "-   Ethane cracks at high temperatures to form hydrogen, ethylene and higher hydrocarbons that are more valuable than ethane\n",
    "\n",
    "$C_2H_6 \\rightarrow H_2 + C_2H_4 + other products$\n",
    "\n",
    "-   Ethane cracks according to the following mechanism\n",
    "\n",
    "\\begin{align*}\n",
    "C_2H_6 \\rightarrow 2 CH_3^{.} \\\\\n",
    "CH_3^{.} + C_2H_6 \\rightarrow CH_4 + C_2H_5^{.}  \\\\\n",
    "C_2H_5^{.} \\rightarrow H^{.} + C_2H_4  \\\\\n",
    "C_2H_6 + H^{.} \\rightarrow C_2H_5^{.} + H_2 \\\\\n",
    "2 C_2H_5^{.} \\rightarrow C_4H_{10}\n",
    "\\end{align*}\n",
    "\n",
    "-   A = $C_2H_6$\n",
    "-   B = $CH_3^{.}$\n",
    "-   C = $C_2H_5^{.}$\n",
    "-   D = $H^{.}$\n",
    "-   E = $C_2H_4$\n",
    "-   With these rate laws\n",
    "\n",
    "\\begin{align*}\n",
    "r_1 = k_1 C_A \\\\\n",
    "r_2 = k_2 C_A C_B \\\\\n",
    "r_3 = k_3 C_C \\\\\n",
    "r_4 = k_4 C_A C_D \\\\\n",
    "r_5 = k_5 C_C^2\n",
    "\\end{align*}\n",
    "\n",
    "-   In this mechanism, any species with a $^{.}$ is a radical (a highly reactive intermediate species) whose concentration cannot be easily measured\n",
    "-   We would like an analytical expression for the rate of consumption of ethane, and the rate of production of ethylene\n",
    "\n",
    "First, we will consider what is required to solve for the concentrations of each species in the way we have considered so far. If we had rate constants for each reaction, we could treat this as a straightforward multiple reaction system.\n",
    "\n",
    "-   The rate constants of these particular steps are known from detailed kinetic studies:\n",
    "    -   $k_1$ = 1.5e-3 1/s\n",
    "    -   $k_2$ = 2.3e6 L/mol/s\n",
    "    -   $k_3$ = 5.7e5 1/s\n",
    "    -   $k_4$ = 9.5e8 L/mol/s\n",
    "    -   $k_5$ = 2.0e9 L/mol/s\n",
    "-   You see immediately that there are orders of magnitude differences in the rate constants\n",
    "    -   These reflect different transition states, changes in entropy, and other factors\n",
    "-   That suggests any set of mole balances would be very stiff\n",
    "-   Let us try to set them up for a batch reactor\n",
    "-   Let the initial concentration of ethane be 0.1 M, and assume constant volume.\n",
    "-   We will need net rates for each species\n",
    "\n",
    "First we start with the given information"
   ]
  },
  {
   "cell_type": "code",
   "execution_count": 1,
   "metadata": {
    "collapsed": true
   },
   "outputs": [],
   "source": [
    "import numpy as np\n",
    "from scipy.integrate import odeint\n",
    "\n",
    "k1 = 1.5e-3   # 1/s\n",
    "k2 = 2.3e6    # L/mol/s\n",
    "k3 = 5.7e4    # 1/s\n",
    "k4 = 9.5e8    # L/mol/s\n",
    "k5 = 2.0e9    # L/mol/s"
   ]
  },
  {
   "cell_type": "markdown",
   "metadata": {},
   "source": [
    "Next, we setup the mole balances. Since we have a constant volume batch reactor these will all look like $\\frac{dC_i}{dt} = r_i$."
   ]
  },
  {
   "cell_type": "code",
   "execution_count": 2,
   "metadata": {
    "collapsed": true
   },
   "outputs": [],
   "source": [
    "def dCdt(C, t):\n",
    "    Ca, Cb, Cc, Cd, Ce = C\n",
    "\n",
    "    r1 = k1 * Ca\n",
    "    r2 = k2 * Ca * Cb\n",
    "    r3 = k3 * Cc\n",
    "    r4 = k4 * Ca * Cd\n",
    "    r5 = k5 * Cc**2\n",
    "\n",
    "    ra = -r1 - r2 - r4\n",
    "    rb = 2*r1 - r2\n",
    "    rc = r2 - r3 + r4 - 2*r5\n",
    "    rd = r3 - r4\n",
    "    re = r3  # this is the ethylene\n",
    "\n",
    "    dCadt = ra\n",
    "    dCbdt = rb\n",
    "    dCcdt = rc\n",
    "    dCddt = rd\n",
    "    dCedt = re\n",
    "    return [dCadt, dCbdt, dCcdt, dCddt, dCedt]"
   ]
  },
  {
   "cell_type": "markdown",
   "metadata": {},
   "source": [
    "Now, we can solve the equations."
   ]
  },
  {
   "cell_type": "code",
   "execution_count": 3,
   "metadata": {
    "collapsed": false
   },
   "outputs": [
    {
     "data": {
      "text/plain": [
       "<matplotlib.text.Text at 0x10f15ac18>"
      ]
     },
     "execution_count": 3,
     "metadata": {},
     "output_type": "execute_result"
    },
    {
     "data": {
      "image/png": "[encoded data removed]",
      "text/plain": [
       "<matplotlib.figure.Figure at 0x10ae7cfd0>"
      ]
     },
     "metadata": {},
     "output_type": "display_data"
    }
   ],
   "source": [
    "C0 = [0.1, 0, 0, 0, 0]\n",
    "\n",
    "tspan = np.linspace(0, 12)\n",
    "sol1 = odeint(dCdt, C0, tspan)\n",
    "\n",
    "%matplotlib inline\n",
    "import matplotlib.pyplot as plt\n",
    "plt.plot(tspan, sol1)\n",
    "plt.legend(['A', 'B', 'C', 'D', 'E'], loc='best')\n",
    "plt.xlabel('Time (s)')\n",
    "plt.ylabel('C (mol/L)')"
   ]
  },
  {
   "cell_type": "markdown",
   "metadata": {},
   "source": [
    "It appears the intermediates are equal to zero. That can not be true, so here we look at them another way with a log plot."
   ]
  },
  {
   "cell_type": "code",
   "execution_count": 1,
   "metadata": {
    "collapsed": false
   },
   "outputs": [
    {
     "data": {
      "image/png": "[encoded data removed]",
      "text/plain": [
       "<matplotlib.figure.Figure>"
      ]
     },
     "metadata": {},
     "output_type": "display_data"
    }
   ],
   "source": [
    "# now plot the intermediates\n",
    "plt.figure()\n",
    "plt.semilogy(tspan, sol1[:, 1:4])\n",
    "plt.legend(['B', 'C', 'D'], loc='best')\n",
    "plt.xlabel('Time (s)')\n",
    "plt.ylabel('C (mol/L)')"
   ]
  },
  {
   "cell_type": "markdown",
   "metadata": {},
   "source": [
    "Now you can see the concentrations are very small.\n",
    "\n",
    "-   These figures shows that only two species in the equations have significant concentrations\n",
    "    -   Ethane which disappears\n",
    "    -   Ethylene which appears\n",
    "    -   We did not consider the formation of butane, but we could have by adding another mole balance\n",
    "\n",
    "-   All reactive intermediates have very low concentrations, so low we must look at them on a log scale.\n",
    "\n",
    "-   Thus these radical species are examples of active intermediates"
   ]
  },
  {
   "cell_type": "markdown",
   "metadata": {},
   "source": [
    "### Deriving a simplified rate law"
   ]
  },
  {
   "cell_type": "markdown",
   "metadata": {},
   "source": [
    "Let us now proceed to derive a rate law that does not contain an active intermediate species.\n",
    "\n",
    "-   We seek an expression for $r_E$\n",
    "    -   $r_E = k_3 C_C$\n",
    "    -   But we need to replace $C_C$ with species that are measurable\n",
    "-   We will set the net rates of each active intermediate to zero\n",
    "\n",
    "\\begin{align}\n",
    "r_B = 0 &=& 2r_1 - r_2 \\\\\n",
    "r_C = 0 &=& r_2 - r_3 - 2r_5 \\\\\n",
    "r_D = 0 &=& r_3 - r_4\n",
    "\\end{align}\n",
    "\n",
    "-   Now, we need to solve for each reactive intermediate concentration\n",
    "-   It takes some algebra to arrive at\n",
    "\n",
    "\\begin{align}\n",
    "C_B &=& \\frac{2k_1}{k_2} \\\\\n",
    "C_C &=& \\left(\\frac{k_1}{k_5} C_A \\right )^{1/2} \\\\\n",
    "C_D &=& \\frac{k_3}{k_4}\\left(\\frac{k_1}{k_5}\\right)^{1/2} C_A^{1/2}\n",
    "\\end{align}\n",
    "\n",
    "-   Now we can express the rate of production of ethylene (E) as\n",
    "\n",
    "$ r_E = k_3 C_C = k_3 \\left(\\frac{k_1}{k_5} C_A \\right )^{1/2} $\n",
    "\n",
    "-   To use this in a mole balance, we also need $C_A$\n",
    "\n",
    "\\begin{align}\n",
    "r_A &=& -r_1 - r_2 - r_4 \\\\\n",
    "    &=& -k_1 C_A - k_2 C_A C_B - k_4 C_A C_D \\\\\n",
    "    &=& -k_1 C_A - k_2 C_A \\frac{2k_1}{k_2} - k_4 \\frac{k_3}{k_4}\\left(\\frac{k_1}{k_5}\\right)^{1/2} C_A^{-1/2}\\\\\n",
    "    &=& -3 k_1 C_A - k_3 \\left(\\frac{k_1}{k_5} C_A\\right)^{1/2}\n",
    "\\end{align}\n",
    "\n",
    "-   Now we have an analytical expression for the rate of consumption of ethane!\n",
    "-   It is complicated, and nonlinear in rate constants\n",
    "-   We probably could not fit 5 parameters to data\n",
    "-   We would normally consider lumping parameters\n",
    "    -   For example, $-r_A = k_1' C_A + k_2' C_A^{1/2}$\n",
    "    -   $k_2' = k_3 \\left ( \\frac{k_1}{k_5}\\right )^{1/2}$\n",
    "-   The lumped parameters are made up of rate constants from elementary steps\n",
    "\n",
    "**exercise**: Work out all the algebra to confirm the results derived above.\n",
    "\n",
    "-   Now, we work out the example with the simplified rate law."
   ]
  },
  {
   "cell_type": "code",
   "execution_count": 16,
   "metadata": {
    "collapsed": false
   },
   "outputs": [
    {
     "data": {
      "text/plain": [
       "<matplotlib.text.Text at 0x10fdf80b8>"
      ]
     },
     "execution_count": 16,
     "metadata": {},
     "output_type": "execute_result"
    },
    {
     "data": {
      "image/png": "[encoded data removed]",
      "text/plain": [
       "<matplotlib.figure.Figure at 0x10fc25b38>"
      ]
     },
     "metadata": {},
     "output_type": "display_data"
    }
   ],
   "source": [
    "def dC2dt(C, t):\n",
    "    Ca, Ce = C\n",
    "\n",
    "    ra = -k1 * Ca - k2 * Ca * 2 * k1 / k2 - k3 * (k1 / k5 * Ca)**0.5\n",
    "    re = k3 * (k1 / k5 * Ca)**0.5\n",
    "\n",
    "    dCadt = ra\n",
    "    dCedt = re\n",
    "    return [dCadt, dCedt]\n",
    "\n",
    "C0 = [0.1, 0]\n",
    "\n",
    "tspan = np.linspace(0, 12)\n",
    "sol2 = odeint(dC2dt, C0, tspan)\n",
    "A, E = sol2.T\n",
    "plt.plot(tspan, A)\n",
    "plt.plot(tspan, E)\n",
    "plt.plot(tspan, sol1[:, 0], 'r--')\n",
    "plt.plot(tspan, sol1[:, -1], 'k--')\n",
    "plt.legend(['A', 'E', 'A_full', 'E_full'], loc='best')\n",
    "plt.xlabel('Time (s)')\n",
    "plt.ylabel('C (mol/L)')"
   ]
  },
  {
   "cell_type": "markdown",
   "metadata": {},
   "source": [
    "-   You can see the concentration profiles for the full model and the derived rate law are visually indistinguishable\n",
    "\n",
    "-   The new rate law does not have any active intermediates in it\n",
    "\n",
    "-   The new rate law is an approximation (a very good one in this case) of the real system\n",
    "\n",
    "-   You need data to evaluate the utility of a proposed rate law"
   ]
  },
  {
   "cell_type": "markdown",
   "metadata": {},
   "source": [
    "# Summary"
   ]
  },
  {
   "cell_type": "markdown",
   "metadata": {},
   "source": [
    "-   When there are many steps in a mechanism, not all of them are kinetically important.\n",
    "-   That means we can often find simple expressions that accurately describe the kinetics\n",
    "    -   We have to be careful that we validate the mechanism for the conditions we use them\n",
    "-   A common approach to deriving rate laws is the use of *active intermediates*\n",
    "    -   We postulate a mechanism that involves active intermediates in *elementary* reactions\n",
    "    -   We set the net rate of production of each active intermediate to 0.\n",
    "    -   Then use algebra to eliminate the unknown concentrations in the rate expression of the desired species."
   ]
  }
 ],
 "metadata": {
  "kernelspec": {
   "display_name": "Python 3",
   "language": "python",
   "name": "python3"
  },
  "language_info": {
   "codemirror_mode": {
    "name": "ipython",
    "version": 3
   },
   "file_extension": ".py",
   "mimetype": "text/x-python",
   "name": "python",
   "nbconvert_exporter": "python",
   "pygments_lexer": "ipython3",
   "version": "3.5.2"
  },
  "org": {
   "KEYWORDS": "mechanism, rate law determination, active intermediate"
  }
 },
 "nbformat": 4,
 "nbformat_minor": 0
}
