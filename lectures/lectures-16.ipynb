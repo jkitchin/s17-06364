{
 "cells": [
  {
   "cell_type": "markdown",
   "metadata": {},
   "source": [
    "- KEYWORDS: energy balance, batch\n"
   ]
  },
  {
   "cell_type": "code",
   "execution_count": 1,
   "metadata": {
    "collapsed": false
   },
   "outputs": [
    {
     "data": {
      "text/html": [
       "<img src=\"https://usercontent2.hubstatic.com/209665_f520.jpg\" width=\"300\"/>"
      ],
      "text/plain": [
       "<IPython.core.display.Image object>"
      ]
     },
     "metadata": {},
     "output_type": "display_data"
    }
   ],
   "source": [
    "from IPython.core.display import Image, display\n",
    "display(Image(url='https://usercontent2.hubstatic.com/209665_f520.jpg', width=300))"
   ]
  },
  {
   "cell_type": "markdown",
   "metadata": {},
   "source": [
    "-   There are no flows in the batch reactor\n",
    "\n",
    "-   The mole balances are\n",
    "\n",
    "$\\frac{dn_j}{dt} = r_j V $\n",
    "\n",
    "-   We assume the volume is constant and pressure is constant\n",
    "    -   This is practically valid for liquid phase reactions and constant mole reactions\n",
    "\n",
    "-   The energy balance becomes\n",
    "\n",
    "$\\sum N_j C_{p,j} \\frac{dT}{dt} = - \\sum H_j \\alpha_j r V + \\dot{W}_s + \\dot{Q} $\n",
    "\n",
    "-   Recall that $\\Delta H_{rx} = \\sum \\alpha_j H_j$\n",
    "\n",
    "-   This leads to\n",
    "\n",
    "$\\sum N_j C_{p,j} \\frac{dT}{dt} = - \\Delta H_{rx} r V + \\dot{W}_s + \\dot{Q} $"
   ]
  },
  {
   "cell_type": "markdown",
   "metadata": {},
   "source": [
    "## Constant volume, adiabatic batch reactor"
   ]
  },
  {
   "cell_type": "markdown",
   "metadata": {},
   "source": [
    "-   Let us consider a constant volume, adiabatic batch reactor\n",
    "    -   Adiabatic means no heat enters or leaves the reactor, $\\dot{Q} = 0$\n",
    "    -   We will neglect any shaft work $\\dot{W}_S=0$\n",
    "-   We consider the reaction $A + B \\rightarrow C$\n",
    "    -   Since this is a liquid reaction, we assume constant pressure\n",
    "-   The reaction mixture starts at 27 °C with initial concentrations of $A$ and $B$ at 2 M, and no C\n",
    "-   The heat of reaction is -10 kcal/mol\n",
    "-   The partial molar heat capacities are $\\overline{C}_{pA} = \\overline{C}_{pB} = 20$ cal/(mol K) and  $\\overline{C}_{pC} = 40$ cal/mol/K.\n",
    "-   The rate constant is $k = 0.01725$ L/mol/min at 27 °C  and the activation energy is 1500 cal/mol/K\n",
    "-   The reactor volume is 1200 L\n",
    "-   We will neglect the temperature dependence of the rate constant and reaction enthalpy\n",
    "-   We will assume the reaction is liquid phase and it is incompressible\n",
    "-   We want to plot the temperature and concentration vs. time\n",
    "-   Since the reactor is adiabatic $\\dot{Q}=0$\n",
    "-   We are left with this for the energy balance for the constant volume, adiabatic batch reactor:\n",
    "\n",
    "<div class=\"alert alert-warning\">\n",
    "$$\\frac{dT}{dt} =  \\frac{-\\Delta H_R\\; r\\; V_r}{ \\sum N_i C_{p,i} } $$\n",
    "</div>\n",
    "\n",
    "-   We can relate the number of moles of $A$, $B$ and $C$ via the reaction extent and stoichiometry.\n",
    "\n",
    "We start with the input data. Note there will be more of this than for isothermal reactor problems because we need all the thermal properties."
   ]
  },
  {
   "cell_type": "code",
   "execution_count": 1,
   "metadata": {
    "collapsed": true
   },
   "outputs": [],
   "source": [
    "import numpy as np\n",
    "from scipy.integrate import odeint\n",
    "\n",
    "V = 1200.0 # L\n",
    "T0 = 273.15 + 27\n",
    "CA0 = CB0 = 2.0\n",
    "CC0 = 0.0\n",
    "\n",
    "# heat capacities\n",
    "cpa = cpb = 20.0  # cal/mol/K\n",
    "cpc = 40.0        # cal/mol/K\n",
    "\n",
    "# rate constants\n",
    "k0 = 0.01725      # L / mol / min at 27 °C\n",
    "E = 1500.0        # cal/mol\n",
    "R = 1.987         # cal/mol/K\n",
    "dH = -10000.0     # cal/mol"
   ]
  },
  {
   "cell_type": "markdown",
   "metadata": {},
   "source": [
    "The coupled mole and energy balance will also be more involved as we need to consider the temperature dependence of the rates."
   ]
  },
  {
   "cell_type": "code",
   "execution_count": 1,
   "metadata": {
    "collapsed": true
   },
   "outputs": [],
   "source": [
    "def adiabatic_batch(Y, t):\n",
    "    na, T = Y\n",
    "\n",
    "    # extent based on moles\n",
    "    xi = (na - CA0 * V) / -1.0\n",
    "    nb = CB0 * V - xi\n",
    "    nc = CC0 * V + xi\n",
    "\n",
    "    # concentrations\n",
    "    Ca = na / V\n",
    "    Cb = nb / V\n",
    "\n",
    "    # temperature dependent rate constant\n",
    "    k = k0 * np.exp(-E / R * (1.0 / T - 1.0 / T0))\n",
    "    r = k * Ca * Cb\n",
    "\n",
    "    dnadt = -r * V\n",
    "\n",
    "    # energy balance\n",
    "    dTdt = -(dH * r * V)/(na * cpa + nb * cpb + nc * cpc)\n",
    "    return [dnadt, dTdt]"
   ]
  },
  {
   "cell_type": "markdown",
   "metadata": {},
   "source": [
    "Finally, solve the problem."
   ]
  },
  {
   "cell_type": "code",
   "execution_count": 1,
   "metadata": {
    "collapsed": false
   },
   "outputs": [
    {
     "data": {
      "image/png": "[encoded data removed]",
      "text/plain": [
       "<matplotlib.figure.Figure>"
      ]
     },
     "metadata": {},
     "output_type": "display_data"
    }
   ],
   "source": [
    "# initial conditions\n",
    "Y0 = [V * CA0, T0]\n",
    "\n",
    "tspan = np.linspace(0, 200)\n",
    "sol = odeint(adiabatic_batch, Y0, tspan)\n",
    "\n",
    "%matplotlib inline\n",
    "import matplotlib.pyplot as plt\n",
    "plt.plot(tspan, sol[:,1])\n",
    "plt.xlabel('Time (min)')\n",
    "plt.ylabel('Temperature (K)')"
   ]
  },
  {
   "cell_type": "markdown",
   "metadata": {},
   "source": [
    "-   You can see that because of the exothermic reaction, the temperature increases signifcantly, from about 300K to almost 550 K.\n",
    "    -   This increases the rate constant and the reaction rate\n",
    "\n",
    "-   The temperature rise begins to slow because the reaction rate slows down due to consumption of reactants\n",
    "\n",
    "-   Considering  a solvent like water would boil at about 373K there may be a safety concern here as the pressure would then start to significantly increase in the reactor"
   ]
  },
  {
   "cell_type": "markdown",
   "metadata": {},
   "source": [
    "## Batch with heat exchanger"
   ]
  },
  {
   "cell_type": "markdown",
   "metadata": {},
   "source": [
    "-   Let us reconsider the last example, but now add a heat exchanger.\n",
    "    -   This could be as simple as immersing the batch reactor in a coolant that is well-stirred and at constant temperature\n",
    "    -   Or it could be a heat exchanger immersed in the reactor\n",
    "-   Now $\\dot{Q} \\ne 0$\n",
    "-   We need a model for the heat exchange\n",
    "-   A common model is $\\dot{Q} = Ua(T_{coolant} - T)$\n",
    "    -   $Ua$ is an overall heat transfer coefficient with units energy / volume / time\n",
    "    -   If $T > T_{coolant}$ there is loss of heat from the reactor\n",
    "    -   We write the heat transfer this way so we can *add* $\\dot{Q}$ in the energy balance\n",
    "-   Let $UA = 5000$ cal/L/min, and the temperature of the coolant be 77 °C\n",
    "-   The energy balance becomes\n",
    "\n",
    "<div class=\"alert alert-warning\">\n",
    "$$\\frac{dT}{dt} =  \\frac{-\\Delta H_R r V_r + Ua(T_{coolant} - T)}{ \\sum n_i C_{p,i} } $$\n",
    "</div>"
   ]
  },
  {
   "cell_type": "code",
   "execution_count": 1,
   "metadata": {
    "collapsed": true
   },
   "outputs": [],
   "source": [
    "import numpy as np\n",
    "from scipy.integrate import odeint\n",
    "\n",
    "V = 1200.0 # L\n",
    "T0 = 273.15 + 27\n",
    "CA0 = CB0 = 2.0\n",
    "CC0 = 0.0\n",
    "\n",
    "cpa = cpb = 20.0  # cal/mol/K\n",
    "cpc = 40.0        # cal/mol/K\n",
    "\n",
    "k0 = 0.01725    # L / mol / min at 27 degC\n",
    "E = 1500.0     # cal/mol\n",
    "R = 1.987       # cal/mol/K\n",
    "dH = -10000.0  # cal/mol\n",
    "\n",
    "Ua = 5000.0  # overall heat transfer coefficient\n",
    "Tcoolant = 77 + 273.15  # coolant temperature"
   ]
  },
  {
   "cell_type": "markdown",
   "metadata": {},
   "source": [
    "Here is the adapted mole and energy balance."
   ]
  },
  {
   "cell_type": "code",
   "execution_count": 1,
   "metadata": {
    "collapsed": true
   },
   "outputs": [],
   "source": [
    "def batch(Y, t):\n",
    "    na, T = Y\n",
    "    xi = (na - CA0*V) / -1.0\n",
    "    nb = CB0 * V - xi\n",
    "    nc = CC0 * V + xi\n",
    "\n",
    "    Ca = na / V\n",
    "    Cb = nb / V\n",
    "    k = k0 * np.exp(-E / R * (1.0 / T - 1.0 / T0))\n",
    "    r = k * Ca * Cb\n",
    "    ra = -r\n",
    "\n",
    "    Qdot = Ua * (Tcoolant - T)\n",
    "\n",
    "    dnadt = ra * V\n",
    "    dTdt = (-dH * r * V + Qdot)/(na * cpa + nb * cpb + nc * cpc)\n",
    "    return [dnadt, dTdt]"
   ]
  },
  {
   "cell_type": "markdown",
   "metadata": {},
   "source": [
    "And the integrated solution."
   ]
  },
  {
   "cell_type": "code",
   "execution_count": 1,
   "metadata": {
    "collapsed": false
   },
   "outputs": [
    {
     "data": {
      "image/png": "[encoded data removed]",
      "text/plain": [
       "<matplotlib.figure.Figure>"
      ]
     },
     "metadata": {},
     "output_type": "display_data"
    }
   ],
   "source": [
    "Y0 = [V * CA0, T0]\n",
    "\n",
    "tspan = np.linspace(0, 200)\n",
    "sol = odeint(batch, Y0, tspan)\n",
    "import matplotlib.pyplot as plt\n",
    "plt.plot(tspan, sol[:,1])\n",
    "plt.xlabel('Time (min)')\n",
    "plt.ylabel('Temperature (K)')"
   ]
  },
  {
   "cell_type": "markdown",
   "metadata": {},
   "source": [
    "-   Note that the temperature initially rises\n",
    "    -   Partly because of the exothermic reaction occuring\n",
    "    -   Partly because the initial temperature is lower than $T_{coolant}$ so there is heat transferred into the reactor\n",
    "\n",
    "-   But it does not rise as quickly or as high as the adiabatic case\n",
    "\n",
    "-   After a while the temperature begins to drop\n",
    "    -   Because we are removing heat whenever $T > T_{coolant}$\n",
    "\n",
    "-   Over time the temperature will approach $T_{coolant}$\n",
    "\n",
    "-   We might still have to consider safety concerns here\n",
    "    -   There is still a 100 K increase in temperature\n",
    "    -   Using a heat exchanger with larger $Ua$ would help reduce that\n",
    "    -   Using a lower temperature in the coolant would help that\n",
    "    -   Using lower initial concentration would help that\n",
    "    -   Diluting with a high heat capacity solvent would help that"
   ]
  },
  {
   "cell_type": "markdown",
   "metadata": {},
   "source": [
    "# Summary"
   ]
  },
  {
   "cell_type": "markdown",
   "metadata": {},
   "source": [
    "-   The energy balance adds one additional equation, and many additional data requirements\n",
    "    -   heat capacities, activation energies, reaction enthalpies, heat transfer coefficients"
   ]
  }
 ],
 "metadata": {
  "kernelspec": {
   "display_name": "Python 3",
   "language": "python",
   "name": "python3"
  },
  "language_info": {
   "codemirror_mode": {
    "name": "ipython",
    "version": 3
   },
   "file_extension": ".py",
   "mimetype": "text/x-python",
   "name": "python",
   "nbconvert_exporter": "python",
   "pygments_lexer": "ipython3",
   "version": "3.5.2"
  },
  "org": {
   "KEYWORDS": "energy balance, batch"
  }
 },
 "nbformat": 4,
 "nbformat_minor": 0
}
