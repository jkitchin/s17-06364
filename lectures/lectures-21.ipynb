{
 "cells": [
  {
   "cell_type": "markdown",
   "metadata": {},
   "source": [
    "- KEYWORDS: mass transfer\n"
   ]
  },
  {
   "cell_type": "markdown",
   "metadata": {},
   "source": [
    "![img](//techintranslation.com/wp-content/uploads/2010/06/picture-2.png)"
   ]
  },
  {
   "cell_type": "markdown",
   "metadata": {},
   "source": [
    "# Generalize the internal effectiveness factor to different shapes, reaction orders, etc&#x2026;"
   ]
  },
  {
   "cell_type": "markdown",
   "metadata": {},
   "source": [
    "You may find [these notes](http://jbrwww.che.wisc.edu/home/jbraw/chemreacfun/ch7/slides-masswrxn.pdf) helpful to augment the discussion here."
   ]
  },
  {
   "cell_type": "markdown",
   "metadata": {},
   "source": [
    "# Different particle shapes"
   ]
  },
  {
   "cell_type": "markdown",
   "metadata": {},
   "source": [
    "In the previous example we derived the effectiveness factor for a spherical particle and first order reaction. These features determined the solution because the way we made the equations dimensionless was determined by a shape factor specific to the sphere, and the dimensionless Thiele modulus implicitly included the reaction rate law.\n",
    "\n",
    "-   For other particle shapes, e.g. slabs or cylinders, we would use different characteristic lengths\n",
    "-   For first order reactions, there are still analytical solutions available\n",
    "-   Sphere $ \\eta = \\frac{1}{\\Phi}  \\left [\\frac{1}{\\tanh 3 \\Phi} - \\frac{1}{3 \\Phi} \\right]$\n",
    "-   Cylinder $ \\eta = \\frac{1}{\\Phi} \\frac{I_1(2 \\Phi)}{I_0(2\\Phi)}   $\n",
    "-   Slab $ \\eta = \\frac{\\tanh \\Phi}{\\Phi} $\n",
    "\n",
    "These solutions look functionally different, but they are actually quite similar:"
   ]
  },
  {
   "cell_type": "code",
   "execution_count": 1,
   "metadata": {
    "collapsed": false
   },
   "outputs": [
    {
     "data": {
      "image/png": "[encoded data removed]",
      "text/plain": [
       "<matplotlib.figure.Figure>"
      ]
     },
     "metadata": {},
     "output_type": "display_data"
    }
   ],
   "source": [
    "import numpy as np\n",
    "from scipy.special import iv\n",
    "%matplotlib inline\n",
    "import matplotlib.pyplot as plt\n",
    "\n",
    "Phi = np.logspace(-2, 2)\n",
    "eta_sphere = 1.0 / Phi * (1.0 / np.tanh(3 * Phi) - 1.0 / (3 * Phi))\n",
    "eta_cylinder = 1 / Phi * iv(1, 2 * Phi) / iv(0, 2 * Phi)\n",
    "eta_slab = np.tanh(Phi) / Phi\n",
    "\n",
    "plt.loglog(Phi, eta_sphere, label='sphere')\n",
    "plt.loglog(Phi, eta_cylinder, label='cylinder')\n",
    "plt.loglog(Phi, eta_slab, label='slab')\n",
    "\n",
    "plt.loglog(Phi, 1.0 / Phi, 'k--', label='1/$\\Phi$')\n",
    "plt.loglog(Phi,np.ones(shape=Phi.shape), 'b--', label='1')\n",
    "plt.legend()\n",
    "plt.xlabel('$\\Phi$')\n",
    "plt.ylabel('$\\eta$')"
   ]
  },
  {
   "cell_type": "markdown",
   "metadata": {},
   "source": [
    "See scipy.special.iv [http://docs.scipy.org/doc/scipy-0.14.0/reference/generated/scipy.special.iv.html>](http://docs.scipy.org/doc/scipy-0.14.0/reference/generated/scipy.special.iv.html>)for details on the Modified Bessel function of the first kind of real order.\n",
    "\n",
    "-   The main point is that the main effects are not that sensitive to the particle geometry, with errors less than 20% in the effectiveness factor.\n",
    "\n",
    "-   **So, you should ignore the shape, and use the effectiveness factor for a sphere.**"
   ]
  },
  {
   "cell_type": "markdown",
   "metadata": {},
   "source": [
    "# Different reaction orders"
   ]
  },
  {
   "cell_type": "markdown",
   "metadata": {},
   "source": [
    "-   Recall that the Thiele modulus contains an implicit reaction order in it, and we derived the solution for a first order reaction.\n",
    "-   Let us consider the effectiveness factor now for reaction orders other than one.\n",
    "-   For a spherical particle we have:\n",
    "\n",
    "$ D_A \\frac{1}{r^2} \\frac{d}{dr} \\left( r^2 \\frac{d C_A}{dr}\\right) - kC_A^n = 0 $\n",
    "\n",
    "-   Let us again make the equation dimensionless.\n",
    "-   This leads to:\n",
    "\n",
    "$ \\frac{1}{\\overline{r}^2} \\frac{d}{d\\overline{r}}\\left(\\overline{r}^2\\frac{d\\overline{c}}{d\\overline{r}}\\right) - \\frac{k C_{As}^{n-1}a^2}{D_A} \\overline{c}^n = 0 $\n",
    "\n",
    "-   with the new boundary conditions\n",
    "\n",
    "$\\overline{c}(\\overline{r}=3) = 1 $\n",
    "$ \\frac{d\\overline{c}}{d\\overline{r}}=0 \\textrm{ at } \\overline{r}=0 $\n",
    "\n",
    "-   Let us for now define  $\\widetilde{\\Phi}^2 = \\frac{k C_{As}^{n-1}a^2}{D_A}$\n",
    "    -   $n$ is the reaction order\n",
    "    -   Note this depends on the surface concentration\n",
    "-   We write out the differential equation as:\n",
    "\n",
    "$\\frac{d^2\\overline{c}}{d\\overline{r}^2} = -\\frac{2}{\\overline{r}}\\frac{d\\overline{c}}{d\\overline{r}} + \\widetilde{\\Phi}^2\\overline{c}^n$\n",
    "\n",
    "-   This is a particularly useful form because there is a function in pycse to solve this kind of BVP.\n",
    "-   The effectiveness factor is defined as:\n",
    "\n",
    "$\\eta = \\frac{1}{9}\\int\\limits_0^3 \\overline{c}\\overline{r}^2 dr$\n",
    "\n",
    "-   or alternatively:\n",
    "\n",
    "$\\eta = \\frac{1}{\\widetilde{\\Phi}^2}\\frac{d\\overline{c}}{d\\overline{r}}|_{r=3} = 0 $\n",
    "\n",
    "-   The integral definition is more accurate to evaluate\n",
    "-   Rather than use the shooting method (which does not work well for this nonlinear equation) we use a finite difference method (BVP\\_nl) available in `pycse`\n",
    "-   This is a nonlinear BVP, so we have to provide an initial guess for the solution. We will guess the concentration at the origin, and then use a polynomial function with slope=0 at the origin as an initial guess\n",
    "-   See [http://jbrwww.che.wisc.edu/home/jbraw/chemreacfun/fig-html/fig-7-9.html>](http://jbrwww.che.wisc.edu/home/jbraw/chemreacfun/fig-html/fig-7-9.html>)for an alternative approach.\n",
    "\n",
    "Note this takes longer than usual to run.\n",
    "We consider three reaction orders here. This code takes a while to run (maybe a minute)."
   ]
  },
  {
   "cell_type": "code",
   "execution_count": 2,
   "metadata": {
    "collapsed": false
   },
   "outputs": [
    {
     "name": "stdout",
     "output_type": "stream",
     "text": [
      "Help on function BVP_nl in module pycse.PYCSE:\n",
      "\n",
      "BVP_nl(F, X, BCS, init, **kwargs)\n",
      "    Solve nonlinear BVP \\(y''(x) = F(x, y, y')\\)\n",
      "    with boundary conditions at y(x1) = a and y(x2) = b.\n",
      "    \n",
      "    Parameters\n",
      "    ----------\n",
      "    F : Function f(x, y, yprime)\n",
      "    \n",
      "    X : Uniformly spaced array from x1 to x2.\n",
      "    \n",
      "    BCS : Function that is zero at the boundary conditions. BCS(X, Y)\n",
      "    \n",
      "    init : Vector of initial guess solution values at the X points.\n",
      "    \n",
      "    kwargs are passed to :func:`scipy.optimize.fsolve`.\n",
      "    \n",
      "    Example\n",
      "    -------\n",
      "    Solve \\(y'' = 3 y y'\\) with boundary conditions y(0) = 0, and y(2) = 1.\n",
      "    \n",
      "    >>> import numpy as np\n",
      "    >>> x1 = 0.0; x2 = 2.0\n",
      "    >>> alpha = 0.0; beta = 1.0\n",
      "    >>> def Ypp(x, y, yprime):\n",
      "    ...    '''define y'' = 3*y*y' '''\n",
      "    ...    return -3.0 * y * yprime\n",
      "    ...\n",
      "    >>> def BC(X, Y):\n",
      "    ...    return [alpha - Y[0], beta - Y[-1]]\n",
      "    ...\n",
      "    >>> X = np.linspace(x1, x2)\n",
      "    >>> init = alpha + (beta - alpha) / (x2 - x1) * X\n",
      "    >>> y = BVP_nl(Ypp, X, BC, init)\n",
      "    >>> import matplotlib.pyplot as plt\n",
      "    >>> plt.figure()\n",
      "    >>> p = plt.plot(X, y)\n",
      "    >>> plt.savefig('images/bvp-nonlinear-2.png')\n",
      "    \n",
      "    [[./images/bvp-nonlinear-2.png]]\n",
      "    \n",
      "    Returns\n",
      "    -------\n",
      "    The solution array: Y\n",
      "\n"
     ]
    }
   ],
   "source": [
    "from pycse import BVP_nl\n",
    "help(BVP_nl)"
   ]
  },
  {
   "cell_type": "code",
   "execution_count": 1,
   "metadata": {
    "collapsed": false
   },
   "outputs": [
    {
     "data": {
      "image/png": "[encoded data removed]",
      "text/plain": [
       "<matplotlib.figure.Figure>"
      ]
     },
     "metadata": {},
     "output_type": "display_data"
    }
   ],
   "source": [
    "from pycse import BVP_nl\n",
    "\n",
    "n = [1.0, 2.0, 3.0]     # reaction order\n",
    "\n",
    "R = 3.0\n",
    "r1 = 0\n",
    "r2 = R\n",
    "\n",
    "N = 300\n",
    "RBAR = np.linspace(r1, r2, N)\n",
    "\n",
    "THIELE = np.logspace(-2, 1, 20)\n",
    "\n",
    "for order in n:\n",
    "    ETA = []\n",
    "\n",
    "    # This is the initial guess\n",
    "    c0 = 0.9\n",
    "    p = 4\n",
    "    init = c0 + (1 - c0) / R**p * RBAR**p\n",
    "\n",
    "    for thiele in THIELE:\n",
    "        def F(rbar, cbar, dcbardrbar):\n",
    "            return -2.0 / rbar * dcbardrbar + thiele**2 * cbar**order\n",
    "\n",
    "        def BCS(rbar, cbar):\n",
    "            return [(cbar[1] - cbar[0])/(rbar[1] - rbar[0]),  # dc/dr(r=0) = 0\n",
    "                     cbar[-1] - 1]                            # cbar(R) = 1\n",
    "\n",
    "        CBAR = BVP_nl(F, RBAR, BCS, init)\n",
    "        eta2 = 1./9. * np.trapz(CBAR**order * RBAR**2, RBAR)\n",
    "        ETA += [eta2]\n",
    "\n",
    "    plt.loglog(THIELE, ETA, label='n={0}'.format(order))\n",
    "\n",
    "plt.legend(loc='best')\n",
    "plt.xlabel(r'$\\widetilde{\\Phi}$')\n",
    "plt.ylabel(r'$\\eta$')"
   ]
  },
  {
   "cell_type": "markdown",
   "metadata": {},
   "source": [
    "-   Note that unlike the case of different pellet shapes with n=1, the effectiveness factor changes a lot for different reaction orders.\n",
    "    -   and there are different asymptotic limits at high &Phi;.\n",
    "\n",
    "-   We can fix that by choosing a different definition of the Thiele modulus\n",
    "    \n",
    "    <div class=\"alert alert-warning\">\n",
    "    $ \\Phi = \\sqrt{\\frac{n+1}{2} \\frac{k c_{As}^{n-1} a^2}{D_A} } $\n",
    "    </div>\n",
    "\n",
    "-   Then we have to modify the differential equation:\n",
    "\n",
    "$\\frac{d^2\\overline{c}}{d\\overline{r}^2} = -\\frac{2}{\\overline{r}}\\frac{d\\overline{c}}{d\\overline{r}} + \\frac{2}{n+1}\\Phi^2\\overline{c}^n$\n",
    "\n",
    "Resolving this equation leads to:"
   ]
  },
  {
   "cell_type": "code",
   "execution_count": 1,
   "metadata": {
    "collapsed": false
   },
   "outputs": [
    {
     "data": {
      "image/png": "[encoded data removed]",
      "text/plain": [
       "<matplotlib.figure.Figure>"
      ]
     },
     "metadata": {},
     "output_type": "display_data"
    }
   ],
   "source": [
    "n = [1.0, 2.0, 3.0]     # reaction order\n",
    "\n",
    "R = 3.0\n",
    "r1 = 0\n",
    "r2 = R\n",
    "\n",
    "N = 300\n",
    "RBAR = np.linspace(r1, r2, N)\n",
    "\n",
    "THIELE = np.logspace(-2, 1, 20)\n",
    "\n",
    "for order in n:\n",
    "    ETA = []\n",
    "\n",
    "    c0 = 0.9\n",
    "    p = 4\n",
    "    init = c0 + (1 - c0) / R**p * RBAR**p\n",
    "\n",
    "    for thiele in THIELE:\n",
    "        def F(rbar, cbar, dcbardrbar):\n",
    "            return (-2.0 / rbar * dcbardrbar\n",
    "                    + 2 / (order + 1) * thiele**2 * cbar**order)\n",
    "\n",
    "        def BCS(rbar, cbar):\n",
    "            return [(cbar[1] - cbar[0])/(rbar[1] - rbar[0]),  # dc/dr(r=0) = 0\n",
    "                     cbar[-1] - 1]                            # cbar(R) = 1\n",
    "\n",
    "        CBAR = BVP_nl(F, RBAR, BCS, init)\n",
    "        eta2 = 1./9. * np.trapz(CBAR**order * RBAR**2, RBAR)\n",
    "        ETA += [eta2]\n",
    "\n",
    "    plt.loglog(THIELE, ETA, label='n={0}'.format(order))\n",
    "\n",
    "plt.legend(loc='best')\n",
    "plt.xlabel(r'$\\widetilde{\\Phi}$')\n",
    "plt.ylabel('$\\eta$')"
   ]
  },
  {
   "cell_type": "markdown",
   "metadata": {},
   "source": [
    "-   This scaling may seem arbitrary, but it effectively scales the equation so that it behaves like 1/&Phi; for large &Phi;.\n",
    "\n",
    "-   It is not necessary, but it greatly simplifies design problems.\n",
    "    -   It is difficult to solve the BVP, and the scaling shows it is not necessary to do that\n",
    "    \n",
    "    -   **We use the modified Thiele modulus for n<sup>th</sup> order kinetics in combination with the analytical solution for 1<sup>st</sup> order reactions!**\n",
    "\n",
    "-   It is not clear why these equations are so hard to solve for different reaction orders. It may be instability in the method used to solve the BVP.\n",
    "\n",
    "-   For other types of rate laws, there will be other types of Thiele moduli\n",
    "\n",
    "-   The form of these will not be easy to guess and may contain other dimensionless groups\n",
    "    -   They can be derived from asymptotic analysis"
   ]
  },
  {
   "cell_type": "markdown",
   "metadata": {},
   "source": [
    "# Different rate laws"
   ]
  },
  {
   "cell_type": "markdown",
   "metadata": {},
   "source": [
    "-   So far we have only considered power law kinetics.\n",
    "-   In catalysis we often have rate laws like\n",
    "\n",
    "$ r = k \\overline{c}_m \\frac{K_A c_A}{1 + K_A c_A} $\n",
    "\n",
    "-   If we use this rate law in the diffusion/reaction equation, and make the equation dimensionless, we end up with two dimensionless numbers\n",
    "    -   here is the equation for a slab\n",
    "\n",
    "$ \\frac{d^2\\overline{c}}{d\\overline{r}^2} - \\widetilde{\\Phi}^2 \\frac{\\overline{c}}{1 + \\phi \\overline{c}} = 0  $\n",
    "\n",
    "-   where the two dimensionless groups are\n",
    "\n",
    "$ \\widetilde{\\Phi} = \\sqrt{\\frac{k\\overline{c}_m K_A a^2}{D_A}}  $\n",
    "And the second group is:\n",
    "$ \\phi = K_A C_{As}  $\n",
    "\n",
    "-   Although one could use these equations to compute effectiveness factors, this is tedious as the result depends on &phi; and there is not a common asymptote at high values of &Phi;\n",
    "-   Note this script takes quite a while to run."
   ]
  },
  {
   "cell_type": "code",
   "execution_count": 1,
   "metadata": {
    "collapsed": false
   },
   "outputs": [
    {
     "data": {
      "image/png": "[encoded data removed]",
      "text/plain": [
       "<matplotlib.figure.Figure>"
      ]
     },
     "metadata": {},
     "output_type": "display_data"
    }
   ],
   "source": [
    "PHI = [0.1, 1, 2]\n",
    "R = 1\n",
    "r1 = 0\n",
    "r2 = R\n",
    "\n",
    "N = 300\n",
    "RBAR = np.linspace(r1, r2, N)\n",
    "\n",
    "THIELE = np.logspace(-2, 2, 20)\n",
    "\n",
    "for phi in PHI:\n",
    "    ETA = []\n",
    "\n",
    "    c0 = 0.9\n",
    "    p = 4\n",
    "    init = c0 + (1 - c0) / R**p * RBAR**p\n",
    "\n",
    "    for thiele in THIELE:\n",
    "        def F(rbar, cbar, dcbardrbar):\n",
    "            return thiele**2 * cbar / (1.0 + phi * cbar)\n",
    "\n",
    "        def BCS(rbar, cbar):\n",
    "            return [(cbar[1] - cbar[0])/(rbar[1] - rbar[0]),  # dc/dr(r=0) = 0\n",
    "                     cbar[-1] - 1]                            # cbar(R) = 1\n",
    "\n",
    "        CBAR = BVP_nl(F, RBAR, BCS, init)\n",
    "        eta = ((1.0 + phi) / thiele**2\n",
    "               * (CBAR[-1] - CBAR[-2])/(RBAR[-1] - RBAR[-2]))\n",
    "        ETA += [eta]\n",
    "\n",
    "    plt.loglog(THIELE, ETA, label='$\\phi$={0}'.format(phi))\n",
    "\n",
    "plt.legend(loc='best')\n",
    "plt.xlabel(r'$\\widetilde{\\Phi}$')\n",
    "plt.ylabel(r'$\\eta$')"
   ]
  },
  {
   "cell_type": "markdown",
   "metadata": {},
   "source": [
    "-   You see a similar problem here as we saw with n<sup>th</sup> order kinetics. There is not a common asymptote.\n",
    "\n",
    "-   While not unusable, it means we have to calculate this for every value of &phi;\n",
    "\n",
    "-   Through an asymptotic analysis one arrives at the following scaled Thiele modulus:\n",
    "\n",
    "$ \\Phi = \\left(\\frac{\\phi}{1 + \\phi} \\right) \\frac{1}{\\sqrt{2 (\\phi - \\ln(1+\\phi))}} \\widetilde{\\Phi} $\n",
    "\n",
    "So, if we plug this in and re-solve the equations:"
   ]
  },
  {
   "cell_type": "code",
   "execution_count": 1,
   "metadata": {
    "collapsed": false
   },
   "outputs": [
    {
     "data": {
      "image/png": "[encoded data removed]",
      "text/plain": [
       "<matplotlib.figure.Figure>"
      ]
     },
     "metadata": {},
     "output_type": "display_data"
    }
   ],
   "source": [
    "PHI = [0.1, 1, 2]\n",
    "R = 1\n",
    "r1 = 0\n",
    "r2 = R\n",
    "\n",
    "N = 300\n",
    "RBAR = np.linspace(r1, r2, N)\n",
    "\n",
    "THIELE = np.logspace(-2, 2, 20)\n",
    "\n",
    "for phi in PHI:\n",
    "    ETA = []\n",
    "\n",
    "    c0 = 0.9\n",
    "    p = 4\n",
    "    init = c0 + (1 - c0) / R**p * RBAR**p\n",
    "\n",
    "    for thiele_wiggle in THIELE:\n",
    "        thiele = ((1.0 + phi)\n",
    "                  / phi * np.sqrt(2 * (phi - np.log(1.0 + phi)))\n",
    "                  * thiele_wiggle)\n",
    "\n",
    "        def F(rbar, cbar, dcbardrbar):\n",
    "            return thiele**2 * cbar / (1.0 + phi * cbar)\n",
    "\n",
    "        def BCS(rbar, cbar):\n",
    "            return [(cbar[1] - cbar[0])/(rbar[1] - rbar[0]),  # dc/dr(r=0) = 0\n",
    "                     cbar[-1] - 1]                            # cbar(R) = 1\n",
    "\n",
    "        CBAR = BVP_nl(F, RBAR, BCS, init)\n",
    "        eta = ((1.0 + phi) / thiele**2\n",
    "               * (CBAR[-1] - CBAR[-2])/(RBAR[-1] - RBAR[-2]))\n",
    "        ETA += [eta]\n",
    "\n",
    "    plt.loglog(THIELE, ETA, label=r'$\\phi$={0}'.format(phi))\n",
    "\n",
    "plt.legend(loc='best')\n",
    "plt.xlabel(r'$\\widetilde{\\Phi}$')\n",
    "plt.ylabel(r'$\\eta$')"
   ]
  },
  {
   "cell_type": "markdown",
   "metadata": {},
   "source": [
    "-   We find reasonable asymptotic behavior\n",
    "\n",
    "-   The payoff is that now we can readily estimate effectiveness factors by the original approach\n",
    "    -   the analytical solution to a first order reaction in a spherical particle.\n",
    "    -   **We just have to use this definition of the Thiele modulus for the Hougen Watson kinetics**\n",
    "\n",
    "<div class=\"alert alert-warning\">\n",
    "$ \\Phi = \\left(\\frac{\\phi}{1 + \\phi} \\right) \\sqrt{\\frac{k \\overline{c}_m K_A a^2}{2 (\\phi - \\ln(1+\\phi)) D_A}} $\n",
    "</div>\n",
    "\n",
    "-   For large and small Thiele modulus the results will be good. For &Phi; &asymp; 1 there will be some error in the effectiveness factor."
   ]
  },
  {
   "cell_type": "markdown",
   "metadata": {},
   "source": [
    "# Summary of internal effectiveness factor"
   ]
  },
  {
   "cell_type": "markdown",
   "metadata": {},
   "source": [
    "-   Particle shape effects are relatively small (e.g. a 20% effect)\n",
    "-   The rate law does change things too much either, if you use the right Thiele modulus definition\n",
    "-   We can reasonably estimate &eta; by choosing an appropriate Thiele modulus definition for the situation and computing the effectiveness factor from: <div class=\"alert alert-warning\">$ \\eta = \\frac{1}{\\Phi}  \\left [\\frac{1}{\\tanh 3 \\Phi} - \\frac{1}{3 \\Phi} \\right]$</div>\n",
    "    -   for power law kinetics we use <div class=\"alert alert-warning\">$ \\Phi = \\sqrt{\\frac{n+1}{2} \\frac{k c_{As}^{n-1} a^2}{D_A} } $</div>\n",
    "    -   For Hougen-Watson kinetics we use <div class=\"alert alert-warning\">$ \\Phi = \\left(\\frac{\\phi}{1 + \\phi} \\right) \\sqrt{\\frac{k \\overline{c}_m K_A a^2}{2 D_A(\\phi - \\ln(1+\\phi))}} $</div>\n",
    "\n",
    "[https://media3.giphy.com/media/3o7qDEq2bMbcbPRQ2c/200.gif#1-grid1](https://media3.giphy.com/media/3o7qDEq2bMbcbPRQ2c/200.gif#1-grid1)"
   ]
  },
  {
   "cell_type": "code",
   "execution_count": 3,
   "metadata": {
    "collapsed": false
   },
   "outputs": [
    {
     "data": {
      "text/html": [
       "<img src=https://media3.giphy.com/media/3o7qDEq2bMbcbPRQ2c/200.gif>"
      ],
      "text/plain": [
       "<IPython.core.display.HTML object>"
      ]
     },
     "execution_count": 3,
     "metadata": {},
     "output_type": "execute_result"
    }
   ],
   "source": [
    "from IPython.display import HTML\n",
    "HTML(\"<img src=https://media3.giphy.com/media/3o7qDEq2bMbcbPRQ2c/200.gif>\")"
   ]
  },
  {
   "cell_type": "code",
   "execution_count": null,
   "metadata": {
    "collapsed": true
   },
   "outputs": [],
   "source": []
  }
 ],
 "metadata": {
  "kernelspec": {
   "display_name": "Python 3",
   "language": "python",
   "name": "python3"
  },
  "language_info": {
   "codemirror_mode": {
    "name": "ipython",
    "version": 3
   },
   "file_extension": ".py",
   "mimetype": "text/x-python",
   "name": "python",
   "nbconvert_exporter": "python",
   "pygments_lexer": "ipython3",
   "version": "3.5.2"
  },
  "org": {
   "KEYWORDS": "mass transfer"
  }
 },
 "nbformat": 4,
 "nbformat_minor": 0
}
