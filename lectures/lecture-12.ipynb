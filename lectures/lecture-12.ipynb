{
 "cells": [
  {
   "cell_type": "markdown",
   "metadata": {},
   "source": [
    "# Comic relief"
   ]
  },
  {
   "cell_type": "markdown",
   "metadata": {},
   "source": [
    "![img](//s-media-cache-ak0.pinimg.com/564x/53/97/9f/53979fcd941669007f59c5cdb1317b27.jpg)"
   ]
  },
  {
   "cell_type": "markdown",
   "metadata": {},
   "source": [
    "# Parameter estimation from differential equation based models"
   ]
  },
  {
   "cell_type": "markdown",
   "metadata": {},
   "source": [
    "In the last few lectures, we considered linear and nonlinear regression of analytical models to data. In some cases, we had to transform the data to do this, e.g. by taking numerical derivatives. We observed that numerical differentiation enhances noise in the data, especially at the endpoints, where a less accurate estimate for the derivative is used.\n",
    "Today, we consider regression with the integration of differential equations. Recall that when we integrate an ODE, we get a *numerical solution* to the function we are interested in. So, if we were vary the parameters in the model to get the solution that best fit the data, we would have performed our goal.\n",
    "Let's briefly review what our solvers can do. Suppose we have the ODE $\\frac{df}{dx}=-4$ with $f'(0) = 1$.\n",
    "We can get the solution to this ODE at *any x-values* we choose."
   ]
  },
  {
   "cell_type": "code",
   "execution_count": 1,
   "metadata": {
    "collapsed": false
   },
   "outputs": [
    {
     "name": "stdout",
     "output_type": "stream",
     "text": [
      "[[ 1. ]\n",
      " [ 0.2]\n",
      " [-1. ]]"
     ]
    }
   ],
   "source": [
    "from scipy.integrate import odeint\n",
    "\n",
    "def ode(f, x):\n",
    "    return -4\n",
    "\n",
    "f0 = 1 # initial conditions\n",
    "xspan = [0, 0.2, 0.5] # You choose the xspan\n",
    "\n",
    "sol = odeint(ode, f0, xspan)\n",
    "print(sol)"
   ]
  },
  {
   "cell_type": "markdown",
   "metadata": {},
   "source": [
    "Now, suppose we are given this data, and we believe it should be modeled by an equation that looks like $y = m x + b$."
   ]
  },
  {
   "cell_type": "code",
   "execution_count": 1,
   "metadata": {
    "collapsed": true
   },
   "outputs": [],
   "source": [
    "import numpy as np\n",
    "x = np.array([0, 1, 2, 4])\n",
    "y = np.array([1, 3, 5, 9])"
   ]
  },
  {
   "cell_type": "markdown",
   "metadata": {},
   "source": [
    "Probably by inspection you can see that $m=2$ and $b=1$. Let's consider how to use the idea of an ODE to explore this.\n",
    "\n",
    "$y'(x) = m$ we can express our model as $y(0) = 1$.\n",
    "\n",
    "In this block, we can vary $m$ and $b$ and see for what pair of them do we get the best agreement with the y-data listed above."
   ]
  },
  {
   "cell_type": "code",
   "execution_count": 1,
   "metadata": {
    "collapsed": false
   },
   "outputs": [
    {
     "name": "stdout",
     "output_type": "stream",
     "text": [
      "[[ 1.]\n",
      " [ 3.]\n",
      " [ 5.]\n",
      " [ 9.]]\n",
      "Error = [ 0.  0.  0.  0.]"
     ]
    }
   ],
   "source": [
    "m, b = 2, 1 # Try varying these\n",
    "\n",
    "def ode(f, x, m, b):\n",
    "    return m\n",
    "\n",
    "y0 = b\n",
    "xspan = x\n",
    "\n",
    "sol = odeint(ode, y0, xspan, args=(m, b))\n",
    "print(sol)\n",
    "print('Error = {}'.format(sol[:, 0] - y))"
   ]
  },
  {
   "cell_type": "markdown",
   "metadata": {},
   "source": [
    "We can wrap this in a regression problem like this."
   ]
  },
  {
   "cell_type": "code",
   "execution_count": 1,
   "metadata": {
    "collapsed": false
   },
   "outputs": [
    {
     "name": "stdout",
     "output_type": "stream",
     "text": [
      "[ 2.  1.]"
     ]
    }
   ],
   "source": [
    "from pycse import  nlinfit\n",
    "\n",
    "def model(xx, m, b):\n",
    "    y0 = b\n",
    "    yy = odeint(ode, y0, xspan, args=(m, b))\n",
    "    return yy[:, 0] # We have to return a 1D array\n",
    "\n",
    "guess = [1, 1]\n",
    "p, pint, se = nlinfit(model, x, y, guess, alpha=0.05)\n",
    "print(p)"
   ]
  },
  {
   "cell_type": "markdown",
   "metadata": {},
   "source": [
    "## Application to mole balances"
   ]
  },
  {
   "cell_type": "markdown",
   "metadata": {},
   "source": [
    "Recall that we used regression on mole balances, but that we had to numerically compute derivatives. We can use the approach above to fit the mole balance directly. Suppose we have this mole balance and some data, and we want to estimate $k$ and $\\alpha$.\n",
    "$$\\frac{dC_A}{dt} = -k C_A^\\alpha$$\n",
    "The strategy is to guess values for $k$ and $\\alpha$ until we find the pair that best matches the data. We use nlinfit to vary the parameters and \"fit\" the data. Here is the setup."
   ]
  },
  {
   "cell_type": "code",
   "execution_count": 1,
   "metadata": {
    "collapsed": false
   },
   "outputs": [
    {
     "name": "stdout",
     "output_type": "stream",
     "text": [
      "alpha = [ 2.00235724  2.07091387] at the 95% confidence level\n",
      "k = [ 0.12596679  0.15937611] at the 95% confidence level"
     ]
    }
   ],
   "source": [
    "t = np.array([0, 50, 100, 150, 200, 250, 300]) # min\n",
    "Ca = np.array([0.05, 0.038, 0.0306, 0.0256, 0.0222, 0.0195, 0.0174]) # mol/L\n",
    "\n",
    "Ca0 = 0.05\n",
    "\n",
    "def dCadt(Ca, t, k, alpha):\n",
    "    return -k * Ca**alpha\n",
    "\n",
    "def model(t, k, alpha):\n",
    "    Ca = odeint(dCadt, Ca0, t, args=(k, alpha))\n",
    "    return Ca[:,0]  # must return a 1D array here\n",
    "\n",
    "guess = [0.1, 2.0] # from the linear regression\n",
    "\n",
    "p, pint, se = nlinfit(model, t, Ca, guess, 0.05)\n",
    "\n",
    "k_range, alpha_range = np.array(pint)\n",
    "\n",
    "print('alpha = {} at the 95% confidence level'.format(alpha_range))\n",
    "print('k = {0} at the 95% confidence level'.format(k_range))"
   ]
  },
  {
   "cell_type": "markdown",
   "metadata": {},
   "source": [
    "As always, we should evaluate the quality of our fit visually. Here you can see the fit is quite good."
   ]
  },
  {
   "cell_type": "code",
   "execution_count": 1,
   "metadata": {
    "collapsed": false
   },
   "outputs": [
    {
     "data": {
      "image/png": "[encoded data removed]",
      "text/plain": [
       "<matplotlib.figure.Figure>"
      ]
     },
     "metadata": {},
     "output_type": "display_data"
    }
   ],
   "source": [
    "%matplotlib inline\n",
    "import matplotlib.pyplot as plt\n",
    "\n",
    "plt.plot(t, Ca, 'bo ')\n",
    "plt.plot(t, model(t, *p), 'r-')\n",
    "plt.xlabel('Time (min)')\n",
    "plt.ylabel('$C_A$')"
   ]
  },
  {
   "cell_type": "markdown",
   "metadata": {},
   "source": [
    "The confidence intervals here are identical to the nonlinear fit to the analytical solution!  We have essentially solved the same fitting problem, but without the need for the analytical solution. Notice again that initial guesses were required; this is still nonlinear regression."
   ]
  },
  {
   "cell_type": "markdown",
   "metadata": {},
   "source": [
    "# Effects of uncertainty on reactor design"
   ]
  },
  {
   "cell_type": "markdown",
   "metadata": {},
   "source": [
    "The effects of uncertainty in parameters on design are a result of propagation of errors.\n",
    "If there is uncertainty in a number, and that number is used to calculate another number, then the result will have uncertainty also.\n",
    "We can quantitatively determine the uncertainty and how it is propagated (see [propagation of uncertainty](http://en.wikipedia.org/wiki/Propagation_of_uncertainty)).\n",
    "If a function depends on parameters (a, b, c &#x2026;) that have corresponding uncertainties ($\\sigma_a$, $\\sigma_b$, $\\sigma_c$,&#x2026;) then the uncertainty in $f$ is approximately:\n",
    "$s_f = \\sqrt{\\left( \\frac{\\partial f}{\\partial a}\\right)^2 s_a^2 + \\left( \\frac{\\partial f}{\\partial b}\\right)^2 s_b^2  + \\left( \\frac{\\partial f}{\\partial c}\\right)^2 s_c^2 + \\cdots}  $\n",
    "\n",
    "-   Consider we have a parameter $k=0.1$ 1/s with standard error of &sigma;<sub>k</sub> = 0.02, i.e. $k = 0.1 \\pm 0.02$ 1/s.\n",
    "-   If the rate law is $r = k C_A$, and there is no uncertainty in $C_A$, what is the uncertainty in the rate for $C_A=2$?\n",
    "\n",
    "$ \\sigma_r = \\sqrt{\\left(\\frac{\\partial r}{\\partial k}\\right)^2\\sigma_k^2} $\n",
    "\n",
    "-   Evaluating this leads to &sigma;<sub>r</sub> = C<sub>A</sub> &sigma;<sub>k</sub> = 0.04\n",
    "-   In other words, the rate will be 0.2 &plusmn; 0.04 mol/L/s\n",
    "-   It can be tedious to evaluate all of the partial derivatives\n",
    "-   The `uncertainties` package can help tremendously for this\n",
    "\n",
    "[uncertainties](https://www.google.com/#safe=off&q=uncertainties)"
   ]
  },
  {
   "cell_type": "code",
   "execution_count": 1,
   "metadata": {
    "collapsed": false
   },
   "outputs": [
    {
     "name": "stdout",
     "output_type": "stream",
     "text": [
      "The rate is 0.20+/-0.04 mol/L/s"
     ]
    }
   ],
   "source": [
    "import uncertainties as u\n",
    "\n",
    "k = u.ufloat(0.1, 0.02)\n",
    "CA = 2.0\n",
    "\n",
    "print('The rate is {0} mol/L/s'.format(k * CA))"
   ]
  },
  {
   "cell_type": "markdown",
   "metadata": {},
   "source": [
    "-   `uncertainties` automatically propagates most errors through all standard math operations, and many (but not all) functions. For example, you cannot use it out of the box with fsolve or odeing."
   ]
  },
  {
   "cell_type": "markdown",
   "metadata": {},
   "source": [
    "## Error propagation by Monte Carlo simulation"
   ]
  },
  {
   "cell_type": "markdown",
   "metadata": {},
   "source": [
    "An alternative approach to error propagation is Monte Carlo simulation. In this approach we sample the variables with uncertainty and perform the calculations many times. Then we use statistical analysis to determine the uncertainty of the result.  We illustrate the approach on estimating the uncertainty here.\n",
    "First, some new ideas. We can generate a distribution of values with particular statistical properties. Recall that when we say the average value of $k$ is 0.1 with a standard deviation of 0.02, we mean that measurements of $k$ follow a Normal distribution with those properties."
   ]
  },
  {
   "cell_type": "code",
   "execution_count": 1,
   "metadata": {
    "collapsed": false
   },
   "outputs": [
    {
     "name": "stdout",
     "output_type": "stream",
     "text": [
      "The average k = 0.10\n",
      "The std dev k = 0.02"
     ]
    },
    {
     "data": {
      "image/png": "[encoded data removed]",
      "text/plain": [
       "<matplotlib.figure.Figure>"
      ]
     },
     "metadata": {},
     "output_type": "display_data"
    }
   ],
   "source": [
    "N = 10000\n",
    "muk = 0.1\n",
    "sigmak = 0.02\n",
    "k = np.random.normal(muk, sigmak, N)\n",
    "\n",
    "print('The average k = {:1.2f}'.format(np.mean(k)))\n",
    "print('The std dev k = {:1.2f}'.format(np.std(k)))\n",
    "\n",
    "plt.hist(k, 20)\n",
    "plt.xlabel('$k$')\n",
    "plt.ylabel('Frequency')"
   ]
  },
  {
   "cell_type": "markdown",
   "metadata": {},
   "source": [
    "We can use this to do propagation of errors."
   ]
  },
  {
   "cell_type": "code",
   "execution_count": 1,
   "metadata": {
    "collapsed": false
   },
   "outputs": [
    {
     "name": "stdout",
     "output_type": "stream",
     "text": [
      "The average rate is 0.20038851598345173 mol/L/s\n",
      "The standard error is 0.03989110536075738 mol/L/s"
     ]
    },
    {
     "data": {
      "image/png": "[encoded data removed]",
      "text/plain": [
       "<matplotlib.figure.Figure>"
      ]
     },
     "metadata": {},
     "output_type": "display_data"
    }
   ],
   "source": [
    "CA = 2.0\n",
    "\n",
    "r = k * CA\n",
    "print('The average rate is {0} mol/L/s'.format(np.mean(r)))\n",
    "print('The standard error is {0} mol/L/s'.format(np.std(r)))\n",
    "\n",
    "plt.hist(r, 20)\n",
    "plt.xlabel('r')\n",
    "plt.ylabel('frequency')"
   ]
  },
  {
   "cell_type": "markdown",
   "metadata": {},
   "source": [
    "You can see that the distribution appears approximately normally distributed. The average is approximately the same as we observed in the previous two approaches. The standard error is also approximately the same.\n",
    "\n",
    "This approach makes no assumptions about the error propagation other than errors in the parameters are not correlated. We do assume the uncertainty in the parameters is normally distributed.\n",
    "\n",
    "Note it is possible with the normal distribution for $k$ to be negative. This is not physically meaningful. The probability of that happening is very low. $k$ is only approximately normally distributed about the mean, not in the tails."
   ]
  },
  {
   "cell_type": "markdown",
   "metadata": {},
   "source": [
    "## An application in reactor design"
   ]
  },
  {
   "cell_type": "markdown",
   "metadata": {},
   "source": [
    "Let us illustrate the effects of uncertainty on the exit concentration of a CSTR.\n",
    "\n",
    "-   $r_A = k C_A^2$ with $k$ = 3.0 &plusmn; 0.2 L/mol/hr\n",
    "-   $A$ is fed to the reactor at a rate of 5 &plusmn; 0.05 mol/hr\n",
    "-   The volumetric flow is 10 &plusmn; 0.1 L/hr\n",
    "-   The reactor volume is 66000 L\n",
    "\n",
    "What is the exit concentration? What is the probability the exit concentration exceeds 0.05 M?\n",
    "\n",
    "-   We have to solve $0 = F_{A,in} - F_{A,out} + r_A V$\n",
    "-   We have several variables to create distributions for. We will create all the samples, and then loop through them and store the result in a vector.\n",
    "\n",
    "We can easily find the number of elements in an array that meet some criteria, e.g. are greater than some number like this."
   ]
  },
  {
   "cell_type": "code",
   "execution_count": 1,
   "metadata": {
    "collapsed": false
   },
   "outputs": [
    {
     "name": "stdout",
     "output_type": "stream",
     "text": [
      "2"
     ]
    }
   ],
   "source": [
    "import numpy as np\n",
    "a = np.array([1, 2, 3, 4])\n",
    "\n",
    "print((a > 2).sum())"
   ]
  },
  {
   "cell_type": "markdown",
   "metadata": {},
   "source": [
    "We will be smart here and recognize that we can use the quadratic formula to solve the mole balance. This will let us leverage the use of vectorized calculations with numpy arrays.\n",
    "\n",
    "$-V k C_A^2 - \\nu_0 C_A + F_{A0} = 0$\n",
    "\n",
    "Here we define: $a = - V k$, $b=\\nu_0$ and $c = F_{A0}$\n",
    "so:\n",
    "\n",
    "$C_A = \\frac{-b - \\sqrt{b^2 - 4 a c}}{2 a}$"
   ]
  },
  {
   "cell_type": "code",
   "execution_count": 1,
   "metadata": {
    "collapsed": false
   },
   "outputs": [
    {
     "name": "stdout",
     "output_type": "stream",
     "text": [
      "Ca(exit) = 0.005057726839585174+/-0.0001709221310339425\n",
      "Probability that the exit concentration is greater than 0.005M is 0.621"
     ]
    },
    {
     "data": {
      "image/png": "[encoded data removed]",
      "text/plain": [
       "<matplotlib.figure.Figure>"
      ]
     },
     "metadata": {},
     "output_type": "display_data"
    }
   ],
   "source": [
    "from scipy.optimize import fsolve\n",
    "\n",
    "N = 10000    # number of MC samples\n",
    "V =  66000   # L\n",
    "\n",
    "Fa0 = np.random.normal(5, 0.05, N)\n",
    "v0 = np.random.normal(10.0, 0.1, N)\n",
    "k = np.random.normal(3.0, 0.2, N)\n",
    "\n",
    "a = -V * k\n",
    "b = v0\n",
    "c = Fa0\n",
    "\n",
    "Ca = (-b - np.sqrt(b**2 - 4 * a * c)) / (2 * a)\n",
    "\n",
    "print('Ca(exit) = {0}+/-{1}'.format(np.mean(Ca), np.std(Ca)))\n",
    "\n",
    "plt.hist(Ca, 20)\n",
    "plt.xlabel('$C_{A, exit}$')\n",
    "plt.ylabel('Frequency')\n",
    "\n",
    "print('Probability that the exit concentration is greater than 0.005M is {}'.format((Ca > 0.005).sum() / len(Ca)))"
   ]
  },
  {
   "cell_type": "markdown",
   "metadata": {},
   "source": [
    "This analysis shows there is a few percent uncertainty in the exit concentration."
   ]
  },
  {
   "cell_type": "code",
   "execution_count": 1,
   "metadata": {
    "collapsed": false
   },
   "outputs": [
    {
     "name": "stdout",
     "output_type": "stream",
     "text": [
      "3.37942590525"
     ]
    }
   ],
   "source": [
    "print(np.std(Ca) / np.mean(Ca) * 100)"
   ]
  },
  {
   "cell_type": "markdown",
   "metadata": {},
   "source": [
    "That may be acceptable. Note that the distribution is not exactly normal, but it is close. Note that if 0.005 M was a target goal though, there is a good probability you will not meet it due to the uncertainty.\n",
    "\n",
    "It is not fast to do Monte Carlo. You need many calculations to get good statistics. If each one involves fsolve, or odeint, it can be expensive to run, and in some cases you may find not all calculations converge. Still, it is in some cases easier than propagating errors by hand."
   ]
  },
  {
   "cell_type": "markdown",
   "metadata": {},
   "source": [
    "# Reminder"
   ]
  },
  {
   "cell_type": "markdown",
   "metadata": {},
   "source": [
    "The exam will take place on Wednesday. **There will be no class on Wed.**\n",
    "Problems will be assigned at 9am on Wednesday and collected at 9am on Thursday. I strongly encourage you to work on the problems during the scheduled class time so you can ask me questions while I am in the building. I will not be up all night to answer questions ;)\n",
    "I anticipate you will be able to finish the exam during the scheduled class time, assuming you know what to do and do not spend a lot of time looking for examples.\n",
    "You must work alone on your exam."
   ]
  }
 ],
 "metadata": {
  "kernelspec": {
   "display_name": "Python 3",
   "language": "python",
   "name": "python3"
  },
  "language_info": {
   "codemirror_mode": {
    "name": "ipython",
    "version": 3
   },
   "file_extension": ".py",
   "mimetype": "text/x-python",
   "name": "python",
   "nbconvert_exporter": "python",
   "pygments_lexer": "ipython3",
   "version": "3.5.2"
  },
  "org": {
   "KEYWORDS": "regression, ode, Monte Carlo"
  }
 },
 "nbformat": 4,
 "nbformat_minor": 0
}
