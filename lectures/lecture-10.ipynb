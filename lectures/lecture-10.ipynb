{
 "cells": [
  {
   "cell_type": "markdown",
   "metadata": {},
   "source": [
    "\n",
    "\n",
    "# Parameter estimation by linear regression\n",
    "\n",
    "The rate constants in rate laws generally must be determined from experiments. \n",
    "\n",
    "We typically fit models to experimental data, and derive the rate constants from the fitted parameters. There are two general types of fitting:  linear regression and nonlinear regression.\n",
    "\n",
    "-   **Linear regression:** fitting models that are linear in the parameters\n",
    "\n",
    "Example: $y(x) = m x + b$ is linear in $m$ and $b$.\n",
    "\n",
    "-   **Nonlinear regression:** fitting models that are nonlinear in the parameters\n",
    "\n",
    "Example: $C_A(t) = C_{A0} \\exp(-k t)$ is linear in $C_{A0}$ but nonlinear in $k$.\n",
    "\n",
    "In either case we want to estimate the value of the parameters in the model, and the uncertainty in the parameters.\n",
    "\n",
    "\n",
    "## Linear regression review\n",
    "\n",
    "In linear regression we fit a model that is linear in the parameters to some data.\n",
    "\n",
    "The model parameters may be directly useful, e.g. the slope of a line may be related to a rate constant, or we may use the model to derive something, e.g. the derivative at some value.\n",
    "\n",
    "A linear model is one like:\n",
    "$ y = p_0 + p_1 f_1(x) + p_2 f_2(x) + \\cdots $\n",
    "\n",
    "Here the parameters are $p_i$ and the model is linear in them. The functions $f_i(x)$ do not have to be linear. Some examples are:\n",
    "\n",
    "-   $ y = p_0 + p_1 x $ - a line\n",
    "-   $ y = p_0 + p_1 x + p_2 x^2 $ - a parabola\n",
    "-   $ y = p_0 + p_1 e^x $\n",
    "-   We will write these in the general matrix algebra form:\n",
    "\n",
    "$ \\bf{y} = \\bf{X} \\bf{p} $\n",
    "\n",
    "where:\n",
    "\n",
    "\\begin{equation}\n",
    "\\bf{y} = \\left [\n",
    "\\begin{array}{c}\n",
    "y_1 \\\\\n",
    "y_2 \\\\\n",
    "\\vdots \\\\\n",
    "y_n\\\\\n",
    "\\end{array}\n",
    "\\right ]\n",
    "\\end{equation}\n",
    "\n",
    "\\begin{equation}\n",
    "\\bf{X} = \\left [ \\begin{array}{cccc}\n",
    "f_n(x_1) & \\cdots & f_1(x_1) & 1 \\\\\n",
    "f_n(x_2) & \\cdots & f_1(x_2) & 1 \\\\\n",
    "\\vdots & \\vdots   & \\vdots   & \\vdots \\\\\n",
    "f_n(x_n) & \\cdots & f_1(x_n) & 1 \\\\\n",
    "\\end{array}\n",
    "\\right ]\n",
    "\\end{equation}\n",
    "\n",
    "and $ \\bf{p} = \\left [\\begin{array}{c}p_n \\\\ p_{n-1} \\\\ \\vdots \\\\ p_0 \\end{array} \\right ]  $\n",
    "\n",
    "The model will usually not fit data perfectly, so we modify the model to include the errors\n",
    "\n",
    "$\\bf{y} = \\bf{X} \\bf{p} + \\bf{e} $\n",
    "\n",
    "-   We want the best estimate for **p**, which means we want the  **p** that minimizes the error in the least squares sense (that is the magnitude of the sum of squared errors is minimized)\n",
    "\n",
    "The best estimate for **p** is:\n",
    "\n",
    "$ \\bf{p} = (\\bf{X}^T\\bf{X})^{-1}\\bf{X}^T \\bf{y} $\n",
    "\n",
    "There will typically be errors between the data and model with corresponding uncertainty in the estimated parameters\n",
    "\n",
    "We need to quantify the uncertainty to determine how important it is in reactor design.\n",
    "\n",
    "Let us consider an example. We want to fit a line to the following data. The line has an equation $y = p_0 x + p_1$.\n",
    "\n",
    "-   Remember\n",
    "\n",
    "$ \\bf{p} = (\\bf{X}^T\\bf{X})^{-1}\\bf{X}^T \\bf{y} $\n",
    "\n",
    "Here we solve a prototypical problem of fitting a line to some data. We are given some x and y data, and we want to fit a line.\n",
    "\n",
    "First, we need a little primer on working with arrays and linear algebra.\n",
    "\n",
    "To stack two 1-D arrays into a matrix, we can either stack them as rows, or columns.\n",
    "\n"
   ]
  },
  {
   "cell_type": "code",
   "execution_count": 2,
   "metadata": {
    "collapsed": true
   },
   "outputs": [],
   "source": [
    "import numpy as np\n",
    "\n",
    "a = np.array([1, 2, 3])\n",
    "b = np.array([4, 5, 6])"
   ]
  },
  {
   "cell_type": "markdown",
   "metadata": {},
   "source": [
    "To get a new array that has two rows in it use [numpy.row_stack](https://docs.scipy.org/doc/numpy/reference/generated/numpy.row_stack.html).\n",
    "\n"
   ]
  },
  {
   "cell_type": "code",
   "execution_count": 3,
   "metadata": {
    "collapsed": false
   },
   "outputs": [
    {
     "name": "stdout",
     "output_type": "stream",
     "text": [
      "[[1 2 3]\n",
      " [4 5 6]]\n"
     ]
    }
   ],
   "source": [
    "print(np.row_stack([a, b]))"
   ]
  },
  {
   "cell_type": "markdown",
   "metadata": {},
   "source": [
    "To get a new array with two columns, use [numpy.column_stack](https://docs.scipy.org/doc/numpy/reference/generated/numpy.column_stack.html)\n",
    "\n"
   ]
  },
  {
   "cell_type": "code",
   "execution_count": 4,
   "metadata": {
    "collapsed": false
   },
   "outputs": [
    {
     "name": "stdout",
     "output_type": "stream",
     "text": [
      "[[1 4]\n",
      " [2 5]\n",
      " [3 6]]\n"
     ]
    }
   ],
   "source": [
    "print(np.column_stack([a, b]))"
   ]
  },
  {
   "cell_type": "markdown",
   "metadata": {},
   "source": [
    "You can transpose one to get the other.\n",
    "\n"
   ]
  },
  {
   "cell_type": "code",
   "execution_count": 6,
   "metadata": {
    "collapsed": false
   },
   "outputs": [
    {
     "name": "stdout",
     "output_type": "stream",
     "text": [
      "[[1 4]\n",
      " [2 5]\n",
      " [3 6]]\n"
     ]
    }
   ],
   "source": [
    "print(np.row_stack([a, b]).T)"
   ]
  },
  {
   "cell_type": "markdown",
   "metadata": {},
   "source": [
    "We will need arrays that contain all ones. Here are a few easy ways to get them.\n",
    "\n"
   ]
  },
  {
   "cell_type": "code",
   "execution_count": 10,
   "metadata": {
    "collapsed": false
   },
   "outputs": [
    {
     "name": "stdout",
     "output_type": "stream",
     "text": [
      "[1 1 1] [ 1.  1.  1.]\n",
      "[2 2 2] [ 0.5  0.5  0.5]\n"
     ]
    }
   ],
   "source": [
    "o1 = a**0  # raise each element to the zeroth power\n",
    "o2 = np.ones(a.size)\n",
    "\n",
    "print(o1, o2)\n",
    "print(o1 * 2, o2 / 2)"
   ]
  },
  {
   "cell_type": "markdown",
   "metadata": {},
   "source": [
    "Note that one is an array of integers, and one is an array of floats. For the work we do here the difference is not important, but sometimes it could be important.\n",
    "\n",
    "We need to take the dot product of two arrays. Use [numpy.dot](https://docs.scipy.org/doc/numpy/reference/generated/numpy.dot.html) for this. For example:\n",
    "\n"
   ]
  },
  {
   "cell_type": "code",
   "execution_count": 17,
   "metadata": {
    "collapsed": false
   },
   "outputs": [
    {
     "name": "stdout",
     "output_type": "stream",
     "text": [
      "[[16 21]\n",
      " [28 37]]\n",
      "[[16 21]\n",
      " [28 37]]\n",
      "ewise: \n",
      " [[ 4  9]\n",
      " [16 25]]\n"
     ]
    }
   ],
   "source": [
    "#print(np.dot(a, b))\n",
    "#print(a, b)\n",
    "# or with Python 3.5 or higher\n",
    "# print(a @ b)\n",
    "\n",
    "a = [2, 3]\n",
    "b = [4, 5]\n",
    "print(np.dot(np.row_stack([a, b]), np.row_stack([a, b])))\n",
    "print(np.row_stack([a, b]) @ np.row_stack([a, b])) # matrix multiplication\n",
    "print('ewise: \\n', np.row_stack([a, b]) * np.row_stack([a, b])) # elementwise multiplication"
   ]
  },
  {
   "cell_type": "markdown",
   "metadata": {},
   "source": [
    "Finally, we will have to take the inverse of a square matrix. We use [numpy.linalg.inv](https://docs.scipy.org/doc/numpy/reference/generated/numpy.linalg.inv.html) for that.\n",
    "\n"
   ]
  },
  {
   "cell_type": "code",
   "execution_count": 20,
   "metadata": {
    "collapsed": false
   },
   "outputs": [
    {
     "name": "stdout",
     "output_type": "stream",
     "text": [
      "[[-2.   1. ]\n",
      " [ 1.5 -0.5]]\n"
     ]
    }
   ],
   "source": [
    "from numpy.linalg import inv\n",
    "\n",
    "print(inv([[1, 2], \n",
    "           [3, 4]]))"
   ]
  },
  {
   "cell_type": "markdown",
   "metadata": {},
   "source": [
    "With those new commands, we are ready to do a linear regression. We are given this data:\n",
    "\n"
   ]
  },
  {
   "cell_type": "code",
   "execution_count": 21,
   "metadata": {
    "collapsed": false
   },
   "outputs": [
    {
     "data": {
      "text/plain": [
       "<matplotlib.text.Text at 0x10de579e8>"
      ]
     },
     "execution_count": 21,
     "metadata": {},
     "output_type": "execute_result"
    },
    {
     "data": {
      "image/png": "[encoded data removed]",
      "text/plain": [
       "<matplotlib.figure.Figure at 0x1010a9710>"
      ]
     },
     "metadata": {},
     "output_type": "display_data"
    }
   ],
   "source": [
    "%matplotlib inline\n",
    "import matplotlib.pyplot as plt\n",
    "\n",
    "x = np.array([0, 0.5, 1, 1.5, 2.0, 3.0, 4.0, 6.0, 10])\n",
    "y = np.array([0, -0.157, -0.315, -0.472, -0.629, -0.942, -1.255, -1.884, -3.147])\n",
    "plt.plot(x, y, 'bo')\n",
    "plt.xlabel('x')\n",
    "plt.ylabel('y')"
   ]
  },
  {
   "cell_type": "markdown",
   "metadata": {},
   "source": [
    "You can see it looks pretty linear, so we will fit a line to it. According to our equations, we need to construct an array where one column is the x-values and one column is ones. Those correspond to the parameters $m x$ and $b$.\n",
    "\n"
   ]
  },
  {
   "cell_type": "code",
   "execution_count": 24,
   "metadata": {
    "collapsed": false
   },
   "outputs": [
    {
     "name": "stdout",
     "output_type": "stream",
     "text": [
      "[[ 168.5   28. ]\n",
      " [  28.     9. ]]\n"
     ]
    }
   ],
   "source": [
    "X = np.column_stack([x, x**0])\n",
    "print(X.T @ X)"
   ]
  },
  {
   "cell_type": "code",
   "execution_count": 31,
   "metadata": {
    "collapsed": false
   },
   "outputs": [
    {
     "name": "stdout",
     "output_type": "stream",
     "text": [
      "p2:  [-0.31452218  0.00062457]\n",
      "The slope is -0.3145221843003412 and intercept is 0.0006245733788392549\n"
     ]
    },
    {
     "data": {
      "text/plain": [
       "<matplotlib.text.Text at 0x10eddcba8>"
      ]
     },
     "execution_count": 31,
     "metadata": {},
     "output_type": "execute_result"
    },
    {
     "data": {
      "image/png": "[encoded data removed]",
      "text/plain": [
       "<matplotlib.figure.Figure at 0x10e86f4a8>"
      ]
     },
     "metadata": {},
     "output_type": "display_data"
    }
   ],
   "source": [
    "# p = (X.T X)^{-1} X.T y\n",
    "#  I find these intermediate variables make it easier to read\n",
    "XTX = np.dot(X.T, X)\n",
    "XTy = np.dot(X.T, y)\n",
    "\n",
    "p = np.dot(np.linalg.inv(XTX), XTy)\n",
    "\n",
    "print('p2: ',np.linalg.inv(X.T @ X) @ X.T @ y)\n",
    "\n",
    "slope, intercept = p # note the order in X\n",
    "print('The slope is {0} and intercept is {1}'.format(slope, intercept))\n",
    "\n",
    "# plot data and fit\n",
    "plt.plot(x, y, 'bo')\n",
    "plt.plot(x, np.dot(X, p), 'r--')\n",
    "plt.plot(x, slope * x + intercept, 'k.-')\n",
    "plt.xlabel('x')\n",
    "plt.ylabel('y')"
   ]
  },
  {
   "cell_type": "markdown",
   "metadata": {},
   "source": [
    "You should always plot the fitted function over the data to visually assess the quality of the fit.\n",
    "\n",
    "The error in the fit is defined as: $\\bf{e} = \\bf{y} - \\bf{X}\\cdot \\bf{p}$.  We can compute the summed squared error as $SSE = \\bf{e} \\cdot \\bf{e}$.  We define $SST = \\sum (\\bf{y} - \\overline{y})^2 = (\\bf{y} - \\overline{y})\\cdot(\\bf{y} - \\overline{y})$\n",
    "\n",
    "We can use that to compute $R^2 = 1 - SSE/SST$ which roughly corresponds to the fraction of variance in the data explained by the model. Let us calculate the R^2 value.\n",
    "\n"
   ]
  },
  {
   "cell_type": "code",
   "execution_count": 1,
   "metadata": {
    "collapsed": false
   },
   "outputs": [
    {
     "name": "stdout",
     "output_type": "stream",
     "text": [
      "array([-0.00062457, -0.00036348, -0.00110239, -0.0008413 , -0.0005802 ,\n",
      "        0.00094198,  0.00246416,  0.00250853, -0.00240273])\n",
      "R-squared = 0.9999972914903201"
     ]
    }
   ],
   "source": [
    "import pprint\n",
    "e = y - np.dot(X,p)\n",
    "pprint.pprint(e)\n",
    "\n",
    "SSE = np.dot(e, e)\n",
    "\n",
    "yb = y - np.mean(y)\n",
    "SST = np.dot(yb, yb)\n",
    "Rsq = 1 - SSE/SST\n",
    "\n",
    "print('R-squared = {0} '.format(Rsq))"
   ]
  },
  {
   "cell_type": "markdown",
   "metadata": {},
   "source": [
    "The R^2 tells you how much of the variation in the data is explained by the model. A value of 1 tells you all the variation is explained. Values less than one means the model is incomplete in some way. Here the value is close to one, which suggests a good fit.\n",
    "\n",
    "\n",
    "# Polynomial fitting\n",
    "\n",
    "If you are just interested in fitting a polynomial, there are easier ways. \n",
    "\n",
    "1.  [numpy.polyfit](https://docs.scipy.org/doc/numpy/reference/generated/numpy.polyfit.html)\n",
    "\n"
   ]
  },
  {
   "cell_type": "code",
   "execution_count": 34,
   "metadata": {
    "collapsed": false
   },
   "outputs": [
    {
     "name": "stdout",
     "output_type": "stream",
     "text": [
      "[ -1.47316293e-04  -3.13082708e-01  -1.09570886e-03]\n"
     ]
    }
   ],
   "source": [
    "x = np.array([0, 0.5, 1, 1.5, 2.0, 3.0, 4.0, 6.0, 10])\n",
    "y = np.array([0, -0.157, -0.315, -0.472, -0.629, -0.942, -1.255, -1.884, -3.147])\n",
    "\n",
    "p = np.polyfit(x, y, 1)\n",
    "print(p)"
   ]
  },
  {
   "cell_type": "markdown",
   "metadata": {},
   "source": [
    "It is also easy to evaluate the fitted polynomial at data points with [numpy.polyval](https://docs.scipy.org/doc/numpy/reference/generated/numpy.polyval.html)\n",
    "\n"
   ]
  },
  {
   "cell_type": "code",
   "execution_count": 33,
   "metadata": {
    "collapsed": false
   },
   "outputs": [
    {
     "data": {
      "text/plain": [
       "<matplotlib.text.Text at 0x10ef72668>"
      ]
     },
     "execution_count": 33,
     "metadata": {},
     "output_type": "execute_result"
    },
    {
     "data": {
      "image/png": "[encoded data removed]",
      "text/plain": [
       "<matplotlib.figure.Figure at 0x10e7066a0>"
      ]
     },
     "metadata": {},
     "output_type": "display_data"
    }
   ],
   "source": [
    "plt.plot(x, y, 'bo ')\n",
    "\n",
    "# evaluate the fit on the original fitted data\n",
    "plt.plot(x, np.polyval(p, x), 'r--')\n",
    "\n",
    "# evaluate the fit on an array of values\n",
    "xfit = np.linspace(0, 10)\n",
    "yfit = np.polyval(p, xfit)\n",
    "plt.plot(xfit, yfit, 'k-.')\n",
    "\n",
    "plt.xlabel('x')\n",
    "plt.ylabel('y')"
   ]
  },
  {
   "cell_type": "markdown",
   "metadata": {},
   "source": [
    "\n",
    "# Uncertainty in parameter estimation\n",
    "\n",
    "It is important to consider the uncertainty on the parameters.  pycse has a [pycse.regress](https://www.google.com/#safe=off&q=pycse.regress) function for that.  We specify a confidence level, typically 95%, &alpha; = (100 - %confidence level)/100\n",
    "\n",
    "Note if you get an error about not having pycse you may need to run this block:\n",
    "\n"
   ]
  },
  {
   "cell_type": "code",
   "execution_count": 1,
   "metadata": {
    "collapsed": false
   },
   "outputs": [
    {
     "name": "stdout",
     "output_type": "stream",
     "text": [
      "Collecting pycse==1.6.3\n",
      "Requirement already satisfied: quantities==0.10.1 in /Users/jkitchin/anaconda3/lib/python3.5/site-packages (from pycse==1.6.3)\n",
      "Installing collected packages: pycse\n",
      "  Found existing installation: pycse 0.6.2\n",
      "    Can't uninstall 'pycse'. No files were found to uninstall.\n",
      "Successfully installed pycse-1.6.3\n"
     ]
    }
   ],
   "source": [
    "!pip install pycse==1.6.3"
   ]
  },
  {
   "cell_type": "code",
   "execution_count": 35,
   "metadata": {
    "collapsed": false
   },
   "outputs": [
    {
     "name": "stdout",
     "output_type": "stream",
     "text": [
      "The slope is between [-0.31500091 -0.31404346] \n",
      "at the 95% confidence level\n",
      "The intercept is between [-0.00144683  0.00269598] \n",
      "at the 95% confidence level\n"
     ]
    }
   ],
   "source": [
    "from pycse import regress\n",
    "\n",
    "# Choose 95% confidence level\n",
    "alpha = 1 - 0.95\n",
    "p, pint, se = regress(X, y, alpha)\n",
    "slope_interval, intercept_interval = pint\n",
    "\n",
    "print('The slope is between {0} \\n'\n",
    "      'at the 95% confidence level'.format(slope_interval))\n",
    "\n",
    "print('The intercept is between {0} \\n'\n",
    "      'at the 95% confidence level'.format(intercept_interval))"
   ]
  },
  {
   "cell_type": "markdown",
   "metadata": {},
   "source": [
    "Note in this case that the second parameter includes 0.  We cannot conclude that this parameter is significant.  A simpler model with the intercept fixed at 0 might be better.\n",
    "\n",
    "The size of the confidence intervals depends on the number of data points, the number of estimated parameters, and the confidence level.\n",
    "\n",
    "Read the [regress](https://github.com/jkitchin/pycse/blob/master/pycse/PYCSE.py#L7) source code to learn how the confidence intervals are calculated.\n",
    "\n",
    "\n",
    "# Applications in determining a rate constant and reaction order\n",
    "\n",
    "Rate constants and reaction orders are determined by using models that are fit to experimental data.  A common case is to monitor concentration vs. time in a constant volume, batch reactor.  We consider the disappearance of $A$.\n",
    "\n",
    "From the mole balance we know:\n",
    "$\\frac{dN_A}{dt} = r_A V$\n",
    "\n",
    "Let us assume the rate law is of the form: $r = k C_A^\\alpha$ and a constant volume so that:\n",
    "$\\frac{dC_A}{dt} = -k C_A^\\alpha $\n",
    "\n",
    "Note in this example that the derivative is linear in $k$ and nonlinear in &alpha;.\n",
    "\n",
    "Let us be loose with mathematics, rearrange the equation, and take the log of both sides. By loose I mean we take logs of quantities that are not dimensionless, and the log of a dimension is not really defined.\n",
    "\n",
    "$ \\ln(-\\frac{dC_A}{dt}) = \\ln{k} + \\alpha \\ln C_A $\n",
    "\n",
    "Now, we have a function that is linear in &alpha;, and linear in $\\ln k$.\n",
    "\n",
    "This suggests that if we could numerically compute $\\frac{dC_A}{dt}$ from our data of $C_A(t)$ then a plot of the log of the negative derivative vs the log of concentration would have an intercept equal to the log of the rate constant, $k$, and a slope equal to the reaction order $\\alpha$.\n",
    "\n",
    "Given the following data, determine the reaction order in A and the rate constant with 95% confidence intervals. \n",
    "\n",
    "We will use the [pycse.deriv](https://www.google.com/#safe=off&q=pycse.deriv) function to numerically compute centered 2-point finite difference approximations to the derivatives. This works best when the $x$ points are evenly spaced, and they should be monotically increasing or decreasing.\n",
    "\n",
    "Read the [deriv](https://github.com/jkitchin/pycse/blob/master/pycse/PYCSE.py#L182) source code to learn how the derivatives are approximated, and what options are available.\n",
    "\n"
   ]
  },
  {
   "cell_type": "code",
   "execution_count": 37,
   "metadata": {
    "collapsed": false
   },
   "outputs": [
    {
     "name": "stdout",
     "output_type": "stream",
     "text": [
      "[ -2.400e-04  -1.940e-04  -1.240e-04  -8.400e-05  -6.100e-05  -4.800e-05\n",
      "  -4.200e-05]\n"
     ]
    }
   ],
   "source": [
    "np.set_printoptions(precision=3)  # alternate approach to printing accuracy\n",
    "from pycse import deriv, regress\n",
    "\n",
    "t = [0, 50, 100, 150, 200, 250, 300]\n",
    "Ca = [0.05, 0.038, 0.0306, 0.0256, 0.0222, 0.0195, 0.0174]\n",
    "\n",
    "# calculate numerical derivatives\n",
    "dCadt = deriv(t, Ca)\n",
    "print(dCadt)"
   ]
  },
  {
   "cell_type": "code",
   "execution_count": 39,
   "metadata": {
    "collapsed": false
   },
   "outputs": [
    {
     "data": {
      "text/plain": [
       "[<matplotlib.lines.Line2D at 0x110e6d390>]"
      ]
     },
     "execution_count": 39,
     "metadata": {},
     "output_type": "execute_result"
    },
    {
     "data": {
      "image/png": "[encoded data removed]",
      "text/plain": [
       "<matplotlib.figure.Figure at 0x110dbc470>"
      ]
     },
     "metadata": {},
     "output_type": "display_data"
    }
   ],
   "source": [
    "# do the transformation\n",
    "x = np.log(Ca)\n",
    "y = np.log(-dCadt)\n",
    "plt.plot(x, y, 'bo')"
   ]
  },
  {
   "cell_type": "code",
   "execution_count": 40,
   "metadata": {
    "collapsed": false
   },
   "outputs": [
    {
     "name": "stdout",
     "output_type": "stream",
     "text": [
      "[[-3.95  -1.725]\n",
      " [ 1.482  2.097]]\n"
     ]
    }
   ],
   "source": [
    "# setup and do the regression\n",
    "# column of ones and x:  y = b + mx\n",
    "X = np.column_stack([x**0, x])\n",
    "\n",
    "p, pint, se = regress(X, y, 0.05)\n",
    "print(pint)"
   ]
  },
  {
   "cell_type": "code",
   "execution_count": 41,
   "metadata": {
    "collapsed": false
   },
   "outputs": [
    {
     "name": "stdout",
     "output_type": "stream",
     "text": [
      "-r_A = 0.06 C_A^1.79\n",
      "alpha = [ 1.482  2.097] at the 95% confidence level\n",
      "k = [ 0.019  0.178] at the 95% confidence level\n"
     ]
    },
    {
     "data": {
      "text/plain": [
       "<matplotlib.text.Text at 0x110f05518>"
      ]
     },
     "execution_count": 41,
     "metadata": {},
     "output_type": "execute_result"
    },
    {
     "data": {
      "image/png": "[encoded data removed]",
      "text/plain": [
       "<matplotlib.figure.Figure at 0x10e86b358>"
      ]
     },
     "metadata": {},
     "output_type": "display_data"
    }
   ],
   "source": [
    "intercept_range = pint[0]\n",
    "alpha_range = pint[1]\n",
    "\n",
    "k_range = np.exp(intercept_range)\n",
    "\n",
    "k, alpha = np.exp(p[0]), p[1]\n",
    "print('-r_A = {:1.2f} C_A^{:1.2f}'.format(k, alpha))\n",
    "print('alpha = {0} at the 95% confidence level'.format(alpha_range))\n",
    "print('k = {0} at the 95% confidence level'.format(k_range))\n",
    "\n",
    "# always visually inspect the fit\n",
    "plt.plot(x, y,'ko ')\n",
    "plt.plot(x, np.dot(X, p))\n",
    "plt.xlabel('$\\ln(C_A)$')\n",
    "plt.ylabel('$\\ln(-dC_A/dt)$')"
   ]
  },
  {
   "cell_type": "markdown",
   "metadata": {},
   "source": [
    "You can see there is a reasonably large range of values for the rate constant and reaction order (although the confidence interval does not contain zero)\n",
    "\n",
    "There is uncertainty in the data.  In each concentration measurement there is uncertainty in the time and value of concentration. You need more data to reduce the uncertainty. You may also need better data to reduce the uncertainty.\n",
    "\n",
    "Derivatives tend to *magnify* errors in data.  The method we used to fit the data contributed to the uncertainty. We also *nonlinearly* transformed the errors by taking logs and exp of the data and results, which may have skewed the confidence limits.\n",
    "\n",
    "\n",
    "# Summary points\n",
    "\n",
    "We often try to use linear regression because once you formulate the expression, determining the parameters is done easily with linear algebra.\n",
    "\n",
    "However, sometimes we have to use nonlinear transformations of the data to get a linear regression formulation, and this can skew the errors.\n",
    "\n",
    "There are several new Python commands to get familiar with in this lecture.\n",
    "\n",
    "1.  [numpy.column_stack](https://docs.scipy.org/doc/numpy/reference/generated/numpy.column_stack.html)  - stack 1-D arrays as columns\n",
    "2.  [numpy.row_stack](https://docs.scipy.org/doc/numpy/reference/generated/numpy.row_stack.html) - stack 1-D arrays as rows\n",
    "3.  [numpy.linalg.inv](https://docs.scipy.org/doc/numpy/reference/generated/numpy.linalg.inv.html) - inverse of a square matrix\n",
    "4.  [numpy.dot](https://docs.scipy.org/doc/numpy/reference/generated/numpy.dot.html) - dot product\n",
    "5.  [numpy.ones](https://docs.scipy.org/doc/numpy/reference/generated/numpy.ones.html) - make an array of ones\n",
    "6.  [numpy.polyfit](https://docs.scipy.org/doc/numpy/reference/generated/numpy.polyfit.html) - fit a polynomial to data\n",
    "7.  [numpy.polyval](https://docs.scipy.org/doc/numpy/reference/generated/numpy.polyval.html) - evaluate a fitted polynomial at data points\n",
    "8.  [pycse.deriv](https://www.google.com/#safe=off&q=pycse.deriv) - Compute numerical derivatives\n",
    "9.  [pycse.regress](https://www.google.com/#safe=off&q=pycse.regress) - linear regression with uncertainty\n",
    "\n"
   ]
  }
 ],
 "metadata": {
  "kernelspec": {
   "display_name": "Python 3",
   "language": "python",
   "name": "python3"
  },
  "language_info": {
   "codemirror_mode": {
    "name": "ipython",
    "version": 3
   },
   "file_extension": ".py",
   "mimetype": "text/x-python",
   "name": "python",
   "nbconvert_exporter": "python",
   "pygments_lexer": "ipython3",
   "version": "3.5.2"
  },
  "org": {
   "KEYWORDS": "linear regression"
  }
 },
 "nbformat": 4,
 "nbformat_minor": 0
}
