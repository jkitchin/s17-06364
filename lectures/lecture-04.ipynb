{
 "cells": [
  {
   "cell_type": "markdown",
   "metadata": {},
   "source": [
    "[Lecture 3](./lecture-03.ipynb)\n",
    "\n",
    "\n",
    "# Comparing the size of flow reactors Ch 2.4\n",
    "\n",
    "For the CSTR we have seen that:\n",
    "\n",
    " $V = \\frac{1}{-r_A} F_{A0} X$ \n",
    "\n",
    "and for the PFR we have\n",
    "\n",
    " $V = F_{A0} \\int_0^X \\frac{1}{-r_A} dX$ \n",
    "\n",
    "These two equations are related. Let's consider some data (Table 2-1 Fogler):\n",
    "\n"
   ]
  },
  {
   "cell_type": "code",
   "execution_count": 1,
   "metadata": {
    "collapsed": false
   },
   "outputs": [
    {
     "name": "stdout",
     "output_type": "stream",
     "text": []
    }
   ],
   "source": [
    "import numpy as np\n",
    "X = np.array([0, 0.1, 0.2, 0.4, 0.6, 0.7, 0.8])\n",
    "ra = -np.array([0.45, 0.37, 0.30, 0.195, 0.113, 0.079, 0.05])"
   ]
  },
  {
   "cell_type": "markdown",
   "metadata": {},
   "source": [
    "Now, let's plot the data in a form known as a Levenspiel plot.\n",
    "\n"
   ]
  },
  {
   "cell_type": "code",
   "execution_count": 1,
   "metadata": {
    "collapsed": false
   },
   "outputs": [
    {
     "name": "stdout",
     "output_type": "stream",
     "text": []
    },
    {
     "data": {
      "image/png": "[encoded data removed]",
      "text/plain": [
       "<matplotlib.figure.Figure>"
      ]
     },
     "metadata": {},
     "output_type": "display_data"
    }
   ],
   "source": [
    "%matplotlib inline\n",
    "import matplotlib.pyplot as plt\n",
    "\n",
    "plt.plot(X, 1 / -ra, 'bo-')\n",
    "plt.xlabel('Conversion (X)')\n",
    "plt.ylabel(r'$\\frac{1}{-r_A}$')\n",
    "plt.grid()"
   ]
  },
  {
   "cell_type": "markdown",
   "metadata": {},
   "source": [
    "Now, we can interpret the volume of a CSTR to be proportional to the area of a rectangle that is defined by  $F_{A0} X \\frac{1}{-r_A}$ .\n",
    "\n",
    "The volume of the PFR, in contrast, is the area under this curve up to the desired conversion. So, for this reaction, the PFR will always have a lower volume than a CSTR for a given conversion. Here is a graphical representation of this.\n",
    "\n"
   ]
  },
  {
   "cell_type": "code",
   "execution_count": 1,
   "metadata": {
    "collapsed": false
   },
   "outputs": [
    {
     "name": "stdout",
     "output_type": "stream",
     "text": []
    },
    {
     "data": {
      "image/png": "[encoded data removed]",
      "text/plain": [
       "<matplotlib.figure.Figure>"
      ]
     },
     "metadata": {},
     "output_type": "display_data"
    }
   ],
   "source": [
    "ira = 1 / -ra\n",
    "plt.subplot(1, 2, 1)\n",
    "plt.plot(X, ira, 'bo-')\n",
    "plt.xlabel('Conversion (X)')\n",
    "plt.ylabel(r'$\\frac{1}{-r_A}$')\n",
    "plt.grid()\n",
    "plt.title('CSTR')\n",
    "plt.fill_between([0, X[5]], [ira[5],  ira[5]], alpha=0.5)\n",
    "\n",
    "plt.subplot(1, 2, 2)\n",
    "plt.title('PFR')\n",
    "plt.plot(X, ira, 'bo-')\n",
    "plt.xlabel('Conversion (X)')\n",
    "plt.ylabel(r'$\\frac{1}{-r_A}$')\n",
    "plt.grid()\n",
    "plt.fill_between(X[0:6], ira[0:6], alpha=0.5)\n",
    "plt.tight_layout()"
   ]
  },
  {
   "cell_type": "markdown",
   "metadata": {},
   "source": [
    "Let's suppose that  $F_{A0}=0.4$ mol/s, and estimate the volume required for a CSTR and PFR at 80% conversion. For the CSTR we have:\n",
    "\n"
   ]
  },
  {
   "cell_type": "code",
   "execution_count": 1,
   "metadata": {
    "collapsed": false
   },
   "outputs": [
    {
     "name": "stdout",
     "output_type": "stream",
     "text": [
      "The volume of the CSTR is 6.40 m^3"
     ]
    }
   ],
   "source": [
    "Fa0 = 0.4  # mol / s\n",
    "\n",
    "V = Fa0 * X[-1] * (1 / -ra)[-1]\n",
    "\n",
    "print('The volume of the CSTR is {:1.3f} m^3'.format(V))"
   ]
  },
  {
   "cell_type": "markdown",
   "metadata": {},
   "source": [
    "The PFR is a little more difficult. We have to perform an integral of the discrete data. We can use the trapezoid method of integration:\n",
    "\n"
   ]
  },
  {
   "cell_type": "code",
   "execution_count": 1,
   "metadata": {
    "collapsed": false
   },
   "outputs": [
    {
     "name": "stdout",
     "output_type": "stream",
     "text": [
      "The volume of the PFR is 2.200 m^3"
     ]
    }
   ],
   "source": [
    "from scipy.integrate import trapz\n",
    "\n",
    "V = Fa0 * trapz(1 / -ra, X)\n",
    "\n",
    "print('The volume of the PFR is {:1.3f} m^3'.format(V))"
   ]
  },
  {
   "cell_type": "markdown",
   "metadata": {},
   "source": [
    "Or Simpson's method:\n",
    "\n"
   ]
  },
  {
   "cell_type": "code",
   "execution_count": 1,
   "metadata": {
    "collapsed": false
   },
   "outputs": [
    {
     "name": "stdout",
     "output_type": "stream",
     "text": [
      "The volume of the PFR is 2.150 m^3"
     ]
    }
   ],
   "source": [
    "from scipy.integrate import simps\n",
    "\n",
    "V = Fa0 * simps(1 / -ra, X)\n",
    "\n",
    "print('The volume of the PFR is {:1.3f} m^3'.format(V))"
   ]
  },
  {
   "cell_type": "markdown",
   "metadata": {},
   "source": [
    "Neither is \"right\", they both involve approximations to the true value of the integral.\n",
    "\n",
    "Now, what do we do for conversions between the known data points?\n",
    "\n",
    "\n",
    "# Interpolation\n",
    "\n",
    "What about the volume of a reactor at X=0.5? We do not have data there, and we have no way to get new data. You have to interpolate to get the answer. The best way to do this is to let Python do the interpolating for you by creating an interpolating function.\n",
    "\n"
   ]
  },
  {
   "cell_type": "code",
   "execution_count": 1,
   "metadata": {
    "collapsed": false
   },
   "outputs": [
    {
     "name": "stdout",
     "output_type": "stream",
     "text": [
      "-0.154"
     ]
    }
   ],
   "source": [
    "from scipy.interpolate import interp1d\n",
    "\n",
    "f = interp1d(X, ra)\n",
    "print(f(0.5))"
   ]
  },
  {
   "cell_type": "code",
   "execution_count": 1,
   "metadata": {
    "collapsed": false
   },
   "outputs": [
    {
     "name": "stdout",
     "output_type": "stream",
     "text": [
      "The volume of the CSTR is 1.299 m^3 at X=0.5"
     ]
    }
   ],
   "source": [
    "X5 = 0.5\n",
    "ra5 = f(X5)\n",
    "V = Fa0 * X5 * (1 / -ra5)\n",
    "\n",
    "print('The volume of the CSTR is {:1.3f} m^3 at X={}.'.format(V, X5))"
   ]
  },
  {
   "cell_type": "markdown",
   "metadata": {},
   "source": [
    "For the PFR we have some decisions to make. The best path might be to use quad. This is the simple approach that \n",
    "\n"
   ]
  },
  {
   "cell_type": "code",
   "execution_count": 1,
   "metadata": {
    "collapsed": false
   },
   "outputs": [
    {
     "name": "stdout",
     "output_type": "stream",
     "text": [
      "The volume of the PFR is 0.776 m^3 at X=0.5."
     ]
    }
   ],
   "source": [
    "from scipy.integrate import quad\n",
    "\n",
    "def integrand(X):\n",
    "    return Fa0 / -f(X)\n",
    "\n",
    "ans, err = quad(integrand, 0, X5)\n",
    "print('The volume of the PFR is {:1.3f} m^3 at X={}.'.format(ans, X5))"
   ]
  },
  {
   "cell_type": "markdown",
   "metadata": {},
   "source": [
    "**Exercise**: An alternative to interpolating on - $r_A$ is to interpolate on  $1 / -r_A$ . Make an array of 50 points in X, compute  $-r_A$ on it, and then plot  $1/-r_A$ along with the known data points for  $-1/-r_A$ . Does it look weird to you?  What do you think is happening?\n",
    "\n",
    "\n",
    "# Reactors in series (Ch 2.5)\n",
    "\n",
    "It is common to put reactors in a series. Maybe because it results in a lower volume, and maybe because there is no single reactor that is large enough.\n",
    "\n",
    "We have to figure out a way to model these. It is useful to define conversion at a point in the stream as:\n",
    "\n",
    " $X_i = \\frac{\\textrm{Total moles reacted at point i}}{\\textrm{Total moles fed to first reactor}}$ \n",
    "\n",
    "Then, we have at point  $i$ that  $F_A = F_{A0}(1 - X_i)$ .\n",
    "\n",
    "\n",
    "## Example in Ch 2.5.1\n",
    "\n",
    "Our goal is to find the volumes of these two reactors that result in a conversion of 0.4 out of the first reactor, and 0.8 out of the second reactor. \n",
    "\n",
    "![img](https://raw.githubusercontent.com/jkitchin/s17-06364/master/lectures/images/cstr-series.png)\n",
    "\n",
    "The following data is provided:\n",
    "\n"
   ]
  },
  {
   "cell_type": "code",
   "execution_count": 1,
   "metadata": {
    "collapsed": false
   },
   "outputs": [
    {
     "name": "stdout",
     "output_type": "stream",
     "text": []
    }
   ],
   "source": [
    "X = np.array([0.0, 0.1, 0.2, 0.4, 0.6, 0.7, 0.8])\n",
    "\n",
    "# F_{A0} / -ra (m^3)\n",
    "Fra = np.array([0.89, 1.09, 1.33, 2.05, 3.54, 5.06, 8.0])"
   ]
  },
  {
   "cell_type": "markdown",
   "metadata": {},
   "source": [
    "The first reactor is straightforward,\n",
    "\n",
    " $V_1 = \\frac{F_{A0}}{-r_{A, X_1}} X_1$ \n",
    "\n",
    "In the data, the fourth data point corresponds to a conversion of 0.4, and we use indexing to get the 4th point (remember indexes start at 0, so the fourth data point is index=3).\n",
    "\n"
   ]
  },
  {
   "cell_type": "code",
   "execution_count": 1,
   "metadata": {
    "collapsed": false
   },
   "outputs": [
    {
     "name": "stdout",
     "output_type": "stream",
     "text": [
      "<IPython.core.display.HTML object>"
     ]
    }
   ],
   "source": [
    "X1 = X[3]\n",
    "V1 = Fra[3] * X1\n",
    "\n",
    "# Just for fun, we can get nicer display of superscripts like this.\n",
    "from IPython.core.display import HTML\n",
    "HTML('The volume of the first reactor is {:1.2f} m<sup>3</sup>.'.format(V1))"
   ]
  },
  {
   "cell_type": "markdown",
   "metadata": {},
   "source": [
    "If you prefer Latex, you can do this instead.\n",
    "\n"
   ]
  },
  {
   "cell_type": "code",
   "execution_count": 1,
   "metadata": {
    "collapsed": false
   },
   "outputs": [
    {
     "name": "stdout",
     "output_type": "stream",
     "text": []
    }
   ],
   "source": [
    "from IPython.core.display import Latex\n",
    "Latex('The volume of the first reactor is {:1.2f} m$^3$.'.format(V1))"
   ]
  },
  {
   "cell_type": "markdown",
   "metadata": {},
   "source": [
    "While we are looking at alternate output formats, let's look at another kind of notebook magic. You can use %%html in the first line of a cell, and the contents will be rendered in that formats.\n",
    "\n"
   ]
  },
  {
   "cell_type": "code",
   "execution_count": 22,
   "metadata": {
    "collapsed": false
   },
   "outputs": [
    {
     "data": {
      "text/html": [
       "You can put html like <font color=\"green\">colored text</font> in your notebooks. You can put subscripts like H<sub>2</sub>O and superscripts like m<sup>3</sup> if you want to. These are just tools for making <i>your</i> documents look nicer."
      ],
      "text/plain": [
       "<IPython.core.display.HTML object>"
      ]
     },
     "metadata": {},
     "output_type": "display_data"
    }
   ],
   "source": [
    "%%html\n",
    "You can put html like <font color=\"green\">colored text</font> in your notebooks. You can put subscripts like H<sub>2</sub>O and superscripts like m<sup>3</sup> if you want to. These are just tools for making <i>your</i> documents look nicer."
   ]
  },
  {
   "cell_type": "markdown",
   "metadata": {},
   "source": [
    "Ok, back to the second reactor.\n",
    "\n",
    "The molar flow going into the reactor is  $F_{A1} = F_{A0}(1 - X_1)$ . At point 2 we have  $F_{A2} = F_{A0}(1 - X_2)$ . The mole balance becomes:\n",
    "\n",
    " $0 = F_{A1} - F_{A2} + r_A V_2$ \n",
    "\n",
    "We can solve this for  $V_2$ as:\n",
    "\n",
    " $V_2 = F_{A0} / r_A ((1 - X_2) - (1 - X_1))$ \n",
    "\n",
    "I would stop the solution here. We can further simplify it, but there is no need. At X=0.8, we know from the data that  $F_{A0} / r_A = 8.0$ , so we can simply evaluate the expression.\n",
    "\n"
   ]
  },
  {
   "cell_type": "code",
   "execution_count": 1,
   "metadata": {
    "collapsed": false
   },
   "outputs": [
    {
     "name": "stdout",
     "output_type": "stream",
     "text": []
    }
   ],
   "source": [
    "X2 = X[-1]\n",
    "V2 = -Fra[-1] * ((1 - X2) - (1 - X1))\n",
    "HTML('The volume of the second reactor is {:1.2f} m<sup>3</sup>.'.format(V2))"
   ]
  },
  {
   "cell_type": "markdown",
   "metadata": {},
   "source": [
    "Graphically we have this on the Levenspiel plot:\n",
    "\n"
   ]
  },
  {
   "cell_type": "code",
   "execution_count": 1,
   "metadata": {
    "collapsed": false
   },
   "outputs": [
    {
     "name": "stdout",
     "output_type": "stream",
     "text": []
    },
    {
     "data": {
      "image/png": "[encoded data removed]",
      "text/plain": [
       "<matplotlib.figure.Figure>"
      ]
     },
     "metadata": {},
     "output_type": "display_data"
    }
   ],
   "source": [
    "plt.plot(X, Fra, 'bo-')\n",
    "plt.xlabel('X')\n",
    "plt.ylabel('Fa0/-ra')\n",
    "plt.fill_between([0, X1], [Fra[3], Fra[3]], color='r', alpha=0.5, label='CSTR 1')\n",
    "plt.fill_between([X1, X2], [Fra[-1], Fra[-1]], color='g', alpha=0.5, label='CSTR 2')\n",
    "plt.legend(loc='best')"
   ]
  },
  {
   "cell_type": "markdown",
   "metadata": {},
   "source": [
    "**Exercise** Work out example 2-6 using the Jupyter notebook. Verify that you get the same volumes, and the same plot as in Figure 2-8.\n",
    "\n",
    "\n",
    "# Adiabatic isomerization\n",
    "\n",
    "The reaction  $n-C_4H_{10} \\rightarrow i-C_4H_{10}$ is exothermic. If it is run in an adiabatic reactor, the temperature in the reactor will be a function of conversion, and so the rate will not be a simple function of just concentration. You can see in the data below that the rate appears to increase initially, then decrease. For isothermal reactions, we expect the rate to only decrease as the reactants are consumed. Here the reactants are consumed, but the rate goes up because the temperature is increasing.\n",
    "\n"
   ]
  },
  {
   "cell_type": "code",
   "execution_count": 1,
   "metadata": {
    "collapsed": false
   },
   "outputs": [
    {
     "name": "stdout",
     "output_type": "stream",
     "text": []
    }
   ],
   "source": [
    "X = np.array([0, 0.2, 0.4, 0.6, 0.65])\n",
    "ra = -np.array([39, 53, 59, 38, 25])  # kmol/m^3/h"
   ]
  },
  {
   "cell_type": "markdown",
   "metadata": {},
   "source": [
    "Our goal here is to design three reactors in this configuration and determine the volumes of each reactor for an entering molar flow of 50 kmol/hr of n-butane.\n",
    "\n",
    "![img](https://raw.githubusercontent.com/jkitchin/s17-06364/master/lectures/images/example-2-7.png)\n",
    "\n",
    "First, we compute the Levenspiel quantities. This will help us solve the problem because the volumes of these reactors are related to the Levenspiel quantities.\n",
    "\n"
   ]
  },
  {
   "cell_type": "code",
   "execution_count": 1,
   "metadata": {
    "collapsed": false
   },
   "outputs": [
    {
     "name": "stdout",
     "output_type": "stream",
     "text": [
      "V1 = 0.189 m^3"
     ]
    }
   ],
   "source": [
    "Fa0 = 50 # kmol/hr\n",
    "Fra = Fa0 / -ra\n",
    "\n",
    "X1 = 0.2\n",
    "V1 = Fra[1] * X1\n",
    "print('V1 = {:1.3f} m^3'.format(V1))"
   ]
  },
  {
   "cell_type": "markdown",
   "metadata": {},
   "source": [
    "For the PFR, we have to evaluate the integral:\n",
    "\n",
    " $V_2 = \\int_{X_1}^{X_2} \\left(\\frac{F_{A0}}{-r_A}\\right)dX$ \n",
    "\n",
    "We have discrete data so we will use Simpson's method. We use indexing to access the data we want. Remember that [1:4] means take the data starting at index=1 (the second point) up to but not including index=4. So there will be three data points. It is always a good idea to check that we get what we want. \n",
    "\n"
   ]
  },
  {
   "cell_type": "code",
   "execution_count": 1,
   "metadata": {
    "collapsed": false
   },
   "outputs": [
    {
     "name": "stdout",
     "output_type": "stream",
     "text": [
      "[ 0.2  0.4  0.6]"
     ]
    }
   ],
   "source": [
    "print(X[1:4])"
   ]
  },
  {
   "cell_type": "markdown",
   "metadata": {},
   "source": [
    "So, that shows us we get the data for X1=0.2 to X2=0.6.\n",
    "\n"
   ]
  },
  {
   "cell_type": "code",
   "execution_count": 1,
   "metadata": {
    "collapsed": false
   },
   "outputs": [
    {
     "name": "stdout",
     "output_type": "stream",
     "text": [
      "V2 = 0.377 m^3"
     ]
    }
   ],
   "source": [
    "from scipy.integrate import simps\n",
    "\n",
    "V2 = simps(Fra[1:4], X[1:4])\n",
    "print('V2 = {:1.3f} m^3'.format(V2))"
   ]
  },
  {
   "cell_type": "markdown",
   "metadata": {},
   "source": [
    "Finally, for the final CSTR we just evaluate:\n",
    "\n",
    " $V_3 = Fa0 / r_A (X3 - X2)$ \n",
    "\n"
   ]
  },
  {
   "cell_type": "code",
   "execution_count": 1,
   "metadata": {
    "collapsed": false
   },
   "outputs": [
    {
     "name": "stdout",
     "output_type": "stream",
     "text": [
      "V3 = 0.100 m^3"
     ]
    }
   ],
   "source": [
    "X3 = 0.65\n",
    "X2 = 0.6\n",
    "V3 = Fra[-1] * (X3 - X2)\n",
    "print('V3 = {:1.3f} m^3'.format(V3))"
   ]
  },
  {
   "cell_type": "markdown",
   "metadata": {},
   "source": [
    "Note the style here of breaking up the code cells with intermediate narrative text. I want you to do that too in your homework.\n",
    "\n",
    "Graphically we have this:\n",
    "\n"
   ]
  },
  {
   "cell_type": "code",
   "execution_count": 1,
   "metadata": {
    "collapsed": false
   },
   "outputs": [
    {
     "name": "stdout",
     "output_type": "stream",
     "text": []
    },
    {
     "data": {
      "image/png": "[encoded data removed]",
      "text/plain": [
       "<matplotlib.figure.Figure>"
      ]
     },
     "metadata": {},
     "output_type": "display_data"
    }
   ],
   "source": [
    "plt.plot(X, Fra, 'ro-')\n",
    "plt.xlabel('X')\n",
    "plt.ylabel('Fa0/-ra (m^3)')\n",
    "plt.fill_between([0, X1], [Fra[1], Fra[1]], color='m', hatch='\\\\', alpha=0.5, label='CSTR1')\n",
    "plt.fill_between(X[1:4], Fra[1:4], hatch='X', color='y', label='PFR', alpha=0.5)\n",
    "plt.fill_between([X2, X3], [Fra[-1], Fra[-1]], color='g', hatch='+', alpha=0.5, label='CSTR2')\n",
    "plt.legend(loc='best')"
   ]
  },
  {
   "cell_type": "markdown",
   "metadata": {},
   "source": [
    "**Exercise** It looks like you could have an overall smaller volume with two reactors. What two reactors are they, and how should they be configured?\n",
    "\n",
    "Next lecture: [./lecture-05.ipynb](./lecture-05.ipynb)\n",
    "\n",
    "\n",
    "# New concepts\n",
    "\n",
    "1.  Numerical integration of discrete data: [scipy.integrate.trapz](https://docs.scipy.org/doc/scipy/reference/generated/scipy.integrate.trapz.html) and [scipy.integrate.simps](https://docs.scipy.org/doc/scipy/reference/generated/scipy.integrate.simps.html)\n",
    "2.  Interpolation: [scipy.interpolate.interp1d](https://docs.scipy.org/doc/scipy/reference/generated/scipy.interpolate.interp1d.html)\n",
    "3.  Plotting subplots, shaded areas, and the legend\n",
    "    -   [matplotlib.pyplot.subplot](https://www.google.com/#safe=off&q=matplotlib.pyplot.subplot)\n",
    "    -   [matplotlib.pyplot.fill_between](https://www.google.com/#safe=off&q=matplotlib.pyplot.fill_between)\n",
    "    -   [matplotlib.pyplot.legend](https://www.google.com/#safe=off&q=matplotlib.pyplot.legend)\n",
    "\n",
    "You should complete reading Chapter 2 this week.\n",
    "\n"
   ]
  }
 ],
 "metadata": {
  "kernelspec": {
   "display_name": "Python 3",
   "language": "python",
   "name": "python3"
  },
  "language_info": {
   "codemirror_mode": {
    "name": "ipython",
    "version": 3
   },
   "file_extension": ".py",
   "mimetype": "text/x-python",
   "name": "python",
   "nbconvert_exporter": "python",
   "pygments_lexer": "ipython3",
   "version": "3.5.2"
  },
  "org": {
   "RESULTS": ""
  }
 },
 "nbformat": 4,
 "nbformat_minor": 0
}
