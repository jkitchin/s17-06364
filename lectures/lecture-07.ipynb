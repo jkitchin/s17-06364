{
 "cells": [
  {
   "cell_type": "markdown",
   "metadata": {},
   "source": [
    "- TITLE: \n",
    "- AUTHOR: John Kitchin\n"
   ]
  },
  {
   "cell_type": "markdown",
   "metadata": {},
   "source": [
    "[./lecture-06.ipynb](./lecture-06.ipynb)\n",
    "\n",
    "\n",
    "# Engineering applications of mole balances\n",
    "\n",
    "So far you have learned to design a variety of reactors with single reactions occurring in them. Usually, we need additional information to tell us which reactor design is better, e.g. a larger volume with low volumetric flow rate vs. a smaller volume with higher volumetric flow rate. That information may be the cost of different configurations, or the profit from different configurations. Today we integrate some of these ideas.\n",
    "\n",
    "\n",
    "## Total cost example\n",
    "\n",
    "Let us consider a simple model for the total cost of an operation. Let the total cost be the operating cost of the reactor plus the cost of the feedstocks. \n",
    "\n",
    "The operating cost of a reactor can be determined by amortizing the reactor cost over some length of time, and adding the cost required for maintenance, and paying workers.\n",
    "\n",
    "-   The units of this cost will usually be dollars/volume/time\n",
    "-   The cost of operating the reactor then is $C_R = V_R operating_{cost}$\n",
    "\n",
    "Feedstock costs are related to the cost of raw materials times the rate at which they are consumed.\n",
    "\n",
    "-   The cost associated with each reactant will be $C_{j} = F_j reactant_{cost}$ if $reactant_{cost}$ is in $/mol.\n",
    "\n",
    "Let us consider an example. $Y$ is produced at a rate of 90 kmol/min in a CSTR by the reaction $X \\rightarrow Y$ at a reaction rate of $r = 0.1 C_X$ (kmol/m<sup>3</sup>/min)  with an inlet concentration of $C_{X0} = 1.5$ kmol/m<sup>3</sup>.  The reactant $X$ costs $1.20 per kmol. The cost of the reactor is 0.1 per minute per cubic meter. If we discard unreacted X, what is the minimum cost of making Y?\n",
    "\n",
    "We need to know the volume and volumetric flow that will minimize the total cost.\n",
    "\n",
    "We have a mole balance on X:\n",
    "\n",
    "\\begin{align}\n",
    "0 = F_{X0} - F_X + r_X V \\\\\n",
    "0 = F_{X0} - C_X v_0 - k C_X V\n",
    "\\end{align}\n",
    "\n",
    "We have two unknowns and one equation, but if we specify one variable, we can solve for the other one.\n",
    "\n",
    "Let us start by specifying a $v_0$, and solving for $V$, then we calculate the cost. Then we vary $v_0$ to minimize the cost.\n",
    "\n",
    "There are some bounds on $v_0$: We must have at least 90 kmol/min of X entering the reactor to produce 90 kmol/min of Y\n",
    "\n",
    "-   Actually that would be a conversion of 100%, which is not reasonable.\n",
    "-   Let us assume 90% conversion is acceptable for now, which means $v_0$ must be at least 100 kmol/min / 1.5 mol/m<sup>3</sup> &asymp; 66 m<sup>3</sup>/min.\n",
    "\n",
    "First we define what we know.\n",
    "\n"
   ]
  },
  {
   "cell_type": "code",
   "execution_count": 2,
   "metadata": {
    "collapsed": true
   },
   "outputs": [],
   "source": [
    "from scipy.optimize import fsolve\n",
    "import numpy as np\n",
    "\n",
    "k = 0.1    # rate constant 1/min\n",
    "Cx0 = 1.5  # initial concentration M\n",
    "Fy = 90.0  # exit molar flow of Y mol/min\n",
    "\n",
    "reactor_cost = 0.1  # $/m^3\n",
    "Xcost = 1.20        # $/kmol"
   ]
  },
  {
   "cell_type": "markdown",
   "metadata": {},
   "source": [
    "Next, we can define an objective function. This is the function we need to solve to find the volume of a reactor if the volumetric flow is specified. We define it like a regular objective function, but we add a second argument that will be a *parameter* for the volumetric flow.\n",
    "\n"
   ]
  },
  {
   "cell_type": "code",
   "execution_count": 3,
   "metadata": {
    "collapsed": true
   },
   "outputs": [],
   "source": [
    "def objective(V, v0):\n",
    "    Fx0 = Cx0 * v0\n",
    "    Fx = Fx0 - Fy\n",
    "    Cx = Fx / v0\n",
    "    rx = -k * Cx\n",
    "    return Fx0 - Fx + rx * V"
   ]
  },
  {
   "cell_type": "markdown",
   "metadata": {},
   "source": [
    "Then, we define a range of volumetric flows to calculate the cost for, and a function for the cost. So we will create a range of volumetric flows from 66 to 200 m<sup>3</sup>/min. For each value, we pass it as an args parameter to the objective function, and then we solve for the reactor volume. Once we have the volume we can calculate the reactor cost, and with the volumetric flow calculate the reactant cost. Finally, we compute the cost of the operation. If we have selected the initial range correctly, we will see a minimum.\n",
    "\n"
   ]
  },
  {
   "cell_type": "code",
   "execution_count": 11,
   "metadata": {
    "collapsed": false
   },
   "outputs": [
    {
     "name": "stdout",
     "output_type": "stream",
     "text": [
      "[ 13200.           9442.99065421   7477.58007117   6268.96551724\n",
      "   5450.60240964   4859.75103734   4413.1147541    4063.63636364\n",
      "   3782.72327965   3552.           3359.11872705   3195.47511312\n",
      "   3054.88958991   2932.80943026   2825.80645161   2731.25         2647.08777687\n",
      "   2571.69517885   2503.76940133   2442.25352113   2386.28110289\n",
      "   2335.13513514   2288.21714991   2245.02369668   2205.12820513\n",
      "   2168.16684962   2133.82742192   2101.8404908    2071.97231834\n",
      "   2044.01913876   2017.80250348   1993.16546763   1969.96944566\n",
      "   1948.09160305   1927.42268041   1907.86516854   1889.33177022\n",
      "   1871.74409749   1855.03156331   1839.13043478   1823.98302087\n",
      "   1809.53697305   1795.74468085   1782.56274769   1769.95153473\n",
      "   1757.87476281   1746.29916383   1735.19417476   1724.53166815\n",
      "   1714.28571429]\n",
      "[ 13200.           9442.99065421   7477.58007117   6268.96551724\n",
      "   5450.60240964   4859.75103734   4413.1147541    4063.63636364\n",
      "   3782.72327965   3552.           3359.11872705   3195.47511312\n",
      "   3054.88958991   2932.80943026   2825.80645161   2731.25         2647.08777687\n",
      "   2571.69517885   2503.76940133   2442.25352113   2386.28110289\n",
      "   2335.13513514   2288.21714991   2245.02369668   2205.12820513\n",
      "   2168.16684962   2133.82742192   2101.8404908    2071.97231834\n",
      "   2044.01913876   2017.80250348   1993.16546763   1969.96944566\n",
      "   1948.09160305   1927.42268041   1907.86516854   1889.33177022\n",
      "   1871.74409749   1855.03156331   1839.13043478   1823.98302087\n",
      "   1809.53697305   1795.74468085   1782.56274769   1769.95153473\n",
      "   1757.87476281   1746.29916383   1735.19417476   1724.53166815\n",
      "   1714.28571429]\n"
     ]
    }
   ],
   "source": [
    "import numpy as np\n",
    "\n",
    "v0 = np.linspace(66, 200)\n",
    "\n",
    "def get_volume(v0):\n",
    "    Fx0 = Cx0 * v0\n",
    "    Fx = Fx0 - Fy\n",
    "    Cx = Fx / v0\n",
    "    rx = -k * Cx\n",
    "    return (Fx - Fx0) / rx\n",
    "\n",
    "VOL = [get_volume(v) for v in v0]\n",
    "print((Cx0 * v0 - Fy - Cx0 * v0) / (-k * (Cx0 * v0 - Fy) / v0) *2) \n"
   ]
  },
  {
   "cell_type": "code",
   "execution_count": 21,
   "metadata": {
    "collapsed": true
   },
   "outputs": [],
   "source": [
    "from scipy.optimize import fsolve\n",
    "import numpy as np\n",
    "\n",
    "v0 = np.linspace(66, 200, 200)\n",
    "\n",
    "def cost_func(vol_flow):\n",
    "    V, = fsolve(objective, 10000, args=(vol_flow,))\n",
    "    CR = reactor_cost * V\n",
    "    CX = vol_flow * Cx0 * Xcost\n",
    "    return (CR + CX) / Fy  # cost in $/mol Y\n",
    "\n",
    "cost = [cost_func(v) for v in v0]"
   ]
  },
  {
   "cell_type": "markdown",
   "metadata": {},
   "source": [
    "Now we plot the cost function.\n",
    "\n"
   ]
  },
  {
   "cell_type": "code",
   "execution_count": 22,
   "metadata": {
    "collapsed": false
   },
   "outputs": [
    {
     "data": {
      "text/plain": [
       "<matplotlib.text.Text at 0x10e22dac8>"
      ]
     },
     "execution_count": 22,
     "metadata": {},
     "output_type": "execute_result"
    },
    {
     "data": {
      "image/png": "[encoded data removed]",
      "text/plain": [
       "<matplotlib.figure.Figure at 0x10e07f6a0>"
      ]
     },
     "metadata": {},
     "output_type": "display_data"
    }
   ],
   "source": [
    "%matplotlib inline\n",
    "import matplotlib.pyplot as plt\n",
    "plt.plot(v0, cost, 'b.-')\n",
    "imin = np.argmin(cost)\n",
    "plt.plot(v0[imin],cost[imin], 'ro')\n",
    "plt.xlabel('volumetric flow')\n",
    "plt.ylabel('Cost ($/mol)')"
   ]
  },
  {
   "cell_type": "markdown",
   "metadata": {},
   "source": [
    "Here we get the approximate minimum of the cost, and the corresponding volumetric flow.\n",
    "\n"
   ]
  },
  {
   "cell_type": "code",
   "execution_count": 23,
   "metadata": {
    "collapsed": false
   },
   "outputs": [
    {
     "name": "stdout",
     "output_type": "stream",
     "text": [
      "Min cost of $3.66 at V=105.06 m^{3}\n"
     ]
    }
   ],
   "source": [
    "imin = np.argmin(cost)\n",
    "print('Min cost of ${:1.2f} at V={:1.2f} m^{{3}}'.format(cost[imin], v0[imin]))"
   ]
  },
  {
   "cell_type": "markdown",
   "metadata": {},
   "source": [
    "The cost at low volumetric flow is dominated by the increasing reactor size. The cost at high volumetric flow is dominated by the cost of the feedstock $X$. \n",
    "\n",
    "**Exercise**: Show that the costs in the example above are dominated by reactor volume at low flowrate, and reactant cost at high flowrate.\n",
    "\n",
    "\n",
    "# Profit example\n",
    "\n",
    "Now, let us consider profit. Profit is the difference between the value of the products and the cost to make them. Say compound X with a concentration of 2.5 kmol / m<sup>3</sup> flows at a rate of 12 m<sup>3</sup>/min into a tubular reactor where it is converted to $Y$.\n",
    "\n",
    "The reaction occurs at a rate of $r = 30.0 C_X$ 1/min. $Y$ has a value $V_Y$ of \\$1.50 / kmol, and the cost of reactor operation $C_R$ is $2.50 per minute per m<sup>3</sup>. What is the maximum profit?\n",
    "\n",
    "The value of the products will be $F_Y V_Y$ and the operating cost will be $V_R C_R$. We have to compute the exit molar flow of product as a function of reactor volume, and then compute the profit for each volume.\n",
    "\n",
    "Here we set up mole balances on $X$ and $Y$.\n",
    "\n",
    "-   It is not strictly necessary, we could just get $F_X$, and compute $F_Y$ by stoichiometry later\n",
    "-   Instead, we compute $F_Y$ in the solution\n",
    "\n",
    "As before we start by defining what we know.\n",
    "\n"
   ]
  },
  {
   "cell_type": "code",
   "execution_count": 24,
   "metadata": {
    "collapsed": true
   },
   "outputs": [],
   "source": [
    "import numpy as np\n",
    "from scipy.integrate import odeint\n",
    "import matplotlib.pyplot as plt\n",
    "\n",
    "k = 30.0\n",
    "CX0 = 2.5 # kmol / m^3\n",
    "v0 = 12.0 # m^3 / min\n",
    "FX0 = CX0 * v0\n",
    "FY0 = 0.0"
   ]
  },
  {
   "cell_type": "markdown",
   "metadata": {},
   "source": [
    "Next we define the ODE and solve it. Note we have two coupled ODEs here:\n",
    "\n",
    "$\\frac{dF_x}{dV} = r_x$\n",
    "\n",
    "$\\frac{dF_y}{dV} = r_y$\n",
    "\n",
    "with\n",
    "\n",
    "$r = k C_x$\n",
    "\n",
    "and by stoichiometry:\n",
    "\n",
    "$\\frac{r_x}{-1} = \\frac{r_y}{1} = r$.\n",
    "\n",
    "So, the first variable to our ode function will actually hold two values: $F_x$ and $F_y$, and the function must return two values, one for each ode.\n",
    "\n"
   ]
  },
  {
   "cell_type": "code",
   "execution_count": 32,
   "metadata": {
    "collapsed": false
   },
   "outputs": [
    {
     "name": "stdout",
     "output_type": "stream",
     "text": [
      "[[  3.00000000e+01   0.00000000e+00]\n",
      " [  2.57423155e+01   4.25768446e+00]\n",
      " [  2.20888937e+01   7.91110635e+00]\n",
      " [  1.89539757e+01   1.10460243e+01]\n",
      " [  1.62639741e+01   1.37360259e+01]\n",
      " [  1.39557450e+01   1.60442550e+01]\n",
      " [  1.19751064e+01   1.80248936e+01]\n",
      " [  1.02755657e+01   1.97244343e+01]\n",
      " [  8.81722846e+00   2.11827715e+01]\n",
      " [  7.56586257e+00   2.24341374e+01]\n",
      " [  6.49209406e+00   2.35079059e+01]\n",
      " [  5.57071781e+00   2.44292822e+01]\n",
      " [  4.78010587e+00   2.52198941e+01]\n",
      " [  4.10169980e+00   2.58983002e+01]\n",
      " [  3.51957503e+00   2.64804250e+01]\n",
      " [  3.02006704e+00   2.69799330e+01]\n",
      " [  2.59145064e+00   2.74085494e+01]\n",
      " [  2.22366467e+00   2.77763353e+01]\n",
      " [  1.90807593e+00   2.80919241e+01]\n",
      " [  1.63727643e+00   2.83627236e+01]\n",
      " [  1.40490955e+00   2.85950904e+01]\n",
      " [  1.20552084e+00   2.87944792e+01]\n",
      " [  1.03442993e+00   2.89655701e+01]\n",
      " [  8.87620724e-01   2.91123793e+01]\n",
      " [  7.61647094e-01   2.92383529e+01]\n",
      " [  6.53551996e-01   2.93464480e+01]\n",
      " [  5.60798059e-01   2.94392019e+01]\n",
      " [  4.81208021e-01   2.95187920e+01]\n",
      " [  4.12913628e-01   2.95870864e+01]\n",
      " [  3.54311765e-01   2.96456882e+01]\n",
      " [  3.04026844e-01   2.96959732e+01]\n",
      " [  2.60878500e-01   2.97391215e+01]\n",
      " [  2.23853890e-01   2.97761461e+01]\n",
      " [  1.92083917e-01   2.98079161e+01]\n",
      " [  1.64822828e-01   2.98351772e+01]\n",
      " [  1.41430709e-01   2.98585693e+01]\n",
      " [  1.21358465e-01   2.98786415e+01]\n",
      " [  1.04134933e-01   2.98958651e+01]\n",
      " [  8.93558113e-02   2.99106442e+01]\n",
      " [  7.66741840e-02   2.99233258e+01]\n",
      " [  6.57923687e-02   2.99342076e+01]\n",
      " [  5.64549311e-02   2.99435451e+01]\n",
      " [  4.84426889e-02   2.99515573e+01]\n",
      " [  4.15675670e-02   2.99584324e+01]\n",
      " [  3.56681813e-02   2.99643318e+01]\n",
      " [  3.06060528e-02   2.99693939e+01]\n",
      " [  2.62623561e-02   2.99737376e+01]\n",
      " [  2.25351294e-02   2.99774649e+01]\n",
      " [  1.93368807e-02   2.99806631e+01]\n",
      " [  1.65925364e-02   2.99834075e+01]]\n"
     ]
    }
   ],
   "source": [
    "def dFdV(F, V):\n",
    "    Fx, Fy = F\n",
    "    Cx = Fx / v0\n",
    "    r = k * Cx\n",
    "    rx = -r\n",
    "    ry =  r\n",
    "    dFxdV = rx\n",
    "    dFydV = ry\n",
    "    return [dFxdV, dFydV]\n",
    "\n",
    "Vspan = np.linspace(0, 3)\n",
    "\n",
    "sol = odeint(dFdV, [FX0, FY0], Vspan)\n",
    "print(sol)\n",
    "Fy = sol[:, 1]\n",
    "\n",
    "# I prefer this syntax now.\n",
    "_, Fy = sol.T\n",
    "\n",
    "Fy_lc = np.array([x[1] for x in sol])"
   ]
  },
  {
   "cell_type": "markdown",
   "metadata": {},
   "source": [
    "With the solution in hand, we can calculate the product value and operating cost, and finally the profit.\n",
    "\n"
   ]
  },
  {
   "cell_type": "code",
   "execution_count": 30,
   "metadata": {
    "collapsed": false
   },
   "outputs": [
    {
     "data": {
      "text/plain": [
       "<matplotlib.text.Text at 0x10da85358>"
      ]
     },
     "execution_count": 30,
     "metadata": {},
     "output_type": "execute_result"
    },
    {
     "data": {
      "image/png": "[encoded data removed]",
      "text/plain": [
       "<matplotlib.figure.Figure at 0x10ea39eb8>"
      ]
     },
     "metadata": {},
     "output_type": "display_data"
    }
   ],
   "source": [
    "V_Y = 1.50 # $/kmol\n",
    "C_R = 2.50 # $/m^3/min\n",
    "\n",
    "product_value = Fy * V_Y\n",
    "operating_cost = Vspan * C_R\n",
    "\n",
    "profit = product_value - operating_cost\n",
    "plt.plot(Vspan, profit)\n",
    "plt.xlabel('Reactor volume (m$^3$)')\n",
    "plt.ylabel('Profit ($)')"
   ]
  },
  {
   "cell_type": "markdown",
   "metadata": {},
   "source": [
    "As before we can estimate the maximum pretty accurately with the index of the maximum value in the profit array.\n",
    "\n"
   ]
  },
  {
   "cell_type": "code",
   "execution_count": 1,
   "metadata": {
    "collapsed": false
   },
   "outputs": [
    {
     "name": "stdout",
     "output_type": "stream",
     "text": [
      "25\n",
      "Max profit of $40.19 at V = 1.53 m^3."
     ]
    }
   ],
   "source": [
    "imax = np.argmax(profit)\n",
    "print(imax)\n",
    "print('Max profit of ${:1.2f} at V = {:1.2f} m^3.'.format(profit[imax], Vspan[imax]))"
   ]
  },
  {
   "cell_type": "markdown",
   "metadata": {},
   "source": [
    "You can see a maximum in profit at a reactor volume of about 1.5 m<sup>3</sup>. To get a more quantitative answer, we need to use optimization. We need to define an objective function to minimize.  The profit goes through a maximum, so -profit will go through a minimum. \n",
    "\n",
    "We will use an optional argument to our profit function that determines the sign of the return value. For the optimization we set the sign to be -1. After we have a solution we use the default sign of +1 to compute the profit. This is just for convenience. You could multiply by &plusmn; 1 as needed.\n",
    "\n"
   ]
  },
  {
   "cell_type": "code",
   "execution_count": 1,
   "metadata": {
    "collapsed": false
   },
   "outputs": [
    {
     "name": "stdout",
     "output_type": "stream",
     "text": [
      "40.1931703548\n",
      "Optimization terminated successfully.\n",
      "         Current function value: -40.193337\n",
      "         Iterations: 11\n",
      "         Function evaluations: 22\n",
      "Maximum profit is $40.19 at V = 1.52 m^{3}"
     ]
    }
   ],
   "source": [
    "def profit(V, sign=1):\n",
    "   F = odeint(dFdV, [FX0, FY0], [0, V])\n",
    "   FY = F[-1, 1]\n",
    "   profit = FY * V_Y - V * C_R\n",
    "   return profit * sign\n",
    "\n",
    "print(profit(1.53))\n",
    "\n",
    "from scipy.optimize import fmin\n",
    "\n",
    "opt_V, = fmin(profit, 1.5, args=(-1,))\n",
    "print('Maximum profit is ${:1.2f} at V = {:1.2f} m^{{3}}'.format(profit(opt_V), opt_V))"
   ]
  },
  {
   "cell_type": "markdown",
   "metadata": {},
   "source": [
    "You can see the results are quite close in this case. That is because we use 50 points in the graph, and near the maximum the profit does not change much. \n",
    "\n",
    "\n",
    "# Summary\n",
    "\n",
    "We introduced one new idea in this lecture: optimization. This is usually a minimization, but it can also be a maximization. You need to use optimization when you have conflicting objectives, e.g. you want a high conversion, but it takes large reactors to achieve that, which may not be cost effective.\n",
    "\n",
    "The first example we solved graphically, and with the second example we showed a more quantitative approach using [scipy.optimize.fmin](https://docs.scipy.org/doc/scipy/reference/generated/scipy.optimize.fmin.html). That function is like [scipy.optimize.fsolve](https://docs.scipy.org/doc/scipy/reference/generated/scipy.optimize.fsolve.html), except it minimizes an objective function rather than solving it. You could think of it like solving for the first derivative being equal to zero.\n",
    "\n",
    "Otherwise, we have simply combined some simple ideas that couple reactor design with other information about the cost of operation, and simple definitions of cost and profit.\n",
    "\n"
   ]
  }
 ],
 "metadata": {
  "kernelspec": {
   "display_name": "Python 3",
   "language": "python",
   "name": "python3"
  },
  "language_info": {
   "codemirror_mode": {
    "name": "ipython",
    "version": 3
   },
   "file_extension": ".py",
   "mimetype": "text/x-python",
   "name": "python",
   "nbconvert_exporter": "python",
   "pygments_lexer": "ipython3",
   "version": "3.5.2"
  },
  "org": {
   "AUTHOR": "John Kitchin",
   "KEYWORDS": "engineering applications",
   "TITLE": ""
  }
 },
 "nbformat": 4,
 "nbformat_minor": 0
}
