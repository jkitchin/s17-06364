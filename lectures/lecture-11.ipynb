{
 "cells": [
  {
   "cell_type": "markdown",
   "metadata": {},
   "source": [
    "\n",
    "\n",
    "# Parameter estimation with nonlinear regression\n",
    "\n",
    "Nonlinear models are abundant in reaction engineering. For example,  $r = k C_A^n $ is linear in the $k$ parameter, and nonlinear in $n$.\n",
    "\n",
    "Nonlinear fitting is essentially a non-linear optimization problem. Unlike linear regression, where we directly compute the parameters using matrix algebra, we have to provide an initial guess and iterate to the solution in non-linear regression.\n",
    "\n",
    "Similar to using fsolve, we must define a function of the model. The function takes an independent variable, and parameters, f(x, a, b,&#x2026;). The function should return a value of $y$ for every value of $x$, i.e. it should be vectorized.\n",
    "\n",
    "It is possible to formulate these problems as nonlinear minimization of summed squared errors. See [this example](http://jkitchin.github.io/blog/2013/02/18/Nonlinear-curve-fitting/). The function [scipy.optimize.curve_fit](https://docs.scipy.org/doc/scipy/reference/generated/scipy.optimize.curve_fit.html) provides nonlinear fitting of models (functions) to data.\n",
    "\n",
    "Here is an example usage. We are given some data and we want to fit the function $f(x) = \\frac{a x}{b + x}$ to the data and find the values of $a$ and $b$.\n",
    "\n"
   ]
  },
  {
   "cell_type": "code",
   "execution_count": 7,
   "metadata": {
    "collapsed": false
   },
   "outputs": [
    {
     "data": {
      "text/plain": [
       "[<matplotlib.lines.Line2D at 0x11043def0>]"
      ]
     },
     "execution_count": 7,
     "metadata": {},
     "output_type": "execute_result"
    },
    {
     "data": {
      "image/png": "[encoded data removed]",
      "text/plain": [
       "<matplotlib.figure.Figure at 0x10fbce5c0>"
      ]
     },
     "metadata": {},
     "output_type": "display_data"
    }
   ],
   "source": [
    "import numpy as np\n",
    "from scipy.optimize import curve_fit\n",
    "\n",
    "x = np.array([0.5, 0.387, 0.24, 0.136, 0.04, 0.011])\n",
    "y = np.array([1.255, 1.25, 1.189, 1.124, 0.783, 0.402])\n",
    "\n",
    "%matplotlib inline\n",
    "import matplotlib.pyplot as plt\n",
    "plt.plot(x,y,'bo ')"
   ]
  },
  {
   "cell_type": "code",
   "execution_count": 9,
   "metadata": {
    "collapsed": true
   },
   "outputs": [],
   "source": [
    "# this is the function we want to fit to our data\n",
    "def func(x, a, b):\n",
    "    'nonlinear function in a and b to fit to data'\n",
    "    return a * x / (b + x)"
   ]
  },
  {
   "cell_type": "code",
   "execution_count": 16,
   "metadata": {
    "collapsed": false
   },
   "outputs": [
    {
     "data": {
      "text/plain": [
       "0.5"
      ]
     },
     "execution_count": 16,
     "metadata": {},
     "output_type": "execute_result"
    }
   ],
   "source": [
    "# x = 1, func returns one value\n",
    "func(x=1, a=1, b=1)"
   ]
  },
  {
   "cell_type": "code",
   "execution_count": 18,
   "metadata": {
    "collapsed": false
   },
   "outputs": [
    {
     "data": {
      "text/plain": [
       "array([ 0.5  ,  0.667])"
      ]
     },
     "execution_count": 18,
     "metadata": {},
     "output_type": "execute_result"
    }
   ],
   "source": [
    "# x = an array, func returns an array of values\n",
    "func(x=np.array([1, 2]), a=1, b=1)"
   ]
  },
  {
   "cell_type": "code",
   "execution_count": 23,
   "metadata": {
    "collapsed": false
   },
   "outputs": [
    {
     "data": {
      "text/plain": [
       "array([-0.255, -0.296, -0.342, -0.432, -0.44 , -0.283])"
      ]
     },
     "execution_count": 23,
     "metadata": {},
     "output_type": "execute_result"
    }
   ],
   "source": [
    "func(x, 1.2, 0.1) - y"
   ]
  },
  {
   "cell_type": "code",
   "execution_count": 24,
   "metadata": {
    "collapsed": false
   },
   "outputs": [
    {
     "name": "stdout",
     "output_type": "stream",
     "text": [
      "a = 1.3275314289266469 and b=0.02646155910186084\n"
     ]
    }
   ],
   "source": [
    "initial_guess = [1, 2]\n",
    "\n",
    "pars, pcov = curve_fit(func, x, y, p0=initial_guess)\n",
    "\n",
    "a, b = pars\n",
    "print('a = {0} and b={1}'.format(a, b))"
   ]
  },
  {
   "cell_type": "code",
   "execution_count": 27,
   "metadata": {
    "collapsed": false
   },
   "outputs": [
    {
     "data": {
      "text/plain": [
       "<matplotlib.text.Text at 0x110737a20>"
      ]
     },
     "execution_count": 27,
     "metadata": {},
     "output_type": "execute_result"
    },
    {
     "data": {
      "image/png": "[encoded data removed]",
      "text/plain": [
       "<matplotlib.figure.Figure at 0x110722400>"
      ]
     },
     "metadata": {},
     "output_type": "display_data"
    }
   ],
   "source": [
    "xfit = np.linspace(min(x), max(x))\n",
    "yfit = func(xfit, *pars)  # New syntax!!!\n",
    "yfit = func(xfit, a, b) \n",
    "plt.plot(x, y, 'bo')\n",
    "plt.plot(xfit,yfit, 'b.-')\n",
    "plt.legend(['data', 'fit'], loc='best')\n",
    "plt.xlabel('x')\n",
    "plt.ylabel('y')"
   ]
  },
  {
   "cell_type": "markdown",
   "metadata": {},
   "source": [
    "You should always visually inspect the fit. Consider this different guess.\n",
    "\n"
   ]
  },
  {
   "cell_type": "code",
   "execution_count": 29,
   "metadata": {
    "collapsed": false
   },
   "outputs": [
    {
     "name": "stdout",
     "output_type": "stream",
     "text": [
      "Help on function curve_fit in module scipy.optimize.minpack:\n",
      "\n",
      "curve_fit(f, xdata, ydata, p0=None, sigma=None, absolute_sigma=False, check_finite=True, bounds=(-inf, inf), method=None, jac=None, **kwargs)\n",
      "    Use non-linear least squares to fit a function, f, to data.\n",
      "    \n",
      "    Assumes ``ydata = f(xdata, *params) + eps``\n",
      "    \n",
      "    Parameters\n",
      "    ----------\n",
      "    f : callable\n",
      "        The model function, f(x, ...).  It must take the independent\n",
      "        variable as the first argument and the parameters to fit as\n",
      "        separate remaining arguments.\n",
      "    xdata : An M-length sequence or an (k,M)-shaped array\n",
      "        for functions with k predictors.\n",
      "        The independent variable where the data is measured.\n",
      "    ydata : M-length sequence\n",
      "        The dependent data --- nominally f(xdata, ...)\n",
      "    p0 : None, scalar, or N-length sequence, optional\n",
      "        Initial guess for the parameters.  If None, then the initial\n",
      "        values will all be 1 (if the number of parameters for the function\n",
      "        can be determined using introspection, otherwise a ValueError\n",
      "        is raised).\n",
      "    sigma : None or M-length sequence, optional\n",
      "        If not None, the uncertainties in the ydata array. These are used as\n",
      "        weights in the least-squares problem\n",
      "        i.e. minimising ``np.sum( ((f(xdata, *popt) - ydata) / sigma)**2 )``\n",
      "        If None, the uncertainties are assumed to be 1.\n",
      "    absolute_sigma : bool, optional\n",
      "        If False, `sigma` denotes relative weights of the data points.\n",
      "        The returned covariance matrix `pcov` is based on *estimated*\n",
      "        errors in the data, and is not affected by the overall\n",
      "        magnitude of the values in `sigma`. Only the relative\n",
      "        magnitudes of the `sigma` values matter.\n",
      "    \n",
      "        If True, `sigma` describes one standard deviation errors of\n",
      "        the input data points. The estimated covariance in `pcov` is\n",
      "        based on these values.\n",
      "    check_finite : bool, optional\n",
      "        If True, check that the input arrays do not contain nans of infs,\n",
      "        and raise a ValueError if they do. Setting this parameter to\n",
      "        False may silently produce nonsensical results if the input arrays\n",
      "        do contain nans. Default is True.\n",
      "    bounds : 2-tuple of array_like, optional\n",
      "        Lower and upper bounds on independent variables. Defaults to no bounds.        \n",
      "        Each element of the tuple must be either an array with the length equal\n",
      "        to the number of parameters, or a scalar (in which case the bound is\n",
      "        taken to be the same for all parameters.) Use ``np.inf`` with an\n",
      "        appropriate sign to disable bounds on all or some parameters.\n",
      "    \n",
      "        .. versionadded:: 0.17\n",
      "    method : {'lm', 'trf', 'dogbox'}, optional\n",
      "        Method to use for optimization.  See `least_squares` for more details.\n",
      "        Default is 'lm' for unconstrained problems and 'trf' if `bounds` are\n",
      "        provided. The method 'lm' won't work when the number of observations\n",
      "        is less than the number of variables, use 'trf' or 'dogbox' in this\n",
      "        case.\n",
      "    \n",
      "        .. versionadded:: 0.17\n",
      "    jac : callable, string or None, optional\n",
      "        Function with signature ``jac(x, ...)`` which computes the Jacobian\n",
      "        matrix of the model function with respect to parameters as a dense\n",
      "        array_like structure. It will be scaled according to provided `sigma`.\n",
      "        If None (default), the Jacobian will be estimated numerically.\n",
      "        String keywords for 'trf' and 'dogbox' methods can be used to select\n",
      "        a finite difference scheme, see `least_squares`.\n",
      "    \n",
      "        .. versionadded:: 0.18\n",
      "    kwargs\n",
      "        Keyword arguments passed to `leastsq` for ``method='lm'`` or\n",
      "        `least_squares` otherwise.\n",
      "    \n",
      "    Returns\n",
      "    -------\n",
      "    popt : array\n",
      "        Optimal values for the parameters so that the sum of the squared error\n",
      "        of ``f(xdata, *popt) - ydata`` is minimized\n",
      "    pcov : 2d array\n",
      "        The estimated covariance of popt. The diagonals provide the variance\n",
      "        of the parameter estimate. To compute one standard deviation errors\n",
      "        on the parameters use ``perr = np.sqrt(np.diag(pcov))``.\n",
      "    \n",
      "        How the `sigma` parameter affects the estimated covariance\n",
      "        depends on `absolute_sigma` argument, as described above.\n",
      "    \n",
      "        If the Jacobian matrix at the solution doesn't have a full rank, then\n",
      "        'lm' method returns a matrix filled with ``np.inf``, on the other hand\n",
      "        'trf'  and 'dogbox' methods use Moore-Penrose pseudoinverse to compute\n",
      "        the covariance matrix.\n",
      "    \n",
      "    Raises\n",
      "    ------\n",
      "    ValueError\n",
      "        if either `ydata` or `xdata` contain NaNs, or if incompatible options\n",
      "        are used.\n",
      "    \n",
      "    RuntimeError\n",
      "        if the least-squares minimization fails.\n",
      "    \n",
      "    OptimizeWarning\n",
      "        if covariance of the parameters can not be estimated.\n",
      "    \n",
      "    See Also\n",
      "    --------\n",
      "    least_squares : Minimize the sum of squares of nonlinear functions.\n",
      "    stats.linregress : Calculate a linear least squares regression for two sets\n",
      "                       of measurements.\n",
      "    \n",
      "    Notes\n",
      "    -----\n",
      "    With ``method='lm'``, the algorithm uses the Levenberg-Marquardt algorithm\n",
      "    through `leastsq`. Note that this algorithm can only deal with\n",
      "    unconstrained problems.\n",
      "    \n",
      "    Box constraints can be handled by methods 'trf' and 'dogbox'. Refer to\n",
      "    the docstring of `least_squares` for more information.\n",
      "    \n",
      "    Examples\n",
      "    --------\n",
      "    >>> import numpy as np\n",
      "    >>> from scipy.optimize import curve_fit\n",
      "    >>> def func(x, a, b, c):\n",
      "    ...     return a * np.exp(-b * x) + c\n",
      "    \n",
      "    >>> xdata = np.linspace(0, 4, 50)\n",
      "    >>> y = func(xdata, 2.5, 1.3, 0.5)\n",
      "    >>> ydata = y + 0.2 * np.random.normal(size=len(xdata))\n",
      "    \n",
      "    >>> popt, pcov = curve_fit(func, xdata, ydata)\n",
      "    \n",
      "    Constrain the optimization to the region of ``0 < a < 3``, ``0 < b < 2``\n",
      "    and ``0 < c < 1``:\n",
      "    \n",
      "    >>> popt, pcov = curve_fit(func, xdata, ydata, bounds=(0, [3., 2., 1.]))\n",
      "\n"
     ]
    }
   ],
   "source": [
    "help(curve_fit)"
   ]
  },
  {
   "cell_type": "code",
   "execution_count": 39,
   "metadata": {
    "collapsed": false
   },
   "outputs": [
    {
     "name": "stdout",
     "output_type": "stream",
     "text": [
      "a = 1.3275314302748182 and b=0.026461559303024948\n"
     ]
    },
    {
     "data": {
      "text/plain": [
       "<matplotlib.text.Text at 0x110fb7128>"
      ]
     },
     "execution_count": 39,
     "metadata": {},
     "output_type": "execute_result"
    },
    {
     "data": {
      "image/png": "[encoded data removed]",
      "text/plain": [
       "<matplotlib.figure.Figure at 0x110dbac18>"
      ]
     },
     "metadata": {},
     "output_type": "display_data"
    }
   ],
   "source": [
    "initial_guess = [0.1, 0.2]\n",
    "\n",
    "pars, pcov = curve_fit(func, x, y, p0=initial_guess, bounds=((-np.inf, 0), (np.inf, np.inf)))\n",
    "\n",
    "a, b = pars\n",
    "print('a = {0} and b={1}'.format(a,b))\n",
    "\n",
    "plt.plot(x,y,'bo ')\n",
    "xfit = np.linspace(min(x), max(x))\n",
    "yfit = func(xfit, *pars)\n",
    "plt.plot(xfit,yfit,'b-')\n",
    "plt.legend(['data','fit'],loc='best')\n",
    "plt.xlabel('x')\n",
    "plt.ylabel('y')"
   ]
  },
  {
   "cell_type": "markdown",
   "metadata": {},
   "source": [
    "What has happened here is the $b$ parameter became negative, and so there is a division by zero. It is still a fit in the sense that there is a local minimum in summed squared error. However, we need to know if a negative $b$ parameter has any physical meaning. If the units are volume, concentration, etc&#x2026;, it may not be physically meaningful.\n",
    "\n",
    "\n",
    "# Uncertainty in nonlinear regression\n",
    "\n",
    "We also need to estimate uncertainties in nonlinear parameters\n",
    "\n",
    "-   `pycse` provides [pycse.nlinfit](https://www.google.com/#safe=off&q=pycse.nlinfit) for this.\n",
    "\n",
    "Here is an example usage of nlinfit.\n",
    "\n"
   ]
  },
  {
   "cell_type": "code",
   "execution_count": 51,
   "metadata": {
    "collapsed": false
   },
   "outputs": [
    {
     "name": "stdout",
     "output_type": "stream",
     "text": [
      "The 95% confidence interval on a is [ 0.74   1.675]\n",
      "The 95% confidence interval on b is [-0.021  0.003]\n"
     ]
    }
   ],
   "source": [
    "np.set_printoptions(precision=3)\n",
    "from pycse import nlinfit\n",
    "\n",
    "x = np.array([0.5, 0.387, 0.24, 0.136, 0.04, 0.011])\n",
    "y = np.array([1.255, 1.25, 1.189, 1.124, 0.783, 0.402])\n",
    "\n",
    "\n",
    "def func(x, a, b):\n",
    "    'nonlinear function in a and b to fit to data'\n",
    "    #return a * x / (b + x)\n",
    "    return a + b/x\n",
    "initial_guess = [1.2, 0.03]\n",
    "alpha = 0.001\n",
    "pars, pint, se = nlinfit(func, x, y, initial_guess, alpha)\n",
    "aint, bint = np.array(pint)\n",
    "print('The 95% confidence interval on a is {0}'.format(aint))\n",
    "print('The 95% confidence interval on b is {0}'.format(bint))"
   ]
  },
  {
   "cell_type": "code",
   "execution_count": 55,
   "metadata": {
    "collapsed": false
   },
   "outputs": [],
   "source": [
    "??nlinfit"
   ]
  },
  {
   "cell_type": "code",
   "execution_count": 48,
   "metadata": {
    "collapsed": false
   },
   "outputs": [
    {
     "data": {
      "text/plain": [
       "<matplotlib.text.Text at 0x110aec898>"
      ]
     },
     "execution_count": 48,
     "metadata": {},
     "output_type": "execute_result"
    },
    {
     "data": {
      "image/png": "[encoded data removed]",
      "text/plain": [
       "<matplotlib.figure.Figure at 0x11147f780>"
      ]
     },
     "metadata": {},
     "output_type": "display_data"
    }
   ],
   "source": [
    "plt.plot(x,y,'bo ')\n",
    "xfit = np.linspace(min(x), max(x))\n",
    "yfit = func(xfit, *pars)\n",
    "plt.plot(xfit,yfit,'b-')\n",
    "plt.legend(['data','fit'],loc='best')\n",
    "plt.xlabel('x')\n",
    "plt.ylabel('y')"
   ]
  },
  {
   "cell_type": "code",
   "execution_count": null,
   "metadata": {
    "collapsed": true
   },
   "outputs": [],
   "source": [
    "pip install -U pycse==1.6.3"
   ]
  },
  {
   "cell_type": "markdown",
   "metadata": {},
   "source": [
    "Here the two intervals are relatively small, and do not include zero, suggesting both parameters are significant. More importantly, the errors are not skewed by a nonlinear transformation.\n",
    "\n",
    "Note you have to provide an initial guess. This will not always be easy to guess, and a linear regression may be a good way to get a good guess. There may be more than one minimum in the fit also, so different guesses may give different parameters.\n",
    "\n",
    "\n",
    "# Differential flow reactors for determining rate laws\n",
    "\n",
    "For many reactions it is not feasible to perform batch reactions. Especially for gas phase reactions on catalysts, a flow reactor is preferrable. If we can use a packed bed reactor with an approximately differential (i.e. a small thickness), then it is possible to directly measure the rate of reaction:\n",
    "\n",
    "$ \\frac{dF_A}{dW} = r_A $\n",
    "\n",
    "We approximate the rate as:\n",
    "\n",
    "$ r_A \\approx \\frac{F_{A,exit} - F_{A0}}{W_b} $\n",
    "\n",
    "where $W_b$ is the weight of the bed, $F_{A,exit} = \\nu C_A$ is the molar flow of $A$ out of the reactor, and $F_{A0}$ is the molar flow entering the reactor.\n",
    "\n",
    "It is important that $W_b$ is small, to keep the total conversion as small as possible while still being able to measure changes in the molar flows. Low total conversion is important so you can assume $C_A$ is essentially constant in the reactor bed.  Instead of measuring a small change in the reactants, you may also measure the increase in molar flow rate of products, which increase from zero (assuming they are not in the feed).\n",
    "\n",
    "In this reactor setup, you measure $r_A$ as a function of inlet conditions, and then fit the data to a proposed rate law.  Here is an example of rate data from a differential reactor as a function of inlet concentration of $A$.  We assume that $r_1 = k C_A^\\alpha$ and fit the model to the data.\n",
    "\n"
   ]
  },
  {
   "cell_type": "code",
   "execution_count": 53,
   "metadata": {
    "collapsed": false
   },
   "outputs": [
    {
     "name": "stdout",
     "output_type": "stream",
     "text": [
      "Estimated parameters are k=1.067250291500129, alpha=0.4461986323686289\n",
      "At the 95% confidence level:\n",
      "k is between [ 0.9    1.234]\n",
      "alpha is between [ 0.304  0.588]\n"
     ]
    }
   ],
   "source": [
    "C_A = np.array([1.0, 4.0, 2.0, 0.1, 0.5])    # mol/m^3\n",
    "r_1 = np.array([1.2, 2.0, 1.36, 0.36, 0.74]) # mol/m^3/min\n",
    "\n",
    "def rate(Ca, k, alpha):\n",
    "    return k * Ca**alpha\n",
    "\n",
    "p, pint, se = nlinfit(rate, C_A, r_1, p0=[10, 0.5], alpha=0.05)\n",
    "print('Estimated parameters are k={}, alpha={}'.format(*p))\n",
    "print('At the 95% confidence level:')\n",
    "print('k is between {0}'.format(pint[0]))\n",
    "print('alpha is between {0}'.format(pint[1]))"
   ]
  },
  {
   "cell_type": "code",
   "execution_count": 54,
   "metadata": {
    "collapsed": true
   },
   "outputs": [],
   "source": [
    "?nlinfit"
   ]
  },
  {
   "cell_type": "markdown",
   "metadata": {},
   "source": [
    "\n",
    "# Role of uncertainty in reactor design\n",
    "\n",
    "What should we do with the knowledge of uncertainty? We can use it to estimate the uncertainty in reactor design. Let's consider the design of a batch reactor that should convert 80% of reactant A in the time it is run. The question is how long should we run it? We want to be sure we achieve 80% conversion, but not run too long, since it costs money to do that. Let us use the rate law we just determined, and assume we start with an initial concentration of $A$ of 1.5M. First, we solve for the time using the estimated parameters. We can solve for the time here as:\n",
    "\n",
    "$t = \\int_{C_{A0}}^{C_A} \\frac{dC_A}{-k C_A^\\alpha}$\n",
    "\n"
   ]
  },
  {
   "cell_type": "code",
   "execution_count": 1,
   "metadata": {
    "collapsed": false
   },
   "outputs": [
    {
     "name": "stdout",
     "output_type": "stream",
     "text": [
      "t1 = 1.2492920712809759 minutes"
     ]
    }
   ],
   "source": [
    "Ca0 = 1.5 # M\n",
    "X = 0.8\n",
    "Ca = Ca0 * (1 - X)\n",
    "\n",
    "from scipy.integrate import quad\n",
    "\n",
    "def objective(ca, k, alpha):\n",
    "    return 1 / (-k * ca**alpha)\n",
    "a1, _ = quad(objective, Ca0, Ca, args=(p[0], p[1]))\n",
    "print('t1 = {} minutes'.format(a1))"
   ]
  },
  {
   "cell_type": "markdown",
   "metadata": {},
   "source": [
    "Now, what about the uncertainty though? We have uncertainty in k and alpha. Let's calculate the time for all the combinations of k and alpha to see what range of times might conceivably be possible. We can do that by looping over the confidence interval ranges and computing the times.\n",
    "\n"
   ]
  },
  {
   "cell_type": "code",
   "execution_count": 1,
   "metadata": {
    "collapsed": false
   },
   "outputs": [
    {
     "name": "stdout",
     "output_type": "stream",
     "text": [
      "(0.9000476513435338, 0.30394027629553644): t2 = 1.4262422719511303 minutes\n",
      "(0.9000476513435338, 0.5884569884417213): t2 = 1.545110933698486 minutes\n",
      "(1.234452931656724, 0.30394027629553644): t2 = 1.0398825051949792 minutes\n",
      "(1.234452931656724, 0.5884569884417213): t2 = 1.1265504186329351 minutes"
     ]
    }
   ],
   "source": [
    "for k1 in pint[0]:\n",
    "    for alpha1 in pint[1]:\n",
    "        a2, _ = quad(objective, Ca0, Ca, args=(k1, alpha1))\n",
    "        print('({}, {}): t2 = {} minutes'.format(k1, alpha1, a2))"
   ]
  },
  {
   "cell_type": "markdown",
   "metadata": {},
   "source": [
    "Visually we inspect this and see that the longest time it might take to get 80% conversion is 1.55 minutes. That is a worst-case scenario, and we might choose that because then we are pretty sure that we will get at least 80% conversion. That is for the smallest $k$ and largest $\\alpha$. We are likely to get higher than 80% conversion in this case, because the probability that the true values of $k$ and $\\alpha$ having these values is not high. The point here is that because of uncertainty, it is possible that the true time to get 80% conversion can be less than or greater than the time we estimate from the best fit parameters. \n",
    "\n",
    "The likelihood of achieving 80% conversion from the fitted parameters is only about 50%! To increase the likelihood, we have to run longer, and this is a simple approach to estimate how much longer. It does not tell us though, how much more certain we are. We examined the limits of the 95% confidence intervals. That does not imply we are 95% certain of reaching 80% conversion at 1.55 minutes though. To get a precise estimate of certainty, we need to use statistics and either analytical propagation of errors or Monte Carlo simulation. Both of these are outside the scope of this class.\n",
    "\n",
    "\n",
    "# Summary\n",
    "\n",
    "Important python functions to learn:\n",
    "\n",
    "1.  [scipy.optimize.curve_fit](https://docs.scipy.org/doc/scipy/reference/generated/scipy.optimize.curve_fit.html) - use when you only want parameters of a nonlinear model\n",
    "2.  [pycse.nlinfit](https://www.google.com/#safe=off&q=pycse.nlinfit) - use when you want parameters and uncertainty of a nonlinear model\n",
    "\n",
    "Reminders:\n",
    "\n",
    "1.  [scipy.integrate.quad](https://docs.scipy.org/doc/scipy/reference/generated/scipy.integrate.quad.html)\n",
    "2.  [pycse.regress](https://www.google.com/#safe=off&q=pycse.regress) - linear regression with uncertainty\n",
    "\n"
   ]
  }
 ],
 "metadata": {
  "kernelspec": {
   "display_name": "Python 3",
   "language": "python",
   "name": "python3"
  },
  "language_info": {
   "codemirror_mode": {
    "name": "ipython",
    "version": 3
   },
   "file_extension": ".py",
   "mimetype": "text/x-python",
   "name": "python",
   "nbconvert_exporter": "python",
   "pygments_lexer": "ipython3",
   "version": "3.5.2"
  },
  "org": {
   "KEYWORDS": "nonlinear regression"
  }
 },
 "nbformat": 4,
 "nbformat_minor": 0
}
