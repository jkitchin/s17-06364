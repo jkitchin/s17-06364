{
 "cells": [
  {
   "cell_type": "markdown",
   "metadata": {},
   "source": [
    "\n",
    "\n",
    "# Parameter estimation with nonlinear regression\n",
    "\n",
    "Nonlinear models are abundant in reaction engineering. For example,  $r = k C_A^n $ is linear in the $k$ parameter, and nonlinear in $n$.\n",
    "\n",
    "Nonlinear fitting is essentially a non-linear optimization problem. Unlike linear regression, where we directly compute the parameters using matrix algebra, we have to provide an initial guess and iterate to the solution in non-linear regression.\n",
    "\n",
    "Similar to using fsolve, we must define a function of the model. The function takes an independent variable, and parameters, f(x, a, b,&#x2026;). The function should return a value of $y$ for every value of $x$, i.e. it should be vectorized.\n",
    "\n",
    "It is possible to formulate these problems as nonlinear minimization of summed squared errors. See [this example](http://jkitchin.github.io/blog/2013/02/18/Nonlinear-curve-fitting/). The function [scipy.optimize.curve_fit](https://docs.scipy.org/doc/scipy/reference/generated/scipy.optimize.curve_fit.html) provides nonlinear fitting of models (functions) to data.\n",
    "\n",
    "Here is an example usage. We are given some data and we want to fit the function $f(x) = \\frac{a x}{b + x}$ to the data and find the values of $a$ and $b$.\n",
    "\n"
   ]
  },
  {
   "cell_type": "code",
   "execution_count": 1,
   "metadata": {
    "collapsed": false
   },
   "outputs": [
    {
     "name": "stdout",
     "output_type": "stream",
     "text": [
      "a = 1.3275314289266469 and b=0.02646155910186084\n"
     ]
    }
   ],
   "source": [
    "import numpy as np\n",
    "from scipy.optimize import curve_fit\n",
    "\n",
    "x = np.array([0.5, 0.387, 0.24, 0.136, 0.04, 0.011])\n",
    "y = np.array([1.255, 1.25, 1.189, 1.124, 0.783, 0.402])\n",
    "\n",
    "# this is the function we want to fit to our data\n",
    "def func(x, a, b):\n",
    "    'nonlinear function in a and b to fit to data'\n",
    "    return a * x / (b + x)\n",
    "\n",
    "initial_guess = [1, 2]\n",
    "\n",
    "pars, pcov = curve_fit(func, x, y, p0=initial_guess)\n",
    "\n",
    "a, b = pars\n",
    "print('a = {0} and b={1}'.format(a,b))"
   ]
  },
  {
   "cell_type": "code",
   "execution_count": 2,
   "metadata": {
    "collapsed": false
   },
   "outputs": [
    {
     "data": {
      "text/plain": [
       "<matplotlib.text.Text at 0x10fa2edd8>"
      ]
     },
     "execution_count": 2,
     "metadata": {},
     "output_type": "execute_result"
    },
    {
     "data": {
      "image/png": "[encoded data removed]",
      "text/plain": [
       "<matplotlib.figure.Figure at 0x10f842dd8>"
      ]
     },
     "metadata": {},
     "output_type": "display_data"
    }
   ],
   "source": [
    "%matplotlib inline\n",
    "import matplotlib.pyplot as plt\n",
    "plt.plot(x,y,'bo ')\n",
    "xfit = np.linspace(min(x), max(x))\n",
    "yfit = func(xfit, *pars)\n",
    "plt.plot(xfit,yfit,'b-')\n",
    "plt.legend(['data','fit'],loc='best')\n",
    "plt.xlabel('x')\n",
    "plt.ylabel('y')"
   ]
  },
  {
   "cell_type": "markdown",
   "metadata": {},
   "source": [
    "You should always visually inspect the fit. Consider this different guess.\n",
    "\n"
   ]
  },
  {
   "cell_type": "code",
   "execution_count": 3,
   "metadata": {
    "collapsed": false
   },
   "outputs": [
    {
     "name": "stdout",
     "output_type": "stream",
     "text": [
      "a = 0.4987965138154436 and b=-0.09143090905061758\n"
     ]
    },
    {
     "data": {
      "text/plain": [
       "<matplotlib.text.Text at 0x10faf59e8>"
      ]
     },
     "execution_count": 3,
     "metadata": {},
     "output_type": "execute_result"
    },
    {
     "data": {
      "image/png": "[encoded data removed]",
      "text/plain": [
       "<matplotlib.figure.Figure at 0x10faa8b00>"
      ]
     },
     "metadata": {},
     "output_type": "display_data"
    }
   ],
   "source": [
    "initial_guess = [0.1, 0.2]\n",
    "\n",
    "pars, pcov = curve_fit(func, x, y, p0=initial_guess)\n",
    "\n",
    "a, b = pars\n",
    "print('a = {0} and b={1}'.format(a,b))\n",
    "\n",
    "plt.plot(x,y,'bo ')\n",
    "xfit = np.linspace(min(x), max(x))\n",
    "yfit = func(xfit, *pars)\n",
    "plt.plot(xfit,yfit,'b-')\n",
    "plt.legend(['data','fit'],loc='best')\n",
    "plt.xlabel('x')\n",
    "plt.ylabel('y')"
   ]
  },
  {
   "cell_type": "markdown",
   "metadata": {},
   "source": [
    "What has happened here is the $b$ parameter became negative, and so there is a division by zero. It is still a fit in the sense that there is a local minimum in summed squared error. However, we need to know if a negative $b$ parameter has any physical meaning. If the units are volume, concentration, etc&#x2026;, it may not be physically meaningful.\n",
    "\n",
    "\n",
    "# Uncertainty in nonlinear regression\n",
    "\n",
    "We also need to estimate uncertainties in nonlinear parameters\n",
    "\n",
    "-   `pycse` provides [pycse.nlinfit](https://www.google.com/#safe=off&q=pycse.nlinfit) for this.\n",
    "\n",
    "Here is an example usage of nlinfit.\n",
    "\n"
   ]
  },
  {
   "cell_type": "code",
   "execution_count": 4,
   "metadata": {
    "collapsed": false
   },
   "outputs": [
    {
     "name": "stdout",
     "output_type": "stream",
     "text": [
      "The 95% confidence interval on a is [ 1.301  1.355]\n",
      "The 95% confidence interval on b is [ 0.024  0.029]\n"
     ]
    }
   ],
   "source": [
    "np.set_printoptions(precision=3)\n",
    "from pycse import nlinfit\n",
    "\n",
    "x = np.array([0.5, 0.387, 0.24, 0.136, 0.04, 0.011])\n",
    "y = np.array([1.255, 1.25, 1.189, 1.124, 0.783, 0.402])\n",
    "\n",
    "\n",
    "def func(x, a, b):\n",
    "    'nonlinear function in a and b to fit to data'\n",
    "    return a * x / (b + x)\n",
    "\n",
    "initial_guess = [1.2, 0.03]\n",
    "alpha = 0.05\n",
    "pars, pint, se = nlinfit(func, x, y, initial_guess, alpha)\n",
    "aint, bint = np.array(pint)\n",
    "print('The 95% confidence interval on a is {0}'.format(aint))\n",
    "print('The 95% confidence interval on b is {0}'.format(bint))"
   ]
  },
  {
   "cell_type": "code",
   "execution_count": 5,
   "metadata": {
    "collapsed": false
   },
   "outputs": [
    {
     "data": {
      "text/plain": [
       "<matplotlib.text.Text at 0x110329390>"
      ]
     },
     "execution_count": 5,
     "metadata": {},
     "output_type": "execute_result"
    },
    {
     "data": {
      "image/png": "[encoded data removed]",
      "text/plain": [
       "<matplotlib.figure.Figure at 0x10fbc5dd8>"
      ]
     },
     "metadata": {},
     "output_type": "display_data"
    }
   ],
   "source": [
    "plt.plot(x,y,'bo ')\n",
    "xfit = np.linspace(min(x), max(x))\n",
    "yfit = func(xfit, *pars)\n",
    "plt.plot(xfit,yfit,'b-')\n",
    "plt.legend(['data','fit'],loc='best')\n",
    "plt.xlabel('x')\n",
    "plt.ylabel('y')"
   ]
  },
  {
   "cell_type": "markdown",
   "metadata": {},
   "source": [
    "Here the two intervals are relatively small, and do not include zero, suggesting both parameters are significant. More importantly, the errors are not skewed by a nonlinear transformation.\n",
    "\n",
    "Note you have to provide an initial guess. This will not always be easy to guess, and a linear regression may be a good way to get a good guess. There may be more than one minimum in the fit also, so different guesses may give different parameters.\n",
    "\n",
    "\n",
    "# Differential flow reactors for determining rate laws\n",
    "\n",
    "For many reactions it is not feasible to perform batch reactions. Especially for gas phase reactions on catalysts, a flow reactor is preferrable. If we can use a packed bed reactor with an approximately differential (i.e. a small thickness), then it is possible to directly measure the rate of reaction:\n",
    "\n",
    "$ \\frac{dF_A}{dW} = r_A $\n",
    "\n",
    "We approximate the rate as:\n",
    "\n",
    "$ r_A \\approx \\frac{F_{A,exit} - F_{A0}}{W_b} $\n",
    "\n",
    "where $W_b$ is the weight of the bed, $F_{A,exit} = \\nu C_A$ is the molar flow of $A$ out of the reactor, and $F_{A0}$ is the molar flow entering the reactor.\n",
    "\n",
    "It is important that $W_b$ is small, to keep the total conversion as small as possible while still being able to measure changes in the molar flows. Low total conversion is important so you can assume $C_A$ is essentially constant in the reactor bed.  Instead of measuring a small change in the reactants, you may also measure the increase in molar flow rate of products, which increase from zero (assuming they are not in the feed).\n",
    "\n",
    "In this reactor setup, you measure $r_A$ as a function of inlet conditions, and then fit the data to a proposed rate law.  Here is an example of rate data from a differential reactor as a function of inlet concentration of $A$.  We assume that $r_1 = k C_A^\\alpha$ and fit the model to the data.\n",
    "\n"
   ]
  },
  {
   "cell_type": "code",
   "execution_count": 6,
   "metadata": {
    "collapsed": false
   },
   "outputs": [
    {
     "name": "stdout",
     "output_type": "stream",
     "text": [
      "Estimated parameters are k=1.067250291500129, alpha=0.4461986323686289\n",
      "At the 95% confidence level:\n",
      "k is between [ 0.9    1.234]\n",
      "alpha is between [ 0.304  0.588]\n"
     ]
    }
   ],
   "source": [
    "C_A = np.array([1.0, 4.0, 2.0, 0.1, 0.5])    # mol/m^3\n",
    "r_1 = np.array([1.2, 2.0, 1.36, 0.36, 0.74]) # mol/m^3/min\n",
    "\n",
    "def rate(Ca, k, alpha):\n",
    "    return k * Ca**alpha\n",
    "\n",
    "p, pint, se = nlinfit(rate, C_A, r_1, [10, 0.5])\n",
    "print('Estimated parameters are k={}, alpha={}'.format(*p))\n",
    "print('At the 95% confidence level:')\n",
    "print('k is between {0}'.format(pint[0]))\n",
    "print('alpha is between {0}'.format(pint[1]))"
   ]
  },
  {
   "cell_type": "markdown",
   "metadata": {},
   "source": [
    "\n",
    "# Role of uncertainty in reactor design\n",
    "\n",
    "What should we do with the knowledge of uncertainty? We can use it to estimate the uncertainty in reactor design. Let's consider the design of a batch reactor that should convert 80% of reactant A in the time it is run. The question is how long should we run it? We want to be sure we achieve 80% conversion, but not run too long, since it costs money to do that. Let us use the rate law we just determined, and assume we start with an initial concentration of $A$ of 1.5M. First, we solve for the time using the estimated parameters. We can solve for the time here as:\n",
    "\n",
    "$t = \\int_{C_{A0}}^{C_A} \\frac{dC_A}{-k C_A^\\alpha}$\n",
    "\n"
   ]
  },
  {
   "cell_type": "code",
   "execution_count": 1,
   "metadata": {
    "collapsed": false
   },
   "outputs": [
    {
     "name": "stdout",
     "output_type": "stream",
     "text": [
      "t1 = 1.2492920712809759 minutes"
     ]
    }
   ],
   "source": [
    "Ca0 = 1.5 # M\n",
    "X = 0.8\n",
    "Ca = Ca0 * (1 - X)\n",
    "\n",
    "from scipy.integrate import quad\n",
    "\n",
    "def objective(ca, k, alpha):\n",
    "    return 1 / (-k * ca**alpha)\n",
    "a1, _ = quad(objective, Ca0, Ca, args=(p[0], p[1]))\n",
    "print('t1 = {} minutes'.format(a1))"
   ]
  },
  {
   "cell_type": "markdown",
   "metadata": {},
   "source": [
    "Now, what about the uncertainty though? We have uncertainty in k and alpha. Let's calculate the time for all the combinations of k and alpha to see what range of times might conceivably be possible. We can do that by looping over the confidence interval ranges and computing the times.\n",
    "\n"
   ]
  },
  {
   "cell_type": "code",
   "execution_count": 1,
   "metadata": {
    "collapsed": false
   },
   "outputs": [
    {
     "name": "stdout",
     "output_type": "stream",
     "text": [
      "(0.9000476513435338, 0.30394027629553644): t2 = 1.4262422719511303 minutes\n",
      "(0.9000476513435338, 0.5884569884417213): t2 = 1.545110933698486 minutes\n",
      "(1.234452931656724, 0.30394027629553644): t2 = 1.0398825051949792 minutes\n",
      "(1.234452931656724, 0.5884569884417213): t2 = 1.1265504186329351 minutes"
     ]
    }
   ],
   "source": [
    "for k1 in pint[0]:\n",
    "    for alpha1 in pint[1]:\n",
    "        a2, _ = quad(objective, Ca0, Ca, args=(k1, alpha1))\n",
    "        print('({}, {}): t2 = {} minutes'.format(k1, alpha1, a2))"
   ]
  },
  {
   "cell_type": "markdown",
   "metadata": {},
   "source": [
    "Visually we inspect this and see that the longest time it might take to get 80% conversion is 1.55 minutes. That is a worst-case scenario, and we might choose that because then we are pretty sure that we will get at least 80% conversion. That is for the smallest $k$ and largest $\\alpha$. We are likely to get higher than 80% conversion in this case, because the probability that the true values of $k$ and $\\alpha$ having these values is not high. The point here is that because of uncertainty, it is possible that the true time to get 80% conversion can be less than or greater than the time we estimate from the best fit parameters. \n",
    "\n",
    "The likelihood of achieving 80% conversion from the fitted parameters is only about 50%! To increase the likelihood, we have to run longer, and this is a simple approach to estimate how much longer. It does not tell us though, how much more certain we are. We examined the limits of the 95% confidence intervals. That does not imply we are 95% certain of reaching 80% conversion at 1.55 minutes though. To get a precise estimate of certainty, we need to use statistics and either analytical propagation of errors or Monte Carlo simulation. Both of these are outside the scope of this class.\n",
    "\n",
    "\n",
    "# Summary\n",
    "\n",
    "Important python functions to learn:\n",
    "\n",
    "1.  [scipy.optimize.curve_fit](https://docs.scipy.org/doc/scipy/reference/generated/scipy.optimize.curve_fit.html) - use when you only want parameters of a nonlinear model\n",
    "2.  [pycse.nlinfit](https://www.google.com/#safe=off&q=pycse.nlinfit) - use when you want parameters and uncertainty of a nonlinear model\n",
    "\n",
    "Reminders:\n",
    "\n",
    "1.  [scipy.integrate.quad](https://docs.scipy.org/doc/scipy/reference/generated/scipy.integrate.quad.html)\n",
    "2.  [pycse.regress](https://www.google.com/#safe=off&q=pycse.regress) - linear regression with uncertainty\n",
    "\n"
   ]
  }
 ],
 "metadata": {
  "kernelspec": {
   "display_name": "Python 3",
   "language": "python",
   "name": "python3"
  },
  "language_info": {
   "codemirror_mode": {
    "name": "ipython",
    "version": 3
   },
   "file_extension": ".py",
   "mimetype": "text/x-python",
   "name": "python",
   "nbconvert_exporter": "python",
   "pygments_lexer": "ipython3",
   "version": "3.5.2"
  },
  "org": {
   "KEYWORDS": "nonlinear regression"
  }
 },
 "nbformat": 4,
 "nbformat_minor": 0
}
