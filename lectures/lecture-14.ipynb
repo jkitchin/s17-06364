{
 "cells": [
  {
   "cell_type": "markdown",
   "metadata": {},
   "source": [
    "- KEYWORDS: mechanism, rate law determination, active intermediate\n"
   ]
  },
  {
   "cell_type": "markdown",
   "metadata": {},
   "source": [
    "![img](//s-media-cache-ak0.pinimg.com/564x/97/78/16/977816997b9c5ffb69419311c9ad94c8.jpg)\n",
    "\n",
    "This is what it might have been like had Einstein been in reaction engineering&#x2026;"
   ]
  },
  {
   "cell_type": "markdown",
   "metadata": {},
   "source": [
    "# Application to enzyme kinetics"
   ]
  },
  {
   "cell_type": "markdown",
   "metadata": {},
   "source": [
    "-   Enzymes are catalysts that speed up the rates of reactions\n",
    "-   The overall reactions are typically $S \\rightarrow P$\n",
    "    -   We refer to the reactants as *substrates* by convention\n",
    "-   Enzyme kinetics often show first order kinetics at low concentration of substrate, and zeroth order kinetics at high concentration of substrate\n",
    "-   Let us propose a mechansim that accounts for this behavior\n",
    "-   We will assume the substrate can bind reversibly with the enzyme to form an enzyme-substrate complex\n",
    "-   The enzyme-substrate complex can react further to form products\n",
    "\n",
    "\\begin{align*}\n",
    "E + S \\rightarrow E\\cdot S \\\\\n",
    "E\\cdot S \\rightarrow E + S \\\\\n",
    "E\\cdot S \\rightarrow P + E\n",
    "\\end{align*}\n",
    "\n",
    "-   Now, let us assume that $E\\cdot S$ is an active intermediate\n",
    "\n",
    "$ r_{E\\cdot S} = 0 = k_1 [E][S] - k_2 [E\\cdot S] - k_3 [E\\cdot S]  $\n",
    "\n",
    "-   Solving for $[E\\cdot S]$ yields\n",
    "\n",
    "$ [E\\cdot S] = \\frac{k_1 [E][S]}{k_2 + k_3} $\n",
    "\n",
    "-   This eliminates the hard to detect enzyme-substrate concentration\n",
    "-   However, it is also difficult to measure the concentration of *free* enzyme $[E]$\n",
    "    -   We usually cannot tell the difference between $[E]$ and $[E\\cdot S]$\n",
    "    -   We usually do know the total enzyme concentration $[E_t] = [E] + [E\\cdot S]$\n",
    "\n",
    "$ [E_t] = [E] + \\frac{k_1 [E][S]}{k_2 + k_3}  $\n",
    "\n",
    "-   We can solve that equation for $[E]$\n",
    "\n",
    "$ [E] = \\frac{[E_t](k_2 + k_3)}{k_2 + k_3 + k_1[S]} $\n",
    "\n",
    "-   Finally, we can write the rate law for production of products:\n",
    "\n",
    "\\begin{align}\n",
    "r_P &=& k_3 [E\\cdot S] \\\\\n",
    "    &=& \\frac{k_3 k_1 [E][S]}{k_2 + k_3} \\\\\n",
    "    &=& \\frac{k_1 k_3 [E_t][S]}{k_1 [S] + k_2 + k_3}\n",
    "\\end{align}\n",
    "\n",
    "-   You can see from this rate law that if $k_1[S] \\gg k_2 + k_3$ then the overall rate will be practically independent of $[S]$\n",
    "    -   In other words, the rate will be zeroth order in $[S]$\n",
    "    -   That happens because the enzyme is completely saturated with substrate\n",
    "    -   Thus, the rate is determined by the rate of product formation\n",
    "-   On the other hand, if $k_1[S] \\ll k_2 + k_3$ then the rate of product formation will be approximately first order in $[S]$\n",
    "-   The rate depends on the *total enzyme concentration*\n",
    "\n",
    "**exercise** Derive a rate law for enzyme kinetics if there is an inhibition reaction. For example:\n",
    "\n",
    "\\begin{align*}\n",
    "E + S \\rightarrow E\\cdot S \\\\\n",
    "E\\cdot S \\rightarrow E + S \\\\\n",
    "E\\cdot S \\rightarrow E + P \\\\\n",
    "I + E  \\rightarrow E\\cdot I\\\\\n",
    "E\\cdot I \\rightarrow I + E\n",
    "\\end{align*}\n",
    "\n",
    "$ r_P = \\frac {k_3 E_t [S]}{[S] + (k_2 + k_3)/k_1 (1 + k_4 / k_5 [I])} $"
   ]
  },
  {
   "cell_type": "markdown",
   "metadata": {},
   "source": [
    "## Model discrimination by data regression"
   ]
  },
  {
   "cell_type": "markdown",
   "metadata": {},
   "source": [
    "It is typical that many models can be derived that may be similar, and we have to use data analysis to determine which one is best.\n",
    "This data was obtained for cell growth where $C_c$ is the cell concentration, and $C_s$ is the concentration of \"substrate\", i.e. cell food."
   ]
  },
  {
   "cell_type": "code",
   "execution_count": 1,
   "metadata": {
    "collapsed": true
   },
   "outputs": [],
   "source": [
    "import numpy as np\n",
    "\n",
    "t = np.array([0, 1, 2, 3, 4, 6, 8]) # hour\n",
    "Cc = np.array([1, 1.39, 1.93, 2.66, 3.7, 7.12, 13.7]) # g / L\n",
    "Cs = np.array([250, 245, 238, 229, 216, 197, 94.4]) # g / L\n",
    "\n",
    "rg = np.array([0.3, 0.45, 0.63, 0.87, 1.21, 2.32, 4.42]) # g / L / hr"
   ]
  },
  {
   "cell_type": "markdown",
   "metadata": {},
   "source": [
    "There are many models that have been developed to describe cell growth. We can see that the concentration of cells increases with time, and the concentration of substrate decreases, i.e. it is consumed. We will consider three models:\n",
    "\n",
    "1.  The Monod equation: $r_g = \\frac{\\mu_{max} C_S C_C}{K_s + C_S}$\n",
    "2.  The Tessier equation: $\\mu_{max} [1 - \\exp(-Cs/k)] C_c$.\n",
    "3.  \n",
    "\n",
    "First, we consider the Monod equation: $r_g = \\frac{\\mu_{max} C_S C_C}{K_s + C_S}$. Our goal is to fine the parameters."
   ]
  },
  {
   "cell_type": "code",
   "execution_count": 2,
   "metadata": {
    "collapsed": false
   },
   "outputs": [
    {
     "name": "stdout",
     "output_type": "stream",
     "text": [
      "[[ 0.32157937  0.33529714]\n",
      " [-0.59834768  3.98704144]]\n",
      "The SSE for f1 is 0.0007275731447540712\n"
     ]
    },
    {
     "data": {
      "text/plain": [
       "<matplotlib.legend.Legend at 0x10c521be0>"
      ]
     },
     "execution_count": 2,
     "metadata": {},
     "output_type": "execute_result"
    },
    {
     "data": {
      "image/png": "[encoded data removed]",
      "text/plain": [
       "<matplotlib.figure.Figure at 0x104878128>"
      ]
     },
     "metadata": {},
     "output_type": "display_data"
    }
   ],
   "source": [
    "from pycse import nlinfit\n",
    "%matplotlib inline\n",
    "import matplotlib.pyplot as plt\n",
    "\n",
    "def f1(C, umax, Ks):\n",
    "    Cc, Cs = C\n",
    "    return umax * Cs * Cc / (Ks + Cs)\n",
    "\n",
    "p1, pint1, se1 = nlinfit(f1, [Cc, Cs], rg, p0=[0.3, 2], alpha=0.05)\n",
    "print(pint1)\n",
    "SSE = sum((rg - f1([Cc, Cs], *p1))**2)\n",
    "print('The SSE for f1 is {}'.format(SSE))\n",
    "\n",
    "umax, Ks = p1\n",
    "plt.plot(t, rg, 'bo', t, f1([Cc, Cs], *p1))\n",
    "plt.xlabel('time')\n",
    "plt.ylabel('$r_g$')\n",
    "plt.legend(['data', 'model'])"
   ]
  },
  {
   "cell_type": "markdown",
   "metadata": {},
   "source": [
    "The fit looks good, but the confidence interval on Ks is large, and suggests other models might fit the data better.\n",
    "\n",
    "The second model to consider is the Tessier equation: $r_g = \\mu_{max} [1 - \\exp(-Cs/k)] C_c$."
   ]
  },
  {
   "cell_type": "code",
   "execution_count": 3,
   "metadata": {
    "collapsed": false
   },
   "outputs": [
    {
     "name": "stdout",
     "output_type": "stream",
     "text": [
      "[  0.32582022  20.40748937]\n",
      "[[  0.32232389   0.32931655]\n",
      " [ 14.69653263  26.11844611]]\n",
      "The SSE for f2 is 0.0007077090258808744\n"
     ]
    },
    {
     "data": {
      "text/plain": [
       "<matplotlib.legend.Legend at 0x10fdb5b70>"
      ]
     },
     "execution_count": 3,
     "metadata": {},
     "output_type": "execute_result"
    },
    {
     "data": {
      "image/png": "[encoded data removed]",
      "text/plain": [
       "<matplotlib.figure.Figure at 0x10fdb5da0>"
      ]
     },
     "metadata": {},
     "output_type": "display_data"
    }
   ],
   "source": [
    "def f2(C, umax, k):\n",
    "    Cc, Cs = C\n",
    "    return umax * (1 - np.exp(-Cs / k)) * Cc\n",
    "\n",
    "p2, pint2, se2 = nlinfit(f2, [Cc, Cs], rg, p0=[0.3, 20], alpha=0.05)\n",
    "print(p2)\n",
    "print(pint2)\n",
    "\n",
    "SSE = sum((rg - f2([Cc, Cs], *p2))**2)\n",
    "print('The SSE for f2 is {}'.format(SSE))\n",
    "\n",
    "plt.plot(t, rg, 'bo', t, f2([Cc, Cs], *p2))\n",
    "plt.xlabel('time')\n",
    "plt.ylabel('$r_g$')\n",
    "plt.legend(['data', 'model'])"
   ]
  },
  {
   "cell_type": "markdown",
   "metadata": {},
   "source": [
    "This fit is a little better than the first one, by SSE, and the SSE is a little smaller.\n",
    "\n",
    "Finally, the Moser equation: $r_g = \\frac{\\mu_{max} C_c}{1 + k C_s^{-\\lambda}}$."
   ]
  },
  {
   "cell_type": "code",
   "execution_count": 11,
   "metadata": {
    "collapsed": false
   },
   "outputs": [
    {
     "name": "stdout",
     "output_type": "stream",
     "text": [
      "[  3.23561832e-01   7.18010143e+03   1.20673186e+01] 0.323561832392\n",
      "[[-inf  inf]\n",
      " [-inf  inf]\n",
      " [-inf  inf]]\n",
      "The SSE for f3 is 0.0012645995026466387\n"
     ]
    },
    {
     "name": "stderr",
     "output_type": "stream",
     "text": [
      "/Users/jkitchin/anaconda3/lib/python3.5/site-packages/scipy/optimize/minpack.py:715: OptimizeWarning: Covariance of the parameters could not be estimated\n",
      "  category=OptimizeWarning)\n"
     ]
    },
    {
     "data": {
      "text/plain": [
       "<matplotlib.legend.Legend at 0x111060080>"
      ]
     },
     "execution_count": 11,
     "metadata": {},
     "output_type": "execute_result"
    },
    {
     "data": {
      "image/png": "[encoded data removed]",
      "text/plain": [
       "<matplotlib.figure.Figure at 0x111053208>"
      ]
     },
     "metadata": {},
     "output_type": "display_data"
    }
   ],
   "source": [
    "def f3(C, umax, k, _lambda):\n",
    "    Cc, Cs = C\n",
    "    return umax * Cc / (1 + k * Cs**(-_lambda))\n",
    "\n",
    "p3, pint3, se3 = nlinfit(f3, [Cc, Cs], rg, p0=[0.3, 162., 2], alpha=0.05)\n",
    "print(p3, p3[0])\n",
    "print(pint3)\n",
    "\n",
    "SSE = sum((rg - f3([Cc, Cs], *p3))**2)\n",
    "print('The SSE for f3 is {}'.format(SSE))\n",
    "\n",
    "plt.plot(t, rg, 'bo', t, f3([Cc, Cs], *p3))\n",
    "plt.xlabel('time')\n",
    "plt.ylabel('$r_g$')\n",
    "plt.legend(['data', 'model'])"
   ]
  },
  {
   "cell_type": "markdown",
   "metadata": {},
   "source": [
    "Note that the confidence intervals are not well defined here. Let's look at one parameter to see why: &lambda;. We will plot the sum squared error as a function of &lambda;. We should see a minimum, but, we do not."
   ]
  },
  {
   "cell_type": "code",
   "execution_count": 1,
   "metadata": {
    "collapsed": false
   },
   "outputs": [
    {
     "data": {
      "image/png": "[encoded data removed]",
      "text/plain": [
       "<matplotlib.figure.Figure>"
      ]
     },
     "metadata": {},
     "output_type": "display_data"
    }
   ],
   "source": [
    "umax, k, _ = p3\n",
    "_L = np.linspace(1.5, 5)\n",
    "\n",
    "SSE = [sum((f3([Cc, Cs], umax, k, _lambda) - rg)**2) for _lambda in _L]\n",
    "plt.plot(_L, SSE)\n",
    "plt.xlabel('$\\\\lambda$')\n",
    "plt.ylabel('SSE')"
   ]
  },
  {
   "cell_type": "markdown",
   "metadata": {},
   "source": [
    "You can see there is not a well defined minimum, even worse, for &lambda; > 2.5 the error hardly depends on its value. This is in contrast with $\\mu_{max}$, where a minimum is clearly seen."
   ]
  },
  {
   "cell_type": "code",
   "execution_count": 13,
   "metadata": {
    "collapsed": false
   },
   "outputs": [
    {
     "data": {
      "text/plain": [
       "<matplotlib.text.Text at 0x1106afdd8>"
      ]
     },
     "execution_count": 13,
     "metadata": {},
     "output_type": "execute_result"
    },
    {
     "data": {
      "image/png": "[encoded data removed]",
      "text/plain": [
       "<matplotlib.figure.Figure at 0x1112c3160>"
      ]
     },
     "metadata": {},
     "output_type": "display_data"
    }
   ],
   "source": [
    "_, k, _lambda = p3\n",
    "_U = np.linspace(0, 1)\n",
    "\n",
    "SSE = [sum((f3([Cc, Cs], umax, k, _lambda) - rg)**2) for umax in _U]\n",
    "plt.plot(_U, SSE)\n",
    "plt.xlabel('$u_{max}$')\n",
    "plt.ylabel('SSE')"
   ]
  },
  {
   "cell_type": "markdown",
   "metadata": {},
   "source": [
    "The lack of minimum in a parameter leads to the confidence intervals being undefined because they are related to the curvature at the minimum."
   ]
  },
  {
   "cell_type": "markdown",
   "metadata": {},
   "source": [
    "# An application in catalysis"
   ]
  },
  {
   "cell_type": "markdown",
   "metadata": {},
   "source": [
    "-   In heterogeneous catalysis molecules often\n",
    "    -   adsorb on the surface,\n",
    "    -   react,\n",
    "    -   and then products desorb\n",
    "-   Adsorption occurs on a *site*\n",
    "-   There are a fixed number of sites available\n",
    "-   These lead to behavior similar to the enzyme rate laws\n",
    "-   Let us consider the overall reaction:\n",
    "\n",
    "$A + B \\rightarrow P $\n",
    "\n",
    "-   The reaction takes place on a surface, and is postulated to go through this mechanism:\n",
    "\n",
    "\\begin{align*}\n",
    "A + S &\\rightarrow& A^* \\\\\n",
    "A^* &\\rightarrow& A + S \\\\\n",
    "B + S &\\rightarrow& B^* \\\\\n",
    "B^* &\\rightarrow& B + S \\\\\n",
    "A^*  + B^* &\\rightarrow& P + 2S\n",
    "\\end{align*}\n",
    "\n",
    "-   $A^*$ and $B^*$ are adsorbed surface intermediates\n",
    "-   $S$ is a surface site\n",
    "-   The total concentration of sites is $C_{S0}$\n",
    "    -   $C_{S0} = C_S + C_{A*} + C_{B*}$\n",
    "    -   Sites are not consumed in the reaction, they are regenerated by desorption reactions\n",
    "-   Let us assume the last reaction is very slow\n",
    "-   That implies that the reactions before it may reach equilibrium\n",
    "-   In particular reactions 1 and 2, and reactions 3 and 4 may reach equilibrium\n",
    "-   That implies the following statements are true:\n",
    "\n",
    "\\begin{align}\n",
    "0 &=& k_1 C_A C_S - k_2 C_{A^*} (1) \\\\\n",
    "0 &=& k_3 C_B C_S - k_4 C_{B^*}\n",
    "\\end{align}\n",
    "\n",
    "-   It is convenient to take the ratio of these equations:\n",
    "\n",
    "$ \\frac{k_4}{k_2}\\frac{C_{B^*}}{C_{A^*}} = \\frac{k_3}{k_1}\\frac{C_B}{C_A} $\n",
    "\n",
    "-   And then to solve for $C_{B*}$\n",
    "\n",
    "\\begin{equation}\n",
    "C_{B^*} = \\frac{K_2}{K_1} \\frac{C_B}{C_A} C_{A^*}  (2)\n",
    "\\end{equation}\n",
    "\n",
    "-   where we defined $K_1 = \\frac{k_1}{k_2}$, $K_2 = \\frac{k_3}{k_4}$\n",
    "-   Plugging this result back into equation (1) and solving for $C_{A^*}$ leads to (after some algebra)\n",
    "\n",
    "\\begin{align*}\n",
    "C_{A*} &=& \\frac{k_1 C_A C_{S0}}{k_2 + k_1 C_A + k1 K_2/K_1 C_B} \\\\\n",
    "       &=& \\frac{K_1 C_A C_{S0}}{1 + K_1 C_A + K_2 C_B}\n",
    "\\end{align*}\n",
    "\n",
    "-   Now plugging this result back into (2)  gives us an expression for $C_{B^*}$\n",
    "\n",
    "$ C_{B^*} = \\frac{K_2 C_B C_{S0}}{1 + K_1 C_A + K_2 C_B} $\n",
    "\n",
    "-   Finally, we can express the rate of production of products:\n",
    "\n",
    "$ r_P = k_5 C_{A^*} C_{B^*} = \\frac{k_5 K_1 K_2 C_A C_B C_{S0}^2}{(1 + K_1 C_A + K_2 C_B)^2} $\n",
    "\n",
    "-   This rate law has an important feature\n",
    "    -   It can show negative reaction order\n",
    "-   We consider the rate as a function of the concentration of B here."
   ]
  },
  {
   "cell_type": "code",
   "execution_count": 1,
   "metadata": {
    "collapsed": false
   },
   "outputs": [
    {
     "data": {
      "image/png": "[encoded data removed]",
      "text/plain": [
       "<matplotlib.figure.Figure>"
      ]
     },
     "metadata": {},
     "output_type": "display_data"
    }
   ],
   "source": [
    "K1 = K2 = k5 = Cs0 = 1.0\n",
    "\n",
    "C_A = 1.0\n",
    "C_B = np.linspace(0.01, 10)\n",
    "r = k5 * K1 * K2 * C_A * C_B * Cs0**2 / (1 + K1 * C_A + K2 * C_B)**2\n",
    "\n",
    "plt.plot(C_B, r)\n",
    "plt.xlabel('$C_B$')\n",
    "plt.ylabel('reaction rate')"
   ]
  },
  {
   "cell_type": "markdown",
   "metadata": {},
   "source": [
    "-   For a fixed concentration of $A$ the rate initially increases with increasing concentration of $B$\n",
    "\n",
    "-   The rate reaches a maximum, and then decreases\n",
    "\n",
    "-   The rate decreases because $A$ and $B$ *compete* for the available sites and the rate is a *product* of the two concentrations\n",
    "    -   As the concentration of $B$ increases, the fraction of sites covered by $B$ increases, and the fraction covered by $A$ decreases\n",
    "\n",
    "-   Naturally, by stoichiometry we can get the other species rates:\n",
    "\n",
    "$ \\frac{r_P}{\\alpha_P} = \\frac{r_A}{\\alpha_A} = \\frac{r_B}{\\alpha_B} = r $\n",
    "\n",
    "-   The algebra to get here is tedious\n",
    "\n",
    "-   But, consider the benefits\n",
    "\n",
    "-   We have an analytical equation for the rate\n",
    "    -   You can see that there are scenarios where the rate would be first order in A, or B (at low pressures)\n",
    "    -   Or the rate could be constant at higher pressures\n",
    "    -   The rate may actually decrease with increasing A (or B) because they compete for the same sites\n",
    "\n",
    "-   Similar to the enzyme, there is a $C_{S0}$ in the rate\n",
    "    -   You can increase the rate by increasing the number of sites present\n",
    "\n",
    "-   In catalysis it is customary to normalize the concentrations of surface species by the total number of sites\n",
    "    -   $\\theta_{A^*} = C_{A^*} / C_{S0}$\n",
    "    -   These are called fractional coverages\n",
    "\n",
    "-   It is also common to use other units for reactions that happen on surfaces\n",
    "\n",
    "-   For example, we do not usually consider the number of sites per unit volume, but per unit of surface area\n",
    "    -   Then we need to know the surface area per unit volume\n",
    "    -   Alternatively, we may use the surface area per unit mass, and the bulk density to relate that back to volume if needed"
   ]
  }
 ],
 "metadata": {
  "kernelspec": {
   "display_name": "Python 3",
   "language": "python",
   "name": "python3"
  },
  "language_info": {
   "codemirror_mode": {
    "name": "ipython",
    "version": 3
   },
   "file_extension": ".py",
   "mimetype": "text/x-python",
   "name": "python",
   "nbconvert_exporter": "python",
   "pygments_lexer": "ipython3",
   "version": "3.5.2"
  },
  "org": {
   "KEYWORDS": "mechanism, rate law determination, active intermediate"
  }
 },
 "nbformat": 4,
 "nbformat_minor": 0
}
