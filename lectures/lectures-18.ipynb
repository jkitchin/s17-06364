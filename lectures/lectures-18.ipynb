{
 "cells": [
  {
   "cell_type": "markdown",
   "metadata": {},
   "source": [
    "- KEYWORDS: energy balance, pfr\n"
   ]
  },
  {
   "cell_type": "markdown",
   "metadata": {},
   "source": [
    "![img](//s-media-cache-ak0.pinimg.com/736x/74/f9/9f/74f99f04041456063f6084b1b5c811d2.jpg)"
   ]
  },
  {
   "cell_type": "markdown",
   "metadata": {},
   "source": [
    "# The energy balance and the PFR"
   ]
  },
  {
   "cell_type": "markdown",
   "metadata": {},
   "source": [
    "-   For the plug flow reactor the energy balance we will use for a single reaction is\n",
    "\n",
    "<div class=\"alert alert-warning\">\n",
    "$ \\frac{dT}{dV} = \\frac{-\\Delta H_{Rx}(T) r + \\dot{Q}}{\\sum F_i C_{P,i}} $\n",
    "</div>\n",
    "![img](https://raw.githubusercontent.com/jkitchin/s17-06364/master/lectures/images/differential-pfr-eb.png)\n",
    "\n",
    "-   This will in general just add an equation to the mole balance to be solved simultaneously"
   ]
  },
  {
   "cell_type": "markdown",
   "metadata": {},
   "source": [
    "## An adiabatic plug flow reactor example"
   ]
  },
  {
   "cell_type": "markdown",
   "metadata": {},
   "source": [
    "-   We consider the endothermic reaction $A \\rightarrow B + C$ in an adiabatic PFR ($\\dot{Q} = 0$)\n",
    "\n",
    "The data for this reaction is provided here:"
   ]
  },
  {
   "cell_type": "code",
   "execution_count": 1,
   "metadata": {
    "collapsed": true
   },
   "outputs": [],
   "source": [
    "import numpy as np\n",
    "from scipy.integrate import odeint\n",
    "%matplotlib inline\n",
    "import matplotlib.pyplot as plt\n",
    "\n",
    "Fa0 = 0.0376      # mol/s\n",
    "Ca0 = 0.0188      # mol / L\n",
    "\n",
    "v0 = Fa0 / Ca0    # initial volumetric flow\n",
    "Ft0 = Fa0\n",
    "\n",
    "T0 = 1035.0       # K\n",
    "\n",
    "# thermal properties\n",
    "Hrxn_298 = 80.77   # kJ/mol at 298K\n",
    "Cpa = 0.1630       # kJ/mol/K\n",
    "Cpb = 0.083\n",
    "Cpc = 0.071"
   ]
  },
  {
   "cell_type": "markdown",
   "metadata": {},
   "source": [
    "We need a mole and energy balance. One equation for the molar flow of A, and one for the temperature.\n",
    "\n",
    "Some important points:\n",
    "\n",
    "-   We need to account for the temperature dependent volumetric flow\n",
    "-   So we can use it to compute the concentration of A\n",
    "-   We also need the temperature dependent rate constant\n",
    "-   For use in the rate law"
   ]
  },
  {
   "cell_type": "code",
   "execution_count": 6,
   "metadata": {
    "collapsed": true
   },
   "outputs": [],
   "source": [
    "def adiabatic_pfr(Y, V):\n",
    "    Fa, T = Y  # unpack variables\n",
    "\n",
    "    extent = (Fa - Fa0) / (-1.0)\n",
    "    Fb = extent\n",
    "    Fc = extent\n",
    "\n",
    "    Ft = Fa + Fb + Fc\n",
    "\n",
    "    # include temperature in the volumetric flow\n",
    "    v = v0 * Ft / Ft0 * T / T0\n",
    "\n",
    "    # reaction rate\n",
    "    k = np.exp(34.3 - 34222.0 / T)\n",
    "    Ca = Fa / v\n",
    "    r = k * Ca\n",
    "    ra = -r  # species rate\n",
    "\n",
    "    # thermodynamic reaction energy\n",
    "    Hrxn = Hrxn_298 + (Cpb + Cpc - Cpa) * (T - 298.0)\n",
    "\n",
    "    dFadV = ra\n",
    "    dTdV = 0 #(-Hrxn * r) / (Fa * Cpa + Fb * Cpb + Fc * Cpc)\n",
    "\n",
    "    return [dFadV, dTdV]\n",
    "\n",
    "\n",
    "Vspan = np.linspace(0, 30) # volume in L\n",
    "Y0 = [Fa0, T0]\n",
    "\n",
    "sol = odeint(adiabatic_pfr, Y0, Vspan)\n",
    "\n",
    "Fa = sol[:, 0]\n",
    "T = sol[:, 1]\n",
    "\n",
    "X = ((Fa - Fa0) * (-1) / Fa0)"
   ]
  },
  {
   "cell_type": "markdown",
   "metadata": {},
   "source": [
    "I find it helpful and more readable to split the code blocks up."
   ]
  },
  {
   "cell_type": "code",
   "execution_count": 7,
   "metadata": {
    "collapsed": false
   },
   "outputs": [
    {
     "data": {
      "image/png": "[encoded data removed]",
      "text/plain": [
       "<matplotlib.figure.Figure at 0x10f17ffd0>"
      ]
     },
     "metadata": {},
     "output_type": "display_data"
    }
   ],
   "source": [
    "plt.subplot(1, 2, 1)\n",
    "plt.plot(Vspan, X)\n",
    "plt.xlabel('Volume (L)')\n",
    "plt.ylabel('Conversion')\n",
    "\n",
    "plt.subplot(1, 2, 2)\n",
    "plt.plot(Vspan, T)\n",
    "plt.xlabel('Volume (L)')\n",
    "plt.ylabel('Temperature (K)')\n",
    "\n",
    "plt.tight_layout()"
   ]
  },
  {
   "cell_type": "markdown",
   "metadata": {},
   "source": [
    "-   Low conversion results because the temperature drops rapidly due to the endothermic reaction."
   ]
  },
  {
   "cell_type": "markdown",
   "metadata": {},
   "source": [
    "## Using inerts to provide heat to an endothermic reaction"
   ]
  },
  {
   "cell_type": "markdown",
   "metadata": {},
   "source": [
    "-   Let us reconsider the example with an inert gas\n",
    "-   The gas is chosen to be inert, and to have  higher heat capacity\n",
    "-   The inert gas serves as a thermal reservoir to buffer the temperature loss\n",
    "\n",
    "We use the same data. We redefine it here in case anything was changed in a block above this one."
   ]
  },
  {
   "cell_type": "code",
   "execution_count": 10,
   "metadata": {
    "collapsed": true
   },
   "outputs": [],
   "source": [
    "Fa0 = 0.0376      # mol/s\n",
    "Ca0 = 0.0188      # mol / L\n",
    "\n",
    "v0 = Fa0 / Ca0    # initial volumetric flow\n",
    "Ft0 = Fa0\n",
    "\n",
    "T0 = 1035.0       # K\n",
    "\n",
    "Hrxn_298 = -80.77  # kJ/mol at 298K\n",
    "Cpa = 0.1630      # kJ/mol/K\n",
    "Cpb = 0.083\n",
    "Cpc = 0.071\n",
    "Cpi = 0.100       # inert"
   ]
  },
  {
   "cell_type": "markdown",
   "metadata": {},
   "source": [
    "The main difference here is the addition of inerts."
   ]
  },
  {
   "cell_type": "code",
   "execution_count": 14,
   "metadata": {
    "collapsed": true
   },
   "outputs": [],
   "source": [
    "def adiabatic_pfr(Y, V, Fi0):\n",
    "    Fa, T = Y  # unpack variables\n",
    "\n",
    "    extent = (Fa - Fa0) / (-1.0)\n",
    "    Fb = extent\n",
    "    Fc = extent\n",
    "\n",
    "    Ft = Fa + Fb + Fc + Fi0\n",
    "    Ft0 = Fa0 + Fi0\n",
    "\n",
    "    v = v0 * Ft / Ft0 * T / T0\n",
    "\n",
    "    k = np.exp(34.3 - 34222.0 / T)\n",
    "    Ca = Fa / v\n",
    "    r = k * Ca\n",
    "    ra = -r\n",
    "    Hrxn = Hrxn_298 + (Cpb + Cpc - Cpa) * (T - 298.0)\n",
    "\n",
    "    dFadV = ra\n",
    "    dTdV = (-Hrxn * r) / (Fa * Cpa + Fb * Cpb + Fc * Cpc + Fi0 * Cpi)\n",
    "\n",
    "    return [dFadV, dTdV]\n",
    "\n",
    "\n",
    "Vspan = np.linspace(0, 2) # volume in L\n",
    "Y0 = [Fa0, T0]"
   ]
  },
  {
   "cell_type": "markdown",
   "metadata": {},
   "source": [
    "We examine three flow rates of inerts in a loop."
   ]
  },
  {
   "cell_type": "code",
   "execution_count": 15,
   "metadata": {
    "collapsed": false
   },
   "outputs": [
    {
     "data": {
      "image/png": "[encoded data removed]",
      "text/plain": [
       "<matplotlib.figure.Figure at 0x10f48d9e8>"
      ]
     },
     "metadata": {},
     "output_type": "display_data"
    }
   ],
   "source": [
    "for i, Fi0 in enumerate([1.0, 0.5, 0.1, 0.0]):\n",
    "    sol = odeint(adiabatic_pfr, Y0, Vspan, args=(Fi0,))\n",
    "\n",
    "    Fa = sol[:, 0]\n",
    "    T = sol[:, 1]\n",
    "\n",
    "    X = ((Fa - Fa0) * (-1) / Fa0)\n",
    "\n",
    "    plt.subplot(1,2,1)\n",
    "    plt.plot(Vspan, X,  label='Fi0 = {0} mol/s'.format(Fi0))\n",
    "    plt.xlabel('Volume (L)')\n",
    "    plt.ylabel('Conversion')\n",
    "\n",
    "    plt.subplot(1,2,2)\n",
    "    plt.plot(Vspan, T,  label='Fi0 = {0} mol/s'.format(Fi0))\n",
    "    plt.xlabel('Volume (L)')\n",
    "    plt.ylabel('Temperature (K)')\n",
    "\n",
    "plt.subplot(1,2,1)\n",
    "plt.ylim([0, 1.5])\n",
    "plt.legend(loc='best')\n",
    "\n",
    "plt.subplot(1,2,2)\n",
    "#plt.ylim([900, 1100])\n",
    "plt.legend(loc='best')\n",
    "\n",
    "plt.tight_layout()"
   ]
  },
  {
   "cell_type": "markdown",
   "metadata": {},
   "source": [
    "-   Note that now we can get much higher conversion\n",
    "\n",
    "-   The downside is we have a high concentration of inerts\n",
    "\n",
    "-   There may be separation costs to consider\n",
    "\n",
    "-   There will be increased flow rates due to the extra molar flow\n",
    "    -   May have to consider pressure drops\n",
    "\n",
    "-   A similar behavior is observed with exothermic reactions\n",
    "\n",
    "-   The inert gas can *absorb* heat from the reaction"
   ]
  },
  {
   "cell_type": "markdown",
   "metadata": {},
   "source": [
    "## Constant temperature heat exchanger"
   ]
  },
  {
   "cell_type": "markdown",
   "metadata": {},
   "source": [
    "-   We can avoid the need for inert thermal buffers by using heat exchangers\n",
    "-   The simplest heat exchanger for the PFR is an ambient exchanger\n",
    "-   The PFR is embedded in a constant temperature environment\n",
    "-   We will typically describe $\\dot{Q} = U a (T_a - T)$\n",
    "-   The energy balance is\n",
    "\n",
    "$ \\frac{dT}{dV} = \\frac{-\\Delta H_{rx}(T) r + U a (T_a - T)}{\\sum F_i C_{p,i}} $\n",
    "\n",
    "-   We choose a sign convention so that we *add* $\\dot{Q}$\n",
    "-   If $T_a > T$ we expect the contribution to $\\frac{dT}{dV}$ to be positive, i.e. the temperature increases.\n",
    "-   Let us reconsider the last example, with no inerts but in an ambient heat exchanger with\n",
    "-   Ua = 0.0165 kJ/L/s/K\n",
    "-   T\\_a = 1150 K\n",
    "-   The heat exchanger is hotter than the feed, so we anticipate it should transfer heat to the reactor\n",
    "-   That should counterbalance the loss of temperature due to the endothermic reaction"
   ]
  },
  {
   "cell_type": "code",
   "execution_count": 23,
   "metadata": {
    "collapsed": true
   },
   "outputs": [],
   "source": [
    "Fa0 = 0.0376      # mol/s\n",
    "Ca0 = 0.0188      # mol / L\n",
    "\n",
    "v0 = Fa0 / Ca0    # initial volumetric flow\n",
    "Ft0 = Fa0\n",
    "\n",
    "T0 = 1035.0       # K\n",
    "\n",
    "Hrxn_298 = 80.77  # kJ/mol at 298K\n",
    "Cpa = 0.1630      # kJ/mol/K\n",
    "Cpb = 0.083\n",
    "Cpc = 0.071\n",
    "\n",
    "Ta = 1080.0       # ambient heat exchanger temperature\n",
    "Ua = 0.0165       # overall heat transfer coefficient"
   ]
  },
  {
   "cell_type": "markdown",
   "metadata": {},
   "source": [
    "The mole/energy balance is pretty standard, but we add the $\\dot{Q}$ term to the energy balance."
   ]
  },
  {
   "cell_type": "code",
   "execution_count": 24,
   "metadata": {
    "collapsed": true
   },
   "outputs": [],
   "source": [
    "def pfr(Y, V):\n",
    "    Fa, T = Y  # unpack variables\n",
    "\n",
    "    extent = (Fa - Fa0) / (-1.0)\n",
    "    Fb = extent\n",
    "    Fc = extent\n",
    "\n",
    "    Ft = Fa + Fb + Fc\n",
    "\n",
    "    v = v0 * Ft / Ft0 * T / T0\n",
    "\n",
    "    k = np.exp(34.3 - 34222.0 / T)\n",
    "    Ca = Fa / v\n",
    "    r = k * Ca\n",
    "    ra = -r\n",
    "    Hrxn = Hrxn_298 + (Cpb + Cpc - Cpa) * (T - 298.0)\n",
    "\n",
    "    dFadV = ra\n",
    "\n",
    "    Qdot = Ua * (Ta - T)\n",
    "    dTdV = (-Hrxn * r + Qdot) / (Fa * Cpa + Fb * Cpb + Fc * Cpc)\n",
    "\n",
    "    return [dFadV, dTdV]\n",
    "\n",
    "\n",
    "Vspan = np.linspace(0, 5) # volume in L\n",
    "Y0 = [Fa0, T0]\n",
    "\n",
    "sol = odeint(pfr, Y0, Vspan)\n",
    "\n",
    "Fa = sol[:, 0]\n",
    "T = sol[:, 1]\n",
    "\n",
    "X = ((Fa - Fa0) * (-1) / Fa0)"
   ]
  },
  {
   "cell_type": "code",
   "execution_count": 25,
   "metadata": {
    "collapsed": false
   },
   "outputs": [
    {
     "data": {
      "image/png": "[encoded data removed]",
      "text/plain": [
       "<matplotlib.figure.Figure at 0x10f1c76a0>"
      ]
     },
     "metadata": {},
     "output_type": "display_data"
    }
   ],
   "source": [
    "plt.subplot(1,2,1)\n",
    "plt.plot(Vspan, X)\n",
    "plt.xlabel('Volume (L)')\n",
    "plt.ylabel('Conversion')\n",
    "\n",
    "plt.subplot(1,2,2)\n",
    "plt.plot(Vspan, T)\n",
    "plt.xlabel('Volume (L)')\n",
    "plt.ylabel('Temperature (K)')\n",
    "\n",
    "plt.tight_layout()"
   ]
  },
  {
   "cell_type": "markdown",
   "metadata": {},
   "source": [
    "-   Note that now we get complete conversion at a low reactor volume\n",
    "\n",
    "-   There is initially a drop in temperature where the reaction rate is fast near the entrance of the reactor\n",
    "\n",
    "-   As the rate slows due to consumption of A, the temperature increases until it is the same as the ambient heat exchanger\n",
    "\n",
    "-   Ambient heat exchangers are simple, but not particularly efficient\n",
    "    -   Energy goes into heating the entire stream"
   ]
  },
  {
   "cell_type": "markdown",
   "metadata": {},
   "source": [
    "## Shell and tube cocurrent heat exchanger"
   ]
  },
  {
   "cell_type": "markdown",
   "metadata": {},
   "source": [
    "-   A more sophisticated heat exchanger is a shell and tube design\n",
    "-   We first consider the cocurrent design\n",
    "\n",
    "![img](https://raw.githubusercontent.com/jkitchin/s17-06364/master/lectures/images/cocurrent-tube-shell.png)\n",
    "\n",
    "-   The temperature in the shell is not constant, it changes down the length of the tube\n",
    "-   That means we need another equation for the temperature in the shell\n",
    "-   All the heat that goes into the tube must come from the shell\n",
    "-   So our energy balance on the shell becomes\n",
    "\n",
    "$ \\frac{dT_{shell}}{dV} = \\frac{-\\dot{Q}}{\\dot{m} C_{p,coolant}} $\n",
    "\n",
    "-   where $\\dot{m}$ is the mass flow of coolant\n",
    "-   $C_{p,coolant}$ is the heat capacity (on mass basis of coolant)\n",
    "-   $T$  is the tube temperature\n",
    "-   This simply adds a third equation\n",
    "-   It is coupled to the energy balance of the tube through $T$\n",
    "-   Let us use a molar flow rate of 1 mol / s coolant with a heat capacity of 0.0345 kJ / mol / K in a cocurrent tube and shell reactor\n",
    "-   This is still a set of ordinary differential equations, with initial conditions on each variable."
   ]
  },
  {
   "cell_type": "code",
   "execution_count": 26,
   "metadata": {
    "collapsed": true
   },
   "outputs": [],
   "source": [
    "Fa0 = 0.0376      # mol/s\n",
    "Ca0 = 0.0188      # mol / L\n",
    "\n",
    "v0 = Fa0 / Ca0    # initial volumetric flow\n",
    "Ft0 = Fa0\n",
    "\n",
    "T0 = 1035.0       # K\n",
    "\n",
    "Hrxn_298 = 80.77  # kJ/mol at 298K\n",
    "Cpa = 0.1630      # kJ/mol/K\n",
    "Cpb = 0.083\n",
    "Cpc = 0.071\n",
    "\n",
    "Tshell0 = 1150.0    # ambient heat exchanger temperature\n",
    "Ua = 0.0165         # overall heat transfer coefficient\n",
    "mdot = 1.0          # mol/s coolant flow rate\n",
    "Cpcoolant = 0.0345  # Heat capacity of coolant"
   ]
  },
  {
   "cell_type": "markdown",
   "metadata": {},
   "source": [
    "Note the extra variable in the ODE function for the shell temperature. There is also an extra equation on the shell energy balance."
   ]
  },
  {
   "cell_type": "code",
   "execution_count": 27,
   "metadata": {
    "collapsed": true
   },
   "outputs": [],
   "source": [
    "def pfr(Y, V):\n",
    "    Fa, T, Tshell = Y  # unpack variables\n",
    "\n",
    "    extent = (Fa - Fa0) / (-1.0)\n",
    "    Fb = extent\n",
    "    Fc = extent\n",
    "\n",
    "    Ft = Fa + Fb + Fc\n",
    "\n",
    "    v = v0 * Ft / Ft0 * T / T0\n",
    "\n",
    "    k = np.exp(34.3 - 34222.0 / T)\n",
    "    Ca = Fa / v\n",
    "    r = k * Ca\n",
    "    ra = -r\n",
    "    Hrxn = Hrxn_298 + (Cpb + Cpc - Cpa) * (T - 298.0)\n",
    "\n",
    "    dFadV = ra\n",
    "\n",
    "    Qdot = Ua * (Tshell - T)\n",
    "    \n",
    "    # Tube energy balance\n",
    "    dTdV = (-Hrxn * r + Qdot) / (Fa * Cpa + Fb * Cpb + Fc * Cpc)\n",
    "    \n",
    "    # shell energy balance\n",
    "    dTshelldV = -Qdot / (mdot * Cpcoolant)\n",
    "\n",
    "    return [dFadV, dTdV, dTshelldV]\n",
    "\n",
    "Vspan = np.linspace(0, 5) # volume in L\n",
    "Y0 = [Fa0, T0, Tshell0]\n",
    "sol = odeint(pfr, Y0, Vspan)\n",
    "\n",
    "Fa = sol[:, 0]\n",
    "T = sol[:, 1]\n",
    "Tshell = sol[:, 2]\n",
    "X = ((Fa - Fa0) * (-1) / Fa0)"
   ]
  },
  {
   "cell_type": "code",
   "execution_count": 28,
   "metadata": {
    "collapsed": false
   },
   "outputs": [
    {
     "data": {
      "image/png": "[encoded data removed]",
      "text/plain": [
       "<matplotlib.figure.Figure at 0x10f1c7eb8>"
      ]
     },
     "metadata": {},
     "output_type": "display_data"
    }
   ],
   "source": [
    "plt.subplot(1,2,1)\n",
    "plt.plot(Vspan, X)\n",
    "plt.xlabel('Volume (L)')\n",
    "plt.ylabel('Conversion')\n",
    "\n",
    "plt.subplot(1,2,2)\n",
    "plt.plot(Vspan, T, label='Tube')\n",
    "plt.plot(Vspan, Tshell, label='Shell')\n",
    "plt.xlabel('Volume (L)')\n",
    "plt.ylabel('Temperature (K)')\n",
    "plt.legend(loc='best')\n",
    "\n",
    "plt.tight_layout()"
   ]
  },
  {
   "cell_type": "markdown",
   "metadata": {},
   "source": [
    "-   You can see the shell temperature decreases along the volume\n",
    "\n",
    "-   The tube temperature initially dips slightly, then increases until the tube and shell temperatures are the same\n",
    "\n",
    "-   At that point, there is no heat transfer between them"
   ]
  },
  {
   "cell_type": "markdown",
   "metadata": {},
   "source": [
    "## Shell and tube countercurrent heat exchanger (optional)"
   ]
  },
  {
   "cell_type": "markdown",
   "metadata": {},
   "source": [
    "-   Counter-current heat exchangers use heat more efficiently than co-current exchangers\n",
    "\n",
    "![img](https://raw.githubusercontent.com/jkitchin/s17-06364/master/lectures/images/counter-current-tube-shell.png)\n",
    "\n",
    "-   You provide the greatest heat transfer where it is needed\n",
    "    -   For an endothermic reaction this is where the reactor is coldest\n",
    "    -   If you are cooling, this is where the reactor is the hottest\n",
    "-   However, they are much harder problems to solve because we have:\n",
    "\n",
    "\\begin{align*}\n",
    "F_A(0) &=& F_{A0} \\\\\n",
    "T(V=0) &=& T_0 \\\\\n",
    "T_{shell}(V=L) &=& T_{shell,inlet}\n",
    "\\end{align*}\n",
    "\n",
    "-   In other words, we do not have an initial value problem anymore!\n",
    "-   We have a boundary value problem\n",
    "-   It is also the case that the energy balance on the shell is different than the cocurrent case by a sign change\n",
    "-   This happens because the flow is going in the opposite direction as in the tube\n",
    "\n",
    "$ \\frac{dT_{shell}}{dV} = \\frac{\\dot{Q}}{\\dot{m} C_{p,coolant}} $\n",
    "\n",
    "-   Solving boundary value problems is generally difficult\n",
    "-   A notable weakness in Python at the moment is the lack of strong boundary value problem solvers\n",
    "-   Pycse has some capabilities for solving BVPs, but not this one\n",
    "-   We use a simple, iterative shooting method here"
   ]
  },
  {
   "cell_type": "code",
   "execution_count": 1,
   "metadata": {
    "collapsed": true
   },
   "outputs": [],
   "source": [
    "import numpy as np\n",
    "%matplotlib inline\n",
    "import matplotlib.pyplot as plt\n",
    "\n",
    "Fa0 = 0.0376      # mol/s\n",
    "Ca0 = 0.0188      # mol / L\n",
    "\n",
    "v0 = Fa0 / Ca0    # initial volumetric flow\n",
    "Ft0 = Fa0\n",
    "\n",
    "T0 = 1035.0       # K\n",
    "\n",
    "Hrxn_298 = 80.77  # kJ/mol at 298K\n",
    "Cpa = 0.1630      # kJ/mol/K\n",
    "Cpb = 0.083\n",
    "Cpc = 0.071\n",
    "\n",
    "Tshell0 = 1100.0    # ambient heat exchanger temperature\n",
    "Ua = 0.0165         # overall heat transfer coefficient\n",
    "mdot = 1.0          # mol/s coolant flow rate\n",
    "Cpcoolant = 0.0345  # Heat capacity of coolant"
   ]
  },
  {
   "cell_type": "markdown",
   "metadata": {},
   "source": [
    "The equations look the same here."
   ]
  },
  {
   "cell_type": "code",
   "execution_count": 1,
   "metadata": {
    "collapsed": true
   },
   "outputs": [],
   "source": [
    "def pfr(Y, V):\n",
    "    Fa, T, Tshell = Y\n",
    "\n",
    "    extent = (Fa - Fa0) / (-1.0)\n",
    "    Fb = extent\n",
    "    Fc = extent\n",
    "\n",
    "    Ft = Fa + Fb + Fc\n",
    "\n",
    "    v = v0 * Ft / Ft0 * T / T0\n",
    "\n",
    "    k = np.exp(34.3 - 34222.0 / T)\n",
    "    Ca = Fa / v\n",
    "    r = k * Ca\n",
    "    ra = -r\n",
    "    Hrxn = Hrxn_298 + (Cpb + Cpc - Cpa) * (T - 298.0)\n",
    "\n",
    "    dFadV = ra\n",
    "\n",
    "    Qdot = Ua * (Tshell - T)\n",
    "    dTdV = (-Hrxn * r + Qdot) / (Fa * Cpa + Fb * Cpb + Fc * Cpc)\n",
    "    dTshelldV = Qdot / (mdot * Cpcoolant)\n",
    "\n",
    "    return [dFadV, dTdV, dTshelldV]\n",
    "\n",
    "Vspan = np.linspace(0, 5, 100)  # volume in L"
   ]
  },
  {
   "cell_type": "markdown",
   "metadata": {},
   "source": [
    "Solving the BVP is different though, because we have to guess one of the initial conditions and see if the solution gets to the right place at the end. Here we iteratively change Ta\\_guess at the entrance and check if Ta at the exit is the correct value. The value is sensitive to the flow rate of coolant."
   ]
  },
  {
   "cell_type": "code",
   "execution_count": 1,
   "metadata": {
    "collapsed": false
   },
   "outputs": [
    {
     "name": "stdout",
     "output_type": "stream",
     "text": [
      "1100.06504981"
     ]
    },
    {
     "data": {
      "image/png": "[encoded data removed]",
      "text/plain": [
       "<matplotlib.figure.Figure>"
      ]
     },
     "metadata": {},
     "output_type": "display_data"
    }
   ],
   "source": [
    "# you have to manually iterate on this value until Tshell[-1] == 1100\n",
    "Ta_guess = 1012\n",
    "\n",
    "Y0 = [Fa0, T0, Ta_guess]\n",
    "\n",
    "from scipy.integrate import odeint\n",
    "sol = odeint(pfr, Y0, Vspan)\n",
    "\n",
    "Fa = sol[:, 0]\n",
    "T = sol[:, 1]\n",
    "Tshell = sol[:, 2]\n",
    "print(Tshell[-1])\n",
    "X = ((Fa - Fa0) * (-1) / Fa0)\n",
    "\n",
    "plt.subplot(1, 2, 1)\n",
    "plt.plot(Vspan, X)\n",
    "plt.xlabel('Volume (L)')\n",
    "plt.ylabel('Conversion')\n",
    "\n",
    "plt.subplot(1, 2, 2)\n",
    "plt.plot(Vspan, T, label='Tube')\n",
    "plt.plot(Vspan, Tshell, label='Shell')\n",
    "plt.xlabel('Volume (L)')\n",
    "plt.ylabel('Temperature (K)')\n",
    "plt.legend(loc='best')\n",
    "\n",
    "plt.tight_layout()"
   ]
  },
  {
   "cell_type": "markdown",
   "metadata": {},
   "source": [
    "-   This is a difficult problem to solve\n",
    "    -   There is a steep change in T in the tube at the entrance\n",
    "\n",
    "-   The shooting method is not ideal\n",
    "    -   It is not always stable\n",
    "\n",
    "-   But you need an initial guess for the solution otherwise\n",
    "    -   The solution does not have an intuitive form so it is hard to guess"
   ]
  },
  {
   "cell_type": "markdown",
   "metadata": {},
   "source": [
    "# Summary"
   ]
  },
  {
   "cell_type": "markdown",
   "metadata": {},
   "source": [
    "-   This concludes application of the energy balance to the basic reactor types\n",
    "\n",
    "The key equation for the plug flow reactor is:\n",
    "<div class=\"alert alert-warning\">\n",
    "$ \\frac{dT}{dV} = \\frac{-\\Delta H_{Rx}(T) r + \\dot{Q}}{\\sum F_i C_{P,i}} $\n",
    "</div>\n",
    "\n",
    "-   In the nonisothermal PFR we end up with coupled ODEs for the mole and energy balance.\n",
    "-   It is important to inspect $\\dot{Q}$ to make sure the sign convention is correct."
   ]
  }
 ],
 "metadata": {
  "kernelspec": {
   "display_name": "Python 3",
   "language": "python",
   "name": "python3"
  },
  "language_info": {
   "codemirror_mode": {
    "name": "ipython",
    "version": 3
   },
   "file_extension": ".py",
   "mimetype": "text/x-python",
   "name": "python",
   "nbconvert_exporter": "python",
   "pygments_lexer": "ipython3",
   "version": "3.5.2"
  },
  "org": {
   "KEYWORDS": "energy balance, pfr"
  }
 },
 "nbformat": 4,
 "nbformat_minor": 0
}
