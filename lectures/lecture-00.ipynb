{
 "cells": [
  {
   "cell_type": "markdown",
   "metadata": {},
   "source": [
    "- TITLE: Introduction to 06-364\n",
    "- AUTHOR: John Kitchin\n"
   ]
  },
  {
   "cell_type": "markdown",
   "metadata": {},
   "source": [
    "\n",
    "\n",
    "# Welcome to 06-364 Spring 2017\n",
    "\n",
    "I am Prof. Kitchin. My office is in Doherty Hall A207F.\n",
    "\n",
    "We have three TAs:\n",
    "\n",
    "1.  Elif Erdinc\n",
    "2.  Daniel Lee\n",
    "3.  David Molina Thierry\n",
    "\n",
    "\n",
    "# Slack and Email\n",
    "\n",
    "I will use Slack for class announcements. You should use it to ask questions outside of class. It would be a good way for me to get to know you.\n",
    "\n",
    "You can access Slack via website, desktop app, and phone app. Let's make it work!\n",
    "\n",
    "\n",
    "# The course website\n",
    "\n",
    "The course website is it at [http://bit.ly/s17-06364>](http://bit.ly/s17-06364>)in GitHUB.\n",
    "\n",
    "The syllabus: [https://github.com/jkitchin/s17-06364/blob/master/syllabus.org](https://github.com/jkitchin/s17-06364/blob/master/syllabus.org)\n",
    "\n",
    "You can see the lecture notes here: [https://github.com/jkitchin/s17-06364/tree/master/lectures>](https://github.com/jkitchin/s17-06364/tree/master/lectures>)and the course schedule: [https://github.com/jkitchin/s17-06364/blob/master/course-schedule.org](https://github.com/jkitchin/s17-06364/blob/master/course-schedule.org)\n",
    "\n",
    "Assignments will be located here: [https://github.com/jkitchin/s17-06364/tree/master/assignments](https://github.com/jkitchin/s17-06364/tree/master/assignments). I will provide you with directions on how to use them when it is time.\n",
    "\n",
    "\n",
    "# Assignments\n",
    "\n",
    "All assignments must turned in as a Jupyter notebook. I recommend you install Anaconda Python for this. I will provide you with directions for how to access the assignments and turn them in. I suggest you use the same computer for all your assignments.\n",
    "\n",
    "Assignments are due by 11:59:59pm on the due date. Assignments submitted after we have collected it may not get graded.\n",
    "\n",
    "Graded homeworks will be returned to you by email.\n",
    "\n",
    "Your homeworks should be neat, and organized. You must put narrative text describing what you are doing, and what your results mean. **I do not want to see homeworks containing only code!**\n",
    "\n",
    "\n",
    "# Python\n",
    "\n",
    "I will use Python exclusively in class, every day. Python is free, and better than anything else for what we will do in this class. I have used it in research for more than a decade.\n",
    "\n",
    "See [http://kitchingroup.cheme.cmu.edu/pycse/>](http://kitchingroup.cheme.cmu.edu/pycse/>)\n",
    "\n",
    "It is not hard. You will see it a lot. It is an opportunity to learn something new!\n",
    "\n",
    "\n",
    "# The Jupyter notebook\n",
    "\n",
    "The Jupyter notebook is a browser based tool to write and run Python code. You can integrate narrative text, equations, and images with your code.\n",
    "\n"
   ]
  },
  {
   "cell_type": "code",
   "execution_count": 2,
   "metadata": {
    "collapsed": false
   },
   "outputs": [
    {
     "name": "stdout",
     "output_type": "stream",
     "text": [
      "Hello class, how exciting\n"
     ]
    }
   ],
   "source": [
    "print('Hello class, how exciting')"
   ]
  },
  {
   "cell_type": "markdown",
   "metadata": {},
   "source": [
    "[./lecture-01.ipynb](./lecture-01.ipynb)\n",
    "\n"
   ]
  }
 ],
 "metadata": {
  "kernelspec": {
   "display_name": "Python 3",
   "language": "python",
   "name": "python3"
  },
  "language_info": {
   "codemirror_mode": {
    "name": "ipython",
    "version": 3
   },
   "file_extension": ".py",
   "mimetype": "text/x-python",
   "name": "python",
   "nbconvert_exporter": "python",
   "pygments_lexer": "ipython3",
   "version": "3.5.2"
  },
  "org": {
   "AUTHOR": "John Kitchin",
   "KEYWORDS": "Introduction",
   "TITLE": "Introduction to 06-364"
  }
 },
 "nbformat": 4,
 "nbformat_minor": 0
}
