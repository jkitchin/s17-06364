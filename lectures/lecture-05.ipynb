{
 "cells": [
  {
   "cell_type": "markdown",
   "metadata": {},
   "source": [
    "\n",
    "# Lecture 5 - Chapter 3\n",
    "\n",
    "\n",
    "## Ch. 3.2.3 Reversible reactions\n",
    "\n",
    "Reversible reactions are written as:\n",
    "\n",
    "$aA + bB \\rightleftharpoons cC + dD$. \n",
    "\n",
    "That means the reaction can go forward and backward, and there is a forward rate and backwards rate, as well as a net rate.\n",
    "\n",
    "When these reactions are at steady state, in a constant volume system with no flows, we say they are at equilibrium. The concentrations at equilibrium are related to the equilibrium constant $K_C$ according to this equation:\n",
    "\n",
    "$K_C = \\frac{C_{C,eq}^c C_{D,eq}^d}{C_{A,eq}^a C_{B,eq}^b}$\n",
    "\n",
    "For specificity consider $2B \\rightleftharpoons D + H$\n",
    "\n",
    "We would write the forward reaction rate law as:\n",
    "\n",
    "$-r_{B,forward} = k_B C_B^2$\n",
    "\n",
    "and the reverse rate law as:\n",
    "\n",
    "$r_{B,reverse} = k_{-B} C_D C_H$\n",
    "\n",
    "The net rate of consumption is the sum of these two reactions (B is consumed in the forward reaction, and produced in the backwards reaction).\n",
    "\n",
    "$r_B = -k_B C_B^2 + k_{-B} C_D C_H$\n",
    "\n",
    "Note we have three concentrations in this rate law! They are related by stoichiometry, and later we will see how to do that. \n",
    "\n",
    "At equilibrium, we have that the net rate must be zero (or else the concentrations will be changing). So:\n",
    "\n",
    "$k_B C_B^2 = k_{-B} C_D C_H$\n",
    "\n",
    "Let's rewrite that as:\n",
    "\n",
    "$\\frac{k_B}{k_{-B}} = \\frac{C_D C_H}{C_B^2} = K_C = \\exp(-\\frac{\\Delta G_{rxn}}{R T})$\n",
    "\n",
    "There is an important connection between thermodynamics and kinetics here: *They must be consistent!* Of the three quantities $k_B$, $k_{-B}$ and $K_C$, only two are independent of each other.\n",
    "\n",
    "This leads to an alternative way to write this rate law:\n",
    "\n",
    "$-r_B = k_B \\left(C_B^2 - \\frac{C_D C_H}{K_C}\\right)$.\n",
    "\n",
    "You choose which one to use based on the information given. \n",
    "\n",
    "\n",
    "## An example with the water gas shift reaction\n",
    "\n",
    "The WGS reaction is $CO + H_2O \\rightleftharpoons CO_2 + H_2$. It is used to produce hydrogen from water. The reaction is exothermic, with $\\Delta G_{rxn}=730$ cal/mol CO.\n",
    "\n",
    "Let's write the reaction as $ A + B \\rightleftharpoons C + D$.\n",
    "\n",
    "If we start out with 5 atm of water vapor and 5 atm of CO at 1000K, estimate the equilibrium composition.\n",
    "\n",
    "To do this we need to compute the equilibrium constant.\n",
    "\n"
   ]
  },
  {
   "cell_type": "code",
   "execution_count": 1,
   "metadata": {
    "collapsed": false
   },
   "outputs": [
    {
     "name": "stdout",
     "output_type": "stream",
     "text": [
      "Kc = 0.69\n"
     ]
    }
   ],
   "source": [
    "G = 730  # cal/mol\n",
    "T = 1000 # K\n",
    "R1 = 1.987 # cal / mol / K\n",
    "\n",
    "import numpy as np\n",
    "Kc = np.exp(-G / (R1 * T))\n",
    "\n",
    "print('Kc = {:1.2f}'.format(Kc))"
   ]
  },
  {
   "cell_type": "markdown",
   "metadata": {},
   "source": [
    "Kc is less than one, so we expect there to be slightly more reactants than products at equilibrium.\n",
    "\n",
    "Next, we know that $K_C = \\frac{C_{C,eq} C_{D,eq}}{C_{A,eq} C_{B,eq}}$ but we do not know the equilibrium concentrations.\n",
    "\n",
    "However, if we know the conversion, we can compute the concentrations. For example, if the conversion is $X$ then $C_A = C_{A0} (1 - X)$. The amount of A that has reacted is simply $C_{A0} X$. So, by stoichiometry, we know that:\n",
    "\n",
    "$C_B = C_{B0} - C_{A0}X$\n",
    "\n",
    "$C_C = C_{C0} + C_{A0}X$\n",
    "\n",
    "$C_D = C_{D0} + C_{A0}X$\n",
    "\n",
    "Now, we have all the concentrations in terms of one unknown, $X$. We just have to plug those values into the $K_C$ equation, and solve it for X. We use fsolve for the solution. We need a guess for the solution, and in this case it makes sense to guess about 50% conversion since there should be roughly equal amounts of reactants and products according to the equilibrium constant.\n",
    "\n"
   ]
  },
  {
   "cell_type": "code",
   "execution_count": 2,
   "metadata": {
    "collapsed": false
   },
   "outputs": [],
   "source": [
    "R2 = 0.082 # L atm / (K mol)\n",
    "\n",
    "Pa0 = 5 # atm\n",
    "Pb0 = 5 # atm\n",
    "\n",
    "Ca0 = Pa0 / R2 / T # mol / L\n",
    "Cb0 = Pb0 / R2 / T\n",
    "Cc0 = 0\n",
    "Cd0 = 0"
   ]
  },
  {
   "cell_type": "markdown",
   "metadata": {},
   "source": [
    "It will be convenient to define a function that calculates the concentrations from the conversion. The reason is we will eventually solve for the conversion, but to do that we need to compute the concentrations at a conversion. Then, when we have the solution, we have to recalculate the concentrations to get the answer that we want. So, we use this function twice, once in the objective function for fsolve, and once at the end to get our answer. Anytime you use code twice, you can think about making a function to reuse it.\n",
    "\n"
   ]
  },
  {
   "cell_type": "code",
   "execution_count": 3,
   "metadata": {
    "collapsed": false
   },
   "outputs": [],
   "source": [
    "def concentrations(X):\n",
    "    Ca = Ca0 * (1 - X)\n",
    "    Cb = Cb0 - Ca0 * X\n",
    "    Cc = Cc0 + Ca0 * X\n",
    "    Cd = Cd0 + Ca0 * X\n",
    "    return Ca, Cb, Cc, Cd"
   ]
  },
  {
   "cell_type": "markdown",
   "metadata": {},
   "source": [
    "Finally, we use fsolve to setup and solve this equation for $X_{eq}$:\n",
    "\n",
    "$K_C = \\frac{C_{C,Xeq} C_{D,Xeq}}{{C_{A,Xeq} C_{B,Xeq}}}$.\n",
    "\n"
   ]
  },
  {
   "cell_type": "code",
   "execution_count": 9,
   "metadata": {
    "collapsed": false
   },
   "outputs": [
    {
     "name": "stdout",
     "output_type": "stream",
     "text": [
      "The equilibrium conversion is 0.45\n",
      "The equilibrium concentration of A is 0.0333 M\n",
      "The equilibrium concentration of B is 0.0333 M\n",
      "The equilibrium concentration of C is 0.0277 M\n",
      "The equilibrium concentration of D is 0.0277 M\n",
      "The equilibrium concentration of A is 0.0333 M\n",
      "The equilibrium concentration of B is 0.0333 M\n",
      "The equilibrium concentration of C is 0.0277 M\n",
      "The equilibrium concentration of D is 0.0277 M\n",
      "0.692540871709 0.692540871709\n"
     ]
    }
   ],
   "source": [
    "def objective(X):\n",
    "    Ca, Cb, Cc, Cd = concentrations(X)\n",
    "    z = Kc - (Cc * Cd) / (Ca * Cb)\n",
    "    return z\n",
    "\n",
    "from scipy.optimize import fsolve\n",
    "\n",
    "xans, = fsolve(objective, 0.5)\n",
    "print('The equilibrium conversion is {:1.2f}'.format(xans))\n",
    "\n",
    "for label, conc in zip(['A', 'B', 'C', 'D'], concentrations(xans)):\n",
    "    print('The equilibrium concentration of {} is {:1.3g} M'.format(label, conc))\n",
    "    \n",
    "Ca, Cb, Cc, Cd = concentrations(xans)\n",
    "print('The equilibrium concentration of A is {:1.3g} M'.format(Ca))\n",
    "print('The equilibrium concentration of B is {:1.3g} M'.format(Cb))\n",
    "print('The equilibrium concentration of C is {:1.3g} M'.format(Cc))\n",
    "print('The equilibrium concentration of D is {:1.3g} M'.format(Cd))\n",
    "\n",
    "\n",
    "print(Cc * Cd / (Ca * Cb), Kc)"
   ]
  },
  {
   "cell_type": "markdown",
   "metadata": {},
   "source": [
    "In the code block above, the zip function takes two lists and returns an iterator that provides an element from each list until one list runs out.\n",
    "\n",
    "As you can see in the solution, we have slightly more reactants than products, consistent with less than 50% conversion, and an equilibrium constant that is less than one.\n",
    "\n",
    "We used stoichiometry to relate the concentrations of each species to each other through the conversion to get a single equation with a single unknown in it.\n",
    "\n",
    "Note that there is no rate law in this calculation. We are solving a thermodynamic problem.\n",
    "\n",
    "\n",
    "# Another example of stoichiometry (3-2)\n",
    "\n",
    "Consider the reaction $3A + B \\rightarrow 3C + D$. If we start out with 10 mol/L of A, and 2 mol/L of B what is the concentration of D when the conversion of A is 20%?\n",
    "\n",
    "Since we use $A$ as our basis, we have normalize this reaction as:\n",
    "\n",
    "$A + 1/3 B \\rightarrow C + 1/3 D$\n",
    "\n",
    "So, if X = 0.2, we will have (in a constant volume system) $C_A = C_{A0}(1 - X)$ and the amount of A per unit volume that has reacted as $C_{A0} X$\n",
    "\n",
    "By stoichiometry we have that the number of moles of B that have reacted per unit volume is $1/3 C_{A0} X$, and similarly, the number of moles of C that are produced per unit volume is $C_{A0} X$ and the number of moles of D produced per unit volume is $1 / 3 C_{A0} X$. We can simply evaluate these expressions to calculate the concentrations \n",
    "\n"
   ]
  },
  {
   "cell_type": "code",
   "execution_count": 10,
   "metadata": {
    "collapsed": false
   },
   "outputs": [
    {
     "name": "stdout",
     "output_type": "stream",
     "text": [
      "Ca at X=0.2 is 8.0 M.\n",
      "Cb at X=0.2 is 1.3333333333333335 M.\n",
      "Cd at X=0.2 is 0.6666666666666666 M.\n"
     ]
    }
   ],
   "source": [
    "X = 0.2\n",
    "\n",
    "Ca0 = 10\n",
    "Cb0 = 2\n",
    "Cc0 = 0\n",
    "Cd0 = 0\n",
    "\n",
    "print('Ca at X={} is {} M.'.format(X, Ca0 * (1 - X)))\n",
    "print('Cb at X={} is {} M.'.format(X, Cb0 - 1 / 3 * Ca0 * X))\n",
    "print('Cd at X={} is {} M.'.format(X, Cd0 + 1 / 3 * Ca0 * X))"
   ]
  },
  {
   "cell_type": "markdown",
   "metadata": {},
   "source": [
    "Now, how about at X=0.9?\n",
    "\n"
   ]
  },
  {
   "cell_type": "code",
   "execution_count": 17,
   "metadata": {
    "collapsed": false
   },
   "outputs": [
    {
     "name": "stdout",
     "output_type": "stream",
     "text": [
      "Ca at X=0.6 is 4.0 M.\n",
      "Cb at X=0.6 is 2.220446e-16 M.\n",
      "Cd at X=0.6 is 1.9999999999999998 M.\n"
     ]
    }
   ],
   "source": [
    "X = 0.6\n",
    "print('Ca at X={} is {} M.'.format(X, Ca0 * (1 - X)))\n",
    "print('Cb at X={} is {:1.7g} M.'.format(X, Cb0 - 1 / 3 * Ca0 * X))\n",
    "print('Cd at X={} is {} M.'.format(X, Cd0 + 1 / 3 * Ca0 * X))"
   ]
  },
  {
   "cell_type": "markdown",
   "metadata": {},
   "source": [
    "Aack! negative concentration in species B! We neglected to determine what the limiting reagent here is. Once $C_B = 0$ the reaction will stop, so in this case it is not possible to achieve 90% conversion of A. In this case, we should have used species B for the basis. Note we still cannot get 90% conversion of A, even for 100% conversion of B.\n",
    "\n",
    "**Exercise:** Determine the maximum conversion of A that is possible. \n",
    "\n",
    "\n",
    "# Equations for concentration of flow systems\n",
    "\n",
    "For a flow system we define concentration as $C_A = F_A / \\nu$. With species A as a basis, we can write $F_A = F_{A0} (1 - X)$, and again we have that the amount of A that has reacted is $F_{A0} X$. \n",
    "\n",
    "For a reaction like:\n",
    "\n",
    "$A + \\frac{b}{a} B \\rightarrow \\frac{c}{a} C + \\frac{d}{a} D$\n",
    "\n",
    "we can use stoichiometry to determine how much of each species has reacted or been produced. So, if $F_{A0} X$ is the amount that A has reacted, then:\n",
    "\n",
    "$b/a F_{A0} X$ is how much B has reacted\n",
    "\n",
    "$c/a F_{A0} X$ is how much C was produced\n",
    "\n",
    "$d/a F_{A0} X$ is how much D was produced.\n",
    "\n",
    "So, the molar flows of each species is then:\n",
    "\n",
    "$F_A = F_{A0} - F_{A0} X = F_{A0} (1 - X)$\n",
    "\n",
    "$F_B = F_{B0} - \\frac{b}{a} F_{A0} X$\n",
    "\n",
    "$F_C = F_{C0} + \\frac{c}{a} F_{A0} X$\n",
    "\n",
    "$F_D = F_{D0} + \\frac{d}{a} F_{A0} X$\n",
    "\n",
    "The book tries to \"simplify\" these equations with variables like $\\Theta_B = \\frac{F_{B0}}{F_{A0}}$. This does not make sense in my opinion. You will not see me do it. I think it is easier to use the molar flows directly in code. Decide for yourself below.\n",
    "\n",
    "For liquid systems, the volumetric flow is usually constant (assuming no density change from the reaction), so we just divide the molar flows by the volumetric flows to get the concentrations: $C_A = F_A / \\nu$.\n",
    "\n",
    "For gas systems, it is more complicated; the volumetric flow is only constant if there is no change in the number of moles in the reaction mixture. Recall that the ideal gas law is $P V = n R T$ or for a flow system: $P \\nu = F R T$. If $F$ (the total molar flow) changes due to reactions, then the volumetric flow will change too.\n",
    "\n",
    "For now, let's consider an isobaric (constant P) and isothermal (constant T) situation with ideal gases. At the entrance of a reactor we have:\n",
    "\n",
    "$P \\nu_0 = F_{T0} R T$\n",
    "\n",
    "Somewhere else in the reactor we might have:\n",
    "\n",
    "$P \\nu = F_T R T$.\n",
    "\n",
    "We can take the ratio of these equations to yield:\n",
    "\n",
    "$\\nu = \\nu_0 \\frac{F_T}{F_{T0}}$ \n",
    "\n",
    "where $F_{T0}$ is the total inlet molar flow, and $F_T$ is the molar flow at the point of interest. \n",
    "\n",
    "Sometimes, the molar flow does not change, for example in the reaction $A \\rightarrow B$, we have a mole of reactants producing a mole of products, and the total moles is always constant.\n",
    "\n",
    "For $A + B \\rightarrow C$, however, two moles of reactants produce one mole of products, so  the molar flow decreases with conversion, and thus the volumetric flow will decrease with conversion.\n",
    "\n",
    "In contrast, $A \\rightarrow 2B$, has one mole of reactant producing two moles of product, so the total molar flow increases and the volumetric flow increases with conversion.\n",
    "\n",
    "In the book they define $\\delta$ and $\\epsilon$. We will not be using those. It is easier to just compute the total molar flows.\n",
    "\n",
    "\n",
    "## An example to highlight the difference between constant volume and flow systems\n",
    "\n",
    "\n",
    "### A constant volume batch reactor\n",
    "\n",
    "The reaction $A \\rightleftharpoons 2B$ has an equilibrium constant of $K_C = 0.1$ mol/L at 340K. A constant volume batch reactor starts with pure A at 2 atm. Compute the equilibrium conversion.\n",
    "\n"
   ]
  },
  {
   "cell_type": "code",
   "execution_count": 20,
   "metadata": {
    "collapsed": false
   },
   "outputs": [
    {
     "name": "stdout",
     "output_type": "stream",
     "text": [
      "The equilibrium conversion in a batch reactor is 0.44.\n"
     ]
    }
   ],
   "source": [
    "Pa0 = 2 # atm\n",
    "R = 0.082 # L atm / (K mol)\n",
    "T = 340 # K\n",
    "\n",
    "Ca0 = Pa0 / R / T\n",
    "\n",
    "Kc = 0.1  # mol / L\n",
    "\n",
    "def objective(X):\n",
    "    Ca = Ca0 * (1 - X)\n",
    "    Cb = 2 * Ca0 * X\n",
    "    return Kc - Cb**2 / Ca\n",
    "\n",
    "Xb, = fsolve(objective, 0.5)\n",
    "print('The equilibrium conversion in a batch reactor is {:1.2f}.'.format(Xb))"
   ]
  },
  {
   "cell_type": "markdown",
   "metadata": {},
   "source": [
    "\n",
    "# In a flow reactor\n",
    "\n",
    "Now, compute the equilibrium conversion in a flow reactor. Note the \"reactor volume\" is still constant, but the volumetric flow is not constant since we have a mole change. We still have these relations:\n",
    "\n",
    "$F_A = F_{A0}(1 - X)$\n",
    "\n",
    "In this case there is no inlet molar flow of B, so using stoichiometry we get\n",
    "\n",
    "$F_B = 2 F_{A0}X$\n",
    "\n",
    "But to actually calculate the concentrations with these we need the volumetric flow, and by inspection you can see for this gas phase reaction that the total number of moles will increase with conversion.\n",
    "\n",
    "$C_A = \\frac{F_A}{\\nu}$\n",
    "\n",
    "$C_B = \\frac{F_B}{\\nu}$\n",
    "\n",
    "we need to calculate the volumetric flow from:\n",
    "\n",
    "$\\nu = \\nu_0 \\frac{F_A + F_B}{F_{A0}}$\n",
    "\n",
    "We can compute the inlet volumetric flow if we specify the inlet molar flow, in this case say it is 3 mol A/min.\n",
    "$\\nu_0 = \\frac{F_{A0} R T}{P}$\n",
    "\n"
   ]
  },
  {
   "cell_type": "code",
   "execution_count": 21,
   "metadata": {
    "collapsed": false
   },
   "outputs": [
    {
     "name": "stdout",
     "output_type": "stream",
     "text": [
      "The inlet volumetric flow is 41.82 L/min\n"
     ]
    }
   ],
   "source": [
    "Fa0 = 3  # mol / min\n",
    "Ft0 = Fa0 \n",
    "\n",
    "nu0 = (Fa0 * R * T) / Pa0\n",
    "print('The inlet volumetric flow is {:1.2f} L/min'.format(nu0))"
   ]
  },
  {
   "cell_type": "markdown",
   "metadata": {},
   "source": [
    "Now we are ready to setup the code to solve:\n",
    "\n",
    "$K_C = \\frac{C_{B,eq}^2}{C_{A,eq}}$.\n",
    "\n",
    "For a given conversion we have to compute the molar flow of each species, and the volumetric flow. *Then* we compute the concentrations, and plug them into the equation. Here is an objective function that does those things.\n",
    "\n"
   ]
  },
  {
   "cell_type": "code",
   "execution_count": 22,
   "metadata": {
    "collapsed": false
   },
   "outputs": [],
   "source": [
    "def objective(X):\n",
    "    Fa = Fa0 * (1 - X)\n",
    "    Fb = 2 * Fa0 * X\n",
    "    Ft = Fa + Fb\n",
    "\n",
    "    # compute the volumetric flow\n",
    "    nu = nu0 * Ft / Ft0\n",
    "\n",
    "    # Now we get the concentrations\n",
    "    Ca = Fa / nu\n",
    "    Cb = Fb / nu\n",
    "\n",
    "    return Kc - Cb**2 / Ca"
   ]
  },
  {
   "cell_type": "code",
   "execution_count": 23,
   "metadata": {
    "collapsed": false
   },
   "outputs": [
    {
     "name": "stdout",
     "output_type": "stream",
     "text": [
      "In the flow system the equilibrium conversion is 0.51\n"
     ]
    }
   ],
   "source": [
    "Xflow, = fsolve(objective, 0.5)\n",
    "print('In the flow system the equilibrium conversion is {:1.2f}'.format(Xflow))"
   ]
  },
  {
   "cell_type": "markdown",
   "metadata": {},
   "source": [
    "It should strike you as interesting that you can get a higher conversion in the flow system for this reaction! That happens because the system is open and operates at *constant pressure*. In contrast to the batch reactor which is closed and operates at *constant volume*. In the batch reactor the pressure increases, and LeChatelier's principle pushes this reaction towards reactants since there are more moles of products than for reactants.\n",
    "\n",
    "Recall we express the rate law for this reaction as:\n",
    "\n",
    "$-r_A = k_A \\left(C_A - \\frac{C_B^2}{K_C}\\right)$\n",
    "\n",
    "To create a Levenspiel plot for a flow reactor ($\\frac{1}{-r_A}$ vs $X$, we have to compute the conversion dependent molar flows and volumetric flow so we can compute the rate. In this case we are given $k_A = 0.5$ 1/min. Note that the maximum conversion we can expect here is the equilibrium conversion, or about 0.5.\n",
    "\n"
   ]
  },
  {
   "cell_type": "code",
   "execution_count": 27,
   "metadata": {
    "collapsed": false
   },
   "outputs": [],
   "source": [
    "ka = 0.5 # 1/min\n",
    "\n",
    "X = np.linspace(0, 0.5)\n",
    "Fa = Fa0 * (1 - X)\n",
    "Fb = 2 * Fa0 * X\n",
    "Ft = Fa + Fb\n",
    "\n",
    "# compute the volumetric flow\n",
    "nu = nu0 * Ft / Ft0\n",
    "\n",
    "# Now we get the concentrations\n",
    "Ca = Fa / nu\n",
    "Cb = Fb / nu"
   ]
  },
  {
   "cell_type": "markdown",
   "metadata": {},
   "source": [
    "Now we compute the rate, and then the Levenspiel plot.\n",
    "\n"
   ]
  },
  {
   "cell_type": "code",
   "execution_count": 28,
   "metadata": {
    "collapsed": false
   },
   "outputs": [
    {
     "data": {
      "text/plain": [
       "<matplotlib.text.Text at 0x10df8b518>"
      ]
     },
     "execution_count": 28,
     "metadata": {},
     "output_type": "execute_result"
    },
    {
     "data": {
      "image/png": "[encoded data removed]",
      "text/plain": [
       "<matplotlib.figure.Figure at 0x10aaa6c50>"
      ]
     },
     "metadata": {},
     "output_type": "display_data"
    }
   ],
   "source": [
    "ra = -ka * (Ca - Cb**2 / Kc) \n",
    "\n",
    "%matplotlib inline\n",
    "import matplotlib.pyplot as plt\n",
    "\n",
    "plt.plot(X, 1 / -ra)\n",
    "plt.xlabel('X')\n",
    "plt.ylabel('1 / -ra (L / mol / min)')"
   ]
  },
  {
   "cell_type": "markdown",
   "metadata": {},
   "source": [
    "Just for fun we consider the volume required to get a conversion of X=0.4.\n",
    "\n"
   ]
  },
  {
   "cell_type": "code",
   "execution_count": 29,
   "metadata": {
    "collapsed": false
   },
   "outputs": [
    {
     "name": "stdout",
     "output_type": "stream",
     "text": [
      "The required volume is 172.16 L.\n"
     ]
    }
   ],
   "source": [
    "X = 0.4\n",
    "\n",
    "Fa = Fa0 * (1 - X)\n",
    "Fb = 2 * Fa0 * X\n",
    "Ft = Fa + Fb\n",
    "\n",
    "# compute the volumetric flow\n",
    "nu = nu0 * Ft / Ft0\n",
    "\n",
    "# Now we get the concentrations\n",
    "Ca = Fa / nu\n",
    "Cb = Fb / nu \n",
    "\n",
    "ra = -ka * (Ca - Cb**2 / Kc)\n",
    "\n",
    "V = Fa0 * X / -ra\n",
    "print('The required volume is {0:1.2f} L.'.format(V))"
   ]
  },
  {
   "cell_type": "markdown",
   "metadata": {},
   "source": [
    "I am pretty sure there is a mistake in the book on this example. There seems to be an error of a factor of 10 in equation E3-6.12.\n",
    "\n",
    "\n",
    "# A final example\n",
    "\n",
    "A mixture of 28% SO<sub>2</sub> and 72% air flows into a flow reactor where the SO<sub>2</sub> is oxidized according to this reaction:\n",
    " $2 SO_2 + O_2 \\rightarrow 2 SO_3$\n",
    "\n",
    "Let's write this as:\n",
    "\n",
    "$2 A + B \\rightarrow C$.\n",
    "\n",
    "The total pressure is 1485 kPa at 227 °C. Calculate the concentrations of each species as a function of conversion.\n",
    "\n",
    "The tricky point is there are 3 moles of reactants, and 2 moles of products. Also, there is an inert present, the N<sub>2</sub> in the air (air is 79% N<sub>2</sub> and 21% O<sub>2</sub>). We have to include that in the total molar flow.\n",
    "\n",
    "Recall that:\n",
    "\n",
    "$P \\nu_{0} =  F_{T0} R T$\n",
    "\n",
    "Here we express this as:\n",
    "\n",
    "$\\frac{F_{T0}}{\\nu_0} = C_{T0} = \\frac{P}{R T}$\n",
    "\n",
    "which gives us the total inlet concentration. 28% of that is SO<sub>2</sub>. Of the remaining gas, 79% of that is N<sub>2</sub> and the rest is oxygen.\n",
    "\n"
   ]
  },
  {
   "cell_type": "code",
   "execution_count": 1,
   "metadata": {
    "collapsed": false
   },
   "outputs": [
    {
     "name": "stdout",
     "output_type": "stream",
     "text": [
      "The inlet concentration of SO2 is 0.10 M.\n",
      "The inlet concentration of O2 is 0.054 M.\n",
      "The inlet concentration of S03 is 0.00 M.\n",
      "The inlet concentration of N2 is 0.20 M."
     ]
    }
   ],
   "source": [
    "P = 1485 # kPa\n",
    "R = 8.314  # L kPa / (mol K)\n",
    "T = 227 + 273.15 # K\n",
    "\n",
    "Ct0 = P / R / T\n",
    "\n",
    "Ca0 = 0.28 * Ct0\n",
    "\n",
    "C0 = 0.72 * Ct0 # this is the rest of the gas\n",
    "Cb0 = 0.21 * C0 # oxygen\n",
    "Cc0 = 0 # the product\n",
    "Cd0 = 0.79 * C0 # N2\n",
    "\n",
    "print('''The inlet concentration of SO2 is {Ca0:1.2f} M.\n",
    "The inlet concentration of O2 is {Cb0:1.3f} M.\n",
    "The inlet concentration of S03 is {Cc0:1.2f} M.\n",
    "The inlet concentration of N2 is {Cd0:1.2f} M.'''.format(**locals()))"
   ]
  },
  {
   "cell_type": "markdown",
   "metadata": {},
   "source": [
    "The reaction requires two moles of SO<sub>2</sub> per mole of oxygen. You can see that SO<sub>2</sub> is the limiting reactant here.\n",
    "\n",
    "We cannot use concentration and conversion directly here, because the volumetric flow will change. We know that:\n",
    "\n",
    "$F_A = F_{A0} (1 - X)$\n",
    "\n",
    "and\n",
    "\n",
    "$\\nu = \\nu_0 \\frac{F_A + F_B + F_C + F_I}{F_{T0}}$\n",
    "\n",
    "Our problem is currently underspecified; we have not said what the volumetric flow is. At this point we can set it to be anything. Once we do that we can compute all the required quantities.\n",
    "\n"
   ]
  },
  {
   "cell_type": "code",
   "execution_count": 1,
   "metadata": {
    "collapsed": false
   },
   "outputs": [
    {
     "name": "stdout",
     "output_type": "stream",
     "text": []
    }
   ],
   "source": [
    "v0 = 1 # L / min\n",
    "Ft0 = v0 * Ct0\n",
    "\n",
    "# initial molar flows of each species\n",
    "Fa0 = v0 * Ca0\n",
    "Fb0 = v0 * Cb0\n",
    "Fc0 = v0 * Cc0\n",
    "Fd0 = v0 * Cd0"
   ]
  },
  {
   "cell_type": "markdown",
   "metadata": {},
   "source": [
    "For specificity, let's calculate concentrations at X=0.5. Now, if we use species A as the basis, *we have to normalize our reaction*.\n",
    "\n",
    "$A + 1/2 B \\rightarrow C$\n",
    "\n",
    "Then we can calculate the molar flows of each species. Note there is a molar flow of N2 also, but it does not change because it is inert and does not participate in the reaction.\n",
    "\n"
   ]
  },
  {
   "cell_type": "code",
   "execution_count": 1,
   "metadata": {
    "collapsed": false
   },
   "outputs": [
    {
     "name": "stdout",
     "output_type": "stream",
     "text": []
    }
   ],
   "source": [
    "X = 0.5\n",
    "\n",
    "Fa = Fa0 * (1 - X)\n",
    "Fb = Fb0 - 0.5 * Fa0 * X\n",
    "Fc = Fc0 + Fa0 * X"
   ]
  },
  {
   "cell_type": "markdown",
   "metadata": {},
   "source": [
    "Next, we calculate the volumetric flow and concentrations. We need the *total* molar flow, including the inerts.\n",
    "\n"
   ]
  },
  {
   "cell_type": "code",
   "execution_count": 1,
   "metadata": {
    "collapsed": false
   },
   "outputs": [
    {
     "name": "stdout",
     "output_type": "stream",
     "text": [
      "The volumetric flow is 0.93 L/min"
     ]
    }
   ],
   "source": [
    "Ft = Fa + Fb + Fc + Fd0\n",
    "\n",
    "v = v0 * Ft / Ft0\n",
    "print('The volumetric flow is {:1.2f} L/min'.format(v))"
   ]
  },
  {
   "cell_type": "markdown",
   "metadata": {},
   "source": [
    "Clearly the volumetric flow has slightly decreased. That should make sense, we are losing moles in the reaction. Finally, let's compute the concentrations.\n",
    "\n"
   ]
  },
  {
   "cell_type": "code",
   "execution_count": 1,
   "metadata": {
    "collapsed": false
   },
   "outputs": [
    {
     "name": "stdout",
     "output_type": "stream",
     "text": [
      "The concentration of SO2 is 0.05 M.\n",
      "The concentration of O2 is 0.031 M.\n",
      "The concentration of SO3 is 0.05 M.\n",
      "The concentration of N2 is 0.22 M."
     ]
    }
   ],
   "source": [
    "Ca = Fa / v\n",
    "Cb = Fb / v\n",
    "Cc = Fc / v\n",
    "Cd = Fd0 / v # This is the inert\n",
    "\n",
    "print('''The concentration of SO2 is {Ca:1.2f} M.\n",
    "The concentration of O2 is {Cb:1.3f} M.\n",
    "The concentration of SO3 is {Cc:1.2f} M.\n",
    "The concentration of N2 is {Cd:1.2f} M.'''.format(**locals()))"
   ]
  },
  {
   "cell_type": "markdown",
   "metadata": {},
   "source": [
    "How about that. The concentration of the inert changed, even though it did not react with anything! That happened because the volumetric flow changed.\n",
    "\n",
    "\n",
    "# Summary\n",
    "\n",
    "-   We learned about reversible reactions, how to express their rate laws, and how to determine equilibrium conversion and composition.\n",
    "\n",
    "-   We learned about using stoichiometry to relate changes in molar quantities of one species to the changes in another.\n",
    "    -   We will use stoichiometry extensively.\n",
    "\n",
    "-   We learned to calculate concentrations in flow systems, including gas systems when there changes in the molar flow.\n",
    "\n",
    "It is always safe to define $C_A = \\frac{F_A}{\\nu}$ and to calculate each quantity. \n",
    "\n"
   ]
  }
 ],
 "metadata": {
  "kernelspec": {
   "display_name": "Python 3",
   "language": "python",
   "name": "python3"
  },
  "language_info": {
   "codemirror_mode": {
    "name": "ipython",
    "version": 3
   },
   "file_extension": ".py",
   "mimetype": "text/x-python",
   "name": "python",
   "nbconvert_exporter": "python",
   "pygments_lexer": "ipython3",
   "version": "3.5.2"
  },
  "org": null
 },
 "nbformat": 4,
 "nbformat_minor": 0
}
