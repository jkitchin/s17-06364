{
 "cells": [
  {
   "cell_type": "markdown",
   "metadata": {},
   "source": []
  },
  {
   "cell_type": "markdown",
   "metadata": {},
   "source": [
    "\n",
    "# Installing techela\n",
    "\n",
    "We will use techela to access assignments and lecture notes. It is a simple web app that will do what you need for the class. We have to install it in Python. It is new, and may take a few days to work cleanly. Have some patience, it will be worth it.\n",
    "\n",
    "Basically we will install the techela package, and then run the techela command.\n",
    "\n"
   ]
  },
  {
   "cell_type": "code",
   "execution_count": 1,
   "metadata": {
    "collapsed": true
   },
   "outputs": [],
   "source": [
    "!pip install -U techela\n",
    "!techela"
   ]
  },
  {
   "cell_type": "markdown",
   "metadata": {},
   "source": [
    "The first time you run it, you will be prompted for your Andrew ID and full name. Then it will open a website on your computer for the course.\n",
    "\n",
    "\n",
    "# Lecture 2 (Ch. 1.4-1.5)\n",
    "\n",
    "\n",
    "## The continuously stirred tank reactor (CSTR)\n",
    "\n",
    "This is a reactor like a tank that is well-stirred so that the concentration in the volume is uniform. There is flow of reactants into the reactor, and flow of products, and unreacted reactants out of the reactor.\n",
    "\n",
    "![img](https://raw.githubusercontent.com/jkitchin/s17-06364/master/lectures/images/constant-volume-cstr.png)\n",
    "\n",
    "The mole balance on this reactor is:\n",
    " $\\frac{dN_A}{dt} = F_{A0} - F_A + r_A V$ \n",
    "\n",
    "Let's focus on the steady state behavior first, where  $\\frac{dN_A}{dt} = 0$ so that we have this **algebraic** equation:\n",
    "\n",
    " $0 = F_{A0} - F_A + r_A V$ \n",
    "\n",
    "This expression means that the number of moles of A in the reactor is a constant, and it is a balance of how many moles of A flow into the reactor, how many flow out of the reactor and how many are consumed in the reactor. It is helpful to remember that:\n",
    "\n",
    " $F_A = C_A \\nu$ where  $\\nu$ is the volumetric flow with units of volume / time. \n",
    "\n",
    "Consider a CSTR with a volume of 10L, where the reaction  $A \\rightarrow B$ occurs at a rate of  $-r_A = k C_A$ with  $k=0.1 1/min$ , with an inlet volumetric flow of 2 L/min that is 1.5M in A. What is the exit concentration of A?\n",
    "\n",
    "We have to solve this equation:\n",
    " $0 = \\nu (C_{A0} - C_A) + V (-k C_A)$ \n",
    "\n",
    "for  $C_A$ . One way to do it is some algebra and evaluation:\n",
    "\n",
    " $0 = \\nu / V C_{A0} - \\nu / V C_A -k C_A$ \n",
    "\n",
    "then\n",
    "\n",
    " $0 = \\nu / V C_{A0} - C_A(\\nu / V + k)$ \n",
    "\n",
    "and finally,\n",
    "\n",
    " $C_A = \\frac{\\nu / V C_{A0}}{\\nu / V + k}$ \n",
    "\n"
   ]
  },
  {
   "cell_type": "code",
   "execution_count": 1,
   "metadata": {
    "collapsed": false
   },
   "outputs": [
    {
     "name": "stdout",
     "output_type": "stream",
     "text": [
      "\n",
      "The exit concentration is 0.97 M\n"
     ]
    }
   ],
   "source": [
    "k = 0.11 # 1/min\n",
    "nu = 2  # L/min\n",
    "V = 10  # L\n",
    "Ca0 = 1.5 # M\n",
    "\n",
    "Ca = (nu / V * Ca0) / (nu / V + k)\n",
    "print('The exit concentration is {0:1.2f} M'.format(Ca))"
   ]
  },
  {
   "cell_type": "markdown",
   "metadata": {},
   "source": [
    "Let's double check this answer.\n",
    "\n"
   ]
  },
  {
   "cell_type": "code",
   "execution_count": 1,
   "metadata": {
    "collapsed": false
   },
   "outputs": [
    {
     "name": "stdout",
     "output_type": "stream",
     "text": [
      "\n",
      "-4.440892098500626e-16\n"
     ]
    }
   ],
   "source": [
    "# Let's double check out answer. The result here should be zero.\n",
    "Fa0 = nu * Ca0\n",
    "Fa = nu * Ca\n",
    "ra = - k * Ca\n",
    "Fa0 - Fa + ra * V"
   ]
  },
  {
   "cell_type": "markdown",
   "metadata": {},
   "source": [
    "That number is so small,  we can consider it zero.\n",
    "\n",
    "The algebraic approach with evaluation is fine, but it is easy to make sign errors, and algebraic mistakes, which lead to wrong answers. Let's look at an approach to solve the equation more directly. Let's use fsolve on:\n",
    "\n",
    " $0 = F_{A0} - F_A + r_A V$ \n",
    "\n",
    "Remember we need to define an objective function that takes Ca as an argument, and is equal to zero at the solution. Our equation is already written that way!\n",
    "\n"
   ]
  },
  {
   "cell_type": "code",
   "execution_count": 1,
   "metadata": {
    "collapsed": false
   },
   "outputs": [
    {
     "name": "stdout",
     "output_type": "stream",
     "text": [
      "\n",
      "The exit concentration is 0.97 M.\n"
     ]
    }
   ],
   "source": [
    "def objective(Ca):\n",
    "    Fa0 = nu * Ca0\n",
    "    Fa = nu * Ca\n",
    "    ra = -k * Ca\n",
    "    return Fa0 - Fa + ra * V\n",
    "\n",
    "from scipy.optimize import fsolve\n",
    "\n",
    "ans, = fsolve(objective, 1)\n",
    "print('The exit concentration is {0:1.2f} M.'.format(ans))"
   ]
  },
  {
   "cell_type": "markdown",
   "metadata": {},
   "source": [
    "There are basically five variables in a CSTR that determine its performance: The volume, the volumetric flow, the inlet concentration, the outlet concentration and the rate constant. They are not independent. You can fix any four and calculate the fifth.\n",
    "\n",
    "For example, what volume is required to get an exit concentration of 0.5M if everything else above is the same? We solve the same equation:\n",
    "\n",
    " $0 = F_{A0} - F_A + r_A V$ \n",
    "\n",
    "but we use a different function, this time a function of V. We need a guess too. The volume has to be larger than the previous reactor because the only way to get a lower concentration if everything else is the same is if we have a larger reactor which gives the reactants more time to react.\n",
    "\n"
   ]
  },
  {
   "cell_type": "code",
   "execution_count": 1,
   "metadata": {
    "collapsed": false
   },
   "outputs": [
    {
     "name": "stdout",
     "output_type": "stream",
     "text": [
      "\n",
      "A volume of 36.36 L has an exit concentration of 0.5 M.\n"
     ]
    }
   ],
   "source": [
    "def objective(V):\n",
    "    Fa0 = nu * Ca0\n",
    "    Ca = 0.5\n",
    "    Fa = nu * Ca\n",
    "    ra = -k * Ca\n",
    "    return Fa0 - Fa + ra * V\n",
    "\n",
    "ans, = fsolve(objective, 10)\n",
    "print('A volume of {0:1.2f} L has an exit concentration of 0.5 M.'.format(ans))"
   ]
  },
  {
   "cell_type": "markdown",
   "metadata": {},
   "source": [
    "\n",
    "# The plug flow reactor (PFR)\n",
    "\n",
    "In a plug flow reactor, reactants flow into the reactor, and react as they flow down the length of the reactor. So the concentration is **not** uniform in the reactor. That means we need a differential equation to define the molar flow of species as a function of reactor volume.\n",
    "\n",
    "![img](https://raw.githubusercontent.com/jkitchin/s17-06364/master/lectures/images/pfr-schematic.png)\n",
    "\n",
    " $\\frac{dF_A}{dV} = r_A$ \n",
    "\n",
    "And we need the initial condition of what the molar flow at the entrance of the reactor  $V=0$ is.\n",
    "\n",
    "Let's consider the same reaction we looked at before in the CSTR, but now in the PFR with a volume of 10L. Determine the exit concentration.\n",
    "\n",
    "Note our differential equation is based on molar flow, so it is easy to calculate the exit molar flow. Since we know that  $F_A = \\nu C_A$ , we just compute it.\n",
    "\n"
   ]
  },
  {
   "cell_type": "code",
   "execution_count": 1,
   "metadata": {
    "collapsed": false
   },
   "outputs": [
    {
     "name": "stdout",
     "output_type": "stream",
     "text": [
      "\n",
      "The exit concentration is 0.8654247328878477M\n"
     ]
    }
   ],
   "source": [
    "def ode(Fa, V):\n",
    "    'dFa/dV = ra'\n",
    "    Ca = Fa / nu\n",
    "    ra = -k * Ca\n",
    "    dFadV = ra\n",
    "    return dFadV\n",
    "\n",
    "from scipy.integrate import odeint\n",
    "import numpy as np\n",
    "\n",
    "Vspan = np.linspace(0, 10)\n",
    "sol = odeint(ode, Fa0, Vspan)\n",
    "Ca = sol / nu\n",
    "print('The exit concentration is {}M'.format(Ca[-1, 0]))\n",
    "\n",
    "%matplotlib inline\n",
    "import matplotlib.pyplot as plt\n",
    "plt.plot(Vspan, Ca)\n",
    "plt.xlabel('Volume (L)')\n",
    "plt.ylabel('$C_A$ (M)')"
   ]
  },
  {
   "cell_type": "markdown",
   "metadata": {},
   "source": [
    "Note the exit concentration in the PFR is a little lower than in the CSTR. That is because the average rate in the reactor is higher since the concentration is higher at the front of the reactor than at the end of the reactor.\n",
    "\n",
    "A more difficult question to answer is what volume is required to reach an exit concentration of 0.5M?\n",
    "\n",
    "A qualitative approach is to integrate to large volume and find the solution graphically.\n",
    "\n"
   ]
  },
  {
   "cell_type": "code",
   "execution_count": 1,
   "metadata": {
    "collapsed": true
   },
   "outputs": [],
   "source": [
    "Vspan = np.linspace(0, 30)\n",
    "sol = odeint(ode, Fa0, Vspan)\n",
    "Ca = sol / nu\n",
    "print('The exit concentration is {}M'.format(Ca[-1, 0]))\n",
    "\n",
    "plt.plot(Vspan, Ca)\n",
    "plt.xlabel('Volume (L)')\n",
    "plt.ylabel('$C_A$ (M)')"
   ]
  },
  {
   "cell_type": "markdown",
   "metadata": {},
   "source": [
    "You can see the answer must be near 20 L. Alternatively, we can rearrange the equation a little.\n",
    "\n",
    " $dV = \\frac{dF_A}{r_A}$ \n",
    "\n",
    "then integrate to get:\n",
    "\n",
    " $V = \\int_{F_{A0}}^{F_A} \\frac{dF_A}{r_A}$ \n",
    "\n",
    "Which we can evaluate like we did last time with the quad function.\n",
    "\n"
   ]
  },
  {
   "cell_type": "code",
   "execution_count": 1,
   "metadata": {
    "collapsed": false
   },
   "outputs": [
    {
     "name": "stdout",
     "output_type": "stream",
     "text": [
      "\n",
      "It takes a volume of 19.97 L to get an exit concentration of 0.5M\n"
     ]
    }
   ],
   "source": [
    "def integrand(Fa):\n",
    "    Ca = Fa / nu\n",
    "    return 1 / (-k * Ca)\n",
    "\n",
    "from scipy.integrate import quad\n",
    "\n",
    "Fa = nu * 0.5\n",
    "ans, err = quad(integrand, Fa0, Fa)\n",
    "print('It takes a volume of {0:1.2f} L to get an exit concentration of 0.5M'.format(ans))"
   ]
  },
  {
   "cell_type": "markdown",
   "metadata": {},
   "source": [
    "\n",
    "# Things you should review (in addition to Ch 1)\n",
    "\n",
    "1.  [numpy.linspace](https://docs.scipy.org/doc/numpy-1.10.0/reference/generated/numpy.linspace.html)\n",
    "2.  [scipy.optimize.fsolve](https://docs.scipy.org/doc/scipy-0.18.1/reference/generated/scipy.optimize.fsolve.html)\n",
    "3.  [scipy.integrate.quad](https://docs.scipy.org/doc/scipy-0.18.1/reference/generated/scipy.integrate.quad.html)\n",
    "4.  [scipy.integrate.odeint](https://docs.scipy.org/doc/scipy-0.18.1/reference/generated/scipy.integrate.odeint.html)\n",
    "5.  matplotlib.pyplot.plot\n",
    "6.  matplotlib.pyplot.xlabel\n",
    "7.  matplotlib.pyplot.ylabel\n",
    "\n",
    "See this [plotting tutorial](http://matplotlib.org/users/pyplot_tutorial.html).\n",
    "\n",
    "You should be able to:\n",
    "\n",
    "1.  Evaluate simple mathematical expressions with the Jupyter notebook and Python.\n",
    "2.  Make a simple plot of two arrays.\n",
    "3.  Solve a simple nonlinear equation.\n",
    "4.  Numerically integrate a simple integral.\n",
    "5.  Integrate a simple first-order differential equation.\n",
    "6.  Write mole balances for the three kinds of reactors we have discussed so far.\n",
    "7.  Solve simple problems like the ones demonstrated so far.\n",
    "\n"
   ]
  }
 ],
 "metadata": {
  "kernelspec": {
   "display_name": "Python 3",
   "language": "python",
   "name": "python3"
  },
  "language_info": {
   "codemirror_mode": {
    "name": "ipython",
    "version": 3
   },
   "file_extension": ".py",
   "mimetype": "text/x-python",
   "name": "python",
   "nbconvert_exporter": "python",
   "pygments_lexer": "ipython3",
   "version": "3.5.2"
  },
  "org": null
 },
 "nbformat": 4,
 "nbformat_minor": 0
}
