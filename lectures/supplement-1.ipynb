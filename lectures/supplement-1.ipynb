{
 "cells": [
  {
   "cell_type": "markdown",
   "metadata": {},
   "source": [
    "\n",
    "# Solving integral/ODE problems\n",
    "\n",
    "Remember we previously noted we do not have an easy way solve an equation like:\n",
    "\n",
    "$10 = \\int_{x=0}^A x^2 dx$\n",
    "\n",
    "where we want to find the value of A that makes that true. The integrand is $f(x) = x^2$ It looks like we should use quad to evaluate the integral, but we do not know the second limit. We can still define this like an fsolve problem. The problem is to define a function that takes an argument A, and returns zero when the value of A makes the integral equal to 10.\n",
    "\n"
   ]
  },
  {
   "cell_type": "code",
   "execution_count": 1,
   "metadata": {
    "collapsed": false
   },
   "outputs": [
    {
     "name": "stdout",
     "output_type": "stream",
     "text": [
      "[ 3.10723251]"
     ]
    }
   ],
   "source": [
    "from scipy.integrate import quad\n",
    "from scipy.optimize import fsolve\n",
    "\n",
    "def integrand(x):\n",
    "    return x**2\n",
    "\n",
    "\n",
    "def objective(A):\n",
    "    ans, err = quad(integrand, 0, A)\n",
    "    return 10 - ans\n",
    "\n",
    "print(fsolve(objective, 3))"
   ]
  },
  {
   "cell_type": "markdown",
   "metadata": {},
   "source": [
    "We can use a similar approach to solve for the volume in a PFR required to reach a conversion. \n",
    "\n",
    "$\\frac{dX}{dV} = \\frac{-r_A}{F_{A0}}$ with $F_{A0}$ = 2 mol / min, a volumetric flow of 0.7 L/min, and $-ra = k C_A$ with $k=1.1$ 1/min. Find the volume required to get 49% conversion. This is related to the previous problem, because we need to integrate from V=0 to some V, to get the desired conversion. We will again frame this as an fsolve problem.\n",
    "\n"
   ]
  },
  {
   "cell_type": "code",
   "execution_count": 1,
   "metadata": {
    "collapsed": false
   },
   "outputs": [
    {
     "name": "stdout",
     "output_type": "stream",
     "text": [
      "The volume required is 0.43 L"
     ]
    }
   ],
   "source": [
    "from scipy.integrate import odeint\n",
    "from scipy.optimize import fsolve\n",
    "import numpy as np\n",
    "\n",
    "Fa0 = 2 # mol / min\n",
    "nu = 0.7 # L / min\n",
    "k = 1.1 # 1 / min\n",
    "\n",
    "def ode(X, V):\n",
    "    Fa = Fa0 * (1 - X)\n",
    "    Ca = Fa / nu\n",
    "    ra = -k * Ca\n",
    "    return -ra / Fa0\n",
    "\n",
    "def objective(Vf):\n",
    "    Vspan = [0, Vf]\n",
    "    sol = odeint(ode, 0, Vspan)\n",
    "    Xf = sol[-1, 0]\n",
    "    return Xf - 0.49 \n",
    "    \n",
    "Vf, = fsolve(objective, 0.2)\n",
    "print('The volume required is {:1.2f} L'.format(Vf))"
   ]
  },
  {
   "cell_type": "markdown",
   "metadata": {},
   "source": [
    "Compare this to the inverted integral form that we can just evaluate. This next example is shorter, if you know that you can use this equation:\n",
    "\n",
    "$V = F_{A0} \\int_0^X \\frac{dX}{-r_A}$\n",
    "\n"
   ]
  },
  {
   "cell_type": "code",
   "execution_count": 1,
   "metadata": {
    "collapsed": false
   },
   "outputs": [
    {
     "name": "stdout",
     "output_type": "stream",
     "text": [
      "0.42849198844057806"
     ]
    }
   ],
   "source": [
    "Fa0 = 2 # mol / min\n",
    "nu = 0.7 # L / min\n",
    "k = 1.1 # 1 / min\n",
    "\n",
    "def integrand(X):\n",
    "    Fa = Fa0 * (1 - X)\n",
    "    Ca = Fa / nu\n",
    "    ra = -k * Ca\n",
    "    return Fa0 / -ra\n",
    "\n",
    "ans, err = quad(integrand, 0, 0.49)\n",
    "print(ans)"
   ]
  },
  {
   "cell_type": "markdown",
   "metadata": {},
   "source": [
    "\n",
    "# ODE events\n",
    "\n",
    "For completeness, we discuss an alternative approach, which is to stop integrating the ODE when a condition is met, e.g. the conversion is 0.49. Do that we need to define an \"event\" function that will detect that occurrence, and when it occurs tell the integrator what to do. We have to install a new Python package called pycse. This block should install it for you when you run it. You only need to do this once.\n",
    "\n"
   ]
  },
  {
   "cell_type": "code",
   "execution_count": 2,
   "metadata": {
    "collapsed": false
   },
   "outputs": [
    {
     "name": "stdout",
     "output_type": "stream",
     "text": [
      "Collecting pycse==1.6.3\n",
      "  Downloading pycse-1.6.3.tar.gz\n",
      "Requirement already satisfied: quantities==0.10.1 in /Users/jkitchin/anaconda3/lib/python3.5/site-packages (from pycse==1.6.3)\n",
      "Building wheels for collected packages: pycse\n",
      "  Running setup.py bdist_wheel for pycse ... \u001b[?25l-\b \b\\\b \bdone\n",
      "\u001b[?25h  Stored in directory: /Users/jkitchin/Library/Caches/pip/wheels/5e/40/ff/05bee74dc41de68902582fe68c6c4b100fca353edeafec15f9\n",
      "Successfully built pycse\n",
      "Installing collected packages: pycse\n",
      "  Found existing installation: pycse 0.6.2\n",
      "    Can't uninstall 'pycse'. No files were found to uninstall.\n",
      "Successfully installed pycse-1.6.3\n"
     ]
    }
   ],
   "source": [
    "!pip install pycse==1.6.3"
   ]
  },
  {
   "cell_type": "markdown",
   "metadata": {},
   "source": [
    "Now we set up out our ode function the same as before.\n",
    "\n"
   ]
  },
  {
   "cell_type": "code",
   "execution_count": 1,
   "metadata": {
    "collapsed": false
   },
   "outputs": [
    {
     "name": "stdout",
     "output_type": "stream",
     "text": []
    }
   ],
   "source": [
    "from pycse import odelay\n",
    "import numpy as np\n",
    "\n",
    "Fa0 = 2 # mol / min\n",
    "nu = 0.7 # L / min\n",
    "k = 1.1 # 1 / min\n",
    "\n",
    "def ode(X, V):\n",
    "    Fa = Fa0 * (1 - X)\n",
    "    Ca = Fa / nu\n",
    "    ra = -k * Ca\n",
    "    return -ra / Fa0"
   ]
  },
  {
   "cell_type": "markdown",
   "metadata": {},
   "source": [
    "Next we define an event function. This function has the same signature as the ode function, and returns three values: a value that is equal to zero at the event (in this case when X = 0.49), a boolean value to terminate (if True) or not (if False), and a direction which is a mandatory return value that we ignore for now. We set isterminal to be True so that it stops the solver when the event occurs. \n",
    "\n"
   ]
  },
  {
   "cell_type": "code",
   "execution_count": 1,
   "metadata": {
    "collapsed": false
   },
   "outputs": [
    {
     "name": "stdout",
     "output_type": "stream",
     "text": []
    }
   ],
   "source": [
    "def event(X, V):\n",
    "    value = X - 0.49\n",
    "    isterminal = True\n",
    "    direction = 0\n",
    "    return value, isterminal, direction"
   ]
  },
  {
   "cell_type": "markdown",
   "metadata": {},
   "source": [
    "Finally we define a volume span, and run the odelay function which is like odeint, but which accepts a list of event functions. It returns 5 outputs, the integration range, the solution, the \"x-values\" where the event occurred, the \"y-values\" that correspond to those x-values, and an integer to tell you which event occurred (0 means the first event). In this example, we will ignore the last three values, and just get the last value from the vspan variable that is returned from odelay. \n",
    "\n"
   ]
  },
  {
   "cell_type": "code",
   "execution_count": 1,
   "metadata": {
    "collapsed": false
   },
   "outputs": [
    {
     "name": "stdout",
     "output_type": "stream",
     "text": [
      "The volume required is 0.43 L"
     ]
    }
   ],
   "source": [
    "Vspan = np.linspace(0, 1)\n",
    "\n",
    "vspan, sol, ex, ey, ei = odelay(ode, 0, Vspan, events=[event])\n",
    "\n",
    "print('The volume required is {:1.2f} L'.format(vspan[-1]))"
   ]
  },
  {
   "cell_type": "markdown",
   "metadata": {},
   "source": [
    "We will use odelay and other functions from pycse throughout the semester.\n",
    "\n"
   ]
  }
 ],
 "metadata": {
  "kernelspec": {
   "display_name": "Python 3",
   "language": "python",
   "name": "python3"
  },
  "language_info": {
   "codemirror_mode": {
    "name": "ipython",
    "version": 3
   },
   "file_extension": ".py",
   "mimetype": "text/x-python",
   "name": "python",
   "nbconvert_exporter": "python",
   "pygments_lexer": "ipython3",
   "version": "3.5.2"
  },
  "org": {
   "KEYWORDS": "quad, odeint"
  }
 },
 "nbformat": 4,
 "nbformat_minor": 0
}
