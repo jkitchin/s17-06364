{
 "cells": [
  {
   "cell_type": "markdown",
   "metadata": {},
   "source": [
    "- KEYWORDS: energy balance\n"
   ]
  },
  {
   "cell_type": "markdown",
   "metadata": {},
   "source": [
    "![img](//research.bowdoin.edu/dante-today/files/2014/10/kUrkz9vEYkwEJXVcVnQRAtftezh5megi5JKVY2Oxrlw1.jpg)"
   ]
  },
  {
   "cell_type": "markdown",
   "metadata": {},
   "source": [
    "# Nonisothermal reaction engineering"
   ]
  },
  {
   "cell_type": "markdown",
   "metadata": {},
   "source": [
    "## Effects of temperature on reactions"
   ]
  },
  {
   "cell_type": "markdown",
   "metadata": {},
   "source": [
    "### Effects of temperature on volumetric flow"
   ]
  },
  {
   "cell_type": "markdown",
   "metadata": {},
   "source": [
    "-   When the reaction occurs in the gas-phase we must consider the effect of temperature on the volumetric flow\n",
    "-   We previously derived this expression for the volumetric flow\n",
    "    $ \\nu = \\nu_0 \\frac{F_T}{F_{T0}} \\frac{P_0}{P} \\frac{T}{T_0} \\frac{Z}{Z_0} $\n",
    "    -   Here the 0 subscript indicates the conditions at the entrance of the reactor\n",
    "-   To use this when the temperature is changing, we must have a mathematical expression for how the temperature is changing\n",
    "    -   This is analogous to the reactors with pressure drops\n",
    "    -   There we used the Ergun equation to estimate the pressure as a function of reactor volume or catalyst weight\n",
    "    -   We will eventually derive equations for the temperature as well\n",
    "-   There is also an effect of temperature on liquid phase reactions but it is much smaller\n",
    "    -   If the density is temperature dependent (e.g. due to thermal expansion) it may be necessary to account for this in the design equations\n",
    "-   For now, we simply remember that one place temperature is important is in the volumetric flow.\n",
    "-   As a simple example, consider the effect of changing the temperature from 500 K to 600 K. This could occur if the feed temperature was 500K, but the reactor is heated to 600 K. Let us assume there is no pressure drop, no change in moles during the reaction is occurring and that the gas is ideal. If the initial volumetric flowrate is 1 m^3/min, what is the exit volumetric flow rate?"
   ]
  },
  {
   "cell_type": "code",
   "execution_count": 1,
   "metadata": {
    "collapsed": false
   },
   "outputs": [
    {
     "name": "stdout",
     "output_type": "stream",
     "text": [
      "The new volumetric flow rate is 1.20 m^3/min"
     ]
    }
   ],
   "source": [
    "v0 = 1.0  # m^3/min\n",
    "T0 = 500.0\n",
    "T1 = 600.0\n",
    "v = v0 * T1 / T0\n",
    "print('The new volumetric flow rate is {0:1.2f} m^3/min'.format(v))"
   ]
  },
  {
   "cell_type": "markdown",
   "metadata": {},
   "source": [
    "-   The result is a 20% increase in the volumetric flow. Since we compute concentrations from molar flow rates divided by volumetric flow, that would result in a significant error in the concentration if we neglected the effect of temperature."
   ]
  },
  {
   "cell_type": "markdown",
   "metadata": {},
   "source": [
    "### Effects of temperature on the equilibrium constant"
   ]
  },
  {
   "cell_type": "markdown",
   "metadata": {},
   "source": [
    "-   We previously stated that:\n",
    "\n",
    "<div class=\"alert alert-warning\">\n",
    "$ K = e^{-\\Delta G/(RT)} $\n",
    "</div>\n",
    "\n",
    "-   The equilibrium constant is temperature dependent for two reasons\n",
    "    -   First, there is a temperature inside the exponential function\n",
    "    -   Second, $\\Delta G$ is also temperature dependent as we have seen from the Nist Webbook.\n",
    "    -   Actually  $\\Delta H$ and  $\\Delta S$ are temperature dependent too\n",
    "-   Thus, changing temperature in a reactor will affect\n",
    "    -   the reaction equilibrium constant\n",
    "    -   which will affect the possible equilibrium composition that can be obtained\n",
    "    -   and as a result the exit composition of the reactor\n",
    "-   Let us reexpress the equilibrium constant like this\n",
    "\n",
    "\\begin{align*}\n",
    "K &=& e^{-(\\Delta H - T\\Delta S)/(RT)} \\\\\n",
    "  &=& e^{-\\Delta H/(RT)}e^{\\Delta S/R} \\\\\n",
    "\\ln K &=& -\\Delta H/(RT) + \\Delta S/R\n",
    "\\end{align*}\n",
    "\n",
    "-   It is conventional to express the temperature dependence of $\\ln K$ as:\n",
    "\n",
    "$\\frac{d \\ln K}{dT} = \\frac{\\Delta H}{R T^2} $\n",
    "\n",
    "-   Thus, if $\\Delta H > 0$, i.e. the reaction is endothermic, then $\\frac{d \\ln K}{dT}$ will be positive, and $K$ will increase with temperature\n",
    "    -   If K increases, the products become more favored\n",
    "    -   Hence, the rule of thumb that to increase the conversion of an endothermic reaction one should increase the temperature\n",
    "    -   There are, of course, limits to this\n",
    "    -   There are safety concerns to consider such as whether something could vaporize, decompose, etc&#x2026;\n",
    "-   If $\\Delta H < 0$, i.e. the reaction is exothermic, then $\\frac{d \\ln K}{dT}$ will be negative, and $K$ will decrease with temperature\n",
    "    -   If K decreases, the products will be less favored\n",
    "    -   Hence, the rule of thumb that to increase the conversion of an exothermic reaction one should decrease the temperature\n",
    "    -   There are also safety concerns with decreasing the temperature\n",
    "    -   You must consider whether anything will condense or freeze\n",
    "-   Let us consider two reactions where $\\Delta G (298K) = 0$, but one is exothermic, and one is endothermic. Assuming none of the thermodynamic properties change with temperature, we can integrate to find the equilibrium constant as a function of temperature"
   ]
  },
  {
   "cell_type": "code",
   "execution_count": 3,
   "metadata": {
    "collapsed": false
   },
   "outputs": [
    {
     "data": {
      "text/plain": [
       "<matplotlib.text.Text at 0x10f2c5ac8>"
      ]
     },
     "execution_count": 3,
     "metadata": {},
     "output_type": "execute_result"
    },
    {
     "data": {
      "image/png": "[encoded data removed]",
      "text/plain": [
       "<matplotlib.figure.Figure at 0x10f1ffeb8>"
      ]
     },
     "metadata": {},
     "output_type": "display_data"
    }
   ],
   "source": [
    "import numpy as np\n",
    "from scipy.integrate import odeint\n",
    "%matplotlib inline\n",
    "import matplotlib.pyplot as plt\n",
    "\n",
    "dH1 = -2000.0  # J /mol exothermic reaction\n",
    "K1 = 1.0\n",
    "\n",
    "dH2 = +2000.0  # J / mol endothermic reaction\n",
    "K2 = 1.0\n",
    "\n",
    "R = 8.314  # J / mol / K\n",
    "\n",
    "\n",
    "def dlnKdT(lnK, T, dH):\n",
    "    return dH / R / T**2\n",
    "\n",
    "# increasing temperature\n",
    "Tspan1 = np.linspace(298, 1000)\n",
    "lnK11 = odeint(dlnKdT, np.log(K1), Tspan1, args=(dH1,))\n",
    "lnK21 = odeint(dlnKdT, np.log(K2), Tspan1, args=(dH2,))\n",
    "\n",
    "# decreasing temperature\n",
    "Tspan2 = np.linspace(298, 100)  # go to lower temperature\n",
    "lnK12 = odeint(dlnKdT, np.log(K1), Tspan2, args=(dH1,))\n",
    "lnK22 = odeint(dlnKdT, np.log(K2), Tspan2, args=(dH2,))\n",
    "\n",
    "# we reverse the decreasing temperature results so they link smoothly\n",
    "Tspan = np.concatenate([Tspan2[::-1], Tspan1])\n",
    "lnK1 = np.concatenate([lnK12[::-1], lnK11])\n",
    "lnK2 = np.concatenate([lnK22[::-1], lnK21])\n",
    "\n",
    "plt.plot(Tspan, np.exp(lnK1), Tspan, np.exp(lnK2))\n",
    "plt.legend(['exothermic', 'endothermic'], loc='best')\n",
    "plt.xlabel('Temperature (K)')\n",
    "plt.ylabel('K')"
   ]
  },
  {
   "cell_type": "code",
   "execution_count": 10,
   "metadata": {
    "collapsed": false
   },
   "outputs": [
    {
     "data": {
      "text/plain": [
       "[<matplotlib.lines.Line2D at 0x10fc9cfd0>,\n",
       " <matplotlib.lines.Line2D at 0x10fca42b0>]"
      ]
     },
     "execution_count": 10,
     "metadata": {},
     "output_type": "execute_result"
    },
    {
     "data": {
      "image/png": "[encoded data removed]",
      "text/plain": [
       "<matplotlib.figure.Figure at 0x10fad1438>"
      ]
     },
     "metadata": {},
     "output_type": "display_data"
    }
   ],
   "source": [
    "plt.plot(Tspan2, np.exp(lnK12), 'b-', Tspan1, np.exp(lnK11), 'b-')"
   ]
  },
  {
   "cell_type": "markdown",
   "metadata": {},
   "source": [
    "-   It is important to remember the equilibrium constant changes with temperature *even* if  $\\Delta G$ is constant\n",
    "\n",
    "-   A more common equation to use if the reaction enthalpy is approximately constant is:\n",
    "\n",
    "<div class=\"alert alert-warning\">\n",
    "$K(T) = K_1(T) \\exp\\left [ \\frac{-\\Delta H (T_1)}{R}\\left (\\frac{1}{T} - \\frac{1}{T_1}\\right ) \\right ] $\n",
    "</div>\n",
    "\n",
    "-   The discussion above focused on the effects of temperature on the equilibrium properties of the reactor\n",
    "\n",
    "-   We will see next that temperature also affects the *rates*\n",
    "    -   Since the net rate at equilibrium must be zero\n",
    "    -   And the equilibrium constant is changing\n",
    "    -   Then the rates of the forward and backward reactions *must also be changing*\n",
    "    -   And not the same way (otherwise there would be no change in the equilibrium constant)"
   ]
  },
  {
   "cell_type": "markdown",
   "metadata": {},
   "source": [
    "### Effects of temperature on the rate constant"
   ]
  },
  {
   "cell_type": "markdown",
   "metadata": {},
   "source": [
    "-   As we alluded to in the previous section, changes in temperature must affect reaction rates\n",
    "-   We have already considered the effect of temperature on the volume/density/volumetric flow, which affects rates through the concentration of the species\n",
    "-   We now consider the effect of temperature on the \"rate constant\"\n",
    "-   Actually, the \"rate constant\" is only constant at a particular temperature\n",
    "-   The \"rate constant\" varies dramatically with temperature\n",
    "-   The most common temperature dependence observed is the Arrhenius equation:\n",
    "\n",
    "<div class=\"alert alert-warning\">\n",
    "$ k(T) = A e^{-E_A/(RT)} $\n",
    "</div>\n",
    "\n",
    "-   $A$ is called a pre-exponential factor\n",
    "-   $E_A$ is called an activation energy\n",
    "-   This equation is known as the Arrhenius equation\n",
    "-   It is pretty accurate over a broad range of temperatures\n",
    "-   To motivate the idea behind the functional form of this temperature dependence we must consider transition state theory\n",
    "-   The reactants are colliding at some rate, and some fraction of those collisions results in a reaction to form products\n",
    "-   The reactants are in a local minimum of energy,  and the products are in another local minimum of energy\n",
    "-   To get from one local minimum to another, you must go uphill in energy, and then back down\n",
    "-   The top of the hill is called a transition state\n",
    "-   Schematically this looks like:\n",
    "\n",
    "![img](//www.chemgapedia.de/vsengine/media/vsc/en/ch/12/oc/substitution/sn_2/uebergangszustand/reaktionskoordinate.gif)\n",
    "\n",
    "-   It takes a certain amount of energy to get over the barrier between the reactants and products\n",
    "-   It turns out that molecules have a distribution of energies determined by the Boltzman distribution\n",
    "-   The Arrhenius equation then is interpreted in the following way\n",
    "    -   $A$ is the frequency at which reactants attempt to go to products\n",
    "    -   $e^{-E_A/(RT)}$ is the fraction of reactants that have enough energy to get over the barrier\n",
    "    -   The fraction increases with increasing temperature because \"hotter\" molecules have more energy\n",
    "-   If you know the rate constant at one temperature, and the activation energy, then you can readily compute the rate constant at another temperature:\n",
    "\n",
    "<div class=\"alert alert-warning\">\n",
    "$ k(T) = k(T_0) \\exp \\left (\\frac{-E_A}{R}\\left (\\frac{1}{T} - \\frac{1}{T_0}\\right)\\right) $\n",
    "</div>\n",
    "\n",
    "-   Let us consider the impact of T on the rate constant"
   ]
  },
  {
   "cell_type": "code",
   "execution_count": 1,
   "metadata": {
    "collapsed": false
   },
   "outputs": [
    {
     "data": {
      "image/png": "[encoded data removed]",
      "text/plain": [
       "<matplotlib.figure.Figure>"
      ]
     },
     "metadata": {},
     "output_type": "display_data"
    }
   ],
   "source": [
    "E1 = 20.0  # kJ/mol\n",
    "R = 8.314e-3\n",
    "\n",
    "T = np.linspace(300, 1000)\n",
    "\n",
    "k1_300 = 1.0\n",
    "\n",
    "k1 = k1_300 * np.exp(-E1 / R * (1.0 / T - 1.0 / 300.0))\n",
    "\n",
    "plt.plot(T, k1)\n",
    "plt.xlabel('Temperature (K)')\n",
    "plt.ylabel('rate constant')"
   ]
  },
  {
   "cell_type": "markdown",
   "metadata": {},
   "source": [
    "-   Clearly there is a very significant (orders of magnitude) effect of temperature on the rate constant\n",
    "    -   And consequently on the reaction rate\n",
    "\n",
    "-   For multiple reactions, the rate of each reaction will be affected differently by temperature\n",
    "    -   $k_j = A_j e^{-E_j/(RT)}$\n",
    "\n",
    "-   We can see the effect of temperature on these two reactions by considering the ratio of two rate constants\n",
    "\n",
    "$\\frac{k2}{k1} = \\frac{A_2}{A_1} e^{(E_1 - E_2)/(RT)} $\n",
    "\n",
    "-   The relative rates depend on the ratio of pre-exponential factors and the sign of $E_1 - E_2$\n",
    "-   If $E_1 - E_2 > 0$ then the ratio $\\frac{k2}{k1}$ will decay with increasing temperature to the value $\\frac{A_2}{A_1}$\n",
    "\n",
    "-   On the other hand, if $E_1 - E_2 < 0$ then the ratio $\\frac{k2}{k1}$ will increase with increasing temperature to the value $\\frac{A_2}{A_1}$"
   ]
  },
  {
   "cell_type": "code",
   "execution_count": 1,
   "metadata": {
    "collapsed": false
   },
   "outputs": [
    {
     "data": {
      "image/png": "[encoded data removed]",
      "text/plain": [
       "<matplotlib.figure.Figure>"
      ]
     },
     "metadata": {},
     "output_type": "display_data"
    }
   ],
   "source": [
    "T = np.linspace(1, 50)\n",
    "\n",
    "A2A1 = 2.0\n",
    "E1mE2 = 1.0\n",
    "plt.plot(T, A2A1 * np.exp(1.0/T), T, A2A1*np.exp(-1.0/T))\n",
    "plt.legend(['E2 - E1 > 0','E2 - E1 < 0'], loc='best')\n",
    "plt.xlabel('T')\n",
    "plt.ylabel('A2/A1')"
   ]
  },
  {
   "cell_type": "markdown",
   "metadata": {},
   "source": [
    "### Summary"
   ]
  },
  {
   "cell_type": "markdown",
   "metadata": {},
   "source": [
    "-   Clearly temperature plays an important role in all the properties of reactions that affect reactor design\n",
    "-   If the temperature changes during a reaction, we expect significant changes to occur in\n",
    "    -   the rate constants,\n",
    "    -   gas-phase volumetric flow rates\n",
    "    -   equilibrium constants\n",
    "-   These all affect reactor design\n",
    "-   To avoid these effects, we must keep the reactor isothermal\n",
    "    -   which means we either put heat in or take it out at the right rate to balance any temperature change caused by reaction\n",
    "    -   We need to be able to determine the rate of heat removal\n",
    "-   If the reactor is not isothermal, the temperature will change\n",
    "    -   With corresponding non-linear changes in reaction rate\n",
    "-   Either way, we need a model that tells us about the heat generation and temperature changes in the reactor\n",
    "-   We get this from an energy balance."
   ]
  },
  {
   "cell_type": "markdown",
   "metadata": {},
   "source": [
    "## Review of reaction energies"
   ]
  },
  {
   "cell_type": "markdown",
   "metadata": {},
   "source": [
    "-   The reaction enthalpy is defined as\n",
    "\n",
    "$ \\Delta H_{rxn} = \\sum_j \\alpha_j H_j $\n",
    "\n",
    "-   $H_j$ is the enthalpy of each species in a reaction\n",
    "-   $\\alpha_j$ is the stoichiometric coefficent for each species\n",
    "-   This equation is the enthalpy of products minus the enthalpy of reactants\n",
    "-   The enthalpy is a function of temperature\n",
    "\n",
    "$H_j(T) = H_j(T_R) + \\int_{T_R}^T C_{p,j}(T) dT $\n",
    "\n",
    "-   A common simplification for constant $C_P$ is\n",
    "-   $H_j - H_{j0} = C_{p,j} (T - T_0)$\n",
    "-   Because the individual enthalpies are temperature dependent, the reaction enthalpy may also be temperature dependent\n",
    "-   Let us define $\\Delta C_p = \\sum_j \\alpha_j C_{p,j}$. then\n",
    "\n",
    "<div class=\"alert alert-warning\">\n",
    "$ \\Delta H_{rxn}(T) = \\Delta H_{rxn}(T_R) + \\Delta C_p(T - T_R) $\n",
    "</div>"
   ]
  },
  {
   "cell_type": "markdown",
   "metadata": {},
   "source": [
    "## General energy balance"
   ]
  },
  {
   "cell_type": "markdown",
   "metadata": {},
   "source": [
    "-   In reactor systems  we usually only need to consider the internal energy $U$ and how it changes during reactions.\n",
    "-   $U$ is a conserved quantity, and we can write a general balance equation where we consider the rate of accumulation of $U$ in a control volume as the flow of energy in minus the flow of energy out plus the rate heat crosses the boundaries plus the rate of work done on the system\n",
    "\n",
    "$\\frac{dU}{dt} = \\sum_j F_{j,in} \\overline{U}_{j,in} - \\sum_j F_{j,out} \\overline{U}_{j,out} + \\dot{W} + \\dot{Q} $\n",
    "where:\n",
    "\n",
    "-   $\\dot{Q}$ is the rate that heat crosses the boundaries\n",
    "-   $\\dot{W}$ is the rate of work done on the system\n",
    "-   $U_{j,in}$ is the internal energy of species $j$ entering the volume\n",
    "-   $U_{j,out}$ is the internal energy of species $j$ leaving the system (it may be different if the temperature or pressure changes\n",
    "-   Note that $U$ is extensive: It is the system internal energy\n",
    "-   $\\overline{U}$ is the partial molar internal energy\n",
    "-   There are three relevant forms of work that we consider\n",
    "    -   $\\dot{W_b} = -P\\frac{dV}{dt}$\n",
    "        -   this is the work done if the volume changes\n",
    "    -   $\\dot{W_f} = \\sum_j F_{j,in} \\overline{V}_{j,in} P_{in} - \\sum_j F_{j,out} \\overline{V}_{j,out} P_{out}$\n",
    "        -   this is the work done to flow mass across the boundaries. It is important if the pressure or molar volumes change.\n",
    "    -   $\\dot{W_s}$ is the shaft work if there are stirrers or significant mixing work\n",
    "-   Plugging these definitions in leads to\n",
    "\n",
    "\\begin{multline}\n",
    "\\frac{dU}{dt} = \\sum_j F_{j,in} \\overline{U}_{j,in} - \\sum_j F_{j,out} \\overline{U}_{j,out} \\\\\n",
    "-P \\frac{dV}{dt} \\\\\n",
    "+ \\sum_j F_{j,in}\\overline{V}_{j,in} P_{in} - \\sum_j F_{j,out} \\overline{V}_{j,out} P_{out}\\\\\n",
    "+ \\dot{W_s} + \\dot{Q}\n",
    "\\end{multline}\n",
    "\n",
    "-   Recall that $\\overline{H} = \\overline{U} + p \\overline{V}$\n",
    "-   We can simplify the energy balance now to\n",
    "\n",
    "$\\frac{dU}{dt} = \\sum_j F_{j,in} \\overline{H}_{j,in} - \\sum_j F_{j,out} \\overline{H}_{j,out}  -P \\frac{dV}{dt} + \\dot{W_s} + \\dot{Q} $\n",
    "\n",
    "-   It is convenient to use enthalpy rather than internal energy, so we consider the following:\n",
    "\n",
    "$H = U + PV$\n",
    "\n",
    "$dH = dU + PdV + VdP$\n",
    "\n",
    "$dU = dH - PdV - VdP$\n",
    "\n",
    "-   We take the time derivative and substitute for $dU/dt$ to arrive at\n",
    "\n",
    "$\\frac{dH}{dt} - V\\frac{dP}{dt} = \\sum_j F_{j,in} \\overline{H}_{j,in} - \\sum_j F_{j,out} \\overline{H}_{j,out} + \\dot{W_s} + \\dot{Q} $\n",
    "\n",
    "-   Now, we consider that $H = H(T, P, n_j)$ and that $T$, $P$ and $n_j$ may also be changing in time\n",
    "-   We express the total derivative of $H$ as\n",
    "\n",
    "$ dH = (\\frac{\\partial H}{\\partial T})_{P,n_j} dT + (\\frac{\\partial H}{\\partial P})_{T,n_j} dP + (\\frac{\\partial H}{\\partial n_j})_{T, P} dn_j$\n",
    "\n",
    "-   Recognize the following partial derivatives:\n",
    "    1.  $\\frac{\\partial H}{\\partial T} = C_p$\n",
    "    2.  $\\frac{\\partial H}{\\partial P} = V(1 - \\alpha T)$\n",
    "    3.  $\\frac{\\partial H}{\\partial n_j} = \\overline{H_j}$\n",
    "-   This leads to:\n",
    "\n",
    "\n",
    "$\\sum N_i C_{p,i} \\frac{dT}{dt} + \\\\\n",
    "  V(1 - \\alpha T) \\frac{dP}{dt} + \\\\\n",
    "  \\sum_j \\overline{H}_j \\frac{dn_j}{dt} = \\sum_j F_{j,in} \\overline{H}_{j,in} - \\sum_j F_{j,out} \\overline{H}_{j,out} + \\dot{W_s} + \\dot{Q}$\n",
    "\n",
    "-   This is the basic energy balance we need to assess changes in energy and temperature in reactors\n",
    "-   You can see it is coupled to the mole balance via the terms containing molar flows $F_j$ and $\\frac{dn_j}{dt}$.\n",
    "-   Further generalization of this equation is not possible without specifying the reactor type and conditions.\n",
    "-   There are many special, simplified scenarios\n",
    "-   That we start considering next time"
   ]
  }
 ],
 "metadata": {
  "kernelspec": {
   "display_name": "Python 3",
   "language": "python",
   "name": "python3"
  },
  "language_info": {
   "codemirror_mode": {
    "name": "ipython",
    "version": 3
   },
   "file_extension": ".py",
   "mimetype": "text/x-python",
   "name": "python",
   "nbconvert_exporter": "python",
   "pygments_lexer": "ipython3",
   "version": "3.5.2"
  },
  "org": {
   "KEYWORDS": "energy balance"
  }
 },
 "nbformat": 4,
 "nbformat_minor": 0
}
