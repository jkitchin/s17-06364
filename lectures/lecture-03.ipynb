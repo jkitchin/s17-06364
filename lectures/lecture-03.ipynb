{
 "cells": [
  {
   "cell_type": "markdown",
   "metadata": {},
   "source": [
    "- TITLE: Lecture 03 - Chapter 2\n"
   ]
  },
  {
   "cell_type": "markdown",
   "metadata": {},
   "source": [
    "[Previous lecture](./lecture-02.ipynb)\n",
    "\n",
    "\n",
    "# Conversion\n",
    "\n",
    "We previously looked at a mole balance and asked questions like:\n",
    "\n",
    "-   What is the exit concentration of some species?\n",
    "-   How large a reactor do we need to reduce the concentration to some level?\n",
    "\n",
    "In these questions, there is no natural bound on the concentrations. There could be scenarios with orders of magnitude difference in the values, e.g. 1M vs 0.01M. It is difficult to assess whether an answer is reasonable like this. It is nicer to think about the questions in a different way:\n",
    "\n",
    "-   What fraction of reactants have reacted in the reactor?\n",
    "-   How large a reactor do we need to convert 90% of the reactants to products?\n",
    "\n",
    "The fraction here will be bounded between 0 and 1.\n",
    "\n",
    "\n",
    "## The definition of conversion\n",
    "\n",
    "For the reaction  $a A + b B \\rightarrow c C + d D$ , we call the little letters the stoichiometric coefficients. We need to specify a species as the *basis* for defining conversion, and make sure the stoichiometric coefficient on that species is 1. Let's choose A as the basis, and normalize the reaction like this:\n",
    "\n",
    " $A + \\frac{b}{a} B \\rightarrow \\frac{c}{a}C + \\frac{d}{a}D$ \n",
    "\n",
    "Now, we define the conversion:\n",
    "\n",
    " $X_A = \\frac{\\textrm{Moles of A reacted}}{\\textrm{Moles of A fed}}$ \n",
    "\n",
    "The maximum this conversion can be is 1, if all the moles of A fed are reacted. For a single reaction, we often drop the subscript and just use  $X$ .\n",
    "\n",
    "For a batch reactor, the moles of A fed is just the initial moles of A in the reactor  $N_{A0}$ . The number of moles that have reacted is the *difference* between the number of moles initially in the reactor, and the moles currently in the reactor, i.e.  $N_{A0} - N_A$ .\n",
    "\n",
    "So:\n",
    "\n",
    " $X = \\frac{N_{A0}-N_A}{N_{A0}}$ \n",
    "\n",
    "or, to find the number of moles of A in the reactor at some conversion:\n",
    "\n",
    " $N_A = N_{A0}(1-X)$ \n",
    "\n",
    "\n",
    "## Conversion in the batch reactor Ch 2.2\n",
    "\n",
    "Recall the mole balance on the batch reactor is:\n",
    "\n",
    " $\\frac{dN_A}{dt} = r_A V$ \n",
    "\n",
    "If you substitute the expression for  $N_A$ in terms of  $X$ , we can convert this equation to:\n",
    "\n",
    " $\\frac{dX}{dt} = \\frac{-r_A V}{N_{A0}}$ \n",
    "\n",
    "\n",
    "### Find the time to achieve 99% conversion\n",
    "\n",
    "If a first order reaction occurs in a constant volume batch reactor with a rate constant of 0.23 1/min, how long does it take to reach a conversion of 99%?\n",
    "\n",
    "This means:   $-r_A = k C_A$ . Since we have constant volume, we can write  $C_A = C_{A0}(1 - X)$ . The equation we have to solve becomes:\n",
    "\n",
    " $\\frac{dX}{dt} = \\frac{-k C_{A0}(1 - X)}{C_{A0}}$ \n",
    "\n",
    "or, after canceling the initial concentrations, and separating the equation we get:\n",
    "\n",
    " $t = \\int_0^{0.99}\\frac{1}{k} \\frac{dX}{1-X}$ \n",
    "\n"
   ]
  },
  {
   "cell_type": "code",
   "execution_count": 24,
   "metadata": {
    "collapsed": false
   },
   "outputs": [
    {
     "name": "stdout",
     "output_type": "stream",
     "text": [
      "It takes 30.03 minutes to reach a conversion of 0.999.\n"
     ]
    }
   ],
   "source": [
    "from scipy.integrate import quad\n",
    "\n",
    "k = 0.23  # 1/min\n",
    "\n",
    "def integrand(X):\n",
    "    return 1 / k * 1 / (1 - X)\n",
    "\n",
    "X1 = 0\n",
    "X2 = 0.999\n",
    "ans, err = quad(integrand, X1, X2)\n",
    "\n",
    "print('It takes {:1.2f} minutes to reach a conversion of {}.'.format(ans, X2))"
   ]
  },
  {
   "cell_type": "code",
   "execution_count": 21,
   "metadata": {
    "collapsed": false
   },
   "outputs": [
    {
     "name": "stdout",
     "output_type": "stream",
     "text": [
      "4.027520874111076e-10\n",
      "20.02247906951344\n"
     ]
    }
   ],
   "source": [
    "print(err)\n",
    "b = quad(integrand, X1, X2)\n",
    "print(b[0])"
   ]
  },
  {
   "cell_type": "markdown",
   "metadata": {},
   "source": [
    "Suppose we want to explore how the time varies with conversion. You could vary the value of X2 in the block above, and run the block over and over. We can use the notebook to make an interactive block with a slider that we can use to explore this problem. Try running and moving the slider bar in this block.\n",
    "\n"
   ]
  },
  {
   "cell_type": "code",
   "execution_count": 25,
   "metadata": {
    "collapsed": false
   },
   "outputs": [
    {
     "data": {
      "text/plain": [
       "'It takes 7.97 minutes to reach a conversion of 0.84.'"
      ]
     },
     "metadata": {},
     "output_type": "display_data"
    }
   ],
   "source": [
    "from ipywidgets import interact\n",
    "\n",
    "def reaction_time(X2):\n",
    "    ans, err = quad(integrand, X1, X2)    \n",
    "    return 'It takes {:1.2f} minutes to reach a conversion of {}.'.format(ans, X2)\n",
    "\n",
    "xmin = 0\n",
    "xmax = 1\n",
    "step = 0.01\n",
    "interact(reaction_time, X2=(xmin, xmax, step));"
   ]
  },
  {
   "cell_type": "markdown",
   "metadata": {},
   "source": [
    "What about plotting the time as a function of conversion? Recall to make a plot, we need an array of conversions (the x-axis), and a corresponding array of times (the y-axis). It is easy to get the array of conversions using np.linspace. But, we need to solve for t for each value of that array. The quad function can only take single numbers as arguments for the limits of integration, so we cannot give it the array of conversions. We can \"vectorize\" a function though that will operate on every element of an array. The @np.vectorize syntax means to \"decorate\" the following function so that it will work on arrays in an element-wise way, and work on single numbers the same way it did before.\n",
    "\n"
   ]
  },
  {
   "cell_type": "code",
   "execution_count": 11,
   "metadata": {
    "collapsed": false
   },
   "outputs": [
    {
     "data": {
      "text/plain": [
       "<matplotlib.text.Text at 0x10ac54860>"
      ]
     },
     "execution_count": 11,
     "metadata": {},
     "output_type": "execute_result"
    },
    {
     "data": {
      "image/png": "[encoded data removed]",
      "text/plain": [
       "<matplotlib.figure.Figure at 0x10ab73b70>"
      ]
     },
     "metadata": {},
     "output_type": "display_data"
    }
   ],
   "source": [
    "import numpy as np\n",
    "\n",
    "X = np.linspace(0, 0.99)\n",
    "\n",
    "@np.vectorize\n",
    "def reaction_time(X):\n",
    "    ans, err = quad(integrand, 0, X)    \n",
    "    return ans\n",
    "\n",
    "t = reaction_time(X)\n",
    "\n",
    "%matplotlib inline\n",
    "import matplotlib.pyplot as plt\n",
    "plt.plot(X, t)\n",
    "plt.xlabel('Conversion')\n",
    "plt.ylabel('time (min)')"
   ]
  },
  {
   "cell_type": "markdown",
   "metadata": {},
   "source": [
    "You can see here that the time rapidly increases as the conversion approaches 1. You can see the time must go to  $\\infty$ as we approach 1 in the integrand.\n",
    "\n",
    "There are many ways you could approach the problem above that do not require vectorization, but require knowledge of other python syntax. We can use list comprehension to evaluate a function for every value in the conversion array.\n",
    "\n"
   ]
  },
  {
   "cell_type": "code",
   "execution_count": 12,
   "metadata": {
    "collapsed": false
   },
   "outputs": [
    {
     "data": {
      "text/plain": [
       "<matplotlib.text.Text at 0x10d587ba8>"
      ]
     },
     "execution_count": 12,
     "metadata": {},
     "output_type": "execute_result"
    },
    {
     "data": {
      "image/png": "[encoded data removed]",
      "text/plain": [
       "<matplotlib.figure.Figure at 0x1099fea20>"
      ]
     },
     "metadata": {},
     "output_type": "display_data"
    }
   ],
   "source": [
    "t2 = [reaction_time(x) for x in X]  # Here is the list comprehension\n",
    "\n",
    "plt.plot(X, t2)\n",
    "plt.title('Approach 2')\n",
    "plt.xlabel('Conversion')\n",
    "plt.ylabel('time (min)')"
   ]
  },
  {
   "cell_type": "markdown",
   "metadata": {},
   "source": [
    "An old-fashioned approach using a for loop with temporary counter variable to get the i<sup>th</sup> conversion element, compute the time for it, and append it to a list.\n",
    "\n"
   ]
  },
  {
   "cell_type": "code",
   "execution_count": 13,
   "metadata": {
    "collapsed": false
   },
   "outputs": [
    {
     "data": {
      "text/plain": [
       "<matplotlib.text.Text at 0x10d6c1080>"
      ]
     },
     "execution_count": 13,
     "metadata": {},
     "output_type": "execute_result"
    },
    {
     "data": {
      "image/png": "[encoded data removed]",
      "text/plain": [
       "<matplotlib.figure.Figure at 0x10d5997b8>"
      ]
     },
     "metadata": {},
     "output_type": "display_data"
    }
   ],
   "source": [
    "t3 = []\n",
    "for i in range(len(X)):\n",
    "    x = X[i]  # get the ith value of the X array\n",
    "    tz = reaction_time(x)\n",
    "    t3.append(tz)  # accumulate the values\n",
    "\n",
    "plt.plot(X, t3)\n",
    "plt.title('Approach 3')\n",
    "plt.xlabel('Conversion')\n",
    "plt.ylabel('time (min)')"
   ]
  },
  {
   "cell_type": "markdown",
   "metadata": {},
   "source": [
    "These approaches all result in the same thing, but require different knowledge of Python syntax. You should look at each one and ask which one is easier to read and understand? Which one is easier to write? The answers to those should affect which approach you decide to use in problem solving later.\n",
    "\n",
    "\n",
    "# Conversion in flow reactors Ch 2.3\n",
    "\n",
    "In flow reactors (CSTR, PFR) we still define the conversion as\n",
    "\n",
    " $X_A = \\frac{\\textrm{Moles of A reacted}}{\\textrm{Moles of A fed}}$ \n",
    "\n",
    "but we use molar flows and get\n",
    "\n",
    " $F_A = F_{A0}(1 - X)$ \n",
    "\n",
    "as our working equation.\n",
    "\n",
    "For liquid systems,  $F_A = \\nu C_A$ where  $\\nu$ is the volumetric flowrate. **Memorize this**.\n",
    "\n",
    "For gas systems, that is also true, but we have to remember that the concentration depends on the pressure and temperature like this:\n",
    "\n",
    " $C_A = \\frac{P_A}{R T}$ **Memorize this**.\n",
    "\n",
    "\n",
    "## Application to a CSTR\n",
    "\n",
    "It is common to ask a question like \"What volume is required to achieve some conversion in a CSTR?\".\n",
    "\n",
    "At steady state the mole balance for a CSTR is:\n",
    "\n",
    " $F_{A0} - F_A + r_A V = 0$ \n",
    "\n",
    "If you substitute in the expression for conversion, and solve for V, you get:\n",
    "\n",
    " $V = \\frac{F_{A0} X}{-r_{A, exit}}$ .\n",
    "\n",
    "Note that we have to evaluate the reaction rate at the exit. Why? The reactor is well-mixed, so the rate at the exit is the same as the rate in the reactor. This particular example only requires some evaluation. Suppose we know  $F_{A0} = 3$ mol/min, with a volumetric flow of two L/min. The reaction is  $A \\rightarrow B$ , with a rate law of  $-r_A = k C_A^2$ ( $k = 0.1$ L/mol/min). What volume is required to achieve 95% conversion of A? \n",
    "\n"
   ]
  },
  {
   "cell_type": "code",
   "execution_count": 14,
   "metadata": {
    "collapsed": false
   },
   "outputs": [
    {
     "name": "stdout",
     "output_type": "stream",
     "text": [
      "A volume of 5066.67 L is required to reach a conversion of 0.95.\n"
     ]
    }
   ],
   "source": [
    "k = 0.1  # L / mol / min\n",
    "Fa0 = 3  # mol / min\n",
    "v0 = 2   # L / min\n",
    "\n",
    "X = 0.95\n",
    "\n",
    "Fa = Fa0 * (1 - X) # Exit molar flow\n",
    "Ca = Fa / v0       # Exit concentration\n",
    "\n",
    "ra = -k * Ca**2\n",
    "\n",
    "V = (Fa0 * X) / -ra\n",
    "\n",
    "print('A volume of {:1.2f} L is required to reach a conversion of {}.'.format(V, X))"
   ]
  },
  {
   "cell_type": "markdown",
   "metadata": {},
   "source": [
    "Other problems are variations of what is known and unknown. \n",
    "\n",
    "**Exercise**: Given a reactor with a volume of 3000 L, compute the exit conversion for the reaction above. (exit conversion is about 0.51)\n",
    "Hint: Solve this equation for X\n",
    "\n",
    " $C_A = F_{A0} (1 - X) / \\nu$ \n",
    "\n",
    " $V = \\frac{F_{A0} X}{k C_A^2}$ \n",
    "\n"
   ]
  },
  {
   "cell_type": "code",
   "execution_count": 26,
   "metadata": {
    "collapsed": false
   },
   "outputs": [],
   "source": [
    "def objective(X):\n",
    "    Fa = Fa0 * (1 - X)\n",
    "    Ca = Fa / v0\n",
    "    return V - (Fa0 * X) / (k * Ca**2)\n",
    "\n",
    "# you finish it here\n",
    "from scipy.optimize import fsolve\n",
    "fsolve  # Shift-tab for a docstring"
   ]
  },
  {
   "cell_type": "markdown",
   "metadata": {},
   "source": [
    "\n",
    "# Application to a PFR\n",
    "\n",
    "Substitution of the conversion into the PFR equation leads to:\n",
    "\n",
    " $\\frac{dX}{dV} = \\frac{-r_A}{F_{A0}}$ \n",
    "\n",
    "this is directly separable and we can see here that \n",
    "\n",
    " $V = F_{A0} \\int_0^X \\frac{dX}{-r_A}$ \n",
    "\n",
    "If we ask the same question here, what volume is required to reach 95% conversion, we can evaluate the integral with quad.\n",
    "\n"
   ]
  },
  {
   "cell_type": "code",
   "execution_count": 31,
   "metadata": {
    "collapsed": false
   },
   "outputs": [
    {
     "name": "stdout",
     "output_type": "stream",
     "text": [
      "A volume of 110.14 L is required to reach a conversion of 0.95.\n"
     ]
    }
   ],
   "source": [
    "from scipy.integrate import quad, odeint\n",
    "\n",
    "def integrand(X):\n",
    "    Fa = Fa0 * (1 - X)\n",
    "    Ca = Fa / v0\n",
    "    ra = -k * Ca**2\n",
    "    return Fa0 / -ra\n",
    "\n",
    "Xf = 0.95\n",
    "ans, _ = quad(integrand, 0, Xf)\n",
    "print('A volume of {:1.2f} L is required to reach a conversion of {}.'.format(ans, Xf))"
   ]
  },
  {
   "cell_type": "markdown",
   "metadata": {},
   "source": [
    "Note, we cannot directly integrate the differential equation because we need a volume span, and we do not know the final volume. In this case, it is possible to invert the ODE though to:\n",
    "\n",
    " $\\frac{dV}{dX} = F_{A0} / -r_A$ \n",
    "\n",
    "And then integrate that from  $X=0$ to  $X=0.95$ . The initial condition is  $V(X=0) = 0$ .\n",
    "\n"
   ]
  },
  {
   "cell_type": "code",
   "execution_count": 35,
   "metadata": {
    "collapsed": false
   },
   "outputs": [
    {
     "name": "stdout",
     "output_type": "stream",
     "text": [
      "[[   0.        ]\n",
      " [   1.80565458]\n",
      " [   5.24499692]\n",
      " [  14.36673152]\n",
      " [ 110.14494903]]\n"
     ]
    }
   ],
   "source": [
    "def ode(V, X):\n",
    "    # dV/dX = Fa0 / -ra\n",
    "    Fa = Fa0 * (1 - X)\n",
    "    Ca = Fa / v0\n",
    "    ra = -k * Ca**2\n",
    "    return Fa0 / -ra\n",
    "\n",
    "import numpy as np\n",
    "Xspan = np.linspace(0, 0.95, 5)\n",
    "print(odeint(ode, 0, Xspan))"
   ]
  },
  {
   "cell_type": "markdown",
   "metadata": {},
   "source": [
    "Since we only care about the final value here, we can use an Xspan of only two points. Later we will learn how to solve this problem without needing to invert the equation. It is possible, but requires additional skills we do not have yet.\n",
    "\n",
    "**Exercise**: Plot how the volume varies with the conversion.\n",
    "\n",
    "\n",
    "# Reminders\n",
    "\n",
    "[scipy.integrate.quad](https://docs.scipy.org/doc/scipy/reference/generated/scipy.integrate.quad.html)  for integrating a function you know the analytical form of.\n",
    "\n",
    " $\\int_a^b f(x) dx$ is the same as `quad(f, a, b)`.\n",
    "\n",
    "[scipy.integrate.odeint](https://docs.scipy.org/doc/scipy/reference/generated/scipy.integrate.odeint.html) for integrating a first order ordinary differential equation.\n",
    "\n",
    "Solving  $\\frac{dy}{dx}=f(y, x)$ with $f(x0) = y0$ is solved on the range of x0 to xf with:\n",
    "\n",
    "`odeint(f, y0, [x0, xf])`\n",
    "\n",
    "\n",
    "# Summary\n",
    "\n",
    "You should be done reading Chapter 1.\n",
    "\n",
    "Make sure to start reading Chapter 2. You should finish it this week.\n",
    "\n",
    "Make sure you work out each of the examples we go over in class on your own. Try to type them out yourself. It looks easy when I do it, but that does not mean you can do it yourself quickly!\n",
    "\n",
    "[Next lecture](./lecture-04.ipynb)\n",
    "\n"
   ]
  }
 ],
 "metadata": {
  "kernelspec": {
   "display_name": "Python 3",
   "language": "python",
   "name": "python3"
  },
  "language_info": {
   "codemirror_mode": {
    "name": "ipython",
    "version": 3
   },
   "file_extension": ".py",
   "mimetype": "text/x-python",
   "name": "python",
   "nbconvert_exporter": "python",
   "pygments_lexer": "ipython3",
   "version": "3.5.2"
  },
  "org": {
   "TITLE": "Lecture 03 - Chapter 2"
  },
  "widgets": {
   "state": {
    "e24ed5d32c824bba9257f794134c9302": {
     "views": [
      {
       "cell_index": 5
      }
     ]
    }
   },
   "version": "1.2.0"
  }
 },
 "nbformat": 4,
 "nbformat_minor": 0
}
